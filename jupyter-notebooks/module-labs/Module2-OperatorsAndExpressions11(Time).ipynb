{
 "cells": [
  {
   "cell_type": "code",
   "execution_count": null,
   "id": "42a73bfe",
   "metadata": {},
   "outputs": [],
   "source": [
    "'''\n",
    "Your task is to prepare a simple code able to evaluate the end time of a period of time, \n",
    "given as a number of minutes (it could be arbitrarily large). The start time is given as \n",
    "a pair of hours (0..23) and minutes (0..59). The result has to be printed to the console.\n",
    "\n",
    "For example, if an event starts at 12:17 and lasts 59 minutes, it will end at 13:16.\n",
    "\n",
    "Don't worry about any imperfections in your code - it's okay if it accepts an invalid \n",
    "time - the most important thing is that the code produce valid results for valid input \n",
    "data.\n",
    "'''"
   ]
  },
  {
   "cell_type": "code",
   "execution_count": null,
   "id": "dd8c6ac0",
   "metadata": {},
   "outputs": [],
   "source": [
    "hour = int(input(\"Starting time (hours): \"))\n",
    "mins = int(input(\"Starting time (minutes): \"))\n",
    "dura = int(input(\"Event duration (minutes): \"))\n",
    "\n",
    "# Write your code here."
   ]
  },
  {
   "cell_type": "code",
   "execution_count": null,
   "id": "6f6b76fe",
   "metadata": {},
   "outputs": [],
   "source": []
  },
  {
   "cell_type": "code",
   "execution_count": null,
   "id": "7e3324cd",
   "metadata": {},
   "outputs": [],
   "source": []
  },
  {
   "cell_type": "code",
   "execution_count": null,
   "id": "f146545c",
   "metadata": {},
   "outputs": [],
   "source": []
  },
  {
   "cell_type": "code",
   "execution_count": null,
   "id": "2eddb525",
   "metadata": {},
   "outputs": [],
   "source": []
  },
  {
   "cell_type": "code",
   "execution_count": null,
   "id": "58fdddda",
   "metadata": {},
   "outputs": [],
   "source": []
  },
  {
   "cell_type": "code",
   "execution_count": null,
   "id": "74358f91",
   "metadata": {},
   "outputs": [],
   "source": []
  },
  {
   "cell_type": "code",
   "execution_count": null,
   "id": "07361f38",
   "metadata": {},
   "outputs": [],
   "source": []
  },
  {
   "cell_type": "code",
   "execution_count": null,
   "id": "38637453",
   "metadata": {},
   "outputs": [],
   "source": []
  },
  {
   "cell_type": "code",
   "execution_count": 1,
   "id": "86a7c742",
   "metadata": {},
   "outputs": [
    {
     "name": "stdout",
     "output_type": "stream",
     "text": [
      "Starting time (hours): 12\n",
      "Starting time (minutes): 17\n",
      "Event duration (minutes): 59\n",
      "13:16\n"
     ]
    }
   ],
   "source": [
    "hour = int(input(\"Starting time (hours): \"))\n",
    "mins = int(input(\"Starting time (minutes): \"))\n",
    "dura = int(input(\"Event duration (minutes): \"))\n",
    "\n",
    "# Write your code here.\n",
    "\n",
    "# Solution Pseudo Code:\n",
    "# Convert current time to base time (minutes, or smallest unit being used).\n",
    "# Add duration.\n",
    "# Convert back to desired time format.\n",
    "\n",
    "# convert start time to minutes\n",
    "start_hours_converted_to_min = hour * 60\n",
    "start_minutes = mins + start_hours_converted_to_min\n",
    "\n",
    "# add duration\n",
    "end_minutes = start_minutes + dura\n",
    "\n",
    "# convert back\n",
    "end_hours = end_minutes // 60\n",
    "end_hours = end_hours % 24\n",
    "# print(end_hours)\n",
    "\n",
    "remaining_minutes = end_minutes % 60\n",
    "# print(remaining_minutes)\n",
    "\n",
    "print(end_hours, remaining_minutes, sep=\":\")\n",
    "\n",
    "\n",
    "\n",
    "\n",
    "\n",
    "\n",
    "# hour = 12\n",
    "# mins = 17\n",
    "# dura = 59\n",
    "\n",
    "# hour = 23\n",
    "# mins = 58\n",
    "# dura = 642\n",
    "\n",
    "# hour = 0\n",
    "# mins = 1\n",
    "# dura = 2939"
   ]
  },
  {
   "cell_type": "code",
   "execution_count": null,
   "id": "e1e1429b",
   "metadata": {},
   "outputs": [],
   "source": []
  }
 ],
 "metadata": {
  "kernelspec": {
   "display_name": "Python 3 (ipykernel)",
   "language": "python",
   "name": "python3"
  },
  "language_info": {
   "codemirror_mode": {
    "name": "ipython",
    "version": 3
   },
   "file_extension": ".py",
   "mimetype": "text/x-python",
   "name": "python",
   "nbconvert_exporter": "python",
   "pygments_lexer": "ipython3",
   "version": "3.10.2"
  }
 },
 "nbformat": 4,
 "nbformat_minor": 5
}
