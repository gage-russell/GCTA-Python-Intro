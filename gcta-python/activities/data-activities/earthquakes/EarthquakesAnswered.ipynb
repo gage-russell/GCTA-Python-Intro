{
 "cells": [
  {
   "cell_type": "markdown",
   "id": "e734ceee",
   "metadata": {},
   "source": [
    "# Earthquakes\n",
    "\n",
    "This is an activity analyzing real data found here: https://earthquake.usgs.gov/earthquakes/feed/v1.0/summary/all_hour.geojson"
   ]
  },
  {
   "cell_type": "code",
   "execution_count": null,
   "id": "147b7b1a",
   "metadata": {},
   "outputs": [],
   "source": [
    "# Run this cell to import required modules\n",
    "# DON'T MODIFY THIS CELL (unless you need to add an import)\n",
    "\n",
    "import json\n",
    "import plotly.express as px\n",
    "from datetime import datetime as dt"
   ]
  },
  {
   "cell_type": "code",
   "execution_count": null,
   "id": "6c54b768",
   "metadata": {},
   "outputs": [],
   "source": [
    "# Run this cell to load the make_plot function\n",
    "# DON'T MODIFY THIS CELL\n",
    "\n",
    "def make_plot(x, y):\n",
    "    # because this data contains epoch timestamps in milliseconds\n",
    "    x = [dt.fromtimestamp(i/1000) for i in x]\n",
    "\n",
    "    fig = px.scatter(x=x, y=y)\n",
    "    fig.show(render='notebook')\n",
    "    return"
   ]
  },
  {
   "cell_type": "code",
   "execution_count": null,
   "id": "7598ba40",
   "metadata": {},
   "outputs": [],
   "source": [
    "# Run this cell to load the data\n",
    "# DON'T MODIFY THIS CELL\n",
    "\n",
    "def load_data():\n",
    "    with open('./data.json', 'r') as f:\n",
    "        data = json.load(f)\n",
    "    return data\n",
    "\n",
    "data = load_data()"
   ]
  },
  {
   "cell_type": "code",
   "execution_count": null,
   "id": "c3f0624d",
   "metadata": {},
   "outputs": [],
   "source": [
    "# start by looking at your data\n",
    "\n",
    "data"
   ]
  },
  {
   "cell_type": "code",
   "execution_count": null,
   "id": "f20a12be",
   "metadata": {},
   "outputs": [],
   "source": [
    "# based on looking at the data, we can tell its a dictionary,\n",
    "# but its a little difficult to see the structure\n",
    "# print the top-level keys below now that we know its a dictionary\n",
    "\n",
    "data.keys()"
   ]
  },
  {
   "cell_type": "code",
   "execution_count": null,
   "id": "bb90f325",
   "metadata": {},
   "outputs": [],
   "source": [
    "# lets look inside each key,\n",
    "# start with the first ('type')\n",
    "\n",
    "data['type']"
   ]
  },
  {
   "cell_type": "code",
   "execution_count": null,
   "id": "ba2c6bbb",
   "metadata": {},
   "outputs": [],
   "source": [
    "# so the firt key 'type' just contained a string value. \n",
    "# lets look at the next 'metadata'\n",
    "\n",
    "data['metadata']"
   ]
  },
  {
   "cell_type": "code",
   "execution_count": null,
   "id": "8582b9ca",
   "metadata": {},
   "outputs": [],
   "source": [
    "# so the second key 'metadata' contains another dictionary which\n",
    "# seems to describe the source of the dataset\n",
    "# lets look at the next 'features'\n",
    "\n",
    "data['features']"
   ]
  },
  {
   "cell_type": "code",
   "execution_count": null,
   "id": "2428c218",
   "metadata": {},
   "outputs": [],
   "source": [
    "# cool, the third key 'features' seems to contain the actual earthquake data\n",
    "# it appears to be a list of dictionaries where each dictionary describes one earthquake\n",
    "# just for completeness-sake, lets look at the fourth key 'bbox'\n",
    "\n",
    "data['bbox']"
   ]
  },
  {
   "cell_type": "code",
   "execution_count": null,
   "id": "765afc1b",
   "metadata": {},
   "outputs": [],
   "source": [
    "# the fourth key, bbox appears to be coordinate/map related\n",
    "# for our purposes though, lets just focus on the data underneath the 'features' key\n",
    "# since data['features'] gives us a list of dictionaries,\n",
    "# lets look at the keys on the first element in that list\n",
    "# to see what all information we have for each earthquake\n",
    "\n",
    "data['features'][0].keys()"
   ]
  },
  {
   "cell_type": "code",
   "execution_count": null,
   "id": "d0b2b65c",
   "metadata": {},
   "outputs": [],
   "source": [
    "# so each 'feature' has 4 keys of its own\n",
    "# rather than going through each, lets just look at the object as a whole\n",
    "# since its not too big to digest and see where the interesting things are\n",
    "\n",
    "data['features'][0]"
   ]
  },
  {
   "cell_type": "code",
   "execution_count": null,
   "id": "c3c9ba72",
   "metadata": {},
   "outputs": [],
   "source": [
    "# looks like for each 'feature', 'properties' seems to contain the juicy portion\n",
    "# look at the keys inside of properties on the first element in data['features']\n",
    "\n",
    "data['features'][0]['properties'].keys()"
   ]
  },
  {
   "cell_type": "code",
   "execution_count": null,
   "id": "b97c67af",
   "metadata": {},
   "outputs": [],
   "source": [
    "# cool, so we have a good amount of info for each earthquake\n",
    "# maybe we are interested specifically in comparing magnitudes\n",
    "# loop over the 'features' to collect a list of magnitudes\n",
    "\n",
    "magnitudes = [f['properties']['mag'] for f in data['features']]"
   ]
  },
  {
   "cell_type": "code",
   "execution_count": null,
   "id": "088520aa",
   "metadata": {},
   "outputs": [],
   "source": [
    "# how many earthquakes are we looking at?\n",
    "\n",
    "len(magnitudes)"
   ]
  },
  {
   "cell_type": "code",
   "execution_count": null,
   "id": "aac9aeb9",
   "metadata": {},
   "outputs": [],
   "source": [
    "# what is the average magnitude?\n",
    "\n",
    "sum(magnitudes)/len(magnitudes)"
   ]
  },
  {
   "cell_type": "code",
   "execution_count": null,
   "id": "8396f027",
   "metadata": {},
   "outputs": [],
   "source": [
    "# what an ugle number, use the round() function to make it prettier\n",
    "# hint: use help(round) to see how to use the round function\n",
    "\n",
    "round(sum(magnitudes)/len(magnitudes), 2)"
   ]
  },
  {
   "cell_type": "code",
   "execution_count": null,
   "id": "38d0ed0b",
   "metadata": {},
   "outputs": [],
   "source": [
    "# what is the max magnitude?\n",
    "\n",
    "max(magnitudes)"
   ]
  },
  {
   "cell_type": "code",
   "execution_count": null,
   "id": "4286a909",
   "metadata": {},
   "outputs": [],
   "source": [
    "# what is the min magnitude?\n",
    "\n",
    "min(magnitudes)"
   ]
  },
  {
   "cell_type": "code",
   "execution_count": null,
   "id": "012fc11b",
   "metadata": {},
   "outputs": [],
   "source": [
    "# just like you made a list of magnitudes,\n",
    "# make a list of corresponding timestamps\n",
    "# so we can plot the data\n",
    "\n",
    "times = [f['properties']['time'] for f in data['features']]"
   ]
  },
  {
   "cell_type": "code",
   "execution_count": null,
   "id": "41340d5e",
   "metadata": {},
   "outputs": [],
   "source": [
    "# use the function I defined up top, make_plot()\n",
    "# to plot the timeseries of earthquake magnitude versus time\n",
    "\n",
    "make_plot(x=times, y=magnitudes)"
   ]
  },
  {
   "cell_type": "code",
   "execution_count": null,
   "id": "15a900a5",
   "metadata": {},
   "outputs": [],
   "source": []
  },
  {
   "cell_type": "code",
   "execution_count": null,
   "id": "9d04e2d9",
   "metadata": {},
   "outputs": [],
   "source": []
  }
 ],
 "metadata": {
  "kernelspec": {
   "display_name": "Python 3 (ipykernel)",
   "language": "python",
   "name": "python3"
  },
  "language_info": {
   "codemirror_mode": {
    "name": "ipython",
    "version": 3
   },
   "file_extension": ".py",
   "mimetype": "text/x-python",
   "name": "python",
   "nbconvert_exporter": "python",
   "pygments_lexer": "ipython3",
   "version": "3.8.9"
  }
 },
 "nbformat": 4,
 "nbformat_minor": 5
}
