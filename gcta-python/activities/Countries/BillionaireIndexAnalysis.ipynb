{
 "cells": [
  {
   "cell_type": "code",
   "execution_count": null,
   "id": "9dcacb7e",
   "metadata": {},
   "outputs": [],
   "source": [
    "import pandas as pd\n",
    "import plotly.express as px"
   ]
  },
  {
   "cell_type": "code",
   "execution_count": null,
   "id": "78b85bb6",
   "metadata": {},
   "outputs": [],
   "source": [
    "df = pd.read_csv('BillionairesIndex.csv')\n",
    "df['Total_Net_Worth'] = df['Total_Net_Worth'].str.replace('[$B]', '', regex=True).astype(float)"
   ]
  },
  {
   "cell_type": "code",
   "execution_count": null,
   "id": "57295690",
   "metadata": {},
   "outputs": [],
   "source": [
    "df"
   ]
  },
  {
   "cell_type": "code",
   "execution_count": null,
   "id": "08405260",
   "metadata": {},
   "outputs": [],
   "source": [
    "# fig = px.bar(df, x='column_name1', y='column_name2')\n",
    "# fig.show(renderer='notebook')\n",
    "\n",
    "# Make a bar chart of total net worth by name\n"
   ]
  },
  {
   "cell_type": "code",
   "execution_count": null,
   "id": "575c46b7",
   "metadata": {},
   "outputs": [],
   "source": [
    "# Make a bar chart of total net worth by country\n"
   ]
  },
  {
   "cell_type": "code",
   "execution_count": null,
   "id": "7911a2e9",
   "metadata": {},
   "outputs": [],
   "source": [
    "# Make a bar chart of total net worth by Industry\n"
   ]
  },
  {
   "cell_type": "code",
   "execution_count": null,
   "id": "6246a88c",
   "metadata": {},
   "outputs": [],
   "source": [
    "# filter the data to only include industry == Technology\n"
   ]
  },
  {
   "cell_type": "code",
   "execution_count": null,
   "id": "b7cfe9cc",
   "metadata": {},
   "outputs": [],
   "source": [
    "# make a bar chart of total net worth by name for only tech industry\n"
   ]
  },
  {
   "cell_type": "code",
   "execution_count": null,
   "id": "e48cc14c",
   "metadata": {},
   "outputs": [],
   "source": [
    "# make a bar chart of total net worth by country for only tech industry\n"
   ]
  },
  {
   "cell_type": "code",
   "execution_count": null,
   "id": "6d6255c0",
   "metadata": {},
   "outputs": [],
   "source": []
  }
 ],
 "metadata": {
  "kernelspec": {
   "display_name": "Python 3 (ipykernel)",
   "language": "python",
   "name": "python3"
  },
  "language_info": {
   "codemirror_mode": {
    "name": "ipython",
    "version": 3
   },
   "file_extension": ".py",
   "mimetype": "text/x-python",
   "name": "python",
   "nbconvert_exporter": "python",
   "pygments_lexer": "ipython3",
   "version": "3.8.9"
  }
 },
 "nbformat": 4,
 "nbformat_minor": 5
}
