{
 "cells": [
  {
   "cell_type": "code",
   "execution_count": null,
   "id": "80ec4f5b",
   "metadata": {},
   "outputs": [],
   "source": [
    "import pandas as pd\n",
    "import plotly.express as px"
   ]
  },
  {
   "cell_type": "code",
   "execution_count": null,
   "id": "f98465e8",
   "metadata": {},
   "outputs": [],
   "source": [
    "df = pd.read_csv('BillionairesIndex.csv')\n",
    "df['Total_Net_Worth'] = df['Total_Net_Worth'].str.replace('[$B]', '', regex=True).astype(float)"
   ]
  },
  {
   "cell_type": "code",
   "execution_count": null,
   "id": "3434969a",
   "metadata": {},
   "outputs": [],
   "source": [
    "df"
   ]
  },
  {
   "cell_type": "code",
   "execution_count": null,
   "id": "a7a1a371",
   "metadata": {},
   "outputs": [],
   "source": [
    "# Make a bar chart of total net worth by name\n",
    "fig = px.bar(df, x='Name', y='Total_Net_Worth')\n",
    "fig.show(renderer='notebook')"
   ]
  },
  {
   "cell_type": "code",
   "execution_count": null,
   "id": "b5233c00",
   "metadata": {},
   "outputs": [],
   "source": [
    "# Make a bar chart of total net worth by country\n",
    "\n",
    "fig = px.bar(df, x='Country', y='Total_Net_Worth')\n",
    "fig.show(renderer='notebook')"
   ]
  },
  {
   "cell_type": "code",
   "execution_count": null,
   "id": "1a924baa",
   "metadata": {},
   "outputs": [],
   "source": [
    "# Make a bar chart of total net worth by Industry\n",
    "\n",
    "fig = px.bar(df, x='Industry', y='Total_Net_Worth')\n",
    "fig.show(renderer='notebook')"
   ]
  },
  {
   "cell_type": "code",
   "execution_count": null,
   "id": "2efeba80",
   "metadata": {},
   "outputs": [],
   "source": [
    "# filter the data to only include industry == Technology\n",
    "df_tech = df.loc[df['Industry'] == 'Technology']"
   ]
  },
  {
   "cell_type": "code",
   "execution_count": null,
   "id": "cb82e113",
   "metadata": {},
   "outputs": [],
   "source": [
    "# make a bar chart of total net worth by name for only tech industry\n",
    "fig = px.bar(df_tech, x='Name', y='Total_Net_Worth')\n",
    "fig.show(renderer='notebook')"
   ]
  },
  {
   "cell_type": "code",
   "execution_count": null,
   "id": "ca185b8f",
   "metadata": {},
   "outputs": [],
   "source": [
    "# make a bar chart of total net worth by country for only tech industry\n",
    "\n",
    "fig = px.bar(df_tech, x='Country', y='Total_Net_Worth')\n",
    "fig.show(renderer='notebook')"
   ]
  },
  {
   "cell_type": "code",
   "execution_count": null,
   "id": "1500dd9b",
   "metadata": {},
   "outputs": [],
   "source": []
  }
 ],
 "metadata": {
  "kernelspec": {
   "display_name": "Python 3 (ipykernel)",
   "language": "python",
   "name": "python3"
  },
  "language_info": {
   "codemirror_mode": {
    "name": "ipython",
    "version": 3
   },
   "file_extension": ".py",
   "mimetype": "text/x-python",
   "name": "python",
   "nbconvert_exporter": "python",
   "pygments_lexer": "ipython3",
   "version": "3.8.9"
  }
 },
 "nbformat": 4,
 "nbformat_minor": 5
}
