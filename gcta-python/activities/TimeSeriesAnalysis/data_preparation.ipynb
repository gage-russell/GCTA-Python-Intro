{
 "cells": [
  {
   "cell_type": "code",
   "execution_count": 87,
   "id": "c82a0715",
   "metadata": {},
   "outputs": [],
   "source": [
    "import pandas as pd\n",
    "from datetime import datetime\n",
    "import random"
   ]
  },
  {
   "cell_type": "code",
   "execution_count": 92,
   "id": "9812d6a8",
   "metadata": {},
   "outputs": [],
   "source": [
    "dates = pd.date_range(end = datetime.today(), periods = 20000, freq='min').to_pydatetime().tolist()\n",
    "options = [\"success\", \"fail\"]\n",
    "codes = {\"success\": [\"scan completed\", \"scan completed\"], \"fail\": [\"SpeedError\", \"OutputError\"]}\n",
    "\n",
    "inc_prob_option_start = 0\n",
    "inc_prob_code_start = 0\n",
    "\n",
    "code_list = []\n",
    "option_list = []\n",
    "\n",
    "for i in range(len(dates)):\n",
    "    \n",
    "    r = random.randint(1,10)\n",
    "    \n",
    "    if 0 < r < inc_prob_option_start:\n",
    "        option = options[1]\n",
    "    else:\n",
    "        option = options[0]\n",
    "    \n",
    "    option_list.append(option)\n",
    "        \n",
    "    if 0 < r < inc_prob_code_start:\n",
    "        code = codes[option][1]\n",
    "    else:\n",
    "        code = codes[option][0]\n",
    "        \n",
    "    code_list.append(code)\n",
    "        \n",
    "    if i%5000 == 0:\n",
    "        inc_prob_option_start += 1\n",
    "        inc_prob_code_start += 1\n",
    "        \n",
    "sensor_df = pd.DataFrame({'timestamp': dates, 'code': option_list, 'message': code_list})    "
   ]
  },
  {
   "cell_type": "code",
   "execution_count": 93,
   "id": "111c2364",
   "metadata": {},
   "outputs": [],
   "source": [
    "dates = pd.date_range(start = sensor_df.timestamp.min().date(), end = sensor_df.timestamp.max().date(), freq='d').to_pydatetime().tolist()\n",
    "\n",
    "names = ['joe', 'bob', 'harry']\n",
    "\n",
    "shifts = []\n",
    "for i in range(len(dates)):\n",
    "    r = random.randint(0,len(names)-1)\n",
    "    shifts.append(names[r])\n",
    "    \n",
    "shift_df = pd.DataFrame({'datestamp': dates, 'shift': shifts})"
   ]
  },
  {
   "cell_type": "code",
   "execution_count": 94,
   "id": "c5ec170c",
   "metadata": {},
   "outputs": [],
   "source": [
    "sensor_df.to_csv('sensor_data.csv', index=False)\n",
    "shift_df.to_csv('shifts.csv', index=False)"
   ]
  },
  {
   "cell_type": "code",
   "execution_count": null,
   "id": "11922109",
   "metadata": {},
   "outputs": [],
   "source": []
  }
 ],
 "metadata": {
  "kernelspec": {
   "display_name": "Python 3",
   "language": "python",
   "name": "python3"
  },
  "language_info": {
   "codemirror_mode": {
    "name": "ipython",
    "version": 3
   },
   "file_extension": ".py",
   "mimetype": "text/x-python",
   "name": "python",
   "nbconvert_exporter": "python",
   "pygments_lexer": "ipython3",
   "version": "3.8.2"
  }
 },
 "nbformat": 4,
 "nbformat_minor": 5
}
