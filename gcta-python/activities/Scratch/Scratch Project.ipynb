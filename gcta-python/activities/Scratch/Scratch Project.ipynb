{
 "cells": [
  {
   "cell_type": "markdown",
   "id": "37f07086",
   "metadata": {},
   "source": [
    "<p>Credit: David J. Malan (with modification)</p>\n",
    "\n",
    "<h1>Scratch</h1>\n",
    "\n",
    "<p>It’s time to choose your own adventure! Your assignment is to create a project in Scratch, at <a href=\"https://scratch.mit.edu\">scratch.mit.edu</a>. Whether you create an interactive story, game, animation, or anything else, you are only limited by following requirements:</p>\n",
    "\n",
    "<ul style=\"list-style-type:square\">\n",
    "<li></i></span>Your project must use at least two sprites, at least one of which must not be a cat.</li>\n",
    "<li></i></span>Your project must have at least three scripts total (i.e., not necessarily three per sprite).</li>\n",
    "<li></i></span>Your project must use at least one conditional, at least one loop, and at least one variable.</li>\n",
    "<li></i></span>Your project must use at least one custom block that you have made yourself (via <strong>Make a Block</strong>), which must take at least one input.</li>\n",
    "<li></i></span>Your project should be at least as complex as the aforementioned requirements, but it can still be less complex than <a href=\"https://scratch.mit.edu/projects/277537196\">Oscartime</a>.</li>\n",
    "</ul>\n",
    "\n",
    "<p>To meet these requirements, <b>your project should probably use a few dozen puzzle pieces overall</b>. And your code should ideally be not only <a href=\"https://en.wikipedia.org/wiki/Correctness_(computer_science)\">correct</a> but also well-designed. If one of your scripts is getting a bit long, try to break it up into multiple scripts (each of which does something specific). And try to leverage “<a href=\"https://en.wikipedia.org/wiki/Abstraction_(computer_science)\">abstraction</a>” where possible: if you can imagine giving a descriptive name to a sequence of blocks (e.g., <strong>meow</strong>), those could probably be moved to a custom block!</p>\n",
    "\n",
    "<p>If you’d like some inspiration, here are a few examples of what you are aiming for:</p>\n",
    "\n",
    "<ul style=\"list-style-type:square\">\n",
    "<li><a href=\"https://scratch.mit.edu/projects/37412/\">It’s Raining Men</a>, from lecture</li>\n",
    "<li><a href=\"https://scratch.mit.edu/projects/37413/\">Soccer</a>, a game</li>\n",
    "<li><a href=\"https://scratch.mit.edu/projects/26329196/\">Cookie Love Story</a>, an animation</li>\n",
    "<li><a href=\"https://scratch.mit.edu/projects/277536784/\">Gingerbread tales</a>, an interactive story</li>\n",
    "<li><a href=\"https://scratch.mit.edu/projects/75390754/\">Intersection</a>, a game</li>\n",
    "<li><a href=\"https://scratch.mit.edu/projects/422258685\">Hogwarts</a>, a game</li>\n",
    "</ul>\n",
    "\n",
    "<p>You might find these <a href=\"https://scratch.mit.edu/projects/editor/?tutorial=all\">tutorials</a> or <a href=\"https://scratch.mit.edu/starter-projects\">starter projects</a> helpful. And you’re welcome to explore <a href=\"https://scratch.mit.edu/explore/projects/all\">scratch.mit.edu</a> for inspiration. But try to think of an idea on your own, and then set out to implement it. However, don’t try to implement the entirety of your project all at once: tackle one piece at a time, just as we have done in lecture. In other words, take baby steps: write a bit of code (i.e., drag and drop a few puzzle pieces), test, write a bit more, test, and so forth. And select <strong>File &gt; Save now</strong> every few minutes so that you don’t lose any work!</p>\n",
    "\n",
    "<p>If, along the way, you find it too difficult to implement some feature, try not to fret; alter your design or work around the problem. If you set out to implement an idea that you find fun, odds are you won’t find it too hard to satisfy the above requirements.</p>\n",
    "\n",
    "<p>Alright, off you go. Make us proud!</p>\n",
    "\n",
    "<p>Once finished with your project, select <strong>File &gt; Save now</strong> one last time. Then select <strong>File &gt; Save to your computer</strong> and keep that file so that you can submit it. If prompted by your computer to <strong>Open</strong> or <strong>Save</strong> the file, be sure to <strong>Save</strong> it.</p>"
   ]
  }
 ],
 "metadata": {
  "kernelspec": {
   "display_name": "Python 3 (ipykernel)",
   "language": "python",
   "name": "python3"
  },
  "language_info": {
   "codemirror_mode": {
    "name": "ipython",
    "version": 3
   },
   "file_extension": ".py",
   "mimetype": "text/x-python",
   "name": "python",
   "nbconvert_exporter": "python",
   "pygments_lexer": "ipython3",
   "version": "3.10.2"
  }
 },
 "nbformat": 4,
 "nbformat_minor": 5
}
