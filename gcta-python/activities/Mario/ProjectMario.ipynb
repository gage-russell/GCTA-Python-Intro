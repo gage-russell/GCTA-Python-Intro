{
 "cells": [
  {
   "cell_type": "code",
   "execution_count": null,
   "id": "2a8befdf",
   "metadata": {},
   "outputs": [],
   "source": [
    "# Project Mario!\n",
    "\n",
    "# section 1\n",
    "    # user input\n",
    "    # for loops\n",
    "    # while loops\n",
    "    # control flow (conditionals)\n",
    "\n",
    "# section 2\n",
    "    # functions\n",
    "    # returning data\n",
    "    # user input\n",
    "\n",
    "# section 3\n",
    "    # solution\n",
    "    # student data\n",
    "    # submission method\n",
    "\n",
    "# Objective: Create a function that displays a Mario staircase.\n",
    "    # You can choose between less comfortable, more comfortable, \n",
    "    # and even more comfortable.\n",
    "    \n",
    "    # Your function can use no more than 1 print statement.\n",
    "\n",
    "# Less Comfortable (solution 1):\n",
    "    # create the right side of the stair case in the picture below \n",
    "    # (examples below).\n",
    "    \n",
    "    # the stair case function must take an argument for the height \n",
    "    # of the staircase.\n",
    "    \n",
    "    # Bonus! (Optional): this argument should be constrained to \n",
    "    # between 1-5 blocks high.\n",
    "\n",
    "# More Comfortable (solution 2):\n",
    "    # create both the left and right stair cases in the picture \n",
    "    # below, with a fixed space between them (example below).\n",
    "    \n",
    "    # the stair cases must take user input for their height.\n",
    "    \n",
    "    # Bonus! (Optional): user input should be constrained to 0-10 \n",
    "    # blocks high.\n",
    "    \n",
    "    # Bonus! (Optional): supply the user with only the error \n",
    "    # message \"Invalid Input\" if user input is invalid.\n",
    "\n",
    "# Even More Comfortable (hackers!) (solution 3):\n",
    "    # create both the left and right stair cases in the picture \n",
    "    # below, with a varaible space between them.\n",
    "    \n",
    "    # the stair cases must take user input for both their height \n",
    "    # and the space between them.\n",
    "    \n",
    "    # user input should be constrained to 0-10 blocks high, and \n",
    "    # 0-3 spaces between them.\n",
    "    \n",
    "    # print statements are not allowed within your staircase \n",
    "    # function.\n",
    "    \n",
    "    # return the solution as a string, then print that string \n",
    "    # (you could use a seperate function w/ print in it here).\n",
    "    \n",
    "    # on invalid input, halt the staircase function and return \n",
    "    # the error message \"Invalid Input\" if user input is invalid.\n",
    "    \n",
    "    # Bonus! (Optional): return the error message \"Invalid Input\" \n",
    "    # and request valid input until the user supplies valid input."
   ]
  },
  {
   "cell_type": "code",
   "execution_count": 3,
   "id": "1de68b24",
   "metadata": {},
   "outputs": [
    {
     "data": {
      "image/jpeg": "[encoded data removed]",
      "text/plain": [
       "<IPython.core.display.Image object>"
      ]
     },
     "execution_count": 3,
     "metadata": {},
     "output_type": "execute_result"
    }
   ],
   "source": [
    "# run this cell and observe the output\n",
    "\n",
    "# observe: a 4 high left-staircase, 2 spaces, and 4 high right-staircase\n",
    "\n",
    "import urllib.request\n",
    "from IPython.display import Image\n",
    "\n",
    "img=\"https://mario.wiki.gallery/images/thumb/0/01/\\\n",
    "SMB_Masterpiece_in_Brawl.jpg/300px-SMB_Masterpiece_in_Brawl.jpg\"\n",
    "\n",
    "def display_tool(x):\n",
    " image_url = x\n",
    " filename = \"display.jpg\"\n",
    "\n",
    " req = urllib.request.build_opener()\n",
    " req.addheaders = [('User-Agent', 'Mozilla/5.0 (Windows NT 6.1; WOW64)')]\n",
    " urllib.request.install_opener(req)\n",
    "\n",
    " urllib.request.urlretrieve(image_url, filename)\n",
    "\n",
    " return Image(filename=\"display.jpg\") \n",
    " \n",
    "\n",
    "display_tool(img)"
   ]
  },
  {
   "cell_type": "code",
   "execution_count": null,
   "id": "95ee90bb",
   "metadata": {},
   "outputs": [],
   "source": [
    "# example of 3 high right staircase\n",
    "\n",
    "#\n",
    "##\n",
    "###\n",
    "\n",
    "# example of 3 high left and right staircase\n",
    "# with a space (width) of 1 between them\n",
    "\n",
    "  # #\n",
    " ## ##\n",
    "### ###"
   ]
  },
  {
   "cell_type": "code",
   "execution_count": null,
   "id": "e98199e3",
   "metadata": {},
   "outputs": [],
   "source": [
    "# section 1\n",
    "    # user input\n",
    "    # for loops\n",
    "    # while loops\n",
    "    # control flow (conditionals)"
   ]
  },
  {
   "cell_type": "code",
   "execution_count": null,
   "id": "fdb6e356",
   "metadata": {},
   "outputs": [],
   "source": [
    "# problem 0.01\n",
    "\n",
    "# write a function call to a built-in\n",
    "# function that requests user input\n",
    "# (we're doing doing anything with it yet)\n",
    "\n"
   ]
  },
  {
   "cell_type": "code",
   "execution_count": null,
   "id": "2780ea63",
   "metadata": {},
   "outputs": [],
   "source": [
    "# problem 0.02\n",
    "\n",
    "# write an expression that requests user input by\n",
    "# making a call to a built-in function, and assign\n",
    "# the return value of that function call to a\n",
    "# variable nammed \"usr_inp\"\n",
    "\n"
   ]
  },
  {
   "cell_type": "code",
   "execution_count": null,
   "id": "c35e06a1",
   "metadata": {},
   "outputs": [],
   "source": [
    "# problem 0.03\n",
    "\n",
    "# on two seperate lines,\n",
    "# line 1\n",
    "#     write an expression that requests user input by\n",
    "#     making a call to a built-in function, assigns\n",
    "#     the return value of that function call to a\n",
    "#     variable nammed \"foo\"\n",
    "# line 2\n",
    "#     and then print the requested user input\n",
    "\n"
   ]
  },
  {
   "cell_type": "code",
   "execution_count": null,
   "id": "d00caaab",
   "metadata": {},
   "outputs": [],
   "source": [
    "# problem 0.04\n",
    "\n",
    "# write a for loop that prints the integers from zero\n",
    "# to three (0, 1, 2, and 3) on four seperate lines.\n",
    "\n"
   ]
  },
  {
   "cell_type": "code",
   "execution_count": null,
   "id": "83ea1f1c",
   "metadata": {},
   "outputs": [],
   "source": [
    "# problem 0.05a\n",
    "\n",
    "# write a for loop that prints the integers 0, 1, and 2 on\n",
    "# three seperate lines, and when the loop reaches the number 1,\n",
    "# print the message \"One!\" on a seperate line\n",
    "\n"
   ]
  },
  {
   "cell_type": "code",
   "execution_count": null,
   "id": "a6604bc1",
   "metadata": {},
   "outputs": [],
   "source": [
    "# problem 0.05b\n",
    "\n",
    "# copy your existing code, and modify it to print the message\n",
    "# on the same line, if you have not already\n",
    "\n"
   ]
  },
  {
   "cell_type": "code",
   "execution_count": null,
   "id": "37386fe6",
   "metadata": {},
   "outputs": [],
   "source": [
    "# problem 0.06\n",
    "\n",
    "# write a while loop that prints the integers zero to three\n",
    "# (0, 1, 2, and 3) on four seperate lines.\n",
    "\n"
   ]
  },
  {
   "cell_type": "code",
   "execution_count": null,
   "id": "d5359237",
   "metadata": {},
   "outputs": [],
   "source": [
    "# problem 0.07\n",
    "\n",
    "# write a while loop that prints multiples of 3 from 0 to 15\n",
    "\n"
   ]
  },
  {
   "cell_type": "code",
   "execution_count": null,
   "id": "cf0e400a",
   "metadata": {},
   "outputs": [],
   "source": [
    "# section 2\n",
    "    # functions\n",
    "    # returning data\n",
    "    # user input"
   ]
  },
  {
   "cell_type": "code",
   "execution_count": null,
   "id": "28f92c66",
   "metadata": {},
   "outputs": [],
   "source": [
    "# problem 0.08\n",
    "\n",
    "# write a simple, user defined, function (any function)\n",
    "\n"
   ]
  },
  {
   "cell_type": "code",
   "execution_count": null,
   "id": "daae8d8a",
   "metadata": {},
   "outputs": [],
   "source": [
    "# problem 0.09\n",
    "\n",
    "# write a function that returns something other than None\n",
    "\n"
   ]
  },
  {
   "cell_type": "code",
   "execution_count": null,
   "id": "f8e23c2f",
   "metadata": {},
   "outputs": [],
   "source": [
    "# problem 0.10\n",
    "\n",
    "# write a function that takes user input, performs a\n",
    "# computation on that input, and returns transformed data\n",
    "\n"
   ]
  },
  {
   "cell_type": "code",
   "execution_count": null,
   "id": "fc3eabd6",
   "metadata": {},
   "outputs": [],
   "source": [
    "# section 3\n",
    "    # solution"
   ]
  },
  {
   "cell_type": "code",
   "execution_count": null,
   "id": "d6ea9d50",
   "metadata": {},
   "outputs": [],
   "source": [
    "# write your code below...\n",
    "\n",
    "# specify the solution (1, 2, or 3)\n",
    "\n",
    "# in the last cell of this document,\n",
    "# write how long you spent on this assignment\n",
    "\n",
    "# when you have completed the assignment,\n",
    "# File -> Download as -> Notebook (.ipynb)\n",
    "# and upload that file to Google Classroom\n",
    "\n",
    "\n",
    "\n",
    "# write your code here\n",
    "\n",
    "\n",
    "\n"
   ]
  },
  {
   "cell_type": "code",
   "execution_count": null,
   "id": "5f22c025",
   "metadata": {},
   "outputs": [],
   "source": [
    "# time spent on assignment:\n"
   ]
  }
 ],
 "metadata": {
  "kernelspec": {
   "display_name": "Python 3 (ipykernel)",
   "language": "python",
   "name": "python3"
  },
  "language_info": {
   "codemirror_mode": {
    "name": "ipython",
    "version": 3
   },
   "file_extension": ".py",
   "mimetype": "text/x-python",
   "name": "python",
   "nbconvert_exporter": "python",
   "pygments_lexer": "ipython3",
   "version": "3.10.2"
  }
 },
 "nbformat": 4,
 "nbformat_minor": 5
}
