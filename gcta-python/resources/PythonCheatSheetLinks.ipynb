{
 "cells": [
  {
   "cell_type": "markdown",
   "id": "189b784c",
   "metadata": {},
   "source": [
    "[Current Release (use this)](https://gcta-python.github.io/GCTA-Python-Intro/)\n",
    "\n",
    "\n",
    "[Working Version (may contain bugs)](https://scott-sattler.github.io/GCTA-Python-Scratch/static/PythonCheatSheet/index.html)"
   ]
  }
 ],
 "metadata": {
  "kernelspec": {
   "display_name": "Python 3 (ipykernel)",
   "language": "python",
   "name": "python3"
  },
  "language_info": {
   "codemirror_mode": {
    "name": "ipython",
    "version": 3
   },
   "file_extension": ".py",
   "mimetype": "text/x-python",
   "name": "python",
   "nbconvert_exporter": "python",
   "pygments_lexer": "ipython3",
   "version": "3.10.2"
  }
 },
 "nbformat": 4,
 "nbformat_minor": 5
}
