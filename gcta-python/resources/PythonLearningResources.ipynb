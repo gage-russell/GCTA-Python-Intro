{
 "cells": [
  {
   "cell_type": "markdown",
   "id": "ea03ae74",
   "metadata": {},
   "source": [
    "# __PYTHON LEARNING RESOURCES__ (non-exhaustive)\n",
    "Additional recommendations are encouraged!\n",
    "\n",
    "### Forums:\n",
    "- StackExchange/StackOverflow (SO)<br>\n",
    "- Hacker News/YCombinator<br>\n",
    "- Reddit<br>\n",
    "\n",
    "### Course-Like:\n",
    "- YouTube<br>\n",
    "- edX<br>\n",
    "- OpenCourseWare (OCW)<br>\n",
    "- Coursera<br>\n",
    "- Codecademy<br>\n",
    "- Khan Academy<br>\n",
    "- Udacity<br>\n",
    "\n",
    "### Book-like:\n",
    "- Learn Python the Hard Way<br>\n",
    "\n",
    "-----\n",
    "\n",
    "Look into multiple different resources until you find a teaching/presentation style that works for you. For example, I find \"harder\" material less difficult than \"easy\" material if its presentation is superior (e.g. less dull). There are not really any right or wrong approaches; the right approach is the one that gets you coding. Find what works for you and go with that.\n",
    "\n",
    "You should generally be able to avoid paying for learning material. If you are considering incurring a significant monetary expense for any educational material, you should could consider running it by one of the instructors prior to making such a purchase.\n",
    "\n",
    "-----\n",
    "\n",
    "**StackExchange/StackOverflow (SO)**:<br>\n",
    "Stack Overflow is a question and answer site for professional and enthusiast programmers. This is primarily used while working on projects.\n",
    "\n",
    "**Reddit**:<br>\n",
    "For specific types of questions I can't find answers to on SO I'll search reddit's programming forums. Use Google, e.g.: \"pseudo code vs python site:reddit.com\".\n",
    "\n",
    "**Hacker News/YCombinator**:<br>\n",
    "Like reddit but better (and smaller). Google: \"python site:news.ycombinator.com\"\n",
    "\n",
    "**YouTube**:<br>\n",
    "I am about to start a mini-course/tutorial hosted on YouTube. The trick with YouTube is to ensure the source contains high quality material. You could search hacker news/reddit.\n",
    "YouTube channel recommendations forthcoming.\n",
    "\n",
    "**Codecademy**:<br>\n",
    "Popular, great resource (\"5/5\"). Looks engaging with potential.\n",
    "\n",
    "**edX and Coursera**:<br>\n",
    "University style courses that are sometimes toned down versions of the actual course. CS50 was my intro to CS. Andrew NG has a popular machine learning course on Coursera (it is the nonmajor Stanford course).\n",
    "\n",
    "**OpenCourseWare (OCW)**:<br>\n",
    "Courses are often outdated and may not contain all course information. OCW Lectures, also found on YouTube, are usually world-class. Caution: not easy stuff.\n",
    "\n",
    "**Khan Academy**:<br>\n",
    "I watched a few statistics lectures on this website and it seemed alright.\n",
    "\n",
    "**Udacity**:<br>\n",
    "Insufficiently familiar with.\n",
    "\n",
    "**Learn Python the Hard Way**:<br>\n",
    "I have read positive feedback about this resource online, but I have not tried it. You can try out the format at no cost."
   ]
  },
  {
   "cell_type": "code",
   "execution_count": null,
   "id": "5f54fc84",
   "metadata": {},
   "outputs": [],
   "source": []
  }
 ],
 "metadata": {
  "kernelspec": {
   "display_name": "Python 3 (ipykernel)",
   "language": "python",
   "name": "python3"
  },
  "language_info": {
   "codemirror_mode": {
    "name": "ipython",
    "version": 3
   },
   "file_extension": ".py",
   "mimetype": "text/x-python",
   "name": "python",
   "nbconvert_exporter": "python",
   "pygments_lexer": "ipython3",
   "version": "3.10.2"
  }
 },
 "nbformat": 4,
 "nbformat_minor": 5
}
