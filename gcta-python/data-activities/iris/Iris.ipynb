{
 "cells": [
  {
   "cell_type": "markdown",
   "id": "c02b8eea",
   "metadata": {},
   "source": [
    "# Iris Flower Dataset\n",
    "\n",
    "This notebook contains fun stuff using plotly express and their pre-loaded iris dataset"
   ]
  },
  {
   "cell_type": "code",
   "execution_count": null,
   "id": "fec112bc",
   "metadata": {},
   "outputs": [],
   "source": [
    "# imports\n",
    "# DON'T MODIFY THIS CELL\n",
    "import plotly.express as px"
   ]
  },
  {
   "cell_type": "code",
   "execution_count": null,
   "id": "cbec3e5b",
   "metadata": {},
   "outputs": [],
   "source": [
    "# lets start simply by seeing how to use plotly express to visualize data\n",
    "# create two lists x and y containing integers below\n",
    "\n",
    "\n",
    "# now use the function px.scatter(x=x, y=y) to see how plotly express works\n",
    "\n",
    "\n",
    "fig.show(renderer='notebook')"
   ]
  },
  {
   "cell_type": "code",
   "execution_count": null,
   "id": "1a8a133b",
   "metadata": {},
   "outputs": [],
   "source": [
    "# cool so we've seen how to generate a visualization,\n",
    "# now lets load up the iris dataset\n",
    "\n",
    "df = px.data.iris() # iris is a pandas DataFrame"
   ]
  },
  {
   "cell_type": "code",
   "execution_count": null,
   "id": "d4d2b543",
   "metadata": {},
   "outputs": [],
   "source": [
    "# before we start working with this data, lets see the basics of pandas\n",
    "# show df below\n",
    "\n",
    "df"
   ]
  },
  {
   "cell_type": "code",
   "execution_count": null,
   "id": "bbd229f9",
   "metadata": {},
   "outputs": [],
   "source": [
    "# cool, we know what the data looks like, now lets start visualizing\n",
    "# I'll create the first one so that you can see the syntax\n",
    "\n",
    "# the arguments being passed into px.scatter are:\n",
    "# the data (df), \n",
    "# the column name we want on the x-axis ('sepal_width')\n",
    "# and the column name we want on the y-axis ('sepal_length')\n",
    "fig = px.scatter(df, x=\"sepal_width\", y=\"sepal_length\")\n",
    "fig.show(renderer='notebook')"
   ]
  },
  {
   "cell_type": "code",
   "execution_count": null,
   "id": "2ede7dde",
   "metadata": {},
   "outputs": [],
   "source": [
    "# lets look at help(px.scatter) to see what else we can pass\n"
   ]
  },
  {
   "cell_type": "code",
   "execution_count": null,
   "id": "f5da52f9",
   "metadata": {},
   "outputs": [],
   "source": [
    "# cool! it looks like we can\n",
    "# set things like color, size, hover_data, etc. \n",
    "# by specifying the name of a column on the dataframe\n",
    "# just like we did for x and y\n",
    "\n",
    "# create another visual using the same code we used above\n",
    "# but this time use the keyword arg color= to set the color based on\n",
    "# 'species'\n",
    "\n",
    "fig.show(renderer='notebook')"
   ]
  },
  {
   "cell_type": "code",
   "execution_count": null,
   "id": "25908aae",
   "metadata": {},
   "outputs": [],
   "source": [
    "# cool! now lets do the same thing as above but\n",
    "# also use the keyword arg size=\n",
    "# to set the size based on 'petal_length'\n",
    "\n",
    "\n",
    "\n",
    "fig.show(renderer='notebook')"
   ]
  },
  {
   "cell_type": "code",
   "execution_count": null,
   "id": "2ac89881",
   "metadata": {},
   "outputs": [],
   "source": [
    "# this time lets set symbol and color based on 'species'\n",
    "\n",
    "\n",
    "\n",
    "fig.show(renderer='notebook')"
   ]
  },
  {
   "cell_type": "code",
   "execution_count": null,
   "id": "d4f7c5de",
   "metadata": {},
   "outputs": [],
   "source": [
    "# this time lets set color based on a numeric value\n",
    "# how about 'sepal_width'\n",
    "\n",
    "\n",
    "\n",
    "fig.show(renderer='notebook')"
   ]
  },
  {
   "cell_type": "code",
   "execution_count": null,
   "id": "bec6fbb3",
   "metadata": {},
   "outputs": [],
   "source": []
  }
 ],
 "metadata": {
  "kernelspec": {
   "display_name": "Python 3 (ipykernel)",
   "language": "python",
   "name": "python3"
  },
  "language_info": {
   "codemirror_mode": {
    "name": "ipython",
    "version": 3
   },
   "file_extension": ".py",
   "mimetype": "text/x-python",
   "name": "python",
   "nbconvert_exporter": "python",
   "pygments_lexer": "ipython3",
   "version": "3.8.9"
  }
 },
 "nbformat": 4,
 "nbformat_minor": 5
}
