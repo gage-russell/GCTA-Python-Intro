{
 "cells": [
  {
   "cell_type": "code",
   "execution_count": null,
   "id": "9b6854a0",
   "metadata": {},
   "outputs": [],
   "source": [
    "# Range Practice"
   ]
  },
  {
   "cell_type": "code",
   "execution_count": null,
   "id": "1ac28dfd",
   "metadata": {},
   "outputs": [],
   "source": [
    "%%capture output\n",
    "\n",
    "# Example 0.0:\n",
    "for i in range(3):\n",
    "    print('a')\n",
    "\n",
    "# in the space below, type what you think will print\n",
    "answer = \\\n",
    "\"\"\"\n",
    "a\n",
    "a\n",
    "a\n",
    "\"\"\""
   ]
  },
  {
   "cell_type": "code",
   "execution_count": null,
   "id": "81bbabfa",
   "metadata": {},
   "outputs": [],
   "source": [
    "# check your answer by running this cell (shift+enter)\n",
    "print([\"Correct\" if repr(str(output)) == repr(str(answer)[1:]) else \"Incorrect\" for x in range(1)][0])\n",
    "\n",
    "for i in range(3):\n",
    "    print('a')"
   ]
  },
  {
   "cell_type": "code",
   "execution_count": null,
   "id": "40d07680",
   "metadata": {},
   "outputs": [],
   "source": []
  }
 ],
 "metadata": {
  "kernelspec": {
   "display_name": "Python 3 (ipykernel)",
   "language": "python",
   "name": "python3"
  },
  "language_info": {
   "codemirror_mode": {
    "name": "ipython",
    "version": 3
   },
   "file_extension": ".py",
   "mimetype": "text/x-python",
   "name": "python",
   "nbconvert_exporter": "python",
   "pygments_lexer": "ipython3",
   "version": "3.10.2"
  }
 },
 "nbformat": 4,
 "nbformat_minor": 5
}
