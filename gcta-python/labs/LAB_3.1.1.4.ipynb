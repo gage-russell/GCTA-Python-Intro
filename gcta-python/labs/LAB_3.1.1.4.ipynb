{
 "cells": [
  {
   "cell_type": "code",
   "execution_count": null,
   "id": "3288615e",
   "metadata": {},
   "outputs": [],
   "source": [
    "# LAB 3.1.1.4\n",
    "\n",
    "# The problem we are going to solve:\n",
    "# (we are giong to work up to solving this using the cells below)\n",
    "\n",
    "# Using one of the comparison operators in Python, write a simple \n",
    "# two-line program that takes the parameter n as input, which is \n",
    "# an integer, and prints False if n is less than 100, and True if \n",
    "# n is greater than or equal to 100.\n",
    "\n",
    "# requirements\n",
    "#   input function\n",
    "#   comparison operators"
   ]
  },
  {
   "cell_type": "code",
   "execution_count": null,
   "id": "3b96f714",
   "metadata": {},
   "outputs": [],
   "source": [
    "# problem 0.1a\n",
    "\n",
    "# Q1: What function is used to obtain user input?\n",
    "\n",
    "\n",
    "# Q2: What data type does this function return?\n",
    "\n",
    "\n",
    "# Q3: How can you change that data type?\n",
    "\n",
    "\n",
    "# Q4: If we are giong to perform arithmetic on user input,\n",
    "#     what data type would we change user input to?\n",
    "\n"
   ]
  },
  {
   "cell_type": "code",
   "execution_count": null,
   "id": "e5d41ab7",
   "metadata": {},
   "outputs": [],
   "source": [
    "# problem 0.1b\n",
    "\n",
    "# assign user input to a variable named \"user_input\"\n",
    "\n"
   ]
  },
  {
   "cell_type": "code",
   "execution_count": null,
   "id": "7db654d5",
   "metadata": {},
   "outputs": [],
   "source": [
    "# problem 0.2b\n",
    "\n",
    "# prompt the user with the message \"enter a letter\"\n",
    "# assign that input to a variable named \"user_input_text\"\n",
    "\n",
    "\n"
   ]
  },
  {
   "cell_type": "code",
   "execution_count": null,
   "id": "c1bbce4b",
   "metadata": {},
   "outputs": [],
   "source": [
    "# problem 0.3b\n",
    "\n",
    "# prompt the user with the message \"enter a number\"\n",
    "# assign that input to a variable named \"user_input_num\"\n",
    "\n",
    "\n"
   ]
  },
  {
   "cell_type": "code",
   "execution_count": null,
   "id": "c8cb6905",
   "metadata": {},
   "outputs": [],
   "source": [
    "# problem 0.4b\n",
    "\n",
    "# prompt the user with the message \"enter a number\"\n",
    "# assign that input to a variable named \"user_input_num\"\n",
    "# typecast the input such that the following computation\n",
    "# can be executed without a type error\n",
    "\n",
    "\n"
   ]
  },
  {
   "cell_type": "code",
   "execution_count": null,
   "id": "72e7a13b",
   "metadata": {},
   "outputs": [],
   "source": [
    "# problem 0.1c\n",
    "\n",
    "# write a pseudocode solution to LAB 3.1.1.4\n",
    "\n",
    "\n"
   ]
  },
  {
   "cell_type": "code",
   "execution_count": null,
   "id": "4a8c9946",
   "metadata": {},
   "outputs": [],
   "source": [
    "# LAB 3.1.1.4\n",
    "\n",
    "# Using one of the comparison operators in Python, write a simple \n",
    "# two-line program that takes the parameter n as input, which is \n",
    "# an integer, and prints False if n is less than 100, and True if \n",
    "# n is greater than or equal to 100.\n",
    "\n",
    "# Don't create any if blocks (we're going to talk about them very \n",
    "# soon). Test your code using the data we've provided for you.\n",
    "\n",
    "# Test cases are provided at the bottom of this page.\n",
    "\n",
    "\n"
   ]
  },
  {
   "cell_type": "code",
   "execution_count": null,
   "id": "0cfc3ba5",
   "metadata": {},
   "outputs": [],
   "source": [
    "# LAB 3.1.1.4 - EXTENDED (if statements)\n",
    "\n",
    "# Rewrite LAB 3.1.1.4 using if statements.\n",
    "# Here, the print function can only contain True or False\n",
    "# example: print(True) or print(False)\n",
    "\n",
    "# Test cases are provided at the bottom of this page.\n",
    "\n",
    "\n"
   ]
  },
  {
   "cell_type": "code",
   "execution_count": null,
   "id": "8cf5c48e",
   "metadata": {},
   "outputs": [],
   "source": [
    "# you can use this data to test for correctness\n",
    "\n",
    "# Test Data\n",
    "\n",
    "# Sample input: 55\n",
    "# Expected output: False\n",
    "\n",
    "# Sample input: 99\n",
    "# Expected output: False\n",
    "\n",
    "# Sample input: 100\n",
    "# Expected output: True\n",
    "\n",
    "# Sample input: 101\n",
    "# Expected output: True\n",
    "\n",
    "# Sample input: -5\n",
    "# Expected output: False\n",
    "\n",
    "# Sample input: +123\n",
    "# Expected output: True\n"
   ]
  }
 ],
 "metadata": {
  "kernelspec": {
   "display_name": "Python 3 (ipykernel)",
   "language": "python",
   "name": "python3"
  },
  "language_info": {
   "codemirror_mode": {
    "name": "ipython",
    "version": 3
   },
   "file_extension": ".py",
   "mimetype": "text/x-python",
   "name": "python",
   "nbconvert_exporter": "python",
   "pygments_lexer": "ipython3",
   "version": "3.10.2"
  }
 },
 "nbformat": 4,
 "nbformat_minor": 5
}
