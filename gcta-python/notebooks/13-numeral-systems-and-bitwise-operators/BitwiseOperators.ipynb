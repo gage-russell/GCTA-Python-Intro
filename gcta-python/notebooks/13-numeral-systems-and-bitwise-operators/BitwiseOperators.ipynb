{
 "cells": [
  {
   "cell_type": "markdown",
   "id": "b04315a1",
   "metadata": {},
   "source": [
    "# Bitwise Operators\n",
    "\n",
    "https://www.w3schools.com/python/gloss_python_bitwise_operators.asp\n",
    "\n",
    "Bitwise And: `&`\n",
    "\n",
    "Bitwise Or: `|`\n",
    "\n",
    "Bitwise XOR: `^`\n",
    "\n",
    "Bitwise Shift: `<<` `>>`"
   ]
  },
  {
   "cell_type": "markdown",
   "id": "2c9c8f04",
   "metadata": {},
   "source": [
    "Bitwise And and Bitwise Or (`&` and `|`) behave the same as our logical operators `and` and `or`, except they operate on bits (1's and 0's) instead of booleans (True and False)\n",
    "\n",
    "***1 represents True***\n",
    "\n",
    "***0 represents False***"
   ]
  },
  {
   "cell_type": "markdown",
   "id": "dcb6c37e",
   "metadata": {},
   "source": [
    "# &"
   ]
  },
  {
   "cell_type": "code",
   "execution_count": 3,
   "id": "2b27dac7",
   "metadata": {},
   "outputs": [
    {
     "name": "stdout",
     "output_type": "stream",
     "text": [
      "logical: True\n",
      "bitwise: 1\n"
     ]
    }
   ],
   "source": [
    "x = True and True\n",
    "y = 1 & 1\n",
    "print('logical:', x)\n",
    "print('bitwise:', y)"
   ]
  },
  {
   "cell_type": "code",
   "execution_count": 4,
   "id": "afc686cc",
   "metadata": {},
   "outputs": [
    {
     "name": "stdout",
     "output_type": "stream",
     "text": [
      "logical: False\n",
      "bitwise: 0\n"
     ]
    }
   ],
   "source": [
    "x = True and False\n",
    "y = 1 & 0\n",
    "print('logical:', x)\n",
    "print('bitwise:', y)"
   ]
  },
  {
   "cell_type": "code",
   "execution_count": 5,
   "id": "4444682d",
   "metadata": {},
   "outputs": [
    {
     "name": "stdout",
     "output_type": "stream",
     "text": [
      "logical: False\n",
      "bitwise: 0\n"
     ]
    }
   ],
   "source": [
    "x = False and False\n",
    "y = 0 & 0\n",
    "print('logical:', x)\n",
    "print('bitwise:', y)"
   ]
  },
  {
   "cell_type": "markdown",
   "id": "c4f7c164",
   "metadata": {},
   "source": [
    "# |"
   ]
  },
  {
   "cell_type": "code",
   "execution_count": 9,
   "id": "d44b9630",
   "metadata": {},
   "outputs": [
    {
     "name": "stdout",
     "output_type": "stream",
     "text": [
      "logical: True\n",
      "bitwise: 1\n"
     ]
    }
   ],
   "source": [
    "x = True or True\n",
    "y = 1 | 1\n",
    "print('logical:', x)\n",
    "print('bitwise:', y)"
   ]
  },
  {
   "cell_type": "code",
   "execution_count": 10,
   "id": "ec07792e",
   "metadata": {},
   "outputs": [
    {
     "name": "stdout",
     "output_type": "stream",
     "text": [
      "logical: True\n",
      "bitwise: 1\n"
     ]
    }
   ],
   "source": [
    "x = True or False\n",
    "y = 1 | 0\n",
    "print('logical:', x)\n",
    "print('bitwise:', y)"
   ]
  },
  {
   "cell_type": "code",
   "execution_count": 11,
   "id": "1fc12860",
   "metadata": {},
   "outputs": [
    {
     "name": "stdout",
     "output_type": "stream",
     "text": [
      "logical: False\n",
      "bitwise: 0\n"
     ]
    }
   ],
   "source": [
    "x = False or False\n",
    "y = 0 | 0\n",
    "print('logical:', x)\n",
    "print('bitwise:', y)"
   ]
  },
  {
   "cell_type": "markdown",
   "id": "46b650b9",
   "metadata": {},
   "source": [
    "# ^"
   ]
  },
  {
   "cell_type": "markdown",
   "id": "b9c7859b",
   "metadata": {},
   "source": [
    "Bitwise XOR (`^`) asks the question:\n",
    "\n",
    "is one operand 1, but not the other?\n",
    "\n",
    "This operator returns 1 if only 1 but not two bits are 1 \n",
    "\n",
    "***(ONLY ONE SIDE CAN BE 1)***"
   ]
  },
  {
   "cell_type": "code",
   "execution_count": 19,
   "id": "e226d58d",
   "metadata": {},
   "outputs": [
    {
     "name": "stdout",
     "output_type": "stream",
     "text": [
      "logical: False\n",
      "bitwise: 0\n"
     ]
    }
   ],
   "source": [
    "x = True != True\n",
    "y = 1 ^ 1\n",
    "print('logical:', x)\n",
    "print('bitwise:', y)"
   ]
  },
  {
   "cell_type": "code",
   "execution_count": 20,
   "id": "a4694e39",
   "metadata": {},
   "outputs": [
    {
     "name": "stdout",
     "output_type": "stream",
     "text": [
      "logical: True\n",
      "bitwise: 1\n"
     ]
    }
   ],
   "source": [
    "x = True != False\n",
    "y = 1 ^ 0\n",
    "print('logical:', x)\n",
    "print('bitwise:', y)"
   ]
  },
  {
   "cell_type": "code",
   "execution_count": 21,
   "id": "0bb2d420",
   "metadata": {},
   "outputs": [
    {
     "name": "stdout",
     "output_type": "stream",
     "text": [
      "logical: False\n",
      "bitwise: 0\n"
     ]
    }
   ],
   "source": [
    "x = False != False\n",
    "y = 0 ^ 0\n",
    "print('logical:', x)\n",
    "print('bitwise:', y)"
   ]
  },
  {
   "cell_type": "markdown",
   "id": "577c0e85",
   "metadata": {},
   "source": [
    "# << "
   ]
  },
  {
   "cell_type": "markdown",
   "id": "8111f4f7",
   "metadata": {},
   "source": [
    "The shift operator (`<<`) shift bits to the left. 0's are filled in on the right as bits are shifted.\n",
    "The `>>` operator shifts bits to the right.\n"
   ]
  },
  {
   "cell_type": "markdown",
   "id": "5fabed5d",
   "metadata": {},
   "source": [
    "To look at the shift operator, we need to start thinking a bit more bitwise ...\n",
    "\n",
    "We will stick with 1 and 0, but we will represent them as 0001 and 0000\n",
    "\n",
    "***1 -> 0001***\n",
    "\n",
    "***0 -> 0000***\n",
    "\n",
    "Lets see what happens when we shift 0001 to the left by 1 bit\n",
    "```\n",
    "1 << 1\n",
    "```\n",
    "so we have:\n",
    "```\n",
    "0001 -> (shift everything left by 1) -> 0010\n",
    "```\n",
    "\n",
    "We can check to see what 0010 is by writing:\n",
    "```\n",
    "print(0b0010) # this will print 2\n",
    "```"
   ]
  },
  {
   "cell_type": "code",
   "execution_count": 28,
   "id": "d487ac51",
   "metadata": {},
   "outputs": [
    {
     "data": {
      "text/plain": [
       "2"
      ]
     },
     "execution_count": 28,
     "metadata": {},
     "output_type": "execute_result"
    }
   ],
   "source": [
    "1 << 1"
   ]
  },
  {
   "cell_type": "code",
   "execution_count": 30,
   "id": "a2a5d461",
   "metadata": {},
   "outputs": [
    {
     "name": "stdout",
     "output_type": "stream",
     "text": [
      "2\n"
     ]
    }
   ],
   "source": [
    "print(0b0010)"
   ]
  },
  {
   "cell_type": "markdown",
   "id": "39f02f37",
   "metadata": {},
   "source": [
    "Now that we got the bitwise view out of the way, lets show a much easier way of approaching the shift operator (for humans)"
   ]
  },
  {
   "cell_type": "markdown",
   "id": "31e88439",
   "metadata": {},
   "source": [
    "Remembering that binary is ***base 2***\n",
    "\n",
    "We can think of a bitwise shift as either multiplying or dividing some number by 2^n\n",
    "\n",
    "Shifting bits to the left yields a larger number (`<<`)\n",
    "\n",
    "Shifting bits to the right yields a smaller number (`>>`)\n",
    "\n",
    "```\n",
    "10 << 4 == 10*(2**4)\n",
    "```\n",
    "\n",
    "```\n",
    "10 >> 4 == 10\\\\(2**4)\n",
    "```"
   ]
  },
  {
   "cell_type": "code",
   "execution_count": 44,
   "id": "98992752",
   "metadata": {},
   "outputs": [
    {
     "data": {
      "text/plain": [
       "True"
      ]
     },
     "execution_count": 44,
     "metadata": {},
     "output_type": "execute_result"
    }
   ],
   "source": [
    "10 << 4 == 10*(2**4)"
   ]
  },
  {
   "cell_type": "code",
   "execution_count": 49,
   "id": "7732091e",
   "metadata": {},
   "outputs": [
    {
     "data": {
      "text/plain": [
       "True"
      ]
     },
     "execution_count": 49,
     "metadata": {},
     "output_type": "execute_result"
    }
   ],
   "source": [
    "10 >> 4 == 10//(2**4)"
   ]
  },
  {
   "cell_type": "code",
   "execution_count": null,
   "id": "d7492cbd",
   "metadata": {},
   "outputs": [],
   "source": []
  }
 ],
 "metadata": {
  "kernelspec": {
   "display_name": "Python 3 (ipykernel)",
   "language": "python",
   "name": "python3"
  },
  "language_info": {
   "codemirror_mode": {
    "name": "ipython",
    "version": 3
   },
   "file_extension": ".py",
   "mimetype": "text/x-python",
   "name": "python",
   "nbconvert_exporter": "python",
   "pygments_lexer": "ipython3",
   "version": "3.8.7"
  }
 },
 "nbformat": 4,
 "nbformat_minor": 5
}
