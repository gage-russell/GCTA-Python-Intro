{
 "cells": [
  {
   "cell_type": "markdown",
   "id": "790d7e8e",
   "metadata": {},
   "source": [
    "# Numeral Systems\n",
    "\n",
    "Decimal ------ the one we know best :)\n",
    "\n",
    "Binary ------- ***base 2*** prefixed `0b`\n",
    "\n",
    "Octal -------- ***base 8*** prefixed `0o`\n",
    "\n",
    "Hexadecimal -- ***base 16*** prefixed `0x`"
   ]
  },
  {
   "cell_type": "markdown",
   "id": "2fed9e37",
   "metadata": {},
   "source": [
    "# Conversion\n",
    "\n",
    "Python has built-in functions for converting from one numeral system to another.\n",
    "\n",
    "Convert to binary: `bin(x)`\n",
    "\n",
    "Convert to octal: `oct(x)`\n",
    "\n",
    "Convert to hexadecimal: `hex(x)`"
   ]
  },
  {
   "cell_type": "code",
   "execution_count": null,
   "id": "7feb65f3",
   "metadata": {},
   "outputs": [],
   "source": [
    "x = 1\n",
    "\n",
    "bin_x = bin(x)\n",
    "\n",
    "oct_x = oct(x)\n",
    "\n",
    "hex_x = hex(x)\n",
    "\n",
    "print('decimal', x)\n",
    "print('binary:', bin_x)\n",
    "print('octal:', oct_x)\n",
    "print('hexadecimal:', hex_x)"
   ]
  },
  {
   "cell_type": "code",
   "execution_count": null,
   "id": "0f8b0816",
   "metadata": {},
   "outputs": [],
   "source": [
    "x = 0\n",
    "\n",
    "bin_x = bin(x)\n",
    "\n",
    "oct_x = oct(x)\n",
    "\n",
    "hex_x = hex(x)\n",
    "\n",
    "print('decimal', x)\n",
    "print('binary:', bin_x)\n",
    "print('octal:', oct_x)\n",
    "print('hexadecimal:', hex_x)"
   ]
  },
  {
   "cell_type": "code",
   "execution_count": null,
   "id": "fecd1ccd",
   "metadata": {},
   "outputs": [],
   "source": []
  }
 ],
 "metadata": {
  "kernelspec": {
   "display_name": "Python 3 (ipykernel)",
   "language": "python",
   "name": "python3"
  },
  "language_info": {
   "codemirror_mode": {
    "name": "ipython",
    "version": 3
   },
   "file_extension": ".py",
   "mimetype": "text/x-python",
   "name": "python",
   "nbconvert_exporter": "python",
   "pygments_lexer": "ipython3",
   "version": "3.8.7"
  }
 },
 "nbformat": 4,
 "nbformat_minor": 5
}
