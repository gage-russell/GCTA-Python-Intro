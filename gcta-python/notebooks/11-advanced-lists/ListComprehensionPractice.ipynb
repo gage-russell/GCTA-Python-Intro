{
 "cells": [
  {
   "cell_type": "code",
   "execution_count": null,
   "id": "ad698660",
   "metadata": {},
   "outputs": [],
   "source": [
    "# predict the output for each cell below.\n",
    "# run the cell to check your answer"
   ]
  },
  {
   "cell_type": "code",
   "execution_count": null,
   "id": "353727c9",
   "metadata": {},
   "outputs": [],
   "source": [
    "my_list = [i for i in range(3)]\n",
    "print(my_list)"
   ]
  },
  {
   "cell_type": "code",
   "execution_count": null,
   "id": "0c16776a",
   "metadata": {},
   "outputs": [],
   "source": [
    "my_list = [i*2 for i in range(3)]\n",
    "print(my_list)"
   ]
  },
  {
   "cell_type": "code",
   "execution_count": null,
   "id": "a0a67d2b",
   "metadata": {},
   "outputs": [],
   "source": [
    "my_list = [[1,2,3] for i in range(3)]\n",
    "print(my_list)"
   ]
  },
  {
   "cell_type": "code",
   "execution_count": null,
   "id": "5c0433f4",
   "metadata": {},
   "outputs": [],
   "source": [
    "my_list = [[i, i**2] for i in range(3)]\n",
    "print(my_list)"
   ]
  },
  {
   "cell_type": "code",
   "execution_count": null,
   "id": "66504929",
   "metadata": {},
   "outputs": [],
   "source": [
    "my_list = [{'a': i} for i in range(3)]\n",
    "print(my_list)"
   ]
  },
  {
   "cell_type": "code",
   "execution_count": null,
   "id": "6e9bd670",
   "metadata": {},
   "outputs": [],
   "source": [
    "my_list = [{'a': i, 'b': i**2} for i in range(3)]\n",
    "print(my_list)"
   ]
  },
  {
   "cell_type": "code",
   "execution_count": null,
   "id": "9a02c1db",
   "metadata": {},
   "outputs": [],
   "source": [
    "my_list = [i for i in range(2,6)]\n",
    "print(my_list)"
   ]
  },
  {
   "cell_type": "code",
   "execution_count": null,
   "id": "7dd03ca3",
   "metadata": {},
   "outputs": [],
   "source": [
    "my_list = [i for i in range(2,6,2)]\n",
    "print(my_list)"
   ]
  },
  {
   "cell_type": "code",
   "execution_count": null,
   "id": "64a35b59",
   "metadata": {},
   "outputs": [],
   "source": [
    "my_list = [i for i in range(4,2,-1)]\n",
    "print(my_list)"
   ]
  }
 ],
 "metadata": {
  "kernelspec": {
   "display_name": "Python 3 (ipykernel)",
   "language": "python",
   "name": "python3"
  },
  "language_info": {
   "codemirror_mode": {
    "name": "ipython",
    "version": 3
   },
   "file_extension": ".py",
   "mimetype": "text/x-python",
   "name": "python",
   "nbconvert_exporter": "python",
   "pygments_lexer": "ipython3",
   "version": "3.8.9"
  }
 },
 "nbformat": 4,
 "nbformat_minor": 5
}
