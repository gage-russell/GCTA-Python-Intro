{
 "cells": [
  {
   "cell_type": "code",
   "execution_count": 24,
   "id": "2d5f5453",
   "metadata": {},
   "outputs": [
    {
     "name": "stdout",
     "output_type": "stream",
     "text": [
      "7\n"
     ]
    }
   ],
   "source": [
    "# Find the length of this list.\n",
    "the_list = [2,3,4,2,3,4,5]\n",
    "\n"
   ]
  },
  {
   "cell_type": "code",
   "execution_count": 25,
   "id": "46de0c80",
   "metadata": {},
   "outputs": [
    {
     "name": "stdout",
     "output_type": "stream",
     "text": [
      "23\n"
     ]
    }
   ],
   "source": [
    "# Use the sum function to sum all the items in a list.\n",
    "the_list = [2,3,4,2,3,4,5]\n",
    "\n"
   ]
  },
  {
   "cell_type": "code",
   "execution_count": 26,
   "id": "a0d6a756",
   "metadata": {},
   "outputs": [
    {
     "name": "stdout",
     "output_type": "stream",
     "text": [
      "23\n"
     ]
    }
   ],
   "source": [
    "# Sum all the items in a list WITHOUT using the sum function.\n",
    "the_list = [2,3,4,2,3,4,5]\n",
    "\n"
   ]
  },
  {
   "cell_type": "code",
   "execution_count": 27,
   "id": "d9588e97",
   "metadata": {},
   "outputs": [
    {
     "name": "stdout",
     "output_type": "stream",
     "text": [
      "2880\n"
     ]
    }
   ],
   "source": [
    "# Multiply all the items in a list.\n",
    "the_list = [2,3,4,2,3,4,5]\n",
    "\n"
   ]
  },
  {
   "cell_type": "code",
   "execution_count": 28,
   "id": "e9eb8729",
   "metadata": {},
   "outputs": [
    {
     "name": "stdout",
     "output_type": "stream",
     "text": [
      "2880\n"
     ]
    }
   ],
   "source": [
    "# Multiply all the items in a list by using the prod function from the math package.\n",
    "import math\n",
    "\n",
    "the_list = [2,3,4,2,3,4,5]\n",
    "\n"
   ]
  },
  {
   "cell_type": "code",
   "execution_count": 29,
   "id": "98c619cc",
   "metadata": {},
   "outputs": [
    {
     "name": "stdout",
     "output_type": "stream",
     "text": [
      "[2, 3, 4, 2, 3, 4, 5, 14]\n"
     ]
    }
   ],
   "source": [
    "# Append the number 14 to the end of a list by modifying the existing list 'in-place'.\n",
    "the_list = [2,3,4,2,3,4,5]\n",
    "\n"
   ]
  },
  {
   "cell_type": "code",
   "execution_count": 30,
   "id": "48e4e353",
   "metadata": {},
   "outputs": [
    {
     "name": "stdout",
     "output_type": "stream",
     "text": [
      "[2, 3, 4, 2, 3, 4, 5, 14]\n"
     ]
    }
   ],
   "source": [
    "# Create a copy of the_list, then then append the number 14 to the end of the copy.\n",
    "the_list = [2,3,4,2,3,4,5]\n",
    "\n"
   ]
  },
  {
   "cell_type": "code",
   "execution_count": 31,
   "id": "a8109bdf",
   "metadata": {},
   "outputs": [
    {
     "name": "stdout",
     "output_type": "stream",
     "text": [
      "1\n"
     ]
    }
   ],
   "source": [
    "# Find the index of the value 'e' in the list below.\n",
    "the_list = ['a', 'e', 'i', 'o', 'u']\n",
    "\n"
   ]
  },
  {
   "cell_type": "code",
   "execution_count": 32,
   "id": "ae3aed1b",
   "metadata": {},
   "outputs": [
    {
     "name": "stdout",
     "output_type": "stream",
     "text": [
      "['a', 'e', 'i', 'o', 'u']\n"
     ]
    }
   ],
   "source": [
    "# Create a copy of the_list, then insert 'e' into the copy with correct order (a,e,i,o,u).\n",
    "the_list = ['a', 'i', 'o', 'u']\n",
    "\n"
   ]
  },
  {
   "cell_type": "code",
   "execution_count": 33,
   "id": "8d6d6059",
   "metadata": {},
   "outputs": [
    {
     "name": "stdout",
     "output_type": "stream",
     "text": [
      "['a', 'i', 'o']\n"
     ]
    }
   ],
   "source": [
    "# Create a copy of the_list, then remove the last item from the copy.\n",
    "the_list = ['a', 'i', 'o', 'u']\n",
    "\n"
   ]
  },
  {
   "cell_type": "code",
   "execution_count": 34,
   "id": "eb0d3e69",
   "metadata": {},
   "outputs": [
    {
     "name": "stdout",
     "output_type": "stream",
     "text": [
      "['a', 'i', 'o']\n"
     ]
    }
   ],
   "source": [
    "# Create a copy of the_list, then pop the last item from the copy.\n",
    "the_list = ['a', 'i', 'o', 'u']\n",
    "\n"
   ]
  },
  {
   "cell_type": "code",
   "execution_count": 35,
   "id": "28f30c9b",
   "metadata": {},
   "outputs": [
    {
     "name": "stdout",
     "output_type": "stream",
     "text": [
      "[2, 2, 3, 3, 4, 4, 5]\n"
     ]
    }
   ],
   "source": [
    "# Create a copy of the_list, then sort the copied list in ascending order.\n",
    "the_list = [2,3,4,2,3,4,5]\n",
    "\n"
   ]
  },
  {
   "cell_type": "code",
   "execution_count": 36,
   "id": "ab62a85c",
   "metadata": {},
   "outputs": [
    {
     "name": "stdout",
     "output_type": "stream",
     "text": [
      "['make', 'soccer']\n"
     ]
    }
   ],
   "source": [
    "# Print a list of words that are longer than 3 letters.\n",
    "the_list = ['you', 'make', 'soccer', 'one', 'do']\n",
    "\n"
   ]
  },
  {
   "cell_type": "code",
   "execution_count": 37,
   "id": "349c3158",
   "metadata": {},
   "outputs": [
    {
     "name": "stdout",
     "output_type": "stream",
     "text": [
      "['make', 'soccer', 'while', 'your', 'some', 'fine']\n"
     ]
    }
   ],
   "source": [
    "# Print a list of words that are longer than 3 letters.\n",
    "the_list = [\n",
    "    ['you', 'make', 'soccer', 'one', 'do'],\n",
    "    ['can', 'while', 'your', 'I', 'say'],\n",
    "    ['why', 'he', 'you', 'some', 'fine']\n",
    "]\n",
    "\n"
   ]
  },
  {
   "cell_type": "code",
   "execution_count": null,
   "id": "f2a26c1e",
   "metadata": {},
   "outputs": [],
   "source": []
  }
 ],
 "metadata": {
  "kernelspec": {
   "display_name": "Python 3 (ipykernel)",
   "language": "python",
   "name": "python3"
  },
  "language_info": {
   "codemirror_mode": {
    "name": "ipython",
    "version": 3
   },
   "file_extension": ".py",
   "mimetype": "text/x-python",
   "name": "python",
   "nbconvert_exporter": "python",
   "pygments_lexer": "ipython3",
   "version": "3.10.2"
  }
 },
 "nbformat": 4,
 "nbformat_minor": 5
}
