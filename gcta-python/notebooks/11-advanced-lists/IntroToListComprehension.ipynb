{
 "cells": [
  {
   "cell_type": "markdown",
   "id": "b603a183",
   "metadata": {},
   "source": [
    "# List Comprehension\n",
    "\n",
    "List comprehension is the use of a for loop inside of a list.\n",
    "\n",
    "List comprehension offers a shorter syntax when you want to create a new list based on the values of an existing list.\n",
    "\n",
    "List comprehension is written like this:\n",
    "\n",
    "`[iterator for iterator in iterable]` <br>\n",
    "\n",
    "`[thing for thing in things]` <br>\n",
    "\n",
    "`[i for i in my_list]` <br>\n",
    "\n"
   ]
  },
  {
   "cell_type": "code",
   "execution_count": null,
   "id": "eaba1562",
   "metadata": {},
   "outputs": [],
   "source": [
    "# A list from 0 to 2 can be created using list comprehension as shown below\n",
    "my_list = [i for i in range(3)]\n",
    "print(my_list)"
   ]
  },
  {
   "cell_type": "code",
   "execution_count": null,
   "id": "7774d294",
   "metadata": {},
   "outputs": [],
   "source": [
    "# a list of lists could be created from list comprehension as follows\n",
    "my_list = [[1,2,3] for i in range(3)]\n",
    "print(my_list)"
   ]
  },
  {
   "cell_type": "code",
   "execution_count": null,
   "id": "dda1e77c",
   "metadata": {},
   "outputs": [],
   "source": [
    "# a list of dictionaries could be created from list comprehension as follows\n",
    "my_list = [{'a':i} for i in range(3)]\n",
    "print(my_list)"
   ]
  },
  {
   "cell_type": "code",
   "execution_count": null,
   "id": "8daa82ac",
   "metadata": {},
   "outputs": [],
   "source": []
  }
 ],
 "metadata": {
  "kernelspec": {
   "display_name": "Python 3 (ipykernel)",
   "language": "python",
   "name": "python3"
  },
  "language_info": {
   "codemirror_mode": {
    "name": "ipython",
    "version": 3
   },
   "file_extension": ".py",
   "mimetype": "text/x-python",
   "name": "python",
   "nbconvert_exporter": "python",
   "pygments_lexer": "ipython3",
   "version": "3.8.9"
  }
 },
 "nbformat": 4,
 "nbformat_minor": 5
}
