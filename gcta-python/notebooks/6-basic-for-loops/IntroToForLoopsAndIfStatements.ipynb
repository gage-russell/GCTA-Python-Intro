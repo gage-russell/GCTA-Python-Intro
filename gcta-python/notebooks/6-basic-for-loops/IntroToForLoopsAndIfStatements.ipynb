{
 "cells": [
  {
   "cell_type": "markdown",
   "id": "369d18ae",
   "metadata": {},
   "source": [
    "# For Loops\n",
    "\n",
    "A for loop is used for iterating over a sequence (that is either a list, a tuple, a dictionary, a set, or a string).\n",
    "\n",
    "With the for loop we can execute a set of statements, once for each item in a list, tuple, set etc.\n",
    "\n",
    "A for loop will always follow this format:\n",
    "\n",
    "`for item in iterable:\n",
    "    do_something()`\n"
   ]
  },
  {
   "cell_type": "code",
   "execution_count": null,
   "id": "7aafa771",
   "metadata": {},
   "outputs": [],
   "source": [
    "# Here is an example of a simple for loop\n",
    "\n",
    "my_list = ['dog', 'cat', 'bird']\n",
    "\n",
    "for i in my_list:\n",
    "    print(i)"
   ]
  },
  {
   "cell_type": "code",
   "execution_count": null,
   "id": "7f723f86",
   "metadata": {},
   "outputs": [],
   "source": [
    "# create a list with values 2,4,6,8 and loop over it printing each item multiplied by 2\n"
   ]
  },
  {
   "cell_type": "code",
   "execution_count": null,
   "id": "a2778169",
   "metadata": {},
   "outputs": [],
   "source": [
    "# Strings are also iterable objects just like lists. \n",
    "# Create a string \"this is a string\" and loop over it, printing every character\n"
   ]
  },
  {
   "cell_type": "markdown",
   "id": "b50c6fa1",
   "metadata": {},
   "source": [
    "# If statements\n",
    "\n",
    "An \"if statement\" is written by using the if keyword.\n"
   ]
  },
  {
   "cell_type": "code",
   "execution_count": null,
   "id": "a867302b",
   "metadata": {},
   "outputs": [],
   "source": [
    "# here is an example of an If statement\n",
    "\n",
    "a = 33\n",
    "b = 200\n",
    "if b > a:\n",
    "  print(\"b is greater than a\")"
   ]
  },
  {
   "cell_type": "markdown",
   "id": "cca09667",
   "metadata": {},
   "source": [
    "If statements support three key words:\n",
    "\n",
    "* if\n",
    "* elif\n",
    "* else"
   ]
  },
  {
   "cell_type": "code",
   "execution_count": null,
   "id": "19766cff",
   "metadata": {},
   "outputs": [],
   "source": [
    "# here is an example of an If statement which contains elif and else\n",
    "\n",
    "a = 200\n",
    "b = 33\n",
    "if b > a:\n",
    "  print(\"b is greater than a\")\n",
    "elif a == b:\n",
    "  print(\"a and b are equal\")\n",
    "else:\n",
    "  print(\"a is greater than b\")"
   ]
  },
  {
   "cell_type": "code",
   "execution_count": null,
   "id": "ca1aef96",
   "metadata": {},
   "outputs": [],
   "source": [
    "# If statements can be nested inside one another\n",
    "\n",
    "x = 41\n",
    "\n",
    "if x > 10:\n",
    "  print(\"Above ten,\")\n",
    "  if x > 20:\n",
    "    print(\"and also above 20!\")\n",
    "  else:\n",
    "    print(\"but not above 20.\")"
   ]
  },
  {
   "cell_type": "code",
   "execution_count": null,
   "id": "cd312f25",
   "metadata": {},
   "outputs": [],
   "source": [
    "# Create a string and write an If statement which prints how long it is if it is greater than 10 characters\n"
   ]
  },
  {
   "cell_type": "code",
   "execution_count": null,
   "id": "b72d5d1f",
   "metadata": {},
   "outputs": [],
   "source": [
    "# Create a list with values 1,4,5,7,10,11,14 iterate over them using a for loop and print the number if it is even\n"
   ]
  },
  {
   "cell_type": "markdown",
   "id": "14e35275",
   "metadata": {},
   "source": [
    "The \"break\" keyword can be used to terminate a loop early"
   ]
  },
  {
   "cell_type": "code",
   "execution_count": null,
   "id": "fd3f24fa",
   "metadata": {},
   "outputs": [],
   "source": [
    "# Create a list with values 4,12,5,7,10,11,14 iterate over them using a for loop and if you hit an odd number\n",
    "# break the for loop, else print the value\n"
   ]
  },
  {
   "cell_type": "markdown",
   "id": "dff2a870",
   "metadata": {},
   "source": [
    "The \"continue\" keyword can be used to end the current iteration and move onto the next"
   ]
  },
  {
   "cell_type": "code",
   "execution_count": null,
   "id": "8d9db047",
   "metadata": {},
   "outputs": [],
   "source": [
    "# Create a list with values \"cat\", \"dog\", \"bird\" iterate over them using a for loop and\n",
    "# when you encounter \"dog\", print it \n",
    "# else use the continue keyword to proceed with the loop\n"
   ]
  },
  {
   "cell_type": "markdown",
   "id": "bd8fbe54",
   "metadata": {},
   "source": [
    "The range() function can be used to generate a range of integers"
   ]
  },
  {
   "cell_type": "code",
   "execution_count": null,
   "id": "84e15927",
   "metadata": {},
   "outputs": [],
   "source": [
    "# Here is an example of using the range() function\n",
    "\n",
    "for i in range(10):\n",
    "    print(i)"
   ]
  },
  {
   "cell_type": "code",
   "execution_count": null,
   "id": "dd40e48a",
   "metadata": {},
   "outputs": [],
   "source": [
    "# Use the help() function to see the parameters taken in by the range function\n"
   ]
  },
  {
   "cell_type": "code",
   "execution_count": null,
   "id": "a9d50ed7",
   "metadata": {},
   "outputs": [],
   "source": [
    "# print the numbers 0 through 10 using the range function\n"
   ]
  },
  {
   "cell_type": "code",
   "execution_count": null,
   "id": "1e152db9",
   "metadata": {},
   "outputs": [],
   "source": [
    "# print the even numbers between 0 and 10 using the range function and an if statement\n"
   ]
  },
  {
   "cell_type": "code",
   "execution_count": null,
   "id": "447c9372",
   "metadata": {},
   "outputs": [],
   "source": [
    "# print the even numbers between 0 and 10 using the range function and by specifying the start and step\n"
   ]
  },
  {
   "cell_type": "markdown",
   "id": "62865e29",
   "metadata": {},
   "source": [
    "The else keyword in a for loop specifies a block of code to be executed when the loop is finished:"
   ]
  },
  {
   "cell_type": "code",
   "execution_count": null,
   "id": "485f61e7",
   "metadata": {},
   "outputs": [],
   "source": [
    "# here is an example of using the else keyword in a loop\n",
    "\n",
    "for i in range(3):\n",
    "    print(i)\n",
    "else:\n",
    "    print(\"finished\")"
   ]
  },
  {
   "cell_type": "code",
   "execution_count": null,
   "id": "b180d492",
   "metadata": {},
   "outputs": [],
   "source": [
    "# write a for loop that prints the square of 0 through 10 and prints \"finished\" when it is complete\n",
    "\n",
    "for i in range(11):\n",
    "    print(i**2)\n",
    "else:\n",
    "    print(\"finished\")"
   ]
  },
  {
   "cell_type": "markdown",
   "id": "dc1cc2d6",
   "metadata": {},
   "source": [
    "# List Comprehension\n",
    "\n",
    "List comprehension is using a for loop to create a list inside the square brackets of the list definition"
   ]
  },
  {
   "cell_type": "code",
   "execution_count": null,
   "id": "bfdeead5",
   "metadata": {},
   "outputs": [],
   "source": [
    "# here is an example of list comprehension\n",
    "\n",
    "my_list = [i for i in range(20)]\n",
    "\n",
    "print(my_list)"
   ]
  },
  {
   "cell_type": "code",
   "execution_count": null,
   "id": "fa937504",
   "metadata": {},
   "outputs": [],
   "source": [
    "# Create a list containing the even numbers between 0 and 20 using list comprehension\n"
   ]
  },
  {
   "cell_type": "markdown",
   "id": "e435f78a",
   "metadata": {},
   "source": [
    "# Nested lists\n",
    "\n",
    "Lists can be sequences of any object .. including other lists"
   ]
  },
  {
   "cell_type": "code",
   "execution_count": null,
   "id": "a512d26b",
   "metadata": {},
   "outputs": [],
   "source": [
    "# here is an example of a nested list\n",
    "\n",
    "my_list = [[1,2,3], [1,2,3], [1,2,3]]\n",
    "\n",
    "print(my_list)"
   ]
  },
  {
   "cell_type": "code",
   "execution_count": null,
   "id": "ee6dd60b",
   "metadata": {},
   "outputs": [],
   "source": [
    "# use the range function to create a list which contains item [1,2,3] repeated 100 times\n"
   ]
  },
  {
   "cell_type": "code",
   "execution_count": null,
   "id": "bd9e08df",
   "metadata": {},
   "outputs": [],
   "source": []
  }
 ],
 "metadata": {
  "kernelspec": {
   "display_name": "Python 3 (ipykernel)",
   "language": "python",
   "name": "python3"
  },
  "language_info": {
   "codemirror_mode": {
    "name": "ipython",
    "version": 3
   },
   "file_extension": ".py",
   "mimetype": "text/x-python",
   "name": "python",
   "nbconvert_exporter": "python",
   "pygments_lexer": "ipython3",
   "version": "3.8.2"
  }
 },
 "nbformat": 4,
 "nbformat_minor": 5
}
