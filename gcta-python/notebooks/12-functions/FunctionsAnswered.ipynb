{
 "cells": [
  {
   "cell_type": "markdown",
   "id": "f5ca85b1",
   "metadata": {},
   "source": [
    "# Functions\n",
    "\n",
    "* A function is a block of code that only runs when it is **called**\n",
    "    * A function is *called* using the name of the function followed by parenthesis **()**\n",
    "    * A function is defined using the **def** keyword\n",
    "<br>\n",
    "<br>\n",
    "* A function can take in parameters\n",
    "    * parameters can have default values\n",
    "* A function can return something as a result\n",
    "<br>\n",
    "<br>\n",
    "<br>\n",
    "* **def** function_name**\\(**param1, param2, ...**\\):**"
   ]
  },
  {
   "cell_type": "code",
   "execution_count": null,
   "id": "2c96240c",
   "metadata": {},
   "outputs": [],
   "source": [
    "def this_is_a_function_that_takes_in_no_parameters():\n",
    "    print(\"Hi, this function doesn't return anything.\")"
   ]
  },
  {
   "cell_type": "code",
   "execution_count": null,
   "id": "adadcf59",
   "metadata": {},
   "outputs": [],
   "source": [
    "this_is_a_function_that_takes_in_no_parameters()"
   ]
  },
  {
   "cell_type": "code",
   "execution_count": null,
   "id": "0d7833ec",
   "metadata": {},
   "outputs": [],
   "source": [
    "def this_is_a_function_that_takes_in_one_parameter(text):\n",
    "    print(f\"Hi, this function returns the same text that you passed in as a parameter: {text}\")\n",
    "    return text"
   ]
  },
  {
   "cell_type": "code",
   "execution_count": null,
   "id": "22fdac51",
   "metadata": {},
   "outputs": [],
   "source": [
    "this_is_a_function_that_takes_in_one_parameter(\"what a day\")"
   ]
  },
  {
   "cell_type": "code",
   "execution_count": null,
   "id": "a5c15258",
   "metadata": {},
   "outputs": [],
   "source": [
    "# write a function that takes in a number and squares it and returns the answer\n",
    "def squaring_function(x):\n",
    "    return x**2\n",
    "\n",
    "x = 2\n",
    "x_squared = squaring_function(x)\n",
    "\n",
    "print(x_squared)"
   ]
  },
  {
   "cell_type": "code",
   "execution_count": null,
   "id": "d695b127",
   "metadata": {},
   "outputs": [],
   "source": [
    "# write a function that takes in a number and doubles it and returns the answer\n",
    "def doubling_function(x):\n",
    "    return x*2\n",
    "\n",
    "x = 2\n",
    "x_doubled = doubling_function(x)\n",
    "\n",
    "print(x_doubled)"
   ]
  },
  {
   "cell_type": "code",
   "execution_count": null,
   "id": "53e317c4",
   "metadata": {},
   "outputs": [],
   "source": [
    "# write a function that sums two values and returns the answer\n",
    "def summing_function(x1, x2):\n",
    "    return x1+ x2\n",
    "\n",
    "x1 = 2\n",
    "x2 = 2\n",
    "x_summed = summing_function(x1, x2)\n",
    "\n",
    "print(x_summed)"
   ]
  },
  {
   "cell_type": "code",
   "execution_count": null,
   "id": "e30a8757",
   "metadata": {},
   "outputs": [],
   "source": [
    "# write a function that both sums and subtracts two values and returns both results\n",
    "def sum_subtract(x1, x2):\n",
    "    summed = x1 + x2\n",
    "    subtracted = x1 - x2\n",
    "    \n",
    "    return summed, subtracted\n",
    "\n",
    "x1 = 2\n",
    "x2 = 2\n",
    "answer = sum_subtract(x1, x2)\n",
    "\n",
    "print(answer)"
   ]
  },
  {
   "cell_type": "code",
   "execution_count": null,
   "id": "a015876c",
   "metadata": {},
   "outputs": [],
   "source": [
    "# write a function that returns the max of three values\n",
    "def max_of_3(x1, x2, x3):\n",
    "    the_max = max(x1,x2,x3)\n",
    "    \n",
    "    return the_max\n",
    "\n",
    "x1 = 2\n",
    "x2 = 2\n",
    "x3 = 3\n",
    "answer = max_of_3(x1, x2, x3)\n",
    "\n",
    "print(answer)"
   ]
  },
  {
   "cell_type": "code",
   "execution_count": null,
   "id": "366e1627",
   "metadata": {},
   "outputs": [],
   "source": []
  }
 ],
 "metadata": {
  "kernelspec": {
   "display_name": "Python 3 (ipykernel)",
   "language": "python",
   "name": "python3"
  },
  "language_info": {
   "codemirror_mode": {
    "name": "ipython",
    "version": 3
   },
   "file_extension": ".py",
   "mimetype": "text/x-python",
   "name": "python",
   "nbconvert_exporter": "python",
   "pygments_lexer": "ipython3",
   "version": "3.8.9"
  }
 },
 "nbformat": 4,
 "nbformat_minor": 5
}
