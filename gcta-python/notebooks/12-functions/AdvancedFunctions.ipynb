{
 "cells": [
  {
   "cell_type": "code",
   "execution_count": null,
   "id": "56b2df60",
   "metadata": {},
   "outputs": [],
   "source": [
    "# write a function that takes in a string\n",
    "# and outputs lists of all of the alphabetical, numerical, punctuation, and whitespace characters\n"
   ]
  },
  {
   "cell_type": "code",
   "execution_count": null,
   "id": "6375fbd5",
   "metadata": {},
   "outputs": [],
   "source": [
    "# use the function\n"
   ]
  },
  {
   "cell_type": "code",
   "execution_count": null,
   "id": "a6ba79e0",
   "metadata": {},
   "outputs": [],
   "source": [
    "# write a function that takes in a string\n",
    "# and outputs a dictionary with lists of all of the alphabetical, numerical, punctuation, and whitespace characters\n"
   ]
  },
  {
   "cell_type": "code",
   "execution_count": null,
   "id": "19fab1a8",
   "metadata": {},
   "outputs": [],
   "source": [
    "# use the function\n"
   ]
  },
  {
   "cell_type": "code",
   "execution_count": null,
   "id": "8e858ac1",
   "metadata": {},
   "outputs": [],
   "source": [
    "# Break the example from question 1 into multiple functions\n",
    "# one outer function to walk the string\n",
    "# multiple inner functions to perform the checks and appends\n",
    "\n",
    " \n",
    "    "
   ]
  },
  {
   "cell_type": "code",
   "execution_count": null,
   "id": "13169688",
   "metadata": {},
   "outputs": [],
   "source": [
    "# use the function\n",
    "\n"
   ]
  },
  {
   "cell_type": "code",
   "execution_count": null,
   "id": "a40e17bb",
   "metadata": {},
   "outputs": [],
   "source": [
    "# write a function that takes in a string and a category (alphabetical, numerical, punctuation, and whitespace)\n",
    "# and outputs a list of all of the characters in that cetagory\n",
    "# make sure to check that the category provided is acceptable\n"
   ]
  },
  {
   "cell_type": "code",
   "execution_count": null,
   "id": "75564912",
   "metadata": {},
   "outputs": [],
   "source": [
    "# use the function\n"
   ]
  },
  {
   "cell_type": "code",
   "execution_count": null,
   "id": "26ed1dbb",
   "metadata": {},
   "outputs": [],
   "source": [
    "# Generator functions look and act like regular functions, but with one defining characteristic:\n",
    "# They use the Python keyword yeild instead of return\n",
    "\n",
    "# write a generator that yeilds all of the numerical values in a string\n"
   ]
  },
  {
   "cell_type": "code",
   "execution_count": null,
   "id": "045d1499",
   "metadata": {},
   "outputs": [],
   "source": [
    "# use the generator\n"
   ]
  },
  {
   "cell_type": "code",
   "execution_count": null,
   "id": "0ebd9359",
   "metadata": {},
   "outputs": [],
   "source": [
    "# Generator functions look and act like regular functions, but with one defining characteristic:\n",
    "# They use the Python keyword yeild instead of return\n",
    "\n",
    "# write a generator that takes in a string and a category (alphabetical, numerical, punctuation, and whitespace)\n",
    "# and yields a list of all of the characters in that cetagory\n",
    "# make sure to check that the category provided is acceptable\n"
   ]
  },
  {
   "cell_type": "code",
   "execution_count": null,
   "id": "d7dba1af",
   "metadata": {},
   "outputs": [],
   "source": [
    "# use the generator\n"
   ]
  }
 ],
 "metadata": {
  "kernelspec": {
   "display_name": "Python 3",
   "language": "python",
   "name": "python3"
  },
  "language_info": {
   "codemirror_mode": {
    "name": "ipython",
    "version": 3
   },
   "file_extension": ".py",
   "mimetype": "text/x-python",
   "name": "python",
   "nbconvert_exporter": "python",
   "pygments_lexer": "ipython3",
   "version": "3.8.2"
  }
 },
 "nbformat": 4,
 "nbformat_minor": 5
}
