{
 "cells": [
  {
   "cell_type": "markdown",
   "id": "658589d7",
   "metadata": {},
   "source": [
    "# Functions\n",
    "\n",
    "* A function is a block of code that only runs when it is **called**\n",
    "    * A function is *called* using the name of the function followed by parenthesis **()**\n",
    "    * A function is defined using the **def** keyword\n",
    "<br>\n",
    "<br>\n",
    "* A function can take in parameters\n",
    "    * parameters can have default values\n",
    "* A function can return something as a result\n",
    "<br>\n",
    "<br>\n",
    "<br>\n",
    "* **def** function_name**\\(**param1, param2, ...**\\):**"
   ]
  },
  {
   "cell_type": "code",
   "execution_count": null,
   "id": "e014c804",
   "metadata": {},
   "outputs": [],
   "source": [
    "def this_is_a_function_that_takes_in_no_parameters():\n",
    "    print(\"Hi, this function doesn't return anything.\")"
   ]
  },
  {
   "cell_type": "code",
   "execution_count": null,
   "id": "dcccf96f",
   "metadata": {},
   "outputs": [],
   "source": [
    "this_is_a_function_that_takes_in_no_parameters()"
   ]
  },
  {
   "cell_type": "code",
   "execution_count": null,
   "id": "6b774da3",
   "metadata": {},
   "outputs": [],
   "source": [
    "def this_is_a_function_that_takes_in_one_parameter(text):\n",
    "    print(f\"Hi, this function returns the same text that you passed in as a parameter: {text}\")\n",
    "    return text"
   ]
  },
  {
   "cell_type": "code",
   "execution_count": null,
   "id": "4bd95a34",
   "metadata": {},
   "outputs": [],
   "source": [
    "this_is_a_function_that_takes_in_one_parameter(\"what a day\")"
   ]
  },
  {
   "cell_type": "code",
   "execution_count": null,
   "id": "34ee1d7e",
   "metadata": {},
   "outputs": [],
   "source": [
    "# write a function that takes in a number and squares it and returns the answer"
   ]
  },
  {
   "cell_type": "code",
   "execution_count": null,
   "id": "4fe6ba5c",
   "metadata": {},
   "outputs": [],
   "source": [
    "# write a function that \n",
    "# takes in a number and \n",
    "# doubles it and \n",
    "# returns the answer"
   ]
  },
  {
   "cell_type": "code",
   "execution_count": null,
   "id": "ae72f431",
   "metadata": {},
   "outputs": [],
   "source": [
    "# write a function \n",
    "# that sums two values and \n",
    "# returns the answer"
   ]
  },
  {
   "cell_type": "code",
   "execution_count": null,
   "id": "65445a8e",
   "metadata": {},
   "outputs": [],
   "source": [
    "# write a function \n",
    "# that both sums and subtracts two values \n",
    "# and returns both results"
   ]
  },
  {
   "cell_type": "code",
   "execution_count": null,
   "id": "19ab6040",
   "metadata": {},
   "outputs": [],
   "source": [
    "# write a function that returns the max of three values"
   ]
  },
  {
   "cell_type": "code",
   "execution_count": null,
   "id": "2e146574",
   "metadata": {},
   "outputs": [],
   "source": [
    "# write a function that returns the sum of two numbers"
   ]
  },
  {
   "cell_type": "code",
   "execution_count": null,
   "id": "f4c155e6",
   "metadata": {},
   "outputs": [],
   "source": [
    "# write a function that\n",
    "# takes in a number and (we are going to have 1 parameter)\n",
    "# and returns whether or not that number is divisible by 2"
   ]
  },
  {
   "cell_type": "code",
   "execution_count": null,
   "id": "b9446cc8",
   "metadata": {},
   "outputs": [],
   "source": [
    "# write a function that\n",
    "# takes in two numbers\n",
    "# multiplies them \n",
    "# and returns the answer"
   ]
  },
  {
   "cell_type": "code",
   "execution_count": null,
   "id": "76e2a5eb",
   "metadata": {},
   "outputs": [],
   "source": []
  }
 ],
 "metadata": {
  "kernelspec": {
   "display_name": "Python 3 (ipykernel)",
   "language": "python",
   "name": "python3"
  },
  "language_info": {
   "codemirror_mode": {
    "name": "ipython",
    "version": 3
   },
   "file_extension": ".py",
   "mimetype": "text/x-python",
   "name": "python",
   "nbconvert_exporter": "python",
   "pygments_lexer": "ipython3",
   "version": "3.10.2"
  }
 },
 "nbformat": 4,
 "nbformat_minor": 5
}
