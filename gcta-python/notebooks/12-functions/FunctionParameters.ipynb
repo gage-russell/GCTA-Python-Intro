{
 "cells": [
  {
   "cell_type": "markdown",
   "id": "954e1da8",
   "metadata": {},
   "source": [
    "# Default Arguments\n",
    "\n",
    "Python functions can be defined to have default arguments for any parameter.\n",
    "\n",
    "We might define some function (my_function) which takes in two arguments (a and b):\n",
    "```\n",
    "def my_function(a, b):\n",
    "    return a+b\n",
    "```\n",
    "Based on the function definition above, both arguments (a and b) are required to be specified when the function is called.\n",
    "\n",
    "Alternatively, we can define some function (my_function) which takes in two arguments (a and b) with one (b) being optional by specifying a default value for it:\n",
    "```\n",
    "def my_function(a, b=0):\n",
    "    return a+b\n",
    "```\n",
    "Based on this function definition, only one argument (a) is required to be specified when the function is called. ***If argument b is not specified when calling the function, it will take on the value 0***. The user can override the default value by specifying their own value for argument b."
   ]
  },
  {
   "cell_type": "code",
   "execution_count": 1,
   "id": "54db6366",
   "metadata": {},
   "outputs": [],
   "source": [
    "# here is an example of a function \n",
    "# which has a default value for one of its parameters\n",
    "\n",
    "def my_function(a, b=2):\n",
    "    print(a)\n",
    "    print(b)"
   ]
  },
  {
   "cell_type": "code",
   "execution_count": 2,
   "id": "326c4698",
   "metadata": {},
   "outputs": [
    {
     "name": "stdout",
     "output_type": "stream",
     "text": [
      "1\n",
      "2\n"
     ]
    }
   ],
   "source": [
    "# if I call the function specified above without without specifying b, \n",
    "# b will default to 0\n",
    "\n",
    "my_function(1)"
   ]
  },
  {
   "cell_type": "code",
   "execution_count": 3,
   "id": "fd076b0d",
   "metadata": {},
   "outputs": [
    {
     "name": "stdout",
     "output_type": "stream",
     "text": [
      "1\n",
      "5\n"
     ]
    }
   ],
   "source": [
    "# we can override the value for b\n",
    "\n",
    "my_function(1, 5)"
   ]
  },
  {
   "cell_type": "code",
   "execution_count": 4,
   "id": "5afcc86f",
   "metadata": {},
   "outputs": [],
   "source": [
    "# here is an example of a function\n",
    "# which has a default value for all of its parameters\n",
    "\n",
    "def my_function(a=1, b=2):\n",
    "    print(a)\n",
    "    print(b)"
   ]
  },
  {
   "cell_type": "code",
   "execution_count": 5,
   "id": "e183424a",
   "metadata": {},
   "outputs": [
    {
     "name": "stdout",
     "output_type": "stream",
     "text": [
      "1\n",
      "2\n"
     ]
    }
   ],
   "source": [
    "# if I call the function without specifying any arguments,\n",
    "# they will both take on their default values\n",
    "\n",
    "my_function()"
   ]
  },
  {
   "cell_type": "code",
   "execution_count": 6,
   "id": "722c33e0",
   "metadata": {},
   "outputs": [
    {
     "name": "stdout",
     "output_type": "stream",
     "text": [
      "5\n",
      "2\n"
     ]
    }
   ],
   "source": [
    "# I can override the value for a\n",
    "\n",
    "my_function(5)"
   ]
  },
  {
   "cell_type": "code",
   "execution_count": 7,
   "id": "660f9c84",
   "metadata": {},
   "outputs": [
    {
     "name": "stdout",
     "output_type": "stream",
     "text": [
      "13\n",
      "17\n"
     ]
    }
   ],
   "source": [
    "# I can override the value for a and b\n",
    "\n",
    "my_function(13, 17)"
   ]
  },
  {
   "cell_type": "markdown",
   "id": "59fc2040",
   "metadata": {},
   "source": [
    "# Positional Arguments and Keyword Arguments\n",
    "\n",
    "So far, we have mostly been working with positional arguments.\n",
    "\n",
    "Whether an argument is \"positional\" or \"keyword\" is dictated by the function call (not the function definition).\n",
    "\n",
    "For instance, lets say I have some function (my_function) with parameters a and b:\n",
    "```\n",
    "def my_function(a, b):\n",
    "    return a+b\n",
    "```\n",
    "\n",
    "I can specify the values I want to pass in for a and b based on their ***POSITION***:\n",
    "```\n",
    "c = my_function(1, 2)\n",
    "```\n",
    "Based on the position in which I passed in the arguments, we know parameter ***a*** will take the value ***1*** and parameter ***b*** will take the value ***2***\n",
    "\n",
    "Alternatively, I can specify the values I want to pass in for a and b based on ***KEYWORD***:\n",
    "```\n",
    "c = my_function(a=1, b=2)\n",
    "```\n",
    "Based on the keywords I provided to my arguments, we know parameter ***a*** will take the value ***1*** and parameter ***b*** will take the value ***2***\n",
    "\n",
    "The ***ORDER*** of arguments ***DOES MATTER*** for ***positional arguments*** (which parameter they are associated with is inferred by the order/position in which they were passed)\n",
    "\n",
    "The ***ORDER*** of arguments ***DOES NOT MATTER*** for ***keyword arguments*** (which parameter they are associated with is dictated by the keyword preceding the value)\n",
    "\n"
   ]
  },
  {
   "cell_type": "code",
   "execution_count": 8,
   "id": "beb64fa6",
   "metadata": {},
   "outputs": [],
   "source": [
    "# lets define a function to demonstrate this\n",
    "def my_function(a, b):\n",
    "    print(a)\n",
    "    print(b)"
   ]
  },
  {
   "cell_type": "code",
   "execution_count": 9,
   "id": "d9e0d1b5",
   "metadata": {},
   "outputs": [
    {
     "name": "stdout",
     "output_type": "stream",
     "text": [
      "1\n",
      "2\n"
     ]
    }
   ],
   "source": [
    "# lets pass 1 for a and 2 for b based on position\n",
    "\n",
    "my_function(1, 2)"
   ]
  },
  {
   "cell_type": "code",
   "execution_count": null,
   "id": "b39a38d8",
   "metadata": {},
   "outputs": [],
   "source": [
    "# lets pass 1 for a and 2 for b based on keyword\n",
    "\n",
    "my_function(a=1, b=2)"
   ]
  },
  {
   "cell_type": "code",
   "execution_count": null,
   "id": "3b24403d",
   "metadata": {},
   "outputs": [],
   "source": [
    "# lets demonstrate that order does not matter for keyword arguments\n",
    "\n",
    "my_function(b=2, a=1)"
   ]
  },
  {
   "cell_type": "markdown",
   "id": "e674fe07",
   "metadata": {},
   "source": [
    "# keyword arguments CANNOT come after positional arguments"
   ]
  },
  {
   "cell_type": "code",
   "execution_count": null,
   "id": "cee0f3a0",
   "metadata": {},
   "outputs": [],
   "source": [
    "def my_function(a, b):\n",
    "    print(a)\n",
    "    print(b)"
   ]
  },
  {
   "cell_type": "code",
   "execution_count": null,
   "id": "8cfbb731",
   "metadata": {},
   "outputs": [],
   "source": [
    "my_function(b=1, 2)"
   ]
  },
  {
   "cell_type": "code",
   "execution_count": null,
   "id": "fee0d090",
   "metadata": {},
   "outputs": [],
   "source": []
  },
  {
   "cell_type": "code",
   "execution_count": null,
   "id": "eab64134",
   "metadata": {},
   "outputs": [],
   "source": []
  },
  {
   "cell_type": "code",
   "execution_count": null,
   "id": "857b0e6b",
   "metadata": {},
   "outputs": [],
   "source": []
  },
  {
   "cell_type": "code",
   "execution_count": null,
   "id": "5958c201",
   "metadata": {},
   "outputs": [],
   "source": []
  },
  {
   "cell_type": "code",
   "execution_count": null,
   "id": "df3dcedd",
   "metadata": {},
   "outputs": [],
   "source": [
    "def my_function(a, b):\n",
    "    # parameter is refferring to a and b in this function definition\n",
    "    return a + b\n",
    "\n",
    "\n",
    "# argument is refferring to 1 and 2\n",
    "my_function(1, 2)"
   ]
  }
 ],
 "metadata": {
  "kernelspec": {
   "display_name": "Python 3 (ipykernel)",
   "language": "python",
   "name": "python3"
  },
  "language_info": {
   "codemirror_mode": {
    "name": "ipython",
    "version": 3
   },
   "file_extension": ".py",
   "mimetype": "text/x-python",
   "name": "python",
   "nbconvert_exporter": "python",
   "pygments_lexer": "ipython3",
   "version": "3.8.9"
  }
 },
 "nbformat": 4,
 "nbformat_minor": 5
}
