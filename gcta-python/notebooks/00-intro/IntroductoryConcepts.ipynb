{
 "cells": [
  {
   "cell_type": "markdown",
   "id": "871df8fe",
   "metadata": {},
   "source": [
    "<span style=\"font-size: 16px; font-family: Geneva, Tahoma, Verdana, sans-serif;\">\n",
    "\n",
    "<h1>functions (basic)</h1>\n",
    "To call, invoke, or use a function, we write its name followed by parentheses.\n",
    "example: function_name()\n",
    "\n",
    "\n",
    "everything in python is an object\n",
    "    \n",
    "interpreted vs compiled\n",
    "\n",
    "source code ('source file')\n",
    "    \n",
    "keywords\n",
    "\n",
    "built-ins\n",
    "included with python source code\n",
    "    \n",
    "static vs dynamic typing\n",
    "\n",
    "<h1>misc</h1>\n",
    "solve for correctness\n",
    "\n",
    "pseudo code\n",
    "\n"
   ]
  },
  {
   "cell_type": "code",
   "execution_count": null,
   "id": "db3e55f8",
   "metadata": {},
   "outputs": [],
   "source": []
  }
 ],
 "metadata": {
  "kernelspec": {
   "display_name": "Python 3 (ipykernel)",
   "language": "python",
   "name": "python3"
  },
  "language_info": {
   "codemirror_mode": {
    "name": "ipython",
    "version": 3
   },
   "file_extension": ".py",
   "mimetype": "text/x-python",
   "name": "python",
   "nbconvert_exporter": "python",
   "pygments_lexer": "ipython3",
   "version": "3.10.2"
  }
 },
 "nbformat": 4,
 "nbformat_minor": 5
}
