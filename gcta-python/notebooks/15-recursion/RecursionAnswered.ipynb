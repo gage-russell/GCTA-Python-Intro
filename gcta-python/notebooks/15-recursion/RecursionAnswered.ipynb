{
 "cells": [
  {
   "cell_type": "markdown",
   "id": "9aae011a",
   "metadata": {},
   "source": [
    "Recursion: the process of defining something in terms of itself.\n",
    "\n",
    "In Python, we can just think of recursion as a function which calls itself.\n",
    "\n",
    "We've already seen how other functions can be called from within a Python function. Here's what a function which calls itself might look like:\n",
    "\n",
    "def recursive_function():\n",
    "    recursive_function()\n",
    "    \n",
    "Calling the above function would then look like:\n",
    "\n",
    "recursive_function()\n",
    "\n",
    "This of course would do absolutely nothing for infinity or until Python encounters a \"RecursionError\" (maximum number of recursions before a program is killed)"
   ]
  },
  {
   "cell_type": "code",
   "execution_count": 20,
   "id": "6e7de6d3",
   "metadata": {},
   "outputs": [
    {
     "name": "stdout",
     "output_type": "stream",
     "text": [
      "1\n",
      "2\n",
      "3\n",
      "4\n",
      "5\n",
      "6\n",
      "7\n",
      "8\n",
      "9\n",
      "10\n"
     ]
    }
   ],
   "source": [
    "# lets start without recursion to get warmed up\n",
    "# lets start really simple today\n",
    "# use the range function to loop over and print all numbers between 1 and 10 (including 1 and 10)\n",
    "\n",
    "for i in range(1,11):\n",
    "    print(i)"
   ]
  },
  {
   "cell_type": "code",
   "execution_count": 23,
   "id": "9f29230b",
   "metadata": {},
   "outputs": [
    {
     "name": "stdout",
     "output_type": "stream",
     "text": [
      "1\n",
      "2\n",
      "3\n",
      "4\n",
      "5\n",
      "6\n",
      "7\n",
      "8\n",
      "9\n",
      "10\n"
     ]
    }
   ],
   "source": [
    "# write a function which uses the range function to print all numbers between 1 and and n (including 1 and n)\n",
    "# where n is a parameter provided by the user\n",
    "# call the function in this cell also\n",
    "\n",
    "def my_function(n):\n",
    "    \n",
    "    for i in range(1, n+1):\n",
    "        print(i)\n",
    "        \n",
    "my_function(10)"
   ]
  },
  {
   "cell_type": "code",
   "execution_count": 25,
   "id": "62b69673",
   "metadata": {},
   "outputs": [
    {
     "name": "stdout",
     "output_type": "stream",
     "text": [
      "720\n"
     ]
    }
   ],
   "source": [
    "# the factorial of a number is the product of all of the integers from 1 to that number\n",
    "# for example, the factorial of 6 is 1*2*3*4*5*6 which equals 720\n",
    "# write some code to find the factorial of 6 using the range function\n",
    "\n",
    "num = 6\n",
    "answer = 1\n",
    "for i in range(1, num+1):\n",
    "    answer*=i\n",
    "    \n",
    "print(answer)"
   ]
  },
  {
   "cell_type": "code",
   "execution_count": 27,
   "id": "a576a410",
   "metadata": {},
   "outputs": [
    {
     "data": {
      "text/plain": [
       "3628800"
      ]
     },
     "execution_count": 27,
     "metadata": {},
     "output_type": "execute_result"
    }
   ],
   "source": [
    "# write a function to calculate the factorial of any number provided by the user \n",
    "# use the range function\n",
    "# call the function in this cell also\n",
    "\n",
    "def my_function(n):\n",
    "    \n",
    "    answer = 1\n",
    "    for i in range(1, n+1):\n",
    "        answer*=i\n",
    "        \n",
    "    return answer\n",
    "        \n",
    "my_function(10)"
   ]
  },
  {
   "cell_type": "code",
   "execution_count": 29,
   "id": "8904acdf",
   "metadata": {},
   "outputs": [
    {
     "data": {
      "text/plain": [
       "6"
      ]
     },
     "execution_count": 29,
     "metadata": {},
     "output_type": "execute_result"
    }
   ],
   "source": [
    "# write a function to calculate the factorial of any number provided by the user \n",
    "# use the range recursion instead of the range function\n",
    "# meaning: have the function call itself to continuously multiply 1*2*3*4*...*n \n",
    "\n",
    "def my_function(n):\n",
    "    if n==1:\n",
    "        return 1\n",
    "    else:\n",
    "        return (n*my_function(n-1))\n",
    "    \n",
    "my_function(3)\n",
    "\n"
   ]
  },
  {
   "cell_type": "code",
   "execution_count": 35,
   "id": "3c555f7c",
   "metadata": {},
   "outputs": [
    {
     "data": {
      "text/plain": [
       "True"
      ]
     },
     "execution_count": 35,
     "metadata": {},
     "output_type": "execute_result"
    }
   ],
   "source": [
    "# lets say I have a dictionary with multiple other dictionaries nested inside of it:\n",
    "\n",
    "my_dict = {'a': {'b': {'c': {'d': 1, 'e': 2}}, 'f': {'g': 3}}, 'h':4}\n",
    "\n",
    "# use the isinstance function to prove to me that this is a dictionary\n",
    "\n",
    "isinstance(my_dict, dict)"
   ]
  },
  {
   "cell_type": "code",
   "execution_count": 36,
   "id": "f0324429",
   "metadata": {},
   "outputs": [
    {
     "data": {
      "text/plain": [
       "True"
      ]
     },
     "execution_count": 36,
     "metadata": {},
     "output_type": "execute_result"
    }
   ],
   "source": [
    "# lets say I have a dictionary with multiple other dictionaries nested inside of it:\n",
    "\n",
    "my_dict = {'a': {'b': {'c': {'d': 1, 'e': 2}}, 'f': {'g': 3}}, 'h':4}\n",
    "\n",
    "# use the isinstance function to prove to me that the value of the top-level key 'a' in this dictionary is also a dictionary\n",
    "\n",
    "isinstance(my_dict['a'], dict)"
   ]
  },
  {
   "cell_type": "code",
   "execution_count": 34,
   "id": "7133cb5f",
   "metadata": {},
   "outputs": [
    {
     "name": "stdout",
     "output_type": "stream",
     "text": [
      "key: a | values: {'b': {'c': {'d': 1, 'e': 2}}, 'f': {'g': 3}}\n",
      "key: h | values: 4\n"
     ]
    }
   ],
   "source": [
    "# lets say I have a dictionary with multiple other dictionaries nested inside of it:\n",
    "\n",
    "my_dict = {'a': {'b': {'c': {'d': 1, 'e': 2}}, 'f': {'g': 3}}, 'h':4}\n",
    "\n",
    "# iterate over the outermost dictionary and print the keys and values using the items() method of the dictionary object\n",
    "\n",
    "for k,v in my_dict.items():\n",
    "    print(f'key: {k} | values: {v}')"
   ]
  },
  {
   "cell_type": "code",
   "execution_count": 32,
   "id": "13ff99d3",
   "metadata": {},
   "outputs": [
    {
     "name": "stdout",
     "output_type": "stream",
     "text": [
      "1\n",
      "2\n",
      "3\n",
      "4\n"
     ]
    }
   ],
   "source": [
    "# lets say I have a dictionary with multiple other dictionaries nested inside of it:\n",
    "\n",
    "my_dict = {'a': {'b': {'c': {'d': 1, 'e': 2}}, 'f': {'g': 3}}, 'h':4}\n",
    "\n",
    "# how could we print all of the values of each dictionary?\n",
    "# what if we iterated over each key starting with the outermost dictionary and anytime an inner dictionary is encountered,\n",
    "# we recurse (make the function call itself again)?\n",
    "\n",
    "# do it :)\n",
    "\n",
    "def my_function(d):\n",
    "    for k,v in d.items():\n",
    "        if isinstance(v, dict):\n",
    "            my_function(v)\n",
    "        else:\n",
    "            print(v)\n",
    "            \n",
    "my_function(my_dict)\n"
   ]
  },
  {
   "cell_type": "code",
   "execution_count": 43,
   "id": "342c4cf7",
   "metadata": {},
   "outputs": [
    {
     "name": "stdout",
     "output_type": "stream",
     "text": [
      "1\n",
      "2\n",
      "3\n",
      "4\n"
     ]
    },
    {
     "data": {
      "text/plain": [
       "[1, 2, 3, 4]"
      ]
     },
     "execution_count": 43,
     "metadata": {},
     "output_type": "execute_result"
    }
   ],
   "source": [
    "# lets say I have a dictionary with multiple other dictionaries nested inside of it:\n",
    "\n",
    "my_dict = {'a': {'b': {'c': {'d': 1, 'e': 2}}, 'f': {'g': 3}}, 'h':4}\n",
    "\n",
    "# this time write a function that takes in a list (set an empty list to be the default) and a nested dictionary\n",
    "# and recursively appends all of the values in a nested dictionary to the list\n",
    "\n",
    "def my_function(d, l=[]):\n",
    "    \n",
    "    for k,v in d.items():\n",
    "        if isinstance(v, dict):\n",
    "            my_function(v)\n",
    "        else:\n",
    "            print(v)\n",
    "            l.append(v)\n",
    "    return l\n",
    "                        \n",
    "my_function(my_dict)\n"
   ]
  },
  {
   "cell_type": "code",
   "execution_count": 46,
   "id": "bb265c64",
   "metadata": {},
   "outputs": [
    {
     "data": {
      "text/plain": [
       "{'username': 'myEmail@email.com',\n",
       " 'first': 'John',\n",
       " 'last': 'Doe',\n",
       " 'occupation': 'Web Developer'}"
      ]
     },
     "execution_count": 46,
     "metadata": {},
     "output_type": "execute_result"
    }
   ],
   "source": [
    "# lets say I have a dictionary with multiple other dictionaries nested inside of it:\n",
    "\n",
    "my_dict = { \"username\": \"myEmail@email.com\",\n",
    "  \"name\": { \"first\": \"John\", \"last\": \"Doe\" },\n",
    "  \"occupation\": \"Web Developer\" }\n",
    "\n",
    "# write a function that flattens this dictionary such that all key value pairs are at the outermost level\n",
    "\n",
    "the_answer_would_look_like = {\n",
    "    \"username\": \"myEmail@email.com\",\n",
    "    \"first\": \"John\",\n",
    "    \"last\": \"Doe\",\n",
    "    \"occupation\": \"Web Developer\"\n",
    "}\n",
    "\n",
    "# write it such that it takes in two dictionaries:\n",
    "# the original dictionary to be flattened\n",
    "# an existing dictionary which is where the flattened key value pairs will be stored\n",
    "\n",
    "# make the second dict an optional parameter which defaults to an empty dictionary\n",
    "\n",
    "def my_function(my_dict, existing_dict={}):\n",
    "    for k, v in my_dict.items():\n",
    "        if not isinstance(v, dict):\n",
    "            existing_dict[k] = v\n",
    "        else:\n",
    "            my_function(v, existing_dict)\n",
    "    return existing_dict\n",
    "\n",
    "my_function(my_dict)"
   ]
  },
  {
   "cell_type": "code",
   "execution_count": null,
   "id": "7f7e559b",
   "metadata": {},
   "outputs": [],
   "source": []
  }
 ],
 "metadata": {
  "kernelspec": {
   "display_name": "Python 3",
   "language": "python",
   "name": "python3"
  },
  "language_info": {
   "codemirror_mode": {
    "name": "ipython",
    "version": 3
   },
   "file_extension": ".py",
   "mimetype": "text/x-python",
   "name": "python",
   "nbconvert_exporter": "python",
   "pygments_lexer": "ipython3",
   "version": "3.8.2"
  }
 },
 "nbformat": 4,
 "nbformat_minor": 5
}
