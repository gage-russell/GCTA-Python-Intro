{
 "cells": [
  {
   "cell_type": "markdown",
   "id": "71b7ac39",
   "metadata": {},
   "source": [
    "Recursion: the process of defining something in terms of itself.\n",
    "\n",
    "In Python, we can just think of recursion as a function which calls itself.\n",
    "\n",
    "We've already seen how other functions can be called from within a Python function. Here's what a function which calls itself might look like:\n",
    "\n",
    "def recursive_function():\n",
    "    recursive_function()\n",
    "    \n",
    "Calling the above function would then look like:\n",
    "\n",
    "recursive_function()\n",
    "\n",
    "This of course would do absolutely nothing for infinity or until Python encounters a \"RecursionError\" (maximum number of recursions before a program is killed)"
   ]
  },
  {
   "cell_type": "code",
   "execution_count": null,
   "id": "10d18f4f",
   "metadata": {},
   "outputs": [],
   "source": [
    "# lets start without recursion to get warmed up\n",
    "# lets start really simple today\n",
    "# use the range function to loop over and print all numbers between 1 and 10 (including 1 and 10)\n"
   ]
  },
  {
   "cell_type": "code",
   "execution_count": null,
   "id": "432ac678",
   "metadata": {},
   "outputs": [],
   "source": [
    "# write a function which uses the range function to print all numbers between 1 and and n (including 1 and n)\n",
    "# where n is a parameter provided by the user\n",
    "# call the function in this cell also\n",
    "\n"
   ]
  },
  {
   "cell_type": "code",
   "execution_count": null,
   "id": "ea260818",
   "metadata": {},
   "outputs": [],
   "source": [
    "# the factorial of a number is the product of all of the integers from 1 to that number\n",
    "# for example, the factorial of 6 is 1*2*3*4*5*6 which equals 720\n",
    "# write some code to find the factorial of 6 using the range function\n",
    "\n"
   ]
  },
  {
   "cell_type": "code",
   "execution_count": null,
   "id": "fddd42ce",
   "metadata": {},
   "outputs": [],
   "source": [
    "# write a function to calculate the factorial of any number provided by the user \n",
    "# use the range function\n",
    "# call the function in this cell also\n"
   ]
  },
  {
   "cell_type": "code",
   "execution_count": null,
   "id": "09d061da",
   "metadata": {},
   "outputs": [],
   "source": [
    "# write a function to calculate the factorial of any number provided by the user \n",
    "# use the range recursion instead of the range function\n",
    "# meaning: have the function call itself to continuously multiply 1*2*3*4*...*n \n",
    "\n",
    "\n"
   ]
  },
  {
   "cell_type": "code",
   "execution_count": null,
   "id": "8c0f1adc",
   "metadata": {},
   "outputs": [],
   "source": [
    "# lets say I have a dictionary with multiple other dictionaries nested inside of it:\n",
    "\n",
    "my_dict = {'a': {'b': {'c': {'d': 1, 'e': 2}}, 'f': {'g': 3}}, 'h':4}\n",
    "\n",
    "# use the isinstance function to prove to me that this is a dictionary\n",
    "\n"
   ]
  },
  {
   "cell_type": "code",
   "execution_count": null,
   "id": "77b400f9",
   "metadata": {},
   "outputs": [],
   "source": [
    "# lets say I have a dictionary with multiple other dictionaries nested inside of it:\n",
    "\n",
    "my_dict = {'a': {'b': {'c': {'d': 1, 'e': 2}}, 'f': {'g': 3}}, 'h':4}\n",
    "\n",
    "# use the isinstance function to prove to me that the value of the top-level key 'a' in this dictionary is also a dictionary\n",
    "\n"
   ]
  },
  {
   "cell_type": "code",
   "execution_count": null,
   "id": "05ef11ae",
   "metadata": {},
   "outputs": [],
   "source": [
    "# lets say I have a dictionary with multiple other dictionaries nested inside of it:\n",
    "\n",
    "my_dict = {'a': {'b': {'c': {'d': 1, 'e': 2}}, 'f': {'g': 3}}, 'h':4}\n",
    "\n",
    "# iterate over the outermost dictionary and print the keys and values using the items() method of the dictionary object\n"
   ]
  },
  {
   "cell_type": "code",
   "execution_count": null,
   "id": "fe7a6fa4",
   "metadata": {},
   "outputs": [],
   "source": [
    "# lets say I have a dictionary with multiple other dictionaries nested inside of it:\n",
    "\n",
    "my_dict = {'a': {'b': {'c': {'d': 1, 'e': 2}}, 'f': {'g': 3}}, 'h':4}\n",
    "\n",
    "# how could we print all of the values of each dictionary?\n",
    "# what if we iterated over each key starting with the outermost dictionary and anytime an inner dictionary is encountered,\n",
    "# we recurse (make the function call itself again)?\n",
    "\n",
    "# do it :)\n",
    "\n"
   ]
  },
  {
   "cell_type": "code",
   "execution_count": null,
   "id": "852df236",
   "metadata": {},
   "outputs": [],
   "source": [
    "# lets say I have a dictionary with multiple other dictionaries nested inside of it:\n",
    "\n",
    "my_dict = {'a': {'b': {'c': {'d': 1, 'e': 2}}, 'f': {'g': 3}}, 'h':4}\n",
    "\n",
    "# this time write a function that takes in a list (set an empty list to be the default) and a nested dictionary\n",
    "# and recursively appends all of the values in a nested dictionary to the list\n",
    "\n",
    "\n"
   ]
  },
  {
   "cell_type": "code",
   "execution_count": null,
   "id": "d430dfc6",
   "metadata": {},
   "outputs": [],
   "source": [
    "# lets say I have a dictionary with multiple other dictionaries nested inside of it:\n",
    "\n",
    "my_dict = { \"username\": \"myEmail@email.com\",\n",
    "  \"name\": { \"first\": \"John\", \"last\": \"Doe\" },\n",
    "  \"occupation\": \"Web Developer\" }\n",
    "\n",
    "# write a function that flattens this dictionary such that all key value pairs are at the outermost level\n",
    "\n",
    "the_answer_would_look_like = {\n",
    "    \"username\": \"myEmail@email.com\",\n",
    "    \"first\": \"John\",\n",
    "    \"last\": \"Doe\",\n",
    "    \"occupation\": \"Web Developer\"\n",
    "}\n",
    "\n",
    "# write it such that it takes in two dictionaries:\n",
    "# the original dictionary to be flattened\n",
    "# an existing dictionary which is where the flattened key value pairs will be stored\n",
    "\n",
    "# make the second dict an optional parameter which defaults to an empty dictionary\n"
   ]
  },
  {
   "cell_type": "code",
   "execution_count": null,
   "id": "a4baaefd",
   "metadata": {},
   "outputs": [],
   "source": []
  }
 ],
 "metadata": {
  "kernelspec": {
   "display_name": "Python 3",
   "language": "python",
   "name": "python3"
  },
  "language_info": {
   "codemirror_mode": {
    "name": "ipython",
    "version": 3
   },
   "file_extension": ".py",
   "mimetype": "text/x-python",
   "name": "python",
   "nbconvert_exporter": "python",
   "pygments_lexer": "ipython3",
   "version": "3.8.2"
  }
 },
 "nbformat": 4,
 "nbformat_minor": 5
}
