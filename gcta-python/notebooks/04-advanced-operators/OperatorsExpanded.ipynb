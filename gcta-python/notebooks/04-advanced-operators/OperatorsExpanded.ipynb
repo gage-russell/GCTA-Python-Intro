{
 "cells": [
  {
   "cell_type": "markdown",
   "id": "396fd01d",
   "metadata": {},
   "source": [
    "# Comparison Operators, Logical Operators, Special Operators"
   ]
  },
  {
   "cell_type": "markdown",
   "id": "43a50857",
   "metadata": {},
   "source": [
    "# Comparison Operators\n",
    "## Equality Operator\n",
    "\n",
    "How do we determine if two values are equal?\n",
    "We use the equality operator: ==\n",
    "\n",
    "We've covered the assignment operator: =\n",
    "It is important to call out the difference between the assignment operator (=) and the equality operator (==).\n",
    "<ul>\n",
    "    <li>a = b assigns the value b to a</li>\n",
    "    <li>a == b compares the value of b to the value of a</li>\n",
    "</ul>\n",
    "\n",
    "== is a binary operator with left-sided binding. It needs two arguments and checks if they are equal.\n",
    "\n"
   ]
  },
  {
   "cell_type": "code",
   "execution_count": null,
   "id": "bb04dd29",
   "metadata": {},
   "outputs": [],
   "source": [
    "print(1 == 2)"
   ]
  },
  {
   "cell_type": "code",
   "execution_count": null,
   "id": "da45c996",
   "metadata": {},
   "outputs": [],
   "source": [
    "print(1 == 1)"
   ]
  },
  {
   "cell_type": "code",
   "execution_count": null,
   "id": "2ec20170",
   "metadata": {},
   "outputs": [],
   "source": [
    "x = 1\n",
    "print(x==1)"
   ]
  },
  {
   "cell_type": "code",
   "execution_count": null,
   "id": "981f606a",
   "metadata": {},
   "outputs": [],
   "source": [
    "x = 2\n",
    "print(x==1)"
   ]
  },
  {
   "cell_type": "markdown",
   "id": "f549cd7f",
   "metadata": {},
   "source": [
    "## Inequality Operator\n",
    "\n",
    "The opposite of the equality operator :)\n",
    "\n",
    "!="
   ]
  },
  {
   "cell_type": "code",
   "execution_count": null,
   "id": "5954c4a0",
   "metadata": {},
   "outputs": [],
   "source": [
    "print(1!=2)"
   ]
  },
  {
   "cell_type": "code",
   "execution_count": null,
   "id": "751fa973",
   "metadata": {},
   "outputs": [],
   "source": [
    "print(1!=1)"
   ]
  },
  {
   "cell_type": "code",
   "execution_count": null,
   "id": "511720b9",
   "metadata": {},
   "outputs": [],
   "source": [
    "x = 1\n",
    "print(x!=1)"
   ]
  },
  {
   "cell_type": "code",
   "execution_count": null,
   "id": "3b2bb485",
   "metadata": {},
   "outputs": [],
   "source": [
    "x = 1\n",
    "print(x!=2)"
   ]
  },
  {
   "cell_type": "markdown",
   "id": "c52bdf39",
   "metadata": {},
   "source": [
    "## Greater Than, Less Than, Greater Than or Equal To, Less Than or Equal to\n",
    "<ul>\n",
    "    <li>Greater Than: ></li>\n",
    "    <li>Less Than: < </li>\n",
    "    <li>Greater Than or Equal To: >=</li>\n",
    "    <li> Less Than or Equal To: <=</li>\n",
    "</ul>"
   ]
  },
  {
   "cell_type": "code",
   "execution_count": null,
   "id": "52912a63",
   "metadata": {},
   "outputs": [],
   "source": [
    "# determine the output before running\n",
    "print(2 > 1)"
   ]
  },
  {
   "cell_type": "code",
   "execution_count": null,
   "id": "ff4f8e6b",
   "metadata": {},
   "outputs": [],
   "source": [
    "# determine the output before running\n",
    "print(1 < 2)"
   ]
  },
  {
   "cell_type": "code",
   "execution_count": null,
   "id": "e403c552",
   "metadata": {},
   "outputs": [],
   "source": [
    "# determine the output before running\n",
    "print(2 <= 3)"
   ]
  },
  {
   "cell_type": "code",
   "execution_count": null,
   "id": "d2b6abbb",
   "metadata": {},
   "outputs": [],
   "source": [
    "# determine the output before running\n",
    "print(2 <= 2)"
   ]
  },
  {
   "cell_type": "code",
   "execution_count": null,
   "id": "b833b8bd",
   "metadata": {},
   "outputs": [],
   "source": [
    "# determine the output before running\n",
    "print(3 >= 1)"
   ]
  },
  {
   "cell_type": "code",
   "execution_count": null,
   "id": "3989f63d",
   "metadata": {},
   "outputs": [],
   "source": [
    "# determine the output before running\n",
    "print(3 >= 3)"
   ]
  },
  {
   "cell_type": "code",
   "execution_count": null,
   "id": "e44e9515",
   "metadata": {},
   "outputs": [],
   "source": [
    "# determine the output before running\n",
    "print(3 >= 4)"
   ]
  },
  {
   "cell_type": "code",
   "execution_count": null,
   "id": "cb099ce2",
   "metadata": {},
   "outputs": [],
   "source": [
    "# Make this code cell take in an input, assign the value to the variable x, and print true if x is greater than 10 or false if x is less than 10"
   ]
  },
  {
   "cell_type": "markdown",
   "id": "d065d90a",
   "metadata": {},
   "source": [
    "# Logical Operators\n",
    "## Not, And, Or\n",
    "\n",
    "<ul>\n",
    "    <li>and\tTrue if both the operands are true\tx and y</li>\n",
    "    <li>or\tTrue if either of the operands is true\tx or y</li>\n",
    "    <li>not\tTrue if operand is false (complements the operand)\tnot x</li>\n",
    "</ul>"
   ]
  },
  {
   "cell_type": "code",
   "execution_count": null,
   "id": "331ebfba",
   "metadata": {},
   "outputs": [],
   "source": [
    "print(True and True)"
   ]
  },
  {
   "cell_type": "code",
   "execution_count": null,
   "id": "08e3741c",
   "metadata": {},
   "outputs": [],
   "source": [
    "print(True and False)"
   ]
  },
  {
   "cell_type": "code",
   "execution_count": null,
   "id": "51fd2ed8",
   "metadata": {},
   "outputs": [],
   "source": [
    "print(False and False)"
   ]
  },
  {
   "cell_type": "code",
   "execution_count": null,
   "id": "7a72ee89",
   "metadata": {},
   "outputs": [],
   "source": [
    "print(True or True)"
   ]
  },
  {
   "cell_type": "code",
   "execution_count": null,
   "id": "d265e98d",
   "metadata": {},
   "outputs": [],
   "source": [
    "print(True or False)"
   ]
  },
  {
   "cell_type": "code",
   "execution_count": null,
   "id": "7c2b13b6",
   "metadata": {},
   "outputs": [],
   "source": [
    "print(False or False)"
   ]
  },
  {
   "cell_type": "code",
   "execution_count": null,
   "id": "acad5110",
   "metadata": {},
   "outputs": [],
   "source": [
    "print(not True)"
   ]
  },
  {
   "cell_type": "code",
   "execution_count": null,
   "id": "5ec511b5",
   "metadata": {},
   "outputs": [],
   "source": [
    "print(not False)"
   ]
  },
  {
   "cell_type": "code",
   "execution_count": null,
   "id": "7485be71",
   "metadata": {},
   "outputs": [],
   "source": [
    "# Determine the output before running\n",
    "x = 1\n",
    "y = 2\n",
    "check_equal = x==y\n",
    "check_inequal = x!=y\n",
    "print(check_equal and check_inequal)"
   ]
  },
  {
   "cell_type": "code",
   "execution_count": null,
   "id": "a3eb3510",
   "metadata": {},
   "outputs": [],
   "source": [
    "# Determine the output before running\n",
    "x = 1\n",
    "y = 2\n",
    "check_equal = x==y\n",
    "check_inequal = x!=y\n",
    "print(check_equal or check_inequal)"
   ]
  },
  {
   "cell_type": "code",
   "execution_count": null,
   "id": "fff69425",
   "metadata": {},
   "outputs": [],
   "source": [
    "# Determine the output before running\n",
    "x = 1\n",
    "y = 1\n",
    "check_equal = x==y\n",
    "check_inequal = x!=y\n",
    "print(check_equal and check_inequal)"
   ]
  },
  {
   "cell_type": "code",
   "execution_count": null,
   "id": "aa13fd31",
   "metadata": {},
   "outputs": [],
   "source": [
    "# Determine the output before running\n",
    "x = 1\n",
    "y = 1\n",
    "check_equal = x==y\n",
    "check_inequal = x!=y\n",
    "print(check_equal or check_inequal)"
   ]
  },
  {
   "cell_type": "code",
   "execution_count": null,
   "id": "a527a61c",
   "metadata": {},
   "outputs": [],
   "source": [
    "# Determine the output before running\n",
    "x = 1\n",
    "y = 1\n",
    "check_equal = x==y\n",
    "check_inequal = x!=y\n",
    "print(not check_equal or check_inequal)"
   ]
  },
  {
   "cell_type": "markdown",
   "id": "54ba0835",
   "metadata": {},
   "source": [
    "# Special Operators\n",
    "## Identity Operators\n",
    "\n",
    "<ul>\n",
    "    <li>is\tTrue if the operands are identical (refer to the same object)\tx is True</li>\n",
    "    <li>is not\tTrue if the operands are not identical (do not refer to the same object)\tx is not True</li>\n",
    "</ul>\n",
    "\n",
    "The primary use of \"is\" in Python is comparing the identity of an object to None"
   ]
  },
  {
   "cell_type": "code",
   "execution_count": null,
   "id": "baf80d65",
   "metadata": {},
   "outputs": [],
   "source": [
    "x = None\n",
    "print(x is None)"
   ]
  },
  {
   "cell_type": "code",
   "execution_count": null,
   "id": "5da24e6e",
   "metadata": {},
   "outputs": [],
   "source": [
    "x = 1\n",
    "print(x is None)"
   ]
  },
  {
   "cell_type": "markdown",
   "id": "db3f0cc4",
   "metadata": {},
   "source": [
    "## Membership Operators\n",
    "\n",
    "<ul>\n",
    "<li>in\tTrue if value/variable is found in the sequence\t5 in x</li>\n",
    "<li>not in\tTrue if value/variable is not found in the sequence\t5 not in x</li>\n",
    "</ul>"
   ]
  },
  {
   "cell_type": "code",
   "execution_count": null,
   "id": "fa7f371c",
   "metadata": {},
   "outputs": [],
   "source": [
    "x = [1,2,3]\n",
    "print(1 in x)"
   ]
  },
  {
   "cell_type": "code",
   "execution_count": null,
   "id": "6495b63f",
   "metadata": {},
   "outputs": [],
   "source": [
    "x = [1,2,3]\n",
    "print(4 in x)"
   ]
  },
  {
   "cell_type": "code",
   "execution_count": null,
   "id": "885e434c",
   "metadata": {},
   "outputs": [],
   "source": [
    "x = [1,2,3]\n",
    "print(4 not in x)"
   ]
  },
  {
   "cell_type": "code",
   "execution_count": null,
   "id": "9a837cf8",
   "metadata": {},
   "outputs": [],
   "source": [
    "x = ['a', 'b', 'c']\n",
    "print('a' in x)"
   ]
  },
  {
   "cell_type": "code",
   "execution_count": null,
   "id": "043ad267",
   "metadata": {},
   "outputs": [],
   "source": [
    "x = ['a', 'b', 'c']\n",
    "print('a' not in x)"
   ]
  },
  {
   "cell_type": "code",
   "execution_count": null,
   "id": "9d5f2110",
   "metadata": {},
   "outputs": [],
   "source": []
  }
 ],
 "metadata": {
  "kernelspec": {
   "display_name": "Python 3 (ipykernel)",
   "language": "python",
   "name": "python3"
  },
  "language_info": {
   "codemirror_mode": {
    "name": "ipython",
    "version": 3
   },
   "file_extension": ".py",
   "mimetype": "text/x-python",
   "name": "python",
   "nbconvert_exporter": "python",
   "pygments_lexer": "ipython3",
   "version": "3.10.2"
  }
 },
 "nbformat": 4,
 "nbformat_minor": 5
}
