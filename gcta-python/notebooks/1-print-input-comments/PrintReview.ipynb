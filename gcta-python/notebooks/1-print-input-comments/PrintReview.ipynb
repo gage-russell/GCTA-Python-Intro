{
 "cells": [
  {
   "cell_type": "code",
   "execution_count": null,
   "id": "c574350d",
   "metadata": {},
   "outputs": [],
   "source": [
    "# In a comment below, answer \"what python type is print\"\n"
   ]
  },
  {
   "cell_type": "code",
   "execution_count": null,
   "id": "fb8c4769",
   "metadata": {},
   "outputs": [],
   "source": [
    "# use the type function to return what python type \"print\" is\n"
   ]
  },
  {
   "cell_type": "code",
   "execution_count": null,
   "id": "79363246",
   "metadata": {},
   "outputs": [],
   "source": [
    "# In a comment below, answer \"what parameters does the print function take in\"\n"
   ]
  },
  {
   "cell_type": "code",
   "execution_count": null,
   "id": "3b645961",
   "metadata": {},
   "outputs": [],
   "source": [
    "# user the help function to return what parameters the print function takes in\n"
   ]
  },
  {
   "cell_type": "code",
   "execution_count": null,
   "id": "f2c812c0",
   "metadata": {},
   "outputs": [],
   "source": [
    "# In a comment below, answer \"what is the default value for the sep parameter of print\"\n"
   ]
  },
  {
   "cell_type": "code",
   "execution_count": null,
   "id": "65a58a4b",
   "metadata": {},
   "outputs": [],
   "source": [
    "# Given two variables:\n",
    "x = 1\n",
    "y = 2\n",
    "# print them \n"
   ]
  },
  {
   "cell_type": "code",
   "execution_count": null,
   "id": "03a68107",
   "metadata": {},
   "outputs": [],
   "source": [
    "# Given two variables:\n",
    "x = 1\n",
    "y = 2\n",
    "# print them separated by '+'\n"
   ]
  },
  {
   "cell_type": "code",
   "execution_count": null,
   "id": "ffc39fc4",
   "metadata": {},
   "outputs": [],
   "source": [
    "# Given two variables:\n",
    "x=1\n",
    "y=2\n",
    "# print them separated by '+' and ending with '=3'\n"
   ]
  },
  {
   "cell_type": "code",
   "execution_count": null,
   "id": "8867555a",
   "metadata": {},
   "outputs": [],
   "source": [
    "# Given two variables:\n",
    "x=1\n",
    "y=2\n",
    "# form a string of the format \"x+y=z\" where x and y are the variables defined above and x is the sum and print it\n"
   ]
  },
  {
   "cell_type": "code",
   "execution_count": null,
   "id": "fffdad77",
   "metadata": {},
   "outputs": [],
   "source": [
    "# write a function that takes in two variables, sums them, and returns the formatted string \"x+y=z\"\n"
   ]
  },
  {
   "cell_type": "code",
   "execution_count": null,
   "id": "631bb904",
   "metadata": {},
   "outputs": [],
   "source": []
  }
 ],
 "metadata": {
  "kernelspec": {
   "display_name": "Python 3 (ipykernel)",
   "language": "python",
   "name": "python3"
  },
  "language_info": {
   "codemirror_mode": {
    "name": "ipython",
    "version": 3
   },
   "file_extension": ".py",
   "mimetype": "text/x-python",
   "name": "python",
   "nbconvert_exporter": "python",
   "pygments_lexer": "ipython3",
   "version": "3.8.9"
  }
 },
 "nbformat": 4,
 "nbformat_minor": 5
}
