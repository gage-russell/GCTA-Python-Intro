{
 "cells": [
  {
   "cell_type": "markdown",
   "id": "a2c7c22d",
   "metadata": {},
   "source": [
    "https://www.w3schools.com/python/python_ref_dictionary.asp"
   ]
  },
  {
   "cell_type": "code",
   "execution_count": null,
   "id": "a17527fc",
   "metadata": {},
   "outputs": [],
   "source": [
    "# create a dictionary with keys a,b,c and values 1,2,3"
   ]
  },
  {
   "cell_type": "code",
   "execution_count": null,
   "id": "4e6e5bc1",
   "metadata": {},
   "outputs": [],
   "source": [
    "# add the key \"d\" with value 4 to the dictionary using assignment operator\n",
    "my_dict = {'a':1, 'b':2, 'c':3}"
   ]
  },
  {
   "cell_type": "code",
   "execution_count": null,
   "id": "ffdaaf7c",
   "metadata": {},
   "outputs": [],
   "source": [
    "# add the key \"d\" with value 4 to the dictionary using the dictionary's update method\n",
    "my_dict = {'a':1, 'b':2, 'c':3}"
   ]
  },
  {
   "cell_type": "code",
   "execution_count": null,
   "id": "425c1920",
   "metadata": {},
   "outputs": [],
   "source": [
    "# print the keys of this dictionary\n",
    "my_dict = {'a':1, 'b':2, 'c':3}"
   ]
  },
  {
   "cell_type": "code",
   "execution_count": null,
   "id": "39dd0f64",
   "metadata": {},
   "outputs": [],
   "source": [
    "# print the values of this dictionary\n",
    "my_dict = {'a':1, 'b':2, 'c':3}"
   ]
  },
  {
   "cell_type": "code",
   "execution_count": null,
   "id": "0997b754",
   "metadata": {},
   "outputs": [],
   "source": [
    "# print the items of this dictionary\n",
    "my_dict = {'a':1, 'b':2, 'c':3}"
   ]
  },
  {
   "cell_type": "code",
   "execution_count": null,
   "id": "af336264",
   "metadata": {},
   "outputs": [],
   "source": [
    "# generate a list of \"incomes\" from this list of dictionaries using a for loop \n",
    "my_list_of_dicts = [\n",
    "    {'name':'brad', 'income':100},  \n",
    "    {'name':'sam', 'income':25}, \n",
    "    {'name':'tom', 'income':50}, \n",
    "    {'name':'jerry', 'income':200}, \n",
    "    {'name':'haley', 'income':45}, \n",
    "]"
   ]
  },
  {
   "cell_type": "code",
   "execution_count": null,
   "id": "9f45fec3",
   "metadata": {},
   "outputs": [],
   "source": [
    "# generate a list of \"incomes\" from this list of dictionaries using a for loop and then print the sum of that list\n",
    "my_list_of_dicts = [\n",
    "    {'name':'brad', 'income':100},  \n",
    "    {'name':'sam', 'income':25}, \n",
    "    {'name':'tom', 'income':50}, \n",
    "    {'name':'jerry', 'income':200}, \n",
    "    {'name':'haley', 'income':45}, \n",
    "]"
   ]
  },
  {
   "cell_type": "code",
   "execution_count": null,
   "id": "eb0fd3e8",
   "metadata": {},
   "outputs": [],
   "source": [
    "# print the value of a in the dictionary by referencing it directly\n",
    "my_dict = {'a':1, 'b':2, 'c':3}"
   ]
  },
  {
   "cell_type": "code",
   "execution_count": null,
   "id": "872cc7b6",
   "metadata": {},
   "outputs": [],
   "source": [
    "# print the value of a in the dictionary using the get method\n",
    "my_dict = {'a':1, 'b':2, 'c':3}"
   ]
  },
  {
   "cell_type": "code",
   "execution_count": null,
   "id": "45f03948",
   "metadata": {},
   "outputs": [],
   "source": [
    "# iterate over each item in this dictionary and print it\n",
    "my_dict = {'a':1, 'b':2, 'c':3}"
   ]
  },
  {
   "cell_type": "code",
   "execution_count": null,
   "id": "e6359649",
   "metadata": {},
   "outputs": [],
   "source": [
    "# iterate over each key in this dictionary and print it\n",
    "my_dict = {'a':1, 'b':2, 'c':3}"
   ]
  },
  {
   "cell_type": "code",
   "execution_count": null,
   "id": "87765a39",
   "metadata": {},
   "outputs": [],
   "source": [
    "# iterate over each value in this dictionary and print it\n",
    "my_dict = {'a':1, 'b':2, 'c':3}"
   ]
  },
  {
   "cell_type": "code",
   "execution_count": null,
   "id": "f8717768",
   "metadata": {},
   "outputs": [],
   "source": []
  }
 ],
 "metadata": {
  "kernelspec": {
   "display_name": "Python 3 (ipykernel)",
   "language": "python",
   "name": "python3"
  },
  "language_info": {
   "codemirror_mode": {
    "name": "ipython",
    "version": 3
   },
   "file_extension": ".py",
   "mimetype": "text/x-python",
   "name": "python",
   "nbconvert_exporter": "python",
   "pygments_lexer": "ipython3",
   "version": "3.8.9"
  }
 },
 "nbformat": 4,
 "nbformat_minor": 5
}
