{
 "cells": [
  {
   "cell_type": "markdown",
   "id": "e0048de7",
   "metadata": {},
   "source": [
    "https://www.w3schools.com/python/python_ref_dictionary.asp"
   ]
  },
  {
   "cell_type": "code",
   "execution_count": null,
   "id": "26bd03ac",
   "metadata": {},
   "outputs": [],
   "source": [
    "# create a dictionary with keys a,b,c and values 1,2,3\n",
    "my_dict = {'a':1, 'b':2, 'c':3}"
   ]
  },
  {
   "cell_type": "code",
   "execution_count": null,
   "id": "86d7495a",
   "metadata": {},
   "outputs": [],
   "source": [
    "# add the key \"d\" with value 4 to the dictionary using assignment operator\n",
    "my_dict = {'a':1, 'b':2, 'c':3}\n",
    "\n",
    "my_dict['d'] = 4\n",
    "\n",
    "print(my_dict)"
   ]
  },
  {
   "cell_type": "code",
   "execution_count": null,
   "id": "cf1d2976",
   "metadata": {},
   "outputs": [],
   "source": [
    "# add the key \"d\" with value 4 to the dictionary using the dictionary's update method\n",
    "my_dict = {'a':1, 'b':2, 'c':3}\n",
    "\n",
    "my_dict.update({'d':4})\n",
    "\n",
    "print(my_dict)"
   ]
  },
  {
   "cell_type": "code",
   "execution_count": null,
   "id": "9316f0ee",
   "metadata": {},
   "outputs": [],
   "source": [
    "# print the keys of this dictionary\n",
    "my_dict = {'a':1, 'b':2, 'c':3}\n",
    "\n",
    "print(my_dict.keys())"
   ]
  },
  {
   "cell_type": "code",
   "execution_count": null,
   "id": "3e69465b",
   "metadata": {},
   "outputs": [],
   "source": [
    "# print the values of this dictionary\n",
    "my_dict = {'a':1, 'b':2, 'c':3}\n",
    "\n",
    "print(my_dict.values())"
   ]
  },
  {
   "cell_type": "code",
   "execution_count": null,
   "id": "010c70a7",
   "metadata": {},
   "outputs": [],
   "source": [
    "# print the items of this dictionary\n",
    "my_dict = {'a':1, 'b':2, 'c':3}\n",
    "\n",
    "print(my_dict.items())"
   ]
  },
  {
   "cell_type": "code",
   "execution_count": null,
   "id": "6ce4ecd4",
   "metadata": {},
   "outputs": [],
   "source": [
    "# generate a list of \"incomes\" from this list of dictionaries using a for loop \n",
    "my_list_of_dicts = [\n",
    "    {'name':'brad', 'income':100},  \n",
    "    {'name':'sam', 'income':25}, \n",
    "    {'name':'tom', 'income':50}, \n",
    "    {'name':'jerry', 'income':200}, \n",
    "    {'name':'haley', 'income':45}, \n",
    "]\n",
    "\n",
    "answer = []\n",
    "for record in my_list_of_dicts:\n",
    "    record_income = record.get('income')\n",
    "    answer.append(record_income)\n",
    "print(answer)"
   ]
  },
  {
   "cell_type": "code",
   "execution_count": null,
   "id": "57b52175",
   "metadata": {},
   "outputs": [],
   "source": [
    "# generate a list of \"incomes\" from this list of dictionaries using a for loop and then print the sum of that list\n",
    "my_list_of_dicts = [\n",
    "    {'name':'brad', 'income':100},  \n",
    "    {'name':'sam', 'income':25}, \n",
    "    {'name':'tom', 'income':50}, \n",
    "    {'name':'jerry', 'income':200}, \n",
    "    {'name':'haley', 'income':45}, \n",
    "]\n",
    "\n",
    "answer = []\n",
    "for record in my_list_of_dicts:\n",
    "    record_income = record.get('income')\n",
    "    answer.append(record_income)\n",
    "\n",
    "income_sum = sum(answer)\n",
    "\n",
    "print(income_sum)"
   ]
  },
  {
   "cell_type": "code",
   "execution_count": null,
   "id": "9f9c2887",
   "metadata": {},
   "outputs": [],
   "source": [
    "# print the value of a in the dictionary by referencing it directly\n",
    "my_dict = {'a':1, 'b':2, 'c':3}\n",
    "\n",
    "print(my_dict['a'])"
   ]
  },
  {
   "cell_type": "code",
   "execution_count": null,
   "id": "ee7aa9cd",
   "metadata": {},
   "outputs": [],
   "source": [
    "# print the value of a in the dictionary using the get method\n",
    "my_dict = {'a':1, 'b':2, 'c':3}\n",
    "\n",
    "print(my_dict.get('a'))"
   ]
  },
  {
   "cell_type": "code",
   "execution_count": null,
   "id": "622c65ec",
   "metadata": {},
   "outputs": [],
   "source": [
    "# iterate over each item in this dictionary and print it\n",
    "my_dict = {'a':1, 'b':2, 'c':3}\n",
    "\n",
    "for item in my_dict.items():\n",
    "    print(item)"
   ]
  },
  {
   "cell_type": "code",
   "execution_count": null,
   "id": "400718f2",
   "metadata": {},
   "outputs": [],
   "source": [
    "# iterate over each key in this dictionary and print it\n",
    "my_dict = {'a':1, 'b':2, 'c':3}\n",
    "\n",
    "for key in my_dict.keys():\n",
    "    print(key)"
   ]
  },
  {
   "cell_type": "code",
   "execution_count": null,
   "id": "505e71e6",
   "metadata": {},
   "outputs": [],
   "source": [
    "# iterate over each value in this dictionary and print it\n",
    "my_dict = {'a':1, 'b':2, 'c':3}\n",
    "\n",
    "for value in my_dict.values():\n",
    "    print(value)"
   ]
  },
  {
   "cell_type": "code",
   "execution_count": null,
   "id": "27cefba2",
   "metadata": {},
   "outputs": [],
   "source": []
  }
 ],
 "metadata": {
  "kernelspec": {
   "display_name": "Python 3 (ipykernel)",
   "language": "python",
   "name": "python3"
  },
  "language_info": {
   "codemirror_mode": {
    "name": "ipython",
    "version": 3
   },
   "file_extension": ".py",
   "mimetype": "text/x-python",
   "name": "python",
   "nbconvert_exporter": "python",
   "pygments_lexer": "ipython3",
   "version": "3.8.2"
  }
 },
 "nbformat": 4,
 "nbformat_minor": 5
}
