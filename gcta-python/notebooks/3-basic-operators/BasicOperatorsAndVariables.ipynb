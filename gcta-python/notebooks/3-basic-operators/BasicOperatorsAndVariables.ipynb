{
 "cells": [
  {
   "cell_type": "markdown",
   "id": "1e435979",
   "metadata": {},
   "source": [
    "# Basic Operators"
   ]
  },
  {
   "cell_type": "markdown",
   "id": "ccccecd8",
   "metadata": {},
   "source": [
    "An operator is a symbol of the programming language, which is able to operate on the values."
   ]
  },
  {
   "cell_type": "markdown",
   "id": "fdb52e60",
   "metadata": {},
   "source": [
    "In the Python programming language, these symbols closely mirror those of standard arithmetic. For example + is the operator used to add two numbers"
   ]
  },
  {
   "cell_type": "markdown",
   "id": "217ac7da",
   "metadata": {},
   "source": [
    "Standard Operators:\n",
    "    +, -, *, /, //, %, **"
   ]
  },
  {
   "cell_type": "markdown",
   "id": "37728743",
   "metadata": {},
   "source": [
    "Remember: Data and operators when connected together form expressions. The simplest expression is a literal itself."
   ]
  },
  {
   "cell_type": "markdown",
   "id": "54236690",
   "metadata": {},
   "source": [
    "\"+\" is the addition operator"
   ]
  },
  {
   "cell_type": "code",
   "execution_count": null,
   "id": "63020d22",
   "metadata": {},
   "outputs": [],
   "source": [
    "print(2 + 2)"
   ]
  },
  {
   "cell_type": "markdown",
   "id": "90673369",
   "metadata": {},
   "source": [
    "\"-\" is the subtraction operator"
   ]
  },
  {
   "cell_type": "code",
   "execution_count": null,
   "id": "47346f81",
   "metadata": {},
   "outputs": [],
   "source": [
    "print(4 - 2)"
   ]
  },
  {
   "cell_type": "markdown",
   "id": "43c897ae",
   "metadata": {},
   "source": [
    "\"*\" is the multiplication operator"
   ]
  },
  {
   "cell_type": "code",
   "execution_count": null,
   "id": "14aa0706",
   "metadata": {},
   "outputs": [],
   "source": [
    "print(2 * 2)"
   ]
  },
  {
   "cell_type": "code",
   "execution_count": null,
   "id": "11ff4591",
   "metadata": {},
   "outputs": [],
   "source": [
    "print(5 * 2)"
   ]
  },
  {
   "cell_type": "markdown",
   "id": "96b69478",
   "metadata": {},
   "source": [
    "\"/\" is the division operator"
   ]
  },
  {
   "cell_type": "code",
   "execution_count": null,
   "id": "76610176",
   "metadata": {},
   "outputs": [],
   "source": [
    "print(10 / 2)"
   ]
  },
  {
   "cell_type": "markdown",
   "id": "bb2060b1",
   "metadata": {},
   "source": [
    "\"**\" is the exponential operator"
   ]
  },
  {
   "cell_type": "code",
   "execution_count": null,
   "id": "d80f6344",
   "metadata": {},
   "outputs": [],
   "source": [
    "print(4**2)"
   ]
  },
  {
   "cell_type": "code",
   "execution_count": null,
   "id": "f52171c1",
   "metadata": {},
   "outputs": [],
   "source": [
    "print(5**2)"
   ]
  },
  {
   "cell_type": "markdown",
   "id": "d0f49310",
   "metadata": {},
   "source": [
    "\"//\" is the integer divisional operator\n",
    "This operation will aways be rounded to the lesser integer"
   ]
  },
  {
   "cell_type": "code",
   "execution_count": null,
   "id": "fed15837",
   "metadata": {},
   "outputs": [],
   "source": [
    "print(6 // 4)"
   ]
  },
  {
   "cell_type": "code",
   "execution_count": null,
   "id": "bb882d65",
   "metadata": {},
   "outputs": [],
   "source": [
    "print(6 / 4)"
   ]
  },
  {
   "cell_type": "code",
   "execution_count": null,
   "id": "0e011cdd",
   "metadata": {},
   "outputs": [],
   "source": [
    "print(20 // 7)"
   ]
  },
  {
   "cell_type": "code",
   "execution_count": null,
   "id": "b1c91d26",
   "metadata": {},
   "outputs": [],
   "source": [
    "print(20 / 7)"
   ]
  },
  {
   "cell_type": "markdown",
   "id": "e34ebdbb",
   "metadata": {},
   "source": [
    "\"%\" is the modulo operator. This returns the remainder of a division operation"
   ]
  },
  {
   "cell_type": "code",
   "execution_count": null,
   "id": "43e01c0d",
   "metadata": {},
   "outputs": [],
   "source": [
    "print(14 % 4)"
   ]
  },
  {
   "cell_type": "markdown",
   "id": "ad1e6c97",
   "metadata": {},
   "source": [
    "^ Why?\n",
    "\n",
    "14 // 4 gives 3 → this is the integer quotient; <br>\n",
    "3 * 4 gives 12 → as a result of quotient and divisor multiplication; <br>\n",
    "14 - 12 gives 2 → this is the remainder <br>"
   ]
  },
  {
   "cell_type": "markdown",
   "id": "afc9bb2d",
   "metadata": {},
   "source": [
    "## Binary versus Unary Operators\n",
    "Operators with one operand are called “unary” operators (think uni-cycle) and operators with two operands are called “binary” operators (think bi-cycle)"
   ]
  },
  {
   "cell_type": "markdown",
   "id": "8d899513",
   "metadata": {},
   "source": [
    "How might the - operator be used as a unary operator?"
   ]
  },
  {
   "cell_type": "code",
   "execution_count": null,
   "id": "d0cb3e64",
   "metadata": {},
   "outputs": [],
   "source": [
    "print(-2)"
   ]
  },
  {
   "cell_type": "markdown",
   "id": "7b73edd5",
   "metadata": {},
   "source": [
    "## Operator Priorities\n",
    "Remember PEMDAS?\n",
    "PEMDAS applies to Python operators just like arithmetic"
   ]
  },
  {
   "cell_type": "code",
   "execution_count": null,
   "id": "c5db4f7b",
   "metadata": {},
   "outputs": [],
   "source": [
    "# Predict what the result of this operation will be\n",
    "print(2 + 3 * 5)"
   ]
  },
  {
   "cell_type": "markdown",
   "id": "7189419e",
   "metadata": {},
   "source": [
    "## Operator Binding\n",
    "Binding determines the order of operations performed by operators of equal priority"
   ]
  },
  {
   "cell_type": "code",
   "execution_count": null,
   "id": "82117d4b",
   "metadata": {},
   "outputs": [],
   "source": [
    " x = 2+2+2 # -> x = 4 + 2 -> x = 6"
   ]
  },
  {
   "cell_type": "code",
   "execution_count": null,
   "id": "6f8f7b0b",
   "metadata": {},
   "outputs": [],
   "source": [
    "# right-sided binding means that equal priority operators will be executed from right to left.\n",
    "# the exponent operator is an example of right-binded operator\n",
    "# predict the result\n",
    "\n",
    "# 2**4 = 16 -> 16**3 = 4,096 -- INCORRECT (left)\n",
    "# 4**3 = 64 -> 2**64 = 18,446,744,073,709,551,616 -- CORRECT (right)\n",
    "print(2**4**3) # 2^4^3"
   ]
  },
  {
   "cell_type": "code",
   "execution_count": null,
   "id": "28d03810",
   "metadata": {},
   "outputs": [],
   "source": [
    "# ^^ pretty big difference huh?"
   ]
  },
  {
   "cell_type": "code",
   "execution_count": null,
   "id": "c65162fa",
   "metadata": {},
   "outputs": [],
   "source": [
    "# where do parentheses fit in pemdas?\n",
    "# predict the result\n",
    "\n",
    "print((5+5)**2)"
   ]
  },
  {
   "cell_type": "markdown",
   "id": "72b60f16",
   "metadata": {},
   "source": [
    "Key takeaways\n",
    "1. An expression is a combination of values (or variables, operators, calls to functions - you will learn about them soon) which evaluates to a value, e.g., 1 + 2.\n",
    "\n",
    "2. Operators are special symbols or keywords which are able to operate on the values and perform (mathematical) operations, e.g., the * operator multiplies two values: x * y.\n",
    "\n",
    "3. Arithmetic operators in Python: + (addition), - (subtraction), * (multiplication), / (classic division - always returns a float), % (modulus - divides left operand by right operand and returns the remainder of the operation, e.g., 5 % 2 = 1), ** (exponentiation - left operand raised to the power of right operand, e.g., 2 ** 3 = 2 * 2 * 2 = 8), // (floor/integer division - returns a number resulting from division, but rounded down to the nearest whole number, e.g., 3 // 2.0 = 1.0)\n",
    "\n",
    "4. A unary operator is an operator with only one operand, e.g., -1, or +3.\n",
    "\n",
    "5. A binary operator is an operator with two operands, e.g., 4 + 5, or 12 % 5.\n",
    "\n",
    "6. Some operators act before others - the hierarchy of priorities:\n",
    "\n",
    "unary + and - have the highest priority\n",
    "then: **, then: *, /, and %, and then the lowest priority: binary + and -.\n",
    "7. Subexpressions in parentheses are always calculated first, e.g., 15 - 1 * (5 * (1 + 2)) = 0.\n",
    "\n",
    "8. The exponentiation operator uses right-sided binding, e.g., 2 ** 2 ** 3 = 256."
   ]
  },
  {
   "cell_type": "markdown",
   "id": "6e12ea71",
   "metadata": {},
   "source": [
    "# Variables\n",
    "\n",
    "If you want to give a name to a variable, you must follow some strict rules:\n",
    "\n",
    "* the name of the variable must be composed of upper-case or lower-case letters, digits, and the character _ (underscore)\n",
    "* the name of the variable must begin with a letter;\n",
    "* the underscore character is a letter;\n",
    "* upper- and lower-case letters are treated as different (a little differently than in the real world - Alice and ALICE are the same first names, but in Python they are two different variable names, and consequently, two different variables);\n",
    "* the name of the variable must not be any of Python's reserved words (the keywords - we'll explain more about this soon)."
   ]
  },
  {
   "cell_type": "markdown",
   "id": "6854baca",
   "metadata": {},
   "source": [
    "A variable comes into existence as a result of assigning a value to it. Unlike in other languages, you don't need to declare it in any special way. <b> remember when we talked about statically versus dynamically typed languages??</b>\n",
    "\n",
    "If you assign any value to a nonexistent variable, the variable will be automatically created. You don't need to do anything else.\n",
    "\n",
    "The creation (or otherwise - its syntax) is extremely simple: just use the name of the desired variable, then the equal sign (=) and the value you want to put into the variable."
   ]
  },
  {
   "cell_type": "markdown",
   "id": "7a1802e2",
   "metadata": {},
   "source": [
    "Lets practice:\n",
    "Remember pythagorean theorem?\n",
    "Pythagorean theroem solves for the hypotenuse of a right-angle triangle.\n",
    "c = √ a^2 + b^2 "
   ]
  },
  {
   "cell_type": "code",
   "execution_count": null,
   "id": "cf28fae7",
   "metadata": {},
   "outputs": [],
   "source": [
    "# calculate the hypotenuse of a right-angle triangle where sides a and c are both equal to 5\n",
    "a = 5\n",
    "b = 5\n",
    "c = (a**2 + b**2)**0.5\n",
    "print(c)"
   ]
  },
  {
   "cell_type": "code",
   "execution_count": null,
   "id": "5ff81ca2",
   "metadata": {},
   "outputs": [],
   "source": [
    "# calculate the hypotenuse of a right-angle triangle where sides a and c are both equal to 4\n",
    "print(\"replace this and do what is said in the comment above\")"
   ]
  },
  {
   "cell_type": "markdown",
   "id": "002d1334",
   "metadata": {},
   "source": [
    "Once upon a time in Appleland, John had three apples, Mary had five apples, and Adam had six apples. They were all very happy and lived for a long time. End of story.\n",
    "\n",
    "Your task is to:\n",
    "\n",
    "* create the variables: john, mary, and adam;\n",
    "* assign values to the variables. The values must be equal to the numbers of fruit possessed by John, Mary, and Adam respectively;\n",
    "* having stored the numbers in the variables, print the variables on one line, and separate each of them with a comma;\n",
    "* now create a new variable named total_apples equal to addition of the three former variables.\n",
    "* print the value stored in total_apples to the console;\n",
    "* experiment with your code: create new variables, assign different values to them, and perform various arithmetic operations on * them (e.g., +, -, *, /, //, etc.). Try to print a string and an integer together on one line, e.g., \"Total number of apples:\" and total_apples."
   ]
  },
  {
   "cell_type": "code",
   "execution_count": null,
   "id": "3761b8f1",
   "metadata": {},
   "outputs": [],
   "source": [
    "print(\"replace this and do what is said in the text cell above\")"
   ]
  },
  {
   "cell_type": "code",
   "execution_count": null,
   "id": "55ccec6e",
   "metadata": {},
   "outputs": [],
   "source": [
    "# complete https://edube.org/learn/pe-1/lab-variables-a-simple-converter-3"
   ]
  },
  {
   "cell_type": "code",
   "execution_count": null,
   "id": "5964da64",
   "metadata": {},
   "outputs": [],
   "source": [
    "# complete https://edube.org/learn/pe-1/lab-operators-and-expressions-9"
   ]
  },
  {
   "cell_type": "markdown",
   "id": "9dcd94af",
   "metadata": {},
   "source": [
    "1. A variable is a named location reserved to store values in the memory. A variable is created or initialized automatically when you assign a value to it for the first time. (2.1.4.1)\n",
    "\n",
    "2. Each variable must have a unique name - an identifier. A legal identifier name must be a non-empty sequence of characters, must begin with the underscore(_), or a letter, and it cannot be a Python keyword. The first character may be followed by underscores, letters, and digits. Identifiers in Python are case-sensitive. (2.1.4.1)\n",
    "\n",
    "3. Python is a dynamically-typed language, which means you don't need to declare variables in it. (2.1.4.3) To assign values to variables, you can use a simple assignment operator in the form of the equal (=) sign, i.e., var = 1.\n",
    "\n",
    "4. You can also use compound assignment operators (shortcut operators) to modify values assigned to variables, e.g., var += 1, or var /= 5 * 2. (2.1.4.8)\n",
    "\n",
    "5. You can assign new values to already existing variables using the assignment operator or one of the compound operators, e.g.: (2.1.4.5)"
   ]
  },
  {
   "cell_type": "code",
   "execution_count": null,
   "id": "945fceef",
   "metadata": {},
   "outputs": [],
   "source": [
    "# string operators"
   ]
  },
  {
   "cell_type": "code",
   "execution_count": null,
   "id": "1b77a29c",
   "metadata": {},
   "outputs": [],
   "source": [
    "\"Hi\" + \"  \" + \"Dude\""
   ]
  },
  {
   "cell_type": "code",
   "execution_count": null,
   "id": "6c4b6c73",
   "metadata": {},
   "outputs": [],
   "source": [
    "\"Dude\"*5"
   ]
  },
  {
   "cell_type": "code",
   "execution_count": null,
   "id": "e5ec0e65",
   "metadata": {},
   "outputs": [],
   "source": [
    "(\"Hi\" + \"  \" + \"Dude!\" + \" \")*5"
   ]
  },
  {
   "cell_type": "code",
   "execution_count": null,
   "id": "3fd7d945",
   "metadata": {},
   "outputs": [],
   "source": [
    "(\"Hi\" + \"  \" + \"Dude!\" + \" \")*25"
   ]
  },
  {
   "cell_type": "code",
   "execution_count": null,
   "id": "82631837",
   "metadata": {},
   "outputs": [],
   "source": [
    "# shorthand operations"
   ]
  },
  {
   "cell_type": "code",
   "execution_count": null,
   "id": "410b2330",
   "metadata": {},
   "outputs": [],
   "source": [
    "x = 1\n",
    "x = x + 1\n",
    "print(x)\n",
    "\n",
    "x = 1\n",
    "x += 1\n",
    "print(x)"
   ]
  },
  {
   "cell_type": "code",
   "execution_count": null,
   "id": "eadbad8d",
   "metadata": {},
   "outputs": [],
   "source": [
    "x = 2\n",
    "x = x*5\n",
    "print(x)\n",
    "\n",
    "x = 2\n",
    "x *= 5\n",
    "print(x)"
   ]
  },
  {
   "cell_type": "code",
   "execution_count": null,
   "id": "f7372d9b",
   "metadata": {},
   "outputs": [],
   "source": []
  }
 ],
 "metadata": {
  "kernelspec": {
   "display_name": "Python 3 (ipykernel)",
   "language": "python",
   "name": "python3"
  },
  "language_info": {
   "codemirror_mode": {
    "name": "ipython",
    "version": 3
   },
   "file_extension": ".py",
   "mimetype": "text/x-python",
   "name": "python",
   "nbconvert_exporter": "python",
   "pygments_lexer": "ipython3",
   "version": "3.8.2"
  }
 },
 "nbformat": 4,
 "nbformat_minor": 5
}
