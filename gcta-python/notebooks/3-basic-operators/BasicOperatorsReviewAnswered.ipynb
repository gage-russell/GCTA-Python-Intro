{
 "cells": [
  {
   "cell_type": "code",
   "execution_count": 1,
   "id": "165c901e",
   "metadata": {},
   "outputs": [],
   "source": [
    "# In a comment below, answer 'what is the addition operator'\n",
    "# +"
   ]
  },
  {
   "cell_type": "code",
   "execution_count": 2,
   "id": "a0aada71",
   "metadata": {},
   "outputs": [],
   "source": [
    "# In a comment below, answer 'what is the subtraction operator'\n",
    "# -"
   ]
  },
  {
   "cell_type": "code",
   "execution_count": 3,
   "id": "765dea70",
   "metadata": {},
   "outputs": [],
   "source": [
    "# In a comment below, answer 'what is the multiplication operator'\n",
    "# *"
   ]
  },
  {
   "cell_type": "code",
   "execution_count": 4,
   "id": "f537be33",
   "metadata": {},
   "outputs": [],
   "source": [
    "# In a comment below, answer 'what is the division operator'\n",
    "# /"
   ]
  },
  {
   "cell_type": "code",
   "execution_count": 5,
   "id": "81969f0a",
   "metadata": {},
   "outputs": [],
   "source": [
    "# In a comment below, answer 'what is the exponential operator'\n",
    "# **"
   ]
  },
  {
   "cell_type": "code",
   "execution_count": 6,
   "id": "e1819477",
   "metadata": {},
   "outputs": [],
   "source": [
    "# In a comment below, answer 'what is the integer (floor) division operator'\n",
    "# //"
   ]
  },
  {
   "cell_type": "code",
   "execution_count": 7,
   "id": "921868ad",
   "metadata": {},
   "outputs": [],
   "source": [
    "# In a comment below, answer 'what is the difference between / and //'\n",
    "# //, the floor division operator, will always be rounded to the lesser integer"
   ]
  },
  {
   "cell_type": "code",
   "execution_count": 8,
   "id": "dc9f0427",
   "metadata": {},
   "outputs": [],
   "source": [
    "# In a comment below, answer 'what is the modulo operator'\n",
    "# %"
   ]
  },
  {
   "cell_type": "code",
   "execution_count": null,
   "id": "c75662fc",
   "metadata": {},
   "outputs": [],
   "source": [
    "# In a comment below, answer 'what data type does the division operator \"/\" always return'\n",
    "# float"
   ]
  },
  {
   "cell_type": "code",
   "execution_count": 9,
   "id": "21bb2a17",
   "metadata": {},
   "outputs": [],
   "source": [
    "# In a comment below, answer 'how many operands does a unary operator have'\n",
    "# 1"
   ]
  },
  {
   "cell_type": "code",
   "execution_count": 10,
   "id": "327e9098",
   "metadata": {},
   "outputs": [],
   "source": [
    "# In a comment below, answer 'how many operands does a binary operator have'\n",
    "# 2"
   ]
  },
  {
   "cell_type": "code",
   "execution_count": 11,
   "id": "f0a4144b",
   "metadata": {},
   "outputs": [
    {
     "name": "stdout",
     "output_type": "stream",
     "text": [
      "-1\n"
     ]
    }
   ],
   "source": [
    "# In a comment below, answer 'can the subtraction operator be used as a unary operator'\n",
    "# print an example\n",
    "# yes\n",
    "print(-1)"
   ]
  },
  {
   "cell_type": "code",
   "execution_count": 12,
   "id": "b0e597c1",
   "metadata": {},
   "outputs": [
    {
     "data": {
      "text/plain": [
       "20"
      ]
     },
     "execution_count": 12,
     "metadata": {},
     "output_type": "execute_result"
    }
   ],
   "source": [
    "# calculate 4 multiplied by 5\n",
    "4*5"
   ]
  },
  {
   "cell_type": "code",
   "execution_count": 15,
   "id": "03bee48a",
   "metadata": {},
   "outputs": [
    {
     "data": {
      "text/plain": [
       "4.0"
      ]
     },
     "execution_count": 15,
     "metadata": {},
     "output_type": "execute_result"
    }
   ],
   "source": [
    "# calculate 20 divided by 5\n",
    "20/5"
   ]
  },
  {
   "cell_type": "code",
   "execution_count": 16,
   "id": "964c726b",
   "metadata": {},
   "outputs": [
    {
     "data": {
      "text/plain": [
       "3"
      ]
     },
     "execution_count": 16,
     "metadata": {},
     "output_type": "execute_result"
    }
   ],
   "source": [
    "# calculate 20 divided by 6 rounded down to the nearest integer\n",
    "20 // 6"
   ]
  },
  {
   "cell_type": "code",
   "execution_count": 17,
   "id": "1ee4ddf7",
   "metadata": {},
   "outputs": [
    {
     "data": {
      "text/plain": [
       "16384"
      ]
     },
     "execution_count": 17,
     "metadata": {},
     "output_type": "execute_result"
    }
   ],
   "source": [
    "# calculate 4 raised to the power of 7\n",
    "4 ** 7"
   ]
  },
  {
   "cell_type": "code",
   "execution_count": null,
   "id": "a061a838",
   "metadata": {},
   "outputs": [],
   "source": []
  }
 ],
 "metadata": {
  "kernelspec": {
   "display_name": "Python 3",
   "language": "python",
   "name": "python3"
  },
  "language_info": {
   "codemirror_mode": {
    "name": "ipython",
    "version": 3
   },
   "file_extension": ".py",
   "mimetype": "text/x-python",
   "name": "python",
   "nbconvert_exporter": "python",
   "pygments_lexer": "ipython3",
   "version": "3.8.2"
  }
 },
 "nbformat": 4,
 "nbformat_minor": 5
}
