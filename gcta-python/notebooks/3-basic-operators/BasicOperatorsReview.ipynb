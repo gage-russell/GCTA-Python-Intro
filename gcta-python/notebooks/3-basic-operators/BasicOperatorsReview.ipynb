{
 "cells": [
  {
   "cell_type": "code",
   "execution_count": null,
   "id": "165c901e",
   "metadata": {},
   "outputs": [],
   "source": [
    "# In a comment below, answer 'what is the addition operator'\n"
   ]
  },
  {
   "cell_type": "code",
   "execution_count": null,
   "id": "a0aada71",
   "metadata": {},
   "outputs": [],
   "source": [
    "# In a comment below, answer 'what is the subtraction operator'\n"
   ]
  },
  {
   "cell_type": "code",
   "execution_count": null,
   "id": "765dea70",
   "metadata": {},
   "outputs": [],
   "source": [
    "# In a comment below, answer 'what is the multiplication operator'\n"
   ]
  },
  {
   "cell_type": "code",
   "execution_count": null,
   "id": "f537be33",
   "metadata": {},
   "outputs": [],
   "source": [
    "# In a comment below, answer 'what is the division operator'\n"
   ]
  },
  {
   "cell_type": "code",
   "execution_count": null,
   "id": "81969f0a",
   "metadata": {},
   "outputs": [],
   "source": [
    "# In a comment below, answer 'what is the exponential operator'\n"
   ]
  },
  {
   "cell_type": "code",
   "execution_count": null,
   "id": "e1819477",
   "metadata": {},
   "outputs": [],
   "source": [
    "# In a comment below, answer 'what is the integer (floor) division operator'\n"
   ]
  },
  {
   "cell_type": "code",
   "execution_count": null,
   "id": "921868ad",
   "metadata": {},
   "outputs": [],
   "source": [
    "# In a comment below, answer 'what is the difference between / and //'\n"
   ]
  },
  {
   "cell_type": "code",
   "execution_count": null,
   "id": "dc9f0427",
   "metadata": {},
   "outputs": [],
   "source": [
    "# In a comment below, answer 'what is the modulo operator'\n"
   ]
  },
  {
   "cell_type": "code",
   "execution_count": null,
   "id": "c75662fc",
   "metadata": {},
   "outputs": [],
   "source": [
    "# In a comment below, answer 'what data type does the division operator \"/\" always return'\n"
   ]
  },
  {
   "cell_type": "code",
   "execution_count": null,
   "id": "21bb2a17",
   "metadata": {},
   "outputs": [],
   "source": [
    "# In a comment below, answer 'how many operands does a unary operator have'\n"
   ]
  },
  {
   "cell_type": "code",
   "execution_count": null,
   "id": "327e9098",
   "metadata": {},
   "outputs": [],
   "source": [
    "# In a comment below, answer 'how many operands does a binary operator have'\n"
   ]
  },
  {
   "cell_type": "code",
   "execution_count": null,
   "id": "f0a4144b",
   "metadata": {},
   "outputs": [],
   "source": [
    "# In a comment below, answer 'can the subtraction operator be used as a unary operator'\n",
    "# print an example\n"
   ]
  },
  {
   "cell_type": "code",
   "execution_count": null,
   "id": "b0e597c1",
   "metadata": {},
   "outputs": [],
   "source": [
    "# calculate 4 multiplied by 5\n"
   ]
  },
  {
   "cell_type": "code",
   "execution_count": null,
   "id": "03bee48a",
   "metadata": {},
   "outputs": [],
   "source": [
    "# calculate 20 divided by 5\n"
   ]
  },
  {
   "cell_type": "code",
   "execution_count": null,
   "id": "964c726b",
   "metadata": {},
   "outputs": [],
   "source": [
    "# calculate 20 divided by 6 rounded down to the nearest integer\n"
   ]
  },
  {
   "cell_type": "code",
   "execution_count": null,
   "id": "1ee4ddf7",
   "metadata": {},
   "outputs": [],
   "source": [
    "# calculate 4 raised to the power of 7\n"
   ]
  },
  {
   "cell_type": "code",
   "execution_count": null,
   "id": "a061a838",
   "metadata": {},
   "outputs": [],
   "source": []
  }
 ],
 "metadata": {
  "kernelspec": {
   "display_name": "Python 3",
   "language": "python",
   "name": "python3"
  },
  "language_info": {
   "codemirror_mode": {
    "name": "ipython",
    "version": 3
   },
   "file_extension": ".py",
   "mimetype": "text/x-python",
   "name": "python",
   "nbconvert_exporter": "python",
   "pygments_lexer": "ipython3",
   "version": "3.8.2"
  }
 },
 "nbformat": 4,
 "nbformat_minor": 5
}
