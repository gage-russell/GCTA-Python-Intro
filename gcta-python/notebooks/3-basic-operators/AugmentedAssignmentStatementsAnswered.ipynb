{
 "cells": [
  {
   "cell_type": "markdown",
   "id": "1bad11fc",
   "metadata": {},
   "source": [
    "**Assignment Statements** AKA: shortcut operators; shorthand operators; assignment operators; just, operators...\n",
    "\n",
    "see: [https://docs.python.org/3/reference/simple_stmts.html#assignment-statements](https://docs.python.org/3/reference/simple_stmts.html#assignment-statements)"
   ]
  },
  {
   "cell_type": "code",
   "execution_count": null,
   "id": "c582a155",
   "metadata": {},
   "outputs": [],
   "source": [
    "# Comment the seven types of assignment statements we have covered in class.\n",
    "# Hint: there are assignment statements associated with each arethmetic operation.\n",
    "\n",
    "# += -= *= /= //= **= %="
   ]
  },
  {
   "cell_type": "code",
   "execution_count": null,
   "id": "fe536413",
   "metadata": {},
   "outputs": [],
   "source": [
    "# Use assignment statements to shorten the statements:\n",
    "# x = x - 2\n",
    "# x = x + 4\n",
    "\n",
    "# x -= 2\n",
    "# x += 4"
   ]
  },
  {
   "cell_type": "code",
   "execution_count": null,
   "id": "82de8db7",
   "metadata": {},
   "outputs": [],
   "source": [
    "# Use assignment statements to shorten the statements:\n",
    "# calculate = calculate / 7\n",
    "# calculate = calculate // 3\n",
    "\n",
    "# calculate /= 7\n",
    "# calculate //= 3"
   ]
  },
  {
   "cell_type": "code",
   "execution_count": null,
   "id": "d9fb038e",
   "metadata": {},
   "outputs": [],
   "source": [
    "# Use assignment statements to shorten the statements:\n",
    "# oh = oh * 7\n",
    "# my = my ** 3\n",
    "# z = z % 12\n",
    "\n",
    "# oh *= 7\n",
    "# my **= 3\n",
    "# z %= 12"
   ]
  },
  {
   "cell_type": "code",
   "execution_count": null,
   "id": "08945807",
   "metadata": {},
   "outputs": [],
   "source": [
    "# Comment the seven types of assignment statements we have covered in class.\n",
    "\n",
    "# += -= *= /= //= **= %="
   ]
  }
 ],
 "metadata": {
  "kernelspec": {
   "display_name": "Python 3 (ipykernel)",
   "language": "python",
   "name": "python3"
  },
  "language_info": {
   "codemirror_mode": {
    "name": "ipython",
    "version": 3
   },
   "file_extension": ".py",
   "mimetype": "text/x-python",
   "name": "python",
   "nbconvert_exporter": "python",
   "pygments_lexer": "ipython3",
   "version": "3.10.2"
  }
 },
 "nbformat": 4,
 "nbformat_minor": 5
}
