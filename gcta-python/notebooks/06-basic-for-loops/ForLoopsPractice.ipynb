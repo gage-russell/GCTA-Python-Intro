{
 "cells": [
  {
   "cell_type": "markdown",
   "id": "ebf6c36a",
   "metadata": {},
   "source": [
    "# These are practice problems for For Loops\n",
    "## Please work out all problems on paper and use jupyter notebook only to check your answers"
   ]
  },
  {
   "cell_type": "code",
   "execution_count": null,
   "id": "f8554bcd",
   "metadata": {},
   "outputs": [],
   "source": [
    "\"\"\"\n",
    "Below is a template that should be followed for solving for loops\n",
    "\n",
    "-- replace the variable names and modify the number of iterations as needed\n",
    "\n",
    "-- write out the entire template for each iteration and all variable name before filling in any values\n",
    "\"\"\"\n",
    "\n",
    "\"\"\"\n",
    "Q: How many iterations will there be?\n",
    "\n",
    "Q: What variables do I need to track as I iterate? -- what variables are changing within the loop?\n",
    "\n",
    "ITERATION 1:\n",
    "    Variables:\n",
    "        \n",
    "        foo: fill_me_in\n",
    "        \n",
    "        bar: fill_me_in\n",
    "        \n",
    "        baz: fill_me_in\n",
    "        \n",
    "        ...\n",
    "        \n",
    "ITERATION 2:\n",
    "    Variables:\n",
    "        \n",
    "        foo: fill_me_in\n",
    "        \n",
    "        bar: fill_me_in\n",
    "        \n",
    "        baz: fill_me_in\n",
    "        \n",
    "        ...\n",
    "        \n",
    "ITERATION 3:\n",
    "    Variables:\n",
    "        \n",
    "        foo: fill_me_in\n",
    "        \n",
    "        bar: fill_me_in\n",
    "        \n",
    "        baz: fill_me_in\n",
    "        \n",
    "        ...\n",
    "        \n",
    "ITERATION ......:\n",
    "\n",
    "...\n",
    "...\n",
    "...\n",
    "\n",
    "---------------------------\n",
    "write out any logic executed after the loop\n",
    "\n",
    "\"\"\""
   ]
  },
  {
   "cell_type": "code",
   "execution_count": null,
   "id": "a4382c64",
   "metadata": {},
   "outputs": [],
   "source": [
    "my_list = [1,2,3]\n",
    "\n",
    "my_new_list = []\n",
    "\n",
    "for num in my_list:\n",
    "    \n",
    "    num_sqd = num**2\n",
    "    \n",
    "    my_new_list.append(num_sqd)\n",
    "    \n",
    "print(my_new_list)"
   ]
  },
  {
   "cell_type": "code",
   "execution_count": null,
   "id": "717d5e76",
   "metadata": {},
   "outputs": [],
   "source": [
    "\"\"\"\n",
    "answer here\n",
    "\"\"\""
   ]
  },
  {
   "cell_type": "code",
   "execution_count": null,
   "id": "dee693fb",
   "metadata": {},
   "outputs": [],
   "source": [
    "my_list = ['hank', 'sally', 'phil']\n",
    "\n",
    "my_new_list = []\n",
    "\n",
    "for name in my_list:\n",
    "    \n",
    "    my_letter = name[0]\n",
    "    \n",
    "    my_new_list.append(my_letter)\n",
    "    \n",
    "print(my_new_list)"
   ]
  },
  {
   "cell_type": "code",
   "execution_count": null,
   "id": "67b5bb66",
   "metadata": {},
   "outputs": [],
   "source": [
    "\"\"\"\n",
    "answer here\n",
    "\"\"\""
   ]
  },
  {
   "cell_type": "code",
   "execution_count": null,
   "id": "decc3535",
   "metadata": {},
   "outputs": [],
   "source": [
    "my_list = ['hank', 'sally', 'phil']\n",
    "\n",
    "my_new_list = []\n",
    "\n",
    "i = 0\n",
    "\n",
    "for name in my_list:\n",
    "    \n",
    "    my_letter = name[i]\n",
    "    \n",
    "    my_new_list.append(my_letter)\n",
    "    \n",
    "    i += 1\n",
    "    # i = i + 1\n",
    "    \n",
    "print(my_new_list)"
   ]
  },
  {
   "cell_type": "code",
   "execution_count": null,
   "id": "351d6555",
   "metadata": {},
   "outputs": [],
   "source": [
    "\"\"\"\n",
    "answer here\n",
    "\"\"\""
   ]
  },
  {
   "cell_type": "code",
   "execution_count": null,
   "id": "21f19b43",
   "metadata": {},
   "outputs": [],
   "source": [
    "my_list = [5,10,15]\n",
    "\n",
    "for val in my_list:\n",
    "    \n",
    "    print(val)"
   ]
  },
  {
   "cell_type": "code",
   "execution_count": null,
   "id": "2afaa3a5",
   "metadata": {},
   "outputs": [],
   "source": [
    "\"\"\"\n",
    "answer here\n",
    "\"\"\""
   ]
  },
  {
   "cell_type": "code",
   "execution_count": null,
   "id": "86e9f2fa",
   "metadata": {},
   "outputs": [],
   "source": [
    "my_list = [5,10,15]\n",
    "\n",
    "for val in my_list:\n",
    "    \n",
    "    print(val*2)"
   ]
  },
  {
   "cell_type": "code",
   "execution_count": null,
   "id": "f32b8a8b",
   "metadata": {},
   "outputs": [],
   "source": [
    "\"\"\"\n",
    "answer here\n",
    "\"\"\""
   ]
  },
  {
   "cell_type": "code",
   "execution_count": null,
   "id": "8a2dba42",
   "metadata": {},
   "outputs": [],
   "source": [
    "my_list = [5,10,15]\n",
    "my_other_list = ['a', 'b', 'c']\n",
    "\n",
    "my_dictionary = {}\n",
    "\n",
    "iter_count = len(my_list)\n",
    "\n",
    "for i in range(iter_count):\n",
    "    \n",
    "    my_dictionary[my_other_list[i]] = my_list[i]\n",
    "    \n",
    "print(my_dictionary)"
   ]
  },
  {
   "cell_type": "code",
   "execution_count": null,
   "id": "d3fc9623",
   "metadata": {},
   "outputs": [],
   "source": [
    "\"\"\"\n",
    "answer here\n",
    "\"\"\""
   ]
  }
 ],
 "metadata": {
  "kernelspec": {
   "display_name": "Python 3 (ipykernel)",
   "language": "python",
   "name": "python3"
  },
  "language_info": {
   "codemirror_mode": {
    "name": "ipython",
    "version": 3
   },
   "file_extension": ".py",
   "mimetype": "text/x-python",
   "name": "python",
   "nbconvert_exporter": "python",
   "pygments_lexer": "ipython3",
   "version": "3.8.2"
  }
 },
 "nbformat": 4,
 "nbformat_minor": 5
}
