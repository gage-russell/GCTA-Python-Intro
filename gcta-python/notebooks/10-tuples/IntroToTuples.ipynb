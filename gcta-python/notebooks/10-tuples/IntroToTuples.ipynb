{
 "cells": [
  {
   "cell_type": "markdown",
   "id": "fb271eba",
   "metadata": {},
   "source": [
    "There are four collection data types in the Python programming language:\n",
    "\n",
    "List is a collection which is ordered and changeable. Allows duplicate members.\n",
    "\n",
    "Tuple is a collection which is ordered and unchangeable. Allows duplicate members.\n",
    "\n",
    "Set is a collection which is unordered and unindexed. No duplicate members.\n",
    "\n",
    "Dictionary is a collection which is ordered* and changeable. No duplicate members."
   ]
  },
  {
   "cell_type": "code",
   "execution_count": null,
   "id": "9a571c4e",
   "metadata": {},
   "outputs": [],
   "source": [
    "# Tuples are immuteable - meaning they are unchangeable"
   ]
  },
  {
   "cell_type": "code",
   "execution_count": null,
   "id": "ac64fd29",
   "metadata": {},
   "outputs": [],
   "source": [
    "# tuples are defined using parenthesis\n",
    "\n",
    "my_tuple = (1,2,3)\n",
    "\n",
    "print(my_tuple)"
   ]
  },
  {
   "cell_type": "code",
   "execution_count": null,
   "id": "200bc9f2",
   "metadata": {},
   "outputs": [],
   "source": [
    "my_tuple = (1,2,3)\n",
    "\n",
    "for i in my_tuple:\n",
    "    print(i)"
   ]
  },
  {
   "cell_type": "code",
   "execution_count": null,
   "id": "21ce486f",
   "metadata": {},
   "outputs": [],
   "source": [
    "# tuple are immutable so the code below should produce an type error\n",
    "\n",
    "my_tuple = ('a', 2, 'c')\n",
    "\n",
    "my_tuple[2] = 'b'"
   ]
  },
  {
   "cell_type": "code",
   "execution_count": null,
   "id": "73e6e592",
   "metadata": {},
   "outputs": [],
   "source": []
  }
 ],
 "metadata": {
  "kernelspec": {
   "display_name": "Python 3 (ipykernel)",
   "language": "python",
   "name": "python3"
  },
  "language_info": {
   "codemirror_mode": {
    "name": "ipython",
    "version": 3
   },
   "file_extension": ".py",
   "mimetype": "text/x-python",
   "name": "python",
   "nbconvert_exporter": "python",
   "pygments_lexer": "ipython3",
   "version": "3.8.9"
  }
 },
 "nbformat": 4,
 "nbformat_minor": 5
}
