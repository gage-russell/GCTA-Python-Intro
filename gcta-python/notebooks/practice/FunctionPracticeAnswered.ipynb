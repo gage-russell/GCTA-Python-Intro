{
 "cells": [
  {
   "cell_type": "code",
   "execution_count": 1,
   "id": "c8e03516",
   "metadata": {},
   "outputs": [
    {
     "name": "stdout",
     "output_type": "stream",
     "text": [
      "True\n"
     ]
    }
   ],
   "source": [
    "def my_function(x):\n",
    "    return x*2\n",
    "\n",
    "y = my_function(2)\n",
    "\n",
    "# create a variable z below such that this cell prints True\n",
    "z = 4\n",
    "\n",
    "print(y == z)"
   ]
  },
  {
   "cell_type": "code",
   "execution_count": 2,
   "id": "5c9ad77a",
   "metadata": {},
   "outputs": [
    {
     "name": "stdout",
     "output_type": "stream",
     "text": [
      "True\n"
     ]
    }
   ],
   "source": [
    "def my_function(x):\n",
    "    output = x*2\n",
    "    return output\n",
    "\n",
    "y = my_function(8)\n",
    "\n",
    "# create a variable z below such that this cell prints True\n",
    "z = 16\n",
    "\n",
    "print(y == z)"
   ]
  },
  {
   "cell_type": "code",
   "execution_count": 3,
   "id": "18f052e3",
   "metadata": {},
   "outputs": [
    {
     "name": "stdout",
     "output_type": "stream",
     "text": [
      "True\n"
     ]
    }
   ],
   "source": [
    "def my_function(x):\n",
    "    output = x*2\n",
    "    return output\n",
    "\n",
    "y = 0\n",
    "for i in range(3):\n",
    "    y += my_function(i)\n",
    "\n",
    "# create a variable z below such that this cell prints True\n",
    "z = 6\n",
    "\n",
    "print(y == z)"
   ]
  },
  {
   "cell_type": "code",
   "execution_count": 4,
   "id": "53b9b239",
   "metadata": {},
   "outputs": [
    {
     "name": "stdout",
     "output_type": "stream",
     "text": [
      "True\n"
     ]
    }
   ],
   "source": [
    "def my_function(x, y):\n",
    "    return x+y\n",
    "\n",
    "foo = my_function(3, 17)\n",
    "\n",
    "# create a variable z below such that this cell prints True\n",
    "z = 20\n",
    "\n",
    "print(foo == z)"
   ]
  },
  {
   "cell_type": "code",
   "execution_count": 5,
   "id": "03d33c5e",
   "metadata": {},
   "outputs": [
    {
     "name": "stdout",
     "output_type": "stream",
     "text": [
      "True\n"
     ]
    }
   ],
   "source": [
    "def my_function(x, y, z):\n",
    "    return x+y, x+z\n",
    "\n",
    "foo, bar = my_function(3, 2, 4)\n",
    "\n",
    "# create a variable z below such that this cell prints True\n",
    "z = 5\n",
    "\n",
    "print(foo == z)"
   ]
  },
  {
   "cell_type": "code",
   "execution_count": 6,
   "id": "1eba34fc",
   "metadata": {},
   "outputs": [
    {
     "name": "stdout",
     "output_type": "stream",
     "text": [
      "True\n"
     ]
    }
   ],
   "source": [
    "def my_function(x, y, z):\n",
    "    return x+y, x+z\n",
    "\n",
    "foo, bar = my_function(3, 2, 4)\n",
    "\n",
    "# create a variable z below such that this cell prints True\n",
    "z = 7\n",
    "\n",
    "print(bar == z)"
   ]
  },
  {
   "cell_type": "code",
   "execution_count": 7,
   "id": "3efc5d49",
   "metadata": {},
   "outputs": [
    {
     "name": "stdout",
     "output_type": "stream",
     "text": [
      "True\n"
     ]
    }
   ],
   "source": [
    "def my_function(x, y):\n",
    "    if x:\n",
    "        return y*2\n",
    "    else:\n",
    "        return y**2\n",
    "\n",
    "foo = my_function(True, 3)\n",
    "\n",
    "# create a variable z below such that this cell prints True\n",
    "z = 6\n",
    "\n",
    "print(foo == z)"
   ]
  },
  {
   "cell_type": "code",
   "execution_count": 8,
   "id": "137ca373",
   "metadata": {},
   "outputs": [
    {
     "name": "stdout",
     "output_type": "stream",
     "text": [
      "True\n"
     ]
    }
   ],
   "source": [
    "def my_function(x, y):\n",
    "    if x:\n",
    "        return y*2\n",
    "    else:\n",
    "        return y**2\n",
    "\n",
    "foo = my_function(False, 3)\n",
    "\n",
    "# create a variable z below such that this cell prints True\n",
    "z = 9\n",
    "\n",
    "print(foo == z)"
   ]
  },
  {
   "cell_type": "code",
   "execution_count": 9,
   "id": "54d9f612",
   "metadata": {},
   "outputs": [
    {
     "name": "stdout",
     "output_type": "stream",
     "text": [
      "True\n"
     ]
    }
   ],
   "source": [
    "def my_function(x):\n",
    "    if x >= 1 and x < 3:\n",
    "        return x*2\n",
    "    elif x >= 3 and x < 9:\n",
    "        return x*3\n",
    "    else:\n",
    "        return x**2\n",
    "\n",
    "foo = my_function(3)\n",
    "\n",
    "# create a variable z below such that this cell prints True\n",
    "z = 9\n",
    "\n",
    "print(foo == z)"
   ]
  },
  {
   "cell_type": "code",
   "execution_count": 10,
   "id": "bbd77468",
   "metadata": {},
   "outputs": [
    {
     "name": "stdout",
     "output_type": "stream",
     "text": [
      "True\n"
     ]
    }
   ],
   "source": [
    "def my_function(x):\n",
    "    if x >= 1 and x < 3:\n",
    "        return x*2\n",
    "    elif x >= 3 and x < 9:\n",
    "        return x*3\n",
    "    else:\n",
    "        return x**2\n",
    "\n",
    "foo = my_function(2)\n",
    "\n",
    "# create a variable z below such that this cell prints True\n",
    "z = 4\n",
    "\n",
    "print(foo == z)"
   ]
  },
  {
   "cell_type": "code",
   "execution_count": 11,
   "id": "31e82e0d",
   "metadata": {},
   "outputs": [
    {
     "name": "stdout",
     "output_type": "stream",
     "text": [
      "True\n"
     ]
    }
   ],
   "source": [
    "def my_function(x):\n",
    "    if x >= 1 and x < 3:\n",
    "        return x*2\n",
    "    elif x >= 3 and x < 9:\n",
    "        return x*3\n",
    "    else:\n",
    "        return x+2\n",
    "\n",
    "foo = my_function(0)\n",
    "\n",
    "# create a variable z below such that this cell prints True\n",
    "z = 2\n",
    "\n",
    "print(foo == z)"
   ]
  },
  {
   "cell_type": "code",
   "execution_count": 12,
   "id": "48d72201",
   "metadata": {},
   "outputs": [
    {
     "name": "stdout",
     "output_type": "stream",
     "text": [
      "True\n"
     ]
    }
   ],
   "source": [
    "def my_function(x):\n",
    "    output = 0\n",
    "    for i in x:\n",
    "        output += i\n",
    "        \n",
    "    return output\n",
    "\n",
    "my_list = [3,4,10]\n",
    "foo = my_function(my_list)\n",
    "\n",
    "# create a variable z below such that this cell prints True\n",
    "z = 17\n",
    "\n",
    "print(foo == z)"
   ]
  },
  {
   "cell_type": "code",
   "execution_count": 13,
   "id": "fcc95aef",
   "metadata": {},
   "outputs": [
    {
     "name": "stdout",
     "output_type": "stream",
     "text": [
      "True\n"
     ]
    }
   ],
   "source": [
    "def my_function(x):\n",
    "    output = 0\n",
    "    for i in x:\n",
    "        output += i\n",
    "        \n",
    "    return output\n",
    "\n",
    "foo = my_function([4,6,10])\n",
    "\n",
    "# create a variable z below such that this cell prints True\n",
    "z = 20\n",
    "\n",
    "print(foo == z)"
   ]
  },
  {
   "cell_type": "code",
   "execution_count": 14,
   "id": "40c1b93f",
   "metadata": {},
   "outputs": [
    {
     "name": "stdout",
     "output_type": "stream",
     "text": [
      "True\n"
     ]
    }
   ],
   "source": [
    "def my_function(x):\n",
    "    output = 0\n",
    "    for i in x:\n",
    "        output += i['a']\n",
    "        \n",
    "    return output\n",
    "\n",
    "my_list_of_dict = [{'a': 3}, {'a': 9}]\n",
    "foo = my_function(my_list_of_dict)\n",
    "\n",
    "# create a variable z below such that this cell prints True\n",
    "z = 12\n",
    "\n",
    "print(foo == z)"
   ]
  },
  {
   "cell_type": "code",
   "execution_count": 15,
   "id": "13386b31",
   "metadata": {},
   "outputs": [
    {
     "name": "stdout",
     "output_type": "stream",
     "text": [
      "True\n"
     ]
    }
   ],
   "source": [
    "def my_function(x):\n",
    "    output = 0\n",
    "    for i in range(len(x)):\n",
    "        output += x[i]['a']\n",
    "        \n",
    "    return output\n",
    "\n",
    "my_list_of_dict = [{'a': 7}, {'a': 20}]\n",
    "foo = my_function(my_list_of_dict)\n",
    "\n",
    "# create a variable z below such that this cell prints True\n",
    "z = 27\n",
    "\n",
    "print(foo == z)"
   ]
  },
  {
   "cell_type": "code",
   "execution_count": 16,
   "id": "074f9cec",
   "metadata": {},
   "outputs": [
    {
     "name": "stdout",
     "output_type": "stream",
     "text": [
      "True\n"
     ]
    }
   ],
   "source": [
    "def my_function(x):\n",
    "    output = []\n",
    "    for i in x:\n",
    "        avg = sum(i)/len(i)\n",
    "        output.append(avg)\n",
    "        \n",
    "    return output\n",
    "\n",
    "my_list_of_list = [[9,10,2], [4,5,6]]\n",
    "foo = my_function(my_list_of_list)\n",
    "\n",
    "# create a variable z below such that this cell prints True\n",
    "z = [7, 5]\n",
    "\n",
    "print(foo == z)"
   ]
  },
  {
   "cell_type": "code",
   "execution_count": 17,
   "id": "01ae78f6",
   "metadata": {},
   "outputs": [
    {
     "name": "stdout",
     "output_type": "stream",
     "text": [
      "True\n"
     ]
    }
   ],
   "source": [
    "def my_function(x):\n",
    "    output = [sum(i)/len(i) for i in x]\n",
    "    return output\n",
    "\n",
    "my_list_of_list = [[2,2,2], [4,5,9]]\n",
    "foo = my_function(my_list_of_list)\n",
    "\n",
    "# create a variable z below such that this cell prints True\n",
    "z = [2, 6]\n",
    "\n",
    "print(foo == z)"
   ]
  },
  {
   "cell_type": "code",
   "execution_count": null,
   "id": "135fb2b5",
   "metadata": {},
   "outputs": [],
   "source": []
  }
 ],
 "metadata": {
  "kernelspec": {
   "display_name": "Python 3 (ipykernel)",
   "language": "python",
   "name": "python3"
  },
  "language_info": {
   "codemirror_mode": {
    "name": "ipython",
    "version": 3
   },
   "file_extension": ".py",
   "mimetype": "text/x-python",
   "name": "python",
   "nbconvert_exporter": "python",
   "pygments_lexer": "ipython3",
   "version": "3.8.9"
  }
 },
 "nbformat": 4,
 "nbformat_minor": 5
}
