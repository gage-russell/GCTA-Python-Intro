{
 "cells": [
  {
   "cell_type": "code",
   "execution_count": null,
   "id": "5e6b06ca",
   "metadata": {},
   "outputs": [],
   "source": [
    "# UNLESS INSTRUCTED TO, DO NOT USE A BLANKET/DEFAULT EXCEPT STATEMENT"
   ]
  },
  {
   "cell_type": "code",
   "execution_count": null,
   "id": "42f047b5",
   "metadata": {},
   "outputs": [],
   "source": [
    "# READ THE ERROR MESSAGE\n",
    "\n",
    "x = 1/0"
   ]
  },
  {
   "cell_type": "code",
   "execution_count": null,
   "id": "ae8346bf",
   "metadata": {},
   "outputs": [],
   "source": [
    "# READ THE ERROR MESSAGE\n",
    "\n",
    "x = int('a')"
   ]
  },
  {
   "cell_type": "code",
   "execution_count": null,
   "id": "92fb5c3d",
   "metadata": {},
   "outputs": [],
   "source": [
    "# READ THE ERROR MESSAGE\n",
    "\n",
    "for i in range(3)\n",
    "    print(i)"
   ]
  },
  {
   "cell_type": "code",
   "execution_count": null,
   "id": "1bd12d3f",
   "metadata": {},
   "outputs": [],
   "source": [
    "# READ THE ERROR MESSAGE\n",
    "\n",
    "x = ['a', 'b']\n",
    "x.appends('c')"
   ]
  },
  {
   "cell_type": "code",
   "execution_count": null,
   "id": "965b66d1",
   "metadata": {},
   "outputs": [],
   "source": [
    "# READ THE ERROR MESSAGE\n",
    "\n",
    "x = 'a' + 2"
   ]
  },
  {
   "cell_type": "code",
   "execution_count": null,
   "id": "4c7f73cb",
   "metadata": {},
   "outputs": [],
   "source": [
    "# READ THE ERROR MESSAGE\n",
    "\n",
    "x = '2' + 2"
   ]
  },
  {
   "cell_type": "code",
   "execution_count": null,
   "id": "f607a0cb",
   "metadata": {},
   "outputs": [],
   "source": [
    "# wrap the code below into a try/except statement \n",
    "# which prints 'nice try' if an exception occurs\n",
    "# (you can run the cell as-is to figure out what exception type you need to handle)\n",
    "\n",
    "x = int('a')\n"
   ]
  },
  {
   "cell_type": "code",
   "execution_count": null,
   "id": "9e36e03e",
   "metadata": {},
   "outputs": [],
   "source": [
    "# wrap the code below into a try/except statement \n",
    "# which prints 'nice try' if an exception occurs\n",
    "# (you can run the cell as-is to figure out what exception type you need to handle)\n",
    "\n",
    "x = 2/0"
   ]
  },
  {
   "cell_type": "code",
   "execution_count": null,
   "id": "5b9aef7d",
   "metadata": {},
   "outputs": [],
   "source": [
    "# wrap the code below into a try/except statement \n",
    "# which prints 'nice try' if an exception occurs\n",
    "# (you can run the cell as-is to figure out what exception type you need to handle)\n",
    "\n",
    "x = [1,2,3]\n",
    "x.appends(4)\n"
   ]
  },
  {
   "cell_type": "code",
   "execution_count": null,
   "id": "d378a615",
   "metadata": {},
   "outputs": [],
   "source": [
    "# wrap the code below into a try/except statement \n",
    "# which prints 'nice try' if an exception occurs\n",
    "# (you can run the cell as-is to figure out what exception type you need to handle)\n",
    "\n",
    "x = 'a' + 2"
   ]
  },
  {
   "cell_type": "code",
   "execution_count": null,
   "id": "050a5ce0",
   "metadata": {},
   "outputs": [],
   "source": [
    "# wrap the code below into a try/except statement \n",
    "# which prints 'nice try' if an exception occurs\n",
    "# (you can run the cell as-is to figure out what exception type you need to handle)\n",
    "\n",
    "x = '2' + 2"
   ]
  },
  {
   "cell_type": "code",
   "execution_count": null,
   "id": "879d6f23",
   "metadata": {},
   "outputs": [],
   "source": [
    "try:\n",
    "    x = ['a', 'b', 'c']\n",
    "    for i in x:\n",
    "        y = i + 3\n",
    "except AttributeError:\n",
    "    y = 1\n",
    "except TypeError:\n",
    "    y = 2\n",
    "except ValueError:\n",
    "    y = 3\n",
    "except:\n",
    "    y = 4\n",
    "    \n",
    "# create a variable foo such that the this cell prints True\n",
    "\n",
    "\n",
    "print(y == foo)"
   ]
  },
  {
   "cell_type": "code",
   "execution_count": null,
   "id": "3f3b426a",
   "metadata": {},
   "outputs": [],
   "source": [
    "try:\n",
    "    x = ['a', 'b', 'c']\n",
    "    for i in x:\n",
    "        y = i + str(3)\n",
    "except AttributeError:\n",
    "    y = 1\n",
    "except TypeError:\n",
    "    y = 2\n",
    "except ValueError:\n",
    "    y = 3\n",
    "except:\n",
    "    y = 4\n",
    "    \n",
    "# create a variable foo such that the this cell prints True\n",
    "\n",
    "\n",
    "print(y == foo)"
   ]
  },
  {
   "cell_type": "code",
   "execution_count": null,
   "id": "f8aa11af",
   "metadata": {},
   "outputs": [],
   "source": [
    "try:\n",
    "    for i in range(3):\n",
    "        y = 0/i\n",
    "except AttributeError:\n",
    "    y = 1\n",
    "except TypeError:\n",
    "    y = 2\n",
    "except ValueError:\n",
    "    y = 3\n",
    "except ZeroDivisionError:\n",
    "    y = 4\n",
    "except:\n",
    "    y = 5\n",
    "    \n",
    "# create a variable foo such that the this cell prints True\n",
    "\n",
    "\n",
    "print(y == foo)"
   ]
  },
  {
   "cell_type": "code",
   "execution_count": null,
   "id": "4fd3ccfa",
   "metadata": {},
   "outputs": [],
   "source": [
    "try:\n",
    "    for i in range(3):\n",
    "        y = 0 / i + 1\n",
    "except AttributeError:\n",
    "    y = 1\n",
    "except TypeError:\n",
    "    y = 2\n",
    "except ValueError:\n",
    "    y = 3\n",
    "except ZeroDivisionError:\n",
    "    y = 4\n",
    "except:\n",
    "    y = 5\n",
    "    \n",
    "# create a variable foo such that the this cell prints True\n",
    "\n",
    "\n",
    "print(y == foo)"
   ]
  },
  {
   "cell_type": "code",
   "execution_count": null,
   "id": "63929ffc",
   "metadata": {},
   "outputs": [],
   "source": [
    "try:\n",
    "    for i in range(3):\n",
    "        y = 0/ (i+1)\n",
    "except AttributeError:\n",
    "    y = 1\n",
    "except TypeError:\n",
    "    y = 2\n",
    "except ValueError:\n",
    "    y = 3\n",
    "except ZeroDivisionError:\n",
    "    y = 4\n",
    "except:\n",
    "    y = 5\n",
    "    \n",
    "# create a variable foo such that the this cell prints True\n",
    "\n",
    "\n",
    "print(y == foo)"
   ]
  },
  {
   "cell_type": "code",
   "execution_count": null,
   "id": "9f15607d",
   "metadata": {},
   "outputs": [],
   "source": [
    "try:\n",
    "    for i in range(3):\n",
    "        if 2%i:\n",
    "            y = 0\n",
    "except AttributeError:\n",
    "    y = 1\n",
    "except TypeError:\n",
    "    y = 2\n",
    "except ValueError:\n",
    "    y = 3\n",
    "except ZeroDivisionError:\n",
    "    y = 4\n",
    "except:\n",
    "    y = 5\n",
    "    \n",
    "# create a variable foo such that the this cell prints True\n",
    "\n",
    "\n",
    "print(y == foo)"
   ]
  },
  {
   "cell_type": "code",
   "execution_count": null,
   "id": "317d91cb",
   "metadata": {},
   "outputs": [],
   "source": [
    "try:\n",
    "    y = 5 // 0\n",
    "except AttributeError:\n",
    "    y = 1\n",
    "except TypeError:\n",
    "    y = 2\n",
    "except ValueError:\n",
    "    y = 3\n",
    "except ZeroDivisionError:\n",
    "    y = 4\n",
    "except:\n",
    "    y = 5\n",
    "    \n",
    "# create a variable foo such that the this cell prints True\n",
    "\n",
    "\n",
    "print(y == foo)"
   ]
  },
  {
   "cell_type": "code",
   "execution_count": null,
   "id": "dca03913",
   "metadata": {},
   "outputs": [],
   "source": [
    "def fun(x):\n",
    "    for i in range(x):\n",
    "        y = i*2\n",
    "    return y\n",
    "\n",
    "try:\n",
    "    y = fun('a')\n",
    "except AttributeError:\n",
    "    y = 1\n",
    "except TypeError:\n",
    "    y = 2\n",
    "except ValueError:\n",
    "    y = 3\n",
    "except ZeroDivisionError:\n",
    "    y = 4\n",
    "except:\n",
    "    y = 5   \n",
    "    \n",
    "# create a variable foo such that the this cell prints True\n",
    "\n",
    "\n",
    "print(y == foo)"
   ]
  },
  {
   "cell_type": "code",
   "execution_count": null,
   "id": "f21c34a9",
   "metadata": {},
   "outputs": [],
   "source": [
    "def fun(x):\n",
    "    for i in range(x):\n",
    "        y = i*2\n",
    "    return y\n",
    "\n",
    "try:\n",
    "    y = fun([1,2,3])\n",
    "except AttributeError:\n",
    "    y = 1\n",
    "except TypeError:\n",
    "    y = 2\n",
    "except ValueError:\n",
    "    y = 3\n",
    "except ZeroDivisionError:\n",
    "    y = 4\n",
    "except:\n",
    "    y = 5   \n",
    "    \n",
    "# create a variable foo such that the this cell prints True\n",
    "\n",
    "\n",
    "print(y == foo)"
   ]
  },
  {
   "cell_type": "code",
   "execution_count": null,
   "id": "1a94d238",
   "metadata": {},
   "outputs": [],
   "source": [
    "def fun(x):\n",
    "    for i in range(x):\n",
    "        y = i*2\n",
    "    return y\n",
    "\n",
    "try:\n",
    "    y = fun(5)\n",
    "except AttributeError:\n",
    "    y = 1\n",
    "except TypeError:\n",
    "    y = 2\n",
    "except ValueError:\n",
    "    y = 3\n",
    "except ZeroDivisionError:\n",
    "    y = 4\n",
    "except:\n",
    "    y = 5   \n",
    "    \n",
    "# create a variable foo such that the this cell prints True\n",
    "\n",
    "\n",
    "print(y == foo)"
   ]
  },
  {
   "cell_type": "code",
   "execution_count": null,
   "id": "ec6c078a",
   "metadata": {},
   "outputs": [],
   "source": [
    "def fun(x):\n",
    "    for i in range(x):\n",
    "        y = i*2\n",
    "    return y\n",
    "\n",
    "try:\n",
    "    y = fun(a=1)\n",
    "except AttributeError:\n",
    "    y = 1\n",
    "except TypeError:\n",
    "    y = 2\n",
    "except ValueError:\n",
    "    y = 3\n",
    "except ZeroDivisionError:\n",
    "    y = 4\n",
    "except:\n",
    "    y = 5   \n",
    "    \n",
    "# create a variable foo such that the this cell prints True\n",
    "\n",
    "\n",
    "print(y == foo)"
   ]
  },
  {
   "cell_type": "code",
   "execution_count": null,
   "id": "f2f2c69b",
   "metadata": {},
   "outputs": [],
   "source": [
    "def fun(x):\n",
    "    for i in range(5):\n",
    "        y = i*2\n",
    "    return y\n",
    "\n",
    "try:\n",
    "    y = fun(x=1)\n",
    "except AttributeError:\n",
    "    y = 1\n",
    "except TypeError:\n",
    "    y = 2\n",
    "except ValueError:\n",
    "    y = 3\n",
    "except ZeroDivisionError:\n",
    "    y = 4\n",
    "except:\n",
    "    y = 5   \n",
    "    \n",
    "# create a variable foo such that the this cell prints True\n",
    "\n",
    "\n",
    "print(y == foo)"
   ]
  },
  {
   "cell_type": "code",
   "execution_count": null,
   "id": "cb7cdf7c",
   "metadata": {},
   "outputs": [],
   "source": []
  }
 ],
 "metadata": {
  "kernelspec": {
   "display_name": "Python 3 (ipykernel)",
   "language": "python",
   "name": "python3"
  },
  "language_info": {
   "codemirror_mode": {
    "name": "ipython",
    "version": 3
   },
   "file_extension": ".py",
   "mimetype": "text/x-python",
   "name": "python",
   "nbconvert_exporter": "python",
   "pygments_lexer": "ipython3",
   "version": "3.8.9"
  }
 },
 "nbformat": 4,
 "nbformat_minor": 5
}
