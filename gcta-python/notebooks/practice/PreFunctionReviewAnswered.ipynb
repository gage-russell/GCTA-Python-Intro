{
 "cells": [
  {
   "cell_type": "markdown",
   "id": "ae2fe361",
   "metadata": {},
   "source": [
    "# This is a review notebook\n",
    "***In order to do this review, you need to have covered:***\n",
    "* Simple Data Types (literals: int, str, float, bool)\n",
    "* The print() function\n",
    "* The input() function\n",
    "* The type() function\n",
    "* the isinstance() function\n",
    "* Arithmetic operators (+, -, /, //, *, \\**, %)\n",
    "* Comparison operators (==, !=, <, >, <=, >=)\n",
    "* Logical operators (and, or, not)\n",
    "* Special operators (is)\n",
    "* Membership operators (in)\n",
    "* The range() function\n",
    "* Lists\n",
    "* Dictionaries\n",
    "* For loops\n",
    "* List comprehension\n",
    "* Conditional expressions (if, elif, else)"
   ]
  },
  {
   "cell_type": "code",
   "execution_count": 1,
   "id": "e0ec1cee",
   "metadata": {},
   "outputs": [
    {
     "name": "stdout",
     "output_type": "stream",
     "text": [
      "<class 'int'>\n"
     ]
    }
   ],
   "source": [
    "x = '1'\n",
    "# add code to convert the variable from str to int\n",
    "# then print the type of the variable\n",
    "\n",
    "x = int(x)\n",
    "print(type(x))"
   ]
  },
  {
   "cell_type": "code",
   "execution_count": 3,
   "id": "cb3628a2",
   "metadata": {},
   "outputs": [
    {
     "name": "stdout",
     "output_type": "stream",
     "text": [
      "<class 'str'>\n"
     ]
    }
   ],
   "source": [
    "x = 1\n",
    "# add code to convert the variable from int to str\n",
    "# then print the type of the variable\n",
    "\n",
    "x = str(x)\n",
    "print(type(x))"
   ]
  },
  {
   "cell_type": "code",
   "execution_count": 4,
   "id": "42b9ca74",
   "metadata": {},
   "outputs": [
    {
     "name": "stdout",
     "output_type": "stream",
     "text": [
      "<class 'float'>\n"
     ]
    }
   ],
   "source": [
    "x = 1\n",
    "# add code to convert the variable from int to float\n",
    "# then print the type of the variable\n",
    "\n",
    "x = float(x)\n",
    "print(type(x))"
   ]
  },
  {
   "cell_type": "code",
   "execution_count": 5,
   "id": "9b659b57",
   "metadata": {},
   "outputs": [
    {
     "name": "stdout",
     "output_type": "stream",
     "text": [
      "8\n"
     ]
    }
   ],
   "source": [
    "x = 4\n",
    "y = 2\n",
    "\n",
    "# write an expression below which assigns the value 8 to the variable z using \n",
    "# one of the arithmetic operators then print z\n",
    "\n",
    "z = x * y\n",
    "print(z)"
   ]
  },
  {
   "cell_type": "code",
   "execution_count": 6,
   "id": "41ab2864",
   "metadata": {},
   "outputs": [
    {
     "name": "stdout",
     "output_type": "stream",
     "text": [
      "3\n"
     ]
    }
   ],
   "source": [
    "x = 8\n",
    "y = 5\n",
    "\n",
    "# write an expression below which assigns the value 3 to the variable z using\n",
    "# one of the arithmetic operators then print z\n",
    "\n",
    "z = x % y\n",
    "print(z)"
   ]
  },
  {
   "cell_type": "code",
   "execution_count": 7,
   "id": "83a0540c",
   "metadata": {},
   "outputs": [
    {
     "name": "stdout",
     "output_type": "stream",
     "text": [
      "True\n"
     ]
    }
   ],
   "source": [
    "x = 8\n",
    "y = 6\n",
    "z = x // y\n",
    "\n",
    "# write an expression below which checks the data type of z\n",
    "# and assigns its output as a boolean to a new variable, foo\n",
    "# print foo (it should print True)\n",
    "\n",
    "foo = isinstance(z, int)\n",
    "print(foo)"
   ]
  },
  {
   "cell_type": "code",
   "execution_count": 8,
   "id": "33d7e850",
   "metadata": {},
   "outputs": [
    {
     "name": "stdout",
     "output_type": "stream",
     "text": [
      "True\n"
     ]
    }
   ],
   "source": [
    "x = 8\n",
    "y = 6\n",
    "z = x / y\n",
    "\n",
    "# write an expression below which checks the data type of z\n",
    "# and assigns its output as a boolean to a new variable, foo\n",
    "# print foo (it should print True)\n",
    "\n",
    "foo = isinstance(z, float)\n",
    "print(foo)"
   ]
  },
  {
   "cell_type": "code",
   "execution_count": 9,
   "id": "79cb0347",
   "metadata": {},
   "outputs": [
    {
     "name": "stdout",
     "output_type": "stream",
     "text": [
      "14, 6, 10, 18, "
     ]
    }
   ],
   "source": [
    "x = [7, 3, 5, 9]\n",
    "\n",
    "# write a for loop which prints \n",
    "# 14, 6, 10, 18,\n",
    "# using one of the arithmetic operators\n",
    "\n",
    "for i in x:\n",
    "    print(i*2, end=', ')"
   ]
  },
  {
   "cell_type": "code",
   "execution_count": 10,
   "id": "454844af",
   "metadata": {},
   "outputs": [
    {
     "name": "stdout",
     "output_type": "stream",
     "text": [
      "0\n",
      "2\n",
      "4\n"
     ]
    }
   ],
   "source": [
    "for i in range(5):\n",
    "    \n",
    "    # write an expression which prints i if it is an even number\n",
    "    if i % 2 == 0:\n",
    "        print(i)"
   ]
  },
  {
   "cell_type": "code",
   "execution_count": 11,
   "id": "86537de3",
   "metadata": {},
   "outputs": [
    {
     "name": "stdout",
     "output_type": "stream",
     "text": [
      "True\n"
     ]
    }
   ],
   "source": [
    "x = [i for i in range(3)]\n",
    "# create a new variable y which causes the last expression in this cell to print True\n",
    "y = [0, 1, 2]\n",
    "\n",
    "print(x == y)"
   ]
  },
  {
   "cell_type": "code",
   "execution_count": 12,
   "id": "950a2ead",
   "metadata": {},
   "outputs": [
    {
     "name": "stdout",
     "output_type": "stream",
     "text": [
      "True\n"
     ]
    }
   ],
   "source": [
    "x = [i for i in range(0, 5)]\n",
    "# create a new variable y which causes the last expression in this cell to print True\n",
    "y = [0, 1, 2, 3, 4]\n",
    "\n",
    "print(x == y)"
   ]
  },
  {
   "cell_type": "code",
   "execution_count": 13,
   "id": "1cb2f591",
   "metadata": {},
   "outputs": [
    {
     "name": "stdout",
     "output_type": "stream",
     "text": [
      "True\n"
     ]
    }
   ],
   "source": [
    "x = [i for i in range(1, 3)]\n",
    "# create a new variable y which causes the last expression in this cell to print True\n",
    "y = [1, 2]\n",
    "\n",
    "print(x == y)"
   ]
  },
  {
   "cell_type": "code",
   "execution_count": 14,
   "id": "3b18c499",
   "metadata": {},
   "outputs": [
    {
     "name": "stdout",
     "output_type": "stream",
     "text": [
      "True\n"
     ]
    }
   ],
   "source": [
    "x = [i for i in range(3, 7)]\n",
    "# create a new variable y which causes the last expression in this cell to print True\n",
    "y = [3, 4, 5, 6]\n",
    "\n",
    "print(x == y)"
   ]
  },
  {
   "cell_type": "code",
   "execution_count": 15,
   "id": "5153f7b4",
   "metadata": {},
   "outputs": [
    {
     "name": "stdout",
     "output_type": "stream",
     "text": [
      "True\n"
     ]
    }
   ],
   "source": [
    "x = [i for i in range(0, 10, 2)]\n",
    "# create a new variable y which causes the last expression in this cell to print True\n",
    "y = [0, 2, 4, 6, 8]\n",
    "\n",
    "print(x == y)"
   ]
  },
  {
   "cell_type": "code",
   "execution_count": 16,
   "id": "66af8da4",
   "metadata": {},
   "outputs": [
    {
     "name": "stdout",
     "output_type": "stream",
     "text": [
      "True\n"
     ]
    }
   ],
   "source": [
    "x = [i for i in range(1, 7, 3)]\n",
    "# create a new variable y which causes the last expression in this cell to print True\n",
    "y = [1, 4]\n",
    "\n",
    "print(x == y)"
   ]
  },
  {
   "cell_type": "code",
   "execution_count": 17,
   "id": "8c1c79d3",
   "metadata": {},
   "outputs": [
    {
     "name": "stdout",
     "output_type": "stream",
     "text": [
      "False\n"
     ]
    }
   ],
   "source": [
    "x = [i for i in range(1, 3, 3)]\n",
    "# create a new variable y which causes the last expression in this cell to print True\n",
    "y = [1]\n",
    "\n",
    "print(x == y)"
   ]
  },
  {
   "cell_type": "code",
   "execution_count": 19,
   "id": "a3724f51",
   "metadata": {},
   "outputs": [
    {
     "name": "stdout",
     "output_type": "stream",
     "text": [
      "True\n"
     ]
    }
   ],
   "source": [
    "x = [i for i in range(10, 1)]\n",
    "# create a new variable y which causes the last expression in this cell to print True\n",
    "y = []\n",
    "\n",
    "print(x == y)"
   ]
  },
  {
   "cell_type": "code",
   "execution_count": 20,
   "id": "21969b22",
   "metadata": {},
   "outputs": [
    {
     "name": "stdout",
     "output_type": "stream",
     "text": [
      "True\n"
     ]
    }
   ],
   "source": [
    "x = [i for i in range(10, 1, -1)]\n",
    "# create a new variable y which causes the last expression in this cell to print True\n",
    "y = [10, 9, 8, 7, 6, 5, 4, 3, 2]\n",
    "\n",
    "print(x == y)"
   ]
  },
  {
   "cell_type": "code",
   "execution_count": 25,
   "id": "21bc0ade",
   "metadata": {},
   "outputs": [
    {
     "name": "stdout",
     "output_type": "stream",
     "text": [
      "True\n"
     ]
    }
   ],
   "source": [
    "x = [i for i in range(10, 1, -2)]\n",
    "# create a new variable y which causes the last expression in this cell to print True\n",
    "y = [10, 8, 6, 4, 2]\n",
    "\n",
    "print(x == y)"
   ]
  },
  {
   "cell_type": "code",
   "execution_count": 26,
   "id": "b230bb8a",
   "metadata": {},
   "outputs": [
    {
     "name": "stdout",
     "output_type": "stream",
     "text": [
      "True\n"
     ]
    }
   ],
   "source": [
    "x = [1 for i in range(3)]\n",
    "# create a new variable y which causes the last expression in this cell to print True\n",
    "y = [1, 1, 1]\n",
    "\n",
    "print(x == y)"
   ]
  },
  {
   "cell_type": "code",
   "execution_count": 27,
   "id": "e5383c6a",
   "metadata": {},
   "outputs": [
    {
     "name": "stdout",
     "output_type": "stream",
     "text": [
      "True\n"
     ]
    }
   ],
   "source": [
    "x = ['a' for i in range(3)]\n",
    "# create a new variable y which causes the last expression in this cell to print True\n",
    "y = ['a', 'a', 'a']\n",
    "\n",
    "print(x == y)"
   ]
  },
  {
   "cell_type": "code",
   "execution_count": 29,
   "id": "93a22d7b",
   "metadata": {},
   "outputs": [
    {
     "name": "stdout",
     "output_type": "stream",
     "text": [
      "True\n"
     ]
    }
   ],
   "source": [
    "x = [[1,2,3] for i in range(2)]\n",
    "# create a new variable y which causes the last expression in this cell to print True\n",
    "y = [[1,2,3], [1,2,3]]\n",
    "\n",
    "print(x == y)"
   ]
  },
  {
   "cell_type": "code",
   "execution_count": 23,
   "id": "803cf37a",
   "metadata": {},
   "outputs": [
    {
     "name": "stdout",
     "output_type": "stream",
     "text": [
      "PRINT ME\n"
     ]
    }
   ],
   "source": [
    "x = True\n",
    "# create a variable y which causes this cell to print \"PRINT ME\"\n",
    "y = True\n",
    "\n",
    "if x or y and y:\n",
    "    print(\"PRINT ME\")\n",
    "else:\n",
    "    print(\"DONT PRINT ME\")"
   ]
  },
  {
   "cell_type": "code",
   "execution_count": 24,
   "id": "28e305b8",
   "metadata": {},
   "outputs": [
    {
     "name": "stdout",
     "output_type": "stream",
     "text": [
      "PRINT ME\n"
     ]
    }
   ],
   "source": [
    "x = True\n",
    "# create a variable y which causes this cell to print \"PRINT ME\"\n",
    "y = False\n",
    "\n",
    "if x or y and not y:\n",
    "    print(\"PRINT ME\")\n",
    "else:\n",
    "    print(\"DONT PRINT ME\")"
   ]
  },
  {
   "cell_type": "code",
   "execution_count": 30,
   "id": "dca63ecb",
   "metadata": {},
   "outputs": [
    {
     "name": "stdout",
     "output_type": "stream",
     "text": [
      "True\n"
     ]
    }
   ],
   "source": [
    "x = ['b' for i in range(5)]\n",
    "# create a variable y which causes this cell to print True\n",
    "y = 'b'\n",
    "\n",
    "print(y in x)"
   ]
  },
  {
   "cell_type": "code",
   "execution_count": 31,
   "id": "f701ae28",
   "metadata": {},
   "outputs": [
    {
     "name": "stdout",
     "output_type": "stream",
     "text": [
      "True\n"
     ]
    }
   ],
   "source": [
    "x = [i for i in range(5)]\n",
    "# create a variable y which causes this cell to print True\n",
    "y = 0\n",
    "\n",
    "if y in x:\n",
    "    print(True)"
   ]
  },
  {
   "cell_type": "code",
   "execution_count": 32,
   "id": "2def1605",
   "metadata": {},
   "outputs": [
    {
     "name": "stdout",
     "output_type": "stream",
     "text": [
      "True\n"
     ]
    }
   ],
   "source": [
    "x = {'a': 1, 'b': 2}\n",
    "# create a variable y which causes this cell to print True\n",
    "y = 'b'\n",
    "\n",
    "print(x[y] == 2)"
   ]
  },
  {
   "cell_type": "code",
   "execution_count": 35,
   "id": "467340d7",
   "metadata": {},
   "outputs": [
    {
     "name": "stdout",
     "output_type": "stream",
     "text": [
      "3\n"
     ]
    }
   ],
   "source": [
    "x = [{'a': i, 'b': i+2} for i in range(2)]\n",
    "# create a variable y and a variable z which cause this cell to print 3\n",
    "y = 1\n",
    "z = 'b'\n",
    "\n",
    "print(x[y][z])"
   ]
  },
  {
   "cell_type": "code",
   "execution_count": null,
   "id": "0b13d844",
   "metadata": {},
   "outputs": [],
   "source": []
  }
 ],
 "metadata": {
  "kernelspec": {
   "display_name": "Python 3 (ipykernel)",
   "language": "python",
   "name": "python3"
  },
  "language_info": {
   "codemirror_mode": {
    "name": "ipython",
    "version": 3
   },
   "file_extension": ".py",
   "mimetype": "text/x-python",
   "name": "python",
   "nbconvert_exporter": "python",
   "pygments_lexer": "ipython3",
   "version": "3.8.9"
  }
 },
 "nbformat": 4,
 "nbformat_minor": 5
}
