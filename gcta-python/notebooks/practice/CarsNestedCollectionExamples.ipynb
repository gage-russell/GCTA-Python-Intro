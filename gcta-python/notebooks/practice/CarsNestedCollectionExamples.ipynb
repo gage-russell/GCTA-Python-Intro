{
 "cells": [
  {
   "cell_type": "code",
   "execution_count": null,
   "id": "80c27325",
   "metadata": {},
   "outputs": [],
   "source": [
    "# This notebook contains some examples of nested collections.\n",
    "# dictionaries inside of dictionaries \n",
    "# dictionaries inside of lists"
   ]
  },
  {
   "cell_type": "code",
   "execution_count": null,
   "id": "03910209",
   "metadata": {},
   "outputs": [],
   "source": [
    "# This variable, my_car, is a dictionary which contains another dictionary.\n",
    "# Use this variable to answer the next two questions.\n",
    "\n",
    "my_car = {\n",
    "    'year': 2017,\n",
    "    'color': 'white',\n",
    "    'make': {\n",
    "        'brand': 'ford',\n",
    "        'model': 'f150'\n",
    "    }\n",
    "}"
   ]
  },
  {
   "cell_type": "code",
   "execution_count": null,
   "id": "af74c513",
   "metadata": {},
   "outputs": [],
   "source": [
    "# Find the color of my_car\n"
   ]
  },
  {
   "cell_type": "code",
   "execution_count": null,
   "id": "cfc7d895",
   "metadata": {},
   "outputs": [],
   "source": [
    "# Find the brand of my_car\n"
   ]
  },
  {
   "cell_type": "code",
   "execution_count": null,
   "id": "9fef1e98",
   "metadata": {},
   "outputs": [],
   "source": [
    "# This variable, my_car, is a lists which contains dictionaries.\n",
    "# Use this variable to answer the next two questions.\n",
    "\n",
    "my_cars = [\n",
    "    {'year': 2015, 'color': 'white'},\n",
    "    {'year': 2016, 'color': 'red'},\n",
    "    {'year': 2009, 'color': 'black'}\n",
    "]"
   ]
  },
  {
   "cell_type": "code",
   "execution_count": null,
   "id": "eb5f90e0",
   "metadata": {},
   "outputs": [],
   "source": [
    "# Get the second car in the list\n"
   ]
  },
  {
   "cell_type": "code",
   "execution_count": null,
   "id": "8792a5a4",
   "metadata": {},
   "outputs": [],
   "source": [
    "# Get the last car in the list\n"
   ]
  },
  {
   "cell_type": "code",
   "execution_count": null,
   "id": "5b4bb1f4",
   "metadata": {},
   "outputs": [],
   "source": [
    "# Get the year of the first car\n"
   ]
  },
  {
   "cell_type": "code",
   "execution_count": null,
   "id": "643cba4a",
   "metadata": {},
   "outputs": [],
   "source": [
    "# Get the color of the last car\n"
   ]
  },
  {
   "cell_type": "code",
   "execution_count": null,
   "id": "746f4c4a",
   "metadata": {},
   "outputs": [],
   "source": [
    "# Get a list of the years for each car\n"
   ]
  },
  {
   "cell_type": "code",
   "execution_count": null,
   "id": "27d5a60b",
   "metadata": {},
   "outputs": [],
   "source": [
    "# Get a list of all the cars which are newer than 2010\n"
   ]
  },
  {
   "cell_type": "code",
   "execution_count": null,
   "id": "612f1bf9",
   "metadata": {},
   "outputs": [],
   "source": []
  }
 ],
 "metadata": {
  "kernelspec": {
   "display_name": "Python 3 (ipykernel)",
   "language": "python",
   "name": "python3"
  },
  "language_info": {
   "codemirror_mode": {
    "name": "ipython",
    "version": 3
   },
   "file_extension": ".py",
   "mimetype": "text/x-python",
   "name": "python",
   "nbconvert_exporter": "python",
   "pygments_lexer": "ipython3",
   "version": "3.8.9"
  }
 },
 "nbformat": 4,
 "nbformat_minor": 5
}
