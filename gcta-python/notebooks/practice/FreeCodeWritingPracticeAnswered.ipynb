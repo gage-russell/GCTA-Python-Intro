{
 "cells": [
  {
   "cell_type": "code",
   "execution_count": null,
   "id": "b3b13ed7",
   "metadata": {},
   "outputs": [],
   "source": [
    "# In the cell below\n",
    "# Write code which calculates the sum of the list, x\n",
    "\n",
    "x = [2,4,5,6]"
   ]
  },
  {
   "cell_type": "code",
   "execution_count": null,
   "id": "e541c13e",
   "metadata": {},
   "outputs": [],
   "source": [
    "sum_x = sum(x)\n",
    "\n",
    "print(sum_x)"
   ]
  },
  {
   "cell_type": "code",
   "execution_count": null,
   "id": "f95e6c9e",
   "metadata": {},
   "outputs": [],
   "source": [
    "# In the cell below\n",
    "# Write code which calculates the average of the list, x\n",
    "\n",
    "x = [2,4,5,6]"
   ]
  },
  {
   "cell_type": "code",
   "execution_count": null,
   "id": "0122e2d5",
   "metadata": {},
   "outputs": [],
   "source": [
    "avg_x = sum(x) / len(x)\n",
    "\n",
    "print(avg_x)"
   ]
  },
  {
   "cell_type": "code",
   "execution_count": null,
   "id": "583d24c2",
   "metadata": {},
   "outputs": [],
   "source": [
    "# In the cell below\n",
    "# Write code which calculates the average of the list, x\n",
    "# YOU MUST WRITE YOUR OWN FUNCTION AND USE IT\n",
    "\n",
    "x = [2,4,5,6]"
   ]
  },
  {
   "cell_type": "code",
   "execution_count": null,
   "id": "57ca6f55",
   "metadata": {},
   "outputs": [],
   "source": [
    "def calc_avg(some_list):\n",
    "    return sum(some_list) / len(some_list)\n",
    "\n",
    "avg_x = calc_avg(x)\n",
    "\n",
    "print(avg_x)"
   ]
  },
  {
   "cell_type": "code",
   "execution_count": null,
   "id": "f22afcf3",
   "metadata": {},
   "outputs": [],
   "source": [
    "# In the cell below\n",
    "# Write code which turns x into the structure commented below:\n",
    "# {'a': 1, 'b': 2, 'c': 3}\n",
    "\n",
    "x = [1,2,3]"
   ]
  },
  {
   "cell_type": "code",
   "execution_count": null,
   "id": "30ec9618",
   "metadata": {},
   "outputs": [],
   "source": [
    "y = {}\n",
    "\n",
    "letters = ['a', 'b', 'c']\n",
    "\n",
    "for i in range(len(x)):\n",
    "    y.update({letters[i]: x[i]})\n",
    "\n",
    "print(y)"
   ]
  },
  {
   "cell_type": "code",
   "execution_count": null,
   "id": "b3db0729",
   "metadata": {},
   "outputs": [],
   "source": [
    "# In the cell below\n",
    "# Write code which turns x into the structure commented below:\n",
    "# [1, 2, 3]\n",
    "\n",
    "x = {'a': 1, 'b': 2, 'c': 3}"
   ]
  },
  {
   "cell_type": "code",
   "execution_count": null,
   "id": "1eee97ff",
   "metadata": {},
   "outputs": [],
   "source": [
    "y = list(x.values())\n",
    "\n",
    "print(y)"
   ]
  },
  {
   "cell_type": "code",
   "execution_count": null,
   "id": "6f35e852",
   "metadata": {},
   "outputs": [],
   "source": [
    "# In the cell below\n",
    "# Write code which turns cars into the structure commented below:\n",
    "# {\n",
    "#     'brands': ['ford', 'toyota'],\n",
    "#     'models': ['f150', 'tundra']\n",
    "# }\n",
    "\n",
    "cars = [{'make': 'ford', 'model': 'f150'}, {'make': 'toyota', 'model': 'tundra'}]"
   ]
  },
  {
   "cell_type": "code",
   "execution_count": null,
   "id": "748c78e9",
   "metadata": {},
   "outputs": [],
   "source": [
    "transform = {'brands': [], 'models': []}\n",
    "\n",
    "for car in cars:\n",
    "    transform['brands'].append(car['make'])\n",
    "    transform['models'].append(car['model'])\n",
    "    \n",
    "print(transform)"
   ]
  },
  {
   "cell_type": "code",
   "execution_count": null,
   "id": "47b33d2f",
   "metadata": {},
   "outputs": [],
   "source": [
    "# In the cell below\n",
    "# Write code which turns cars into the structure commented below:\n",
    "# [{'make': 'ford', 'model': 'f150'}, {'make': 'toyota', 'model': 'tundra'}]\n",
    "\n",
    "cars = {\n",
    "    'brands': ['ford', 'toyota'],\n",
    "    'models': ['f150', 'tundra']\n",
    "}"
   ]
  },
  {
   "cell_type": "code",
   "execution_count": null,
   "id": "b9efcd5a",
   "metadata": {},
   "outputs": [],
   "source": [
    "transform = []\n",
    "\n",
    "# assume there will be one model for each brand and determine number of cars\n",
    "num = len(cars['brands'])\n",
    "\n",
    "for i in range(num):\n",
    "    brand = cars['brands'][i]\n",
    "    model = cars['models'][i]\n",
    "    car = {'make': brand, 'model': model}\n",
    "    transform.append(car)\n",
    "    \n",
    "print(transform)"
   ]
  },
  {
   "cell_type": "code",
   "execution_count": null,
   "id": "2c152c4e",
   "metadata": {},
   "outputs": [],
   "source": []
  },
  {
   "cell_type": "code",
   "execution_count": null,
   "id": "de1e3868",
   "metadata": {},
   "outputs": [],
   "source": []
  },
  {
   "cell_type": "code",
   "execution_count": null,
   "id": "5373bcce",
   "metadata": {},
   "outputs": [],
   "source": []
  }
 ],
 "metadata": {
  "kernelspec": {
   "display_name": "Python 3 (ipykernel)",
   "language": "python",
   "name": "python3"
  },
  "language_info": {
   "codemirror_mode": {
    "name": "ipython",
    "version": 3
   },
   "file_extension": ".py",
   "mimetype": "text/x-python",
   "name": "python",
   "nbconvert_exporter": "python",
   "pygments_lexer": "ipython3",
   "version": "3.8.9"
  }
 },
 "nbformat": 4,
 "nbformat_minor": 5
}
