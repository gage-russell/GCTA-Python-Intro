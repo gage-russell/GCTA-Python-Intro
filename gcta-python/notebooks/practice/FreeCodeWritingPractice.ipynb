{
 "cells": [
  {
   "cell_type": "code",
   "execution_count": null,
   "id": "5bd82a6e",
   "metadata": {},
   "outputs": [],
   "source": [
    "# In the cell below\n",
    "# Write code which calculates the sum of the list, x\n",
    "\n",
    "x = [2,4,5,6]"
   ]
  },
  {
   "cell_type": "code",
   "execution_count": null,
   "id": "7e8e8fe3",
   "metadata": {},
   "outputs": [],
   "source": []
  },
  {
   "cell_type": "code",
   "execution_count": null,
   "id": "071bbafe",
   "metadata": {},
   "outputs": [],
   "source": [
    "# In the cell below\n",
    "# Write code which calculates the average of the list, x\n",
    "\n",
    "x = [2,4,5,6]"
   ]
  },
  {
   "cell_type": "code",
   "execution_count": null,
   "id": "369e3b25",
   "metadata": {},
   "outputs": [],
   "source": []
  },
  {
   "cell_type": "code",
   "execution_count": null,
   "id": "e663561d",
   "metadata": {},
   "outputs": [],
   "source": [
    "# In the cell below\n",
    "# Write code which calculates the average of the list, x\n",
    "# YOU MUST WRITE YOUR OWN FUNCTION AND USE IT\n",
    "\n",
    "x = [2,4,5,6]"
   ]
  },
  {
   "cell_type": "code",
   "execution_count": null,
   "id": "c54a7d24",
   "metadata": {},
   "outputs": [],
   "source": []
  },
  {
   "cell_type": "code",
   "execution_count": null,
   "id": "68f34103",
   "metadata": {},
   "outputs": [],
   "source": [
    "# In the cell below\n",
    "# Write code which turns x into the structure commented below:\n",
    "# {'a': 1, 'b': 2, 'c': 3}\n",
    "\n",
    "x = [1,2,3]"
   ]
  },
  {
   "cell_type": "code",
   "execution_count": null,
   "id": "9b6c87af",
   "metadata": {},
   "outputs": [],
   "source": []
  },
  {
   "cell_type": "code",
   "execution_count": null,
   "id": "d7dab682",
   "metadata": {},
   "outputs": [],
   "source": [
    "# In the cell below\n",
    "# Write code which turns x into the structure commented below:\n",
    "# [1, 2, 3]\n",
    "\n",
    "x = {'a': 1, 'b': 2, 'c': 3}"
   ]
  },
  {
   "cell_type": "code",
   "execution_count": null,
   "id": "a0cd03b8",
   "metadata": {},
   "outputs": [],
   "source": []
  },
  {
   "cell_type": "code",
   "execution_count": null,
   "id": "be9dfb64",
   "metadata": {},
   "outputs": [],
   "source": [
    "# In the cell below\n",
    "# Write code which turns cars into the structure commented below:\n",
    "# {\n",
    "#     'brands': ['ford', 'toyota'],\n",
    "#     'models': ['f150', 'tundra']\n",
    "# }\n",
    "\n",
    "cars = [{'make': 'ford', 'model': 'f150'}, {'make': 'toyota', 'model': 'tundra'}]"
   ]
  },
  {
   "cell_type": "code",
   "execution_count": null,
   "id": "bc39a76f",
   "metadata": {},
   "outputs": [],
   "source": []
  },
  {
   "cell_type": "code",
   "execution_count": null,
   "id": "2a647571",
   "metadata": {},
   "outputs": [],
   "source": [
    "# In the cell below\n",
    "# Write code which turns cars into the structure commented below:\n",
    "# [{'make': 'ford', 'model': 'f150'}, {'make': 'toyota', 'model': 'tundra'}]\n",
    "\n",
    "cars = {\n",
    "    'brands': ['ford', 'toyota'],\n",
    "    'models': ['f150', 'tundra']\n",
    "}"
   ]
  },
  {
   "cell_type": "code",
   "execution_count": null,
   "id": "4744fa33",
   "metadata": {},
   "outputs": [],
   "source": []
  },
  {
   "cell_type": "code",
   "execution_count": null,
   "id": "b4336478",
   "metadata": {},
   "outputs": [],
   "source": []
  },
  {
   "cell_type": "code",
   "execution_count": null,
   "id": "5aa430f2",
   "metadata": {},
   "outputs": [],
   "source": []
  },
  {
   "cell_type": "code",
   "execution_count": null,
   "id": "087032a5",
   "metadata": {},
   "outputs": [],
   "source": []
  }
 ],
 "metadata": {
  "kernelspec": {
   "display_name": "Python 3 (ipykernel)",
   "language": "python",
   "name": "python3"
  },
  "language_info": {
   "codemirror_mode": {
    "name": "ipython",
    "version": 3
   },
   "file_extension": ".py",
   "mimetype": "text/x-python",
   "name": "python",
   "nbconvert_exporter": "python",
   "pygments_lexer": "ipython3",
   "version": "3.8.9"
  }
 },
 "nbformat": 4,
 "nbformat_minor": 5
}
