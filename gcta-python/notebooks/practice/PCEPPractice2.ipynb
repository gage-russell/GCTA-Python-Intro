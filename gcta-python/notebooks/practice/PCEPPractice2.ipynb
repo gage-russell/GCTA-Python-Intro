{
 "cells": [
  {
   "cell_type": "code",
   "execution_count": 1,
   "id": "5e3e5b64",
   "metadata": {},
   "outputs": [],
   "source": [
    "# leap year\n",
    "# To determine whether a year is a leap year, follow these steps:\n",
    "# 1. If the year is evenly divisible by 4, go to step 2. Otherwise, go to step 5.\n",
    "# 2. If the year is evenly divisible by 100, go to step 3. Otherwise, go to step 4.\n",
    "# 3. If the year is evenly divisible by 400, go to step 4. Otherwise, go to step 5.\n",
    "# 4. The year is a leap year (it has 366 days).\n",
    "# 5. The year is not a leap year (it has 365 days)."
   ]
  },
  {
   "cell_type": "code",
   "execution_count": 6,
   "id": "d252b01a",
   "metadata": {},
   "outputs": [
    {
     "name": "stdout",
     "output_type": "stream",
     "text": [
      "True\n",
      "False\n",
      "True\n"
     ]
    }
   ],
   "source": [
    "def is_year_leap(year):\n",
    "    leap = False\n",
    "    \n",
    "    if year%4 == 0:\n",
    "        if year%100 == 0:\n",
    "            if year%400 == 0:\n",
    "                leap = True\n",
    "        else:\n",
    "            leap = True\n",
    "            \n",
    "    return leap\n",
    "\n",
    "print(is_year_leap(2000))\n",
    "print(is_year_leap(1999))\n",
    "print(is_year_leap(2016))"
   ]
  },
  {
   "cell_type": "code",
   "execution_count": 7,
   "id": "9d7eec28",
   "metadata": {},
   "outputs": [
    {
     "name": "stdout",
     "output_type": "stream",
     "text": [
      "29\n",
      "28\n"
     ]
    }
   ],
   "source": [
    "def days_in_month(year, month):\n",
    "    day_counts = [31,28,31,30,31,30,31,31,30,31,30,31]\n",
    "    num_days = day_counts[month-1]\n",
    "    \n",
    "    if is_year_leap(year):\n",
    "        if month == 2:\n",
    "            num_days += 1\n",
    "    return num_days\n",
    "\n",
    "print(days_in_month(2000, 2))\n",
    "print(days_in_month(1999, 2))"
   ]
  },
  {
   "cell_type": "code",
   "execution_count": 8,
   "id": "cb98ff15",
   "metadata": {},
   "outputs": [
    {
     "name": "stdout",
     "output_type": "stream",
     "text": [
      "366\n"
     ]
    }
   ],
   "source": [
    "def day_of_year(year, month, day):\n",
    "    days_to_last_month = 0\n",
    "    for i in range(1, month):\n",
    "        days_to_last_month += days_in_month(year, i)\n",
    "    \n",
    "    days_to_date = days_to_last_month + day\n",
    "    \n",
    "    return days_to_date\n",
    "\n",
    "print(day_of_year(2000, 12, 31))\n",
    "    "
   ]
  },
  {
   "cell_type": "code",
   "execution_count": 9,
   "id": "91efb415",
   "metadata": {},
   "outputs": [],
   "source": [
    "# Prime numbers\n",
    "# a number is prime if it is not divisible by anything but 1\n",
    "# so you can just check if it is divisible by any number smaller than it"
   ]
  },
  {
   "cell_type": "code",
   "execution_count": 11,
   "id": "fce26a7a",
   "metadata": {},
   "outputs": [
    {
     "name": "stdout",
     "output_type": "stream",
     "text": [
      "True\n",
      "False\n"
     ]
    }
   ],
   "source": [
    "def is_prime(num):\n",
    "    prime = True\n",
    "    \n",
    "    for i in range(2, num):\n",
    "        if num%i == 0:\n",
    "            prime = False\n",
    "    return prime\n",
    "\n",
    "print(is_prime(7))\n",
    "print(is_prime(8))"
   ]
  },
  {
   "cell_type": "code",
   "execution_count": 12,
   "id": "fd6b9a96",
   "metadata": {},
   "outputs": [],
   "source": [
    "# unit conversion\n",
    "# 1 American gallon = 3.785411784 litres.\n",
    "# 1 American mile = 1609.344 metres;"
   ]
  },
  {
   "cell_type": "code",
   "execution_count": null,
   "id": "01b127ac",
   "metadata": {},
   "outputs": [],
   "source": [
    "def liters_100km_to_miles_gallon(liters):\n",
    "    # l / 100km -> gal/mile\n",
    "    \n",
    "    # l/100km -> l/m\n",
    "    l_meter = liters*1000*100\n",
    "    \n",
    "    # l/m -> l/mile\n",
    "    l_mile = l_meter * 1609.344\n",
    "    \n",
    "    # l/mile -> gal/mil\n",
    "    g_mile = l_mile / 3.785411784\n",
    "    \n",
    "    return g_mile\n",
    "\n",
    "def miles_gallon_to_liters_100km(miles):\n",
    "    l_per_km =  (100 * 3.785411784) / (miles * 1609.344)\n",
    "    l_per_100_km = l_per_km/100\n",
    "    return l_per_100_km"
   ]
  }
 ],
 "metadata": {
  "kernelspec": {
   "display_name": "Python 3 (ipykernel)",
   "language": "python",
   "name": "python3"
  },
  "language_info": {
   "codemirror_mode": {
    "name": "ipython",
    "version": 3
   },
   "file_extension": ".py",
   "mimetype": "text/x-python",
   "name": "python",
   "nbconvert_exporter": "python",
   "pygments_lexer": "ipython3",
   "version": "3.8.9"
  }
 },
 "nbformat": 4,
 "nbformat_minor": 5
}
