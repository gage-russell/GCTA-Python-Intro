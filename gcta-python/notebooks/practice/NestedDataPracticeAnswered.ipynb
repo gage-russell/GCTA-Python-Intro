{
 "cells": [
  {
   "cell_type": "code",
   "execution_count": 125,
   "id": "22b9adec",
   "metadata": {},
   "outputs": [],
   "source": [
    "# Nested data practice:\n",
    "# These exercises should prepare you to more comfortably\n",
    "# use real-world data sets you find in the wild!\n",
    "\n",
    "# Review:\n",
    "# A dictionary is a collection of key-value pairs.\n",
    "# { key: value, key: value, key: value, ... }\n",
    "# A list is a collection of objects:\n",
    "# [ object, object, object, ... ]\n",
    "\n",
    "# Both keys and values can also be objects.\n",
    "# And both dictionaries and lists are objects. Whoa!\n",
    "# You can have a dictionary of lists {[], [], []}, # ----- GR missing keys\n",
    "# and lists of dictionaries [{}, {}, {}], and so forth.\n",
    "\n",
    "# Answer sheet."
   ]
  },
  {
   "cell_type": "code",
   "execution_count": 126,
   "id": "bf038bc9",
   "metadata": {},
   "outputs": [],
   "source": [
    "# Section 0"
   ]
  },
  {
   "cell_type": "code",
   "execution_count": 127,
   "id": "1841716f",
   "metadata": {},
   "outputs": [
    {
     "name": "stdout",
     "output_type": "stream",
     "text": [
      "[1, {'key2': [3, 2]}]\n"
     ]
    }
   ],
   "source": [
    "# Exercise 0.0\n",
    "# If you're finding yourself stuck, try using the print() statement.\n",
    "# For example:\n",
    "\n",
    "# Using the nasty! dictionary:\n",
    "nested_dict = {'key1': [1, {'key2': [3, 2]}]}\n",
    "\n",
    "# Complete the statement \"foo = \" so that foo is assigned to the list [3, 2].\n",
    "\n",
    "# Let's break this problem down to more managable parts...\n",
    "# This is a useful strategy developers frequetnly use!\n",
    "foo1 = nested_dict['key1']\n",
    "print(foo1)  # prints [1, {'key2': [3, 2]}]"
   ]
  },
  {
   "cell_type": "code",
   "execution_count": 128,
   "id": "a06ae521",
   "metadata": {},
   "outputs": [
    {
     "name": "stdout",
     "output_type": "stream",
     "text": [
      "{'key2': [3, 2]}\n"
     ]
    }
   ],
   "source": [
    "foo2 = nested_dict['key1'][1]\n",
    "print(foo2)  # prints {'key2': [3, 2]}"
   ]
  },
  {
   "cell_type": "code",
   "execution_count": 129,
   "id": "831e6b16",
   "metadata": {},
   "outputs": [
    {
     "name": "stdout",
     "output_type": "stream",
     "text": [
      "[3, 2]\n"
     ]
    }
   ],
   "source": [
    "foo3 = nested_dict['key1'][1]['key2']\n",
    "print(foo3)  # prints our answer [3, 2]"
   ]
  },
  {
   "cell_type": "code",
   "execution_count": 130,
   "id": "9fed4f5b",
   "metadata": {},
   "outputs": [
    {
     "name": "stdout",
     "output_type": "stream",
     "text": [
      "True\n"
     ]
    }
   ],
   "source": [
    "# So we should set \"foo = \" to:\n",
    "foo = nested_dict['key1'][1]['key2']\n",
    "\n",
    "print(list(foo) == [3, 2])\n",
    "\n",
    "# If done successfully, the output below should be \"True\""
   ]
  },
  {
   "cell_type": "code",
   "execution_count": 131,
   "id": "bc23f911",
   "metadata": {},
   "outputs": [
    {
     "name": "stdout",
     "output_type": "stream",
     "text": [
      "True\n"
     ]
    }
   ],
   "source": [
    "# Exercise 0.1\n",
    "# Using the dictionary:\n",
    "person_dict = {'name': 'emma', 'age': 23, 'location': 'austin'}\n",
    "\n",
    "# Complete the statement \"foo = \" to find Emma's age.\n",
    "\n",
    "foo = person_dict['age']\n",
    "\n",
    "print(foo == 23)"
   ]
  },
  {
   "cell_type": "code",
   "execution_count": 132,
   "id": "c66c98f6",
   "metadata": {},
   "outputs": [
    {
     "name": "stdout",
     "output_type": "stream",
     "text": [
      "True\n"
     ]
    }
   ],
   "source": [
    "# Exercise 0.2\n",
    "# Using the dictionary:\n",
    "person_dict = {'name': 'emma', 'age': 23, 'location': 'austin'}\n",
    "\n",
    "# Complete the statement \"foo = \" to find all of the dictionary keys.\n",
    "# Hint: this can be done using a dictionary method.\n",
    "\n",
    "foo = person_dict.keys()\n",
    "\n",
    "print(list(foo) == ['name', 'age', 'location'])"
   ]
  },
  {
   "cell_type": "code",
   "execution_count": 133,
   "id": "9bcd5da5",
   "metadata": {},
   "outputs": [
    {
     "name": "stdout",
     "output_type": "stream",
     "text": [
      "True\n"
     ]
    }
   ],
   "source": [
    "# Exercise 0.3\n",
    "# Using the dictionary:\n",
    "person_dict = {'name': 'emma', 'age': 23, 'location': 'austin'}\n",
    "\n",
    "# Complete the statement \"foo = \" to find all of the dictionary values.\n",
    "\n",
    "foo = person_dict.values()\n",
    "\n",
    "print(list(foo) == ['emma', 23, 'austin'])"
   ]
  },
  {
   "cell_type": "code",
   "execution_count": 134,
   "id": "b4d8583f",
   "metadata": {},
   "outputs": [
    {
     "name": "stdout",
     "output_type": "stream",
     "text": [
      "True\n"
     ]
    }
   ],
   "source": [
    "# Exercise 0.4\n",
    "# Using the dictionary:\n",
    "nested_dict = {'key1': [1]}\n",
    "\n",
    "# Complete the statement \"foo = \" so that foo is assigned to the list [1].\n",
    "\n",
    "foo = nested_dict['key1']\n",
    "\n",
    "print(list(foo) == [1])"
   ]
  },
  {
   "cell_type": "code",
   "execution_count": 135,
   "id": "63942310",
   "metadata": {},
   "outputs": [
    {
     "name": "stdout",
     "output_type": "stream",
     "text": [
      "True\n"
     ]
    }
   ],
   "source": [
    "# Exercise 0.5\n",
    "# Using the dictionary:\n",
    "nested_dict = {'key1': [1]}\n",
    "\n",
    "# Complete the statement \"foo = \" so that foo is assigned to 1 (the contents of that list).\n",
    "\n",
    "foo = nested_dict['key1'][0]\n",
    "\n",
    "print(foo == 1)"
   ]
  },
  {
   "cell_type": "code",
   "execution_count": 136,
   "id": "e1247028",
   "metadata": {},
   "outputs": [
    {
     "name": "stdout",
     "output_type": "stream",
     "text": [
      "True\n"
     ]
    }
   ],
   "source": [
    "# Exercise 0.6\n",
    "# Using the dictionary:\n",
    "nested_dict = {'key1': [1], \n",
    "               'key2': [0, {'key3': 'bar'}, 2]}\n",
    "\n",
    "# Complete the statement \"foo = \" so that foo is assigned to the dictionary {'key3': 'bar'}.\n",
    "\n",
    "foo = nested_dict['key2'][1]\n",
    "\n",
    "print(foo == {'key3': 'bar'})"
   ]
  },
  {
   "cell_type": "code",
   "execution_count": 137,
   "id": "eb5b76df",
   "metadata": {},
   "outputs": [
    {
     "name": "stdout",
     "output_type": "stream",
     "text": [
      "True\n"
     ]
    }
   ],
   "source": [
    "# Exercise 0.7\n",
    "# Using the dictionary:\n",
    "nested_dict = {'key1': [1], \n",
    "               'key2': [0, {'key3': 'bar'}, 2]}\n",
    "\n",
    "# Complete the statement \"foo = \" so that foo is assigned to 'bar'.\n",
    "\n",
    "foo = nested_dict['key2'][1]['key3']\n",
    "\n",
    "print(foo == 'bar')"
   ]
  },
  {
   "cell_type": "code",
   "execution_count": 138,
   "id": "989255b1",
   "metadata": {},
   "outputs": [
    {
     "name": "stdout",
     "output_type": "stream",
     "text": [
      "True\n"
     ]
    }
   ],
   "source": [
    "# Exercise 0.8\n",
    "# Using the dictionary:\n",
    "nested_dict = {'key1': [1, {'key2': [3, 2]}]}\n",
    "\n",
    "# Complete the statement \"foo = \" so that foo is assigned to the list [3, 2].\n",
    "\n",
    "foo = nested_dict['key1'][1]['key2']\n",
    "\n",
    "print(list(foo) == [3, 2])"
   ]
  },
  {
   "cell_type": "code",
   "execution_count": 139,
   "id": "36c4c3e3",
   "metadata": {},
   "outputs": [],
   "source": [
    "# Section 1"
   ]
  },
  {
   "cell_type": "code",
   "execution_count": 140,
   "id": "a8f56b49",
   "metadata": {},
   "outputs": [
    {
     "name": "stdout",
     "output_type": "stream",
     "text": [
      "True\n"
     ]
    }
   ],
   "source": [
    "# Exercise 1.0\n",
    "# Using the dictionary:\n",
    "my_dict = {'names': ['john', 'sally'], 'ages': [12, 33], 'locations': ['austin', 'dallas']}\n",
    "\n",
    "# Complete the statement \"foo = \" so that it contains only the top level categories.\n",
    "# You want foo to contain this information: ['names', 'ages', 'locations'].\n",
    "\n",
    "foo = my_dict.keys()\n",
    "\n",
    "print(list(foo) == ['names', 'ages', 'locations'])\n",
    "\n",
    "# If done successfully, the output below should be \"True\""
   ]
  },
  {
   "cell_type": "code",
   "execution_count": 141,
   "id": "fe92a35b",
   "metadata": {},
   "outputs": [
    {
     "name": "stdout",
     "output_type": "stream",
     "text": [
      "True\n"
     ]
    }
   ],
   "source": [
    "# Exercise 1.1\n",
    "# Using the dictionary:\n",
    "my_dict = {'names': ['john', 'sally'], 'ages': [12, 33], 'locations': ['austin', 'dallas']}\n",
    "\n",
    "# Complete the statement \"foo = \" so that it contain only the actual NAMES, AGES, and LOCATIONS.\n",
    "# You want foo to contain data such as: 'sally', and 'austin'.\n",
    "\n",
    "foo = my_dict.values()\n",
    "\n",
    "print(list(foo) == [['john', 'sally'], [12, 33], ['austin', 'dallas']])"
   ]
  },
  {
   "cell_type": "code",
   "execution_count": 142,
   "id": "90369093",
   "metadata": {},
   "outputs": [
    {
     "name": "stdout",
     "output_type": "stream",
     "text": [
      "True\n"
     ]
    }
   ],
   "source": [
    "# Exercise 1.2\n",
    "# Using the dictionary:\n",
    "my_dict = {'names': ['john', 'sally'], 'ages': [12, 33], 'locations': ['austin', 'dallas']}\n",
    "\n",
    "# Complete the statement \"foo = \" so that it contains a list of only AGES.\n",
    "\n",
    "foo = my_dict['ages']\n",
    "\n",
    "print(list(foo) == [12, 33])"
   ]
  },
  {
   "cell_type": "code",
   "execution_count": 143,
   "id": "993909ea",
   "metadata": {},
   "outputs": [
    {
     "name": "stdout",
     "output_type": "stream",
     "text": [
      "True\n"
     ]
    }
   ],
   "source": [
    "# Exercise 1.3\n",
    "# Using the dictionary:\n",
    "my_dict = {'names': ['john', 'sally'], 'ages': [12, 33], 'locations': ['austin', 'dallas']}\n",
    "\n",
    "# Complete the statement \"foo = \" so that it contains a list of only LOCATIONS.\n",
    "\n",
    "foo = my_dict['locations']\n",
    "\n",
    "print(list(foo) == ['austin', 'dallas'])"
   ]
  },
  {
   "cell_type": "code",
   "execution_count": 144,
   "id": "cbc8f68a",
   "metadata": {},
   "outputs": [],
   "source": [
    "# Section 2"
   ]
  },
  {
   "cell_type": "code",
   "execution_count": 145,
   "id": "9f450c57",
   "metadata": {},
   "outputs": [],
   "source": [
    "# Exercise 2.0\n",
    "# Here is a larger dictionary:\n",
    "\n",
    "larger_dict = {'names': ['john', 'sally', 'martha', 'frank', 'ashley'], 'ages': [12, 33, 25, 10, 5], 'locations': [{'austin': ['north', 'south']}, 'plano', {'houston': ['west', 'north']}, 'dallas', 'waco']}\n",
    "\n",
    "# We can make some purely visual fomatting changes to make it more human-readable:\n",
    "\n",
    "larger_dict = {'names': ['john', 'sally', 'martha', 'frank', 'ashley'], \n",
    "               'ages': [12, 33, 25, 10, 5], \n",
    "               'locations': [{'austin': ['north', 'south']}, \n",
    "                             'plano', \n",
    "                             {'houston': ['west', 'north']}, \n",
    "                             'dallas', \n",
    "                             'waco']}"
   ]
  },
  {
   "cell_type": "code",
   "execution_count": 146,
   "id": "b53bc248",
   "metadata": {},
   "outputs": [
    {
     "name": "stdout",
     "output_type": "stream",
     "text": [
      "True\n"
     ]
    }
   ],
   "source": [
    "# Exercise 2.1\n",
    "# Using the dictionary:\n",
    "larger_dict = {'names': ['john', 'sally', 'martha', 'frank', 'ashley'], \n",
    "               'ages': [12, 33, 25, 10, 5], \n",
    "               'locations': [{'austin': ['north', 'south']}, \n",
    "                             'plano', \n",
    "                             {'houston': ['west', 'north']}, \n",
    "                             'dallas', \n",
    "                             'waco']}\n",
    "\n",
    "# Complete the statement \"foo = \" so that it only contains each NAME.\n",
    "\n",
    "foo = larger_dict['names']\n",
    "\n",
    "print(list(foo) == ['john', 'sally', 'martha', 'frank', 'ashley'])"
   ]
  },
  {
   "cell_type": "code",
   "execution_count": 147,
   "id": "55accbcc",
   "metadata": {},
   "outputs": [
    {
     "name": "stdout",
     "output_type": "stream",
     "text": [
      "True\n"
     ]
    }
   ],
   "source": [
    "# Exercise 2.2\n",
    "# Using the dictionary:\n",
    "larger_dict = {'names': ['john', 'sally', 'martha', 'frank', 'ashley'], \n",
    "               'ages': [12, 33, 25, 10, 5], \n",
    "               'locations': [{'austin': ['north', 'south']}, \n",
    "                             'plano', \n",
    "                             {'houston': ['west', 'north']}, \n",
    "                             'dallas', \n",
    "                             'waco']}\n",
    "\n",
    "# Complete the statement \"foo = \" so that it only contains the location DALLAS.\n",
    "\n",
    "foo = larger_dict['locations'][3]\n",
    "\n",
    "print(foo == 'dallas')"
   ]
  },
  {
   "cell_type": "code",
   "execution_count": 148,
   "id": "e45e581c",
   "metadata": {},
   "outputs": [
    {
     "name": "stdout",
     "output_type": "stream",
     "text": [
      "True\n"
     ]
    }
   ],
   "source": [
    "# Exercise 2.3\n",
    "# Using the dictionary:\n",
    "larger_dict = {'names': ['john', 'sally', 'martha', 'frank', 'ashley'], \n",
    "               'ages': [12, 33, 25, 10, 5], \n",
    "               'locations': [{'austin': ['north', 'south']}, \n",
    "                             'plano', \n",
    "                             {'houston': ['west', 'north']}, \n",
    "                             'dallas', \n",
    "                             'waco']}\n",
    "\n",
    "# Complete the statement \"foo = \" so that it contains all the location information about AUSTIN and its locations.\n",
    "\n",
    "foo = larger_dict['locations'][0]            # remove one\n",
    "foo = larger_dict['locations'][0]['austin']  # remove one\n",
    "\n",
    "print(foo == {'austin': ['north', 'south']} or foo == ['north', 'south'])"
   ]
  },
  {
   "cell_type": "code",
   "execution_count": 149,
   "id": "1e647193",
   "metadata": {},
   "outputs": [
    {
     "name": "stdout",
     "output_type": "stream",
     "text": [
      "True\n"
     ]
    }
   ],
   "source": [
    "# Exercise 2.4\n",
    "# Using the dictionary:\n",
    "larger_dict = {'names': ['john', 'sally', 'martha', 'frank', 'ashley'], \n",
    "               'ages': [12, 33, 25, 10, 5], \n",
    "               'locations': [{'austin': ['north', 'south']}, \n",
    "                             'plano', \n",
    "                             {'houston': ['west', 'north']}, \n",
    "                             'dallas', \n",
    "                             'waco']}\n",
    "\n",
    "# Complete the statement \"foo = \" so that it only contains the different Austin locations (such as North, South, East, West).\n",
    "\n",
    "foo = larger_dict['locations'][0]['austin']\n",
    "\n",
    "print(list(foo) == ['north', 'south'])"
   ]
  },
  {
   "cell_type": "code",
   "execution_count": 150,
   "id": "ef99bbbc",
   "metadata": {},
   "outputs": [],
   "source": [
    "# Section 3"
   ]
  },
  {
   "cell_type": "code",
   "execution_count": 151,
   "id": "4c38fcb5",
   "metadata": {},
   "outputs": [
    {
     "name": "stdout",
     "output_type": "stream",
     "text": [
      "True\n"
     ]
    }
   ],
   "source": [
    "# Exercise 3.0\n",
    "# The location formatting of that dictionary is a bit wonky.\n",
    "\n",
    "# Let us use a different location format.\n",
    "new_dict = {'names': ['john', 'sally', 'martha', 'frank', 'ashley'], \n",
    "            'ages': [12, 33, 25, 10, 5], \n",
    "            'locations': {'austin': ['north', 'south'], 'dallas': 'east', 'houston': ['west', 'north']}}\n",
    "\n",
    "# Using this new dictionary:\n",
    "# Complete the statement \"foo = \" so that it only contains each cities (such as Austin, Houston, Dallas...).\n",
    "# Hint: this can be done using a dictionary method.\n",
    "\n",
    "foo = new_dict['locations'].keys()\n",
    "\n",
    "print(list(foo) == ['austin', 'dallas', 'houston'])"
   ]
  },
  {
   "cell_type": "code",
   "execution_count": 152,
   "id": "8a437a26",
   "metadata": {},
   "outputs": [
    {
     "name": "stdout",
     "output_type": "stream",
     "text": [
      "True\n"
     ]
    }
   ],
   "source": [
    "# Exercise 3.1\n",
    "# Using this dictionary:\n",
    "new_dict = {'names': ['john', 'sally', 'martha', 'frank', 'ashley'], \n",
    "            'ages': [12, 33, 25, 10, 5], \n",
    "            'locations': {'austin': ['north', 'south'], 'dallas': 'east', 'houston': ['west', 'north']}}\n",
    "\n",
    "# Complete the statement \"foo = \" so that it only contains the different Houston locations (North, South, East, West).\n",
    "\n",
    "foo = new_dict['locations']['houston']\n",
    "\n",
    "print(list(foo) == ['west', 'north'])"
   ]
  },
  {
   "cell_type": "code",
   "execution_count": 153,
   "id": "e80518c0",
   "metadata": {},
   "outputs": [
    {
     "name": "stdout",
     "output_type": "stream",
     "text": [
      "True\n"
     ]
    }
   ],
   "source": [
    "# Exercise 3.2\n",
    "# Using the dictionary:\n",
    "new_dict = {'names': ['john', 'sally', 'martha', 'frank', 'ashley'], \n",
    "            'ages': [12, 33, 25, 10, 5], \n",
    "            'locations': {'austin': ['north', 'south'], 'dallas': 'east', 'houston': ['west', 'north']}}\n",
    "\n",
    "# Complete the statement \"foo = \" so that it only contains North, South, East, or West, but not the city name.\n",
    "# Hint: this can be done using a dictionary method.\n",
    "\n",
    "foo = new_dict['locations'].values()\n",
    "\n",
    "print(list(foo) == [['north', 'south'], 'east', ['west', 'north']])"
   ]
  },
  {
   "cell_type": "code",
   "execution_count": 154,
   "id": "b6f925fc",
   "metadata": {},
   "outputs": [
    {
     "name": "stdout",
     "output_type": "stream",
     "text": [
      "True\n"
     ]
    }
   ],
   "source": [
    "# Exercise 3.3\n",
    "# Using the dictionary:\n",
    "new_dict = {'names': ['john', 'sally', 'martha', 'frank', 'ashley'], \n",
    "            'ages': [12, 33, 25, 10, 5], \n",
    "            'locations': {'austin': ['north', 'south'], 'dallas': 'east', 'houston': ['west', 'north']}}\n",
    "\n",
    "# Complete the statement \"foo = \" so that it only contains the Austin location 'south'.\n",
    "\n",
    "foo = new_dict['locations']['austin'][1]\n",
    "\n",
    "print(foo == 'south')"
   ]
  },
  {
   "cell_type": "code",
   "execution_count": 155,
   "id": "6b1ed775",
   "metadata": {},
   "outputs": [
    {
     "name": "stdout",
     "output_type": "stream",
     "text": [
      "True\n"
     ]
    }
   ],
   "source": [
    "# Exercise 3.4\n",
    "# Using the dictionary:\n",
    "new_dict = {'names': ['john', 'sally', 'martha', 'frank', 'ashley'], \n",
    "            'ages': [12, 33, 25, 10, 5], \n",
    "            'locations': {'austin': ['north', 'south'], 'dallas': 'east', 'houston': ['west', 'north']}}\n",
    "\n",
    "# Complete the statement \"foo = \" so that it only contains the Houston location 'west'.\n",
    "\n",
    "foo = new_dict['locations']['houston'][0]\n",
    "\n",
    "print(foo == 'west')"
   ]
  },
  {
   "cell_type": "code",
   "execution_count": 156,
   "id": "f85ee31c",
   "metadata": {},
   "outputs": [],
   "source": [
    "# Section 4"
   ]
  },
  {
   "cell_type": "code",
   "execution_count": 157,
   "id": "6db37c04",
   "metadata": {},
   "outputs": [
    {
     "name": "stdout",
     "output_type": "stream",
     "text": [
      "True\n"
     ]
    }
   ],
   "source": [
    "# Exercise 4.0\n",
    "# Using the dictionary:\n",
    "new_dict = {'names': ['john', 'sally', 'martha', 'frank', 'ashley'], \n",
    "            'ages': [12, 33, 25, 10, 5], \n",
    "            'locations': {'austin': ['north', 'south'], 'dallas': 'east', 'houston': ['west', 'north']}}\n",
    "\n",
    "# Using the variable \"bar\", complete \"foo = \" so that 'frank' is assigned to the variable \"foo\".\n",
    "bar = new_dict['names']\n",
    "\n",
    "foo = bar[3]\n",
    "\n",
    "print(foo == 'frank')"
   ]
  },
  {
   "cell_type": "code",
   "execution_count": 158,
   "id": "5c2ff84d",
   "metadata": {},
   "outputs": [
    {
     "name": "stdout",
     "output_type": "stream",
     "text": [
      "True\n"
     ]
    }
   ],
   "source": [
    "# Exercise 4.1\n",
    "# Using the dictionary:\n",
    "new_dict = {'names': ['john', 'sally', 'martha', 'frank', 'ashley'], \n",
    "            'ages': [12, 33, 25, 10, 5], \n",
    "            'locations': {'austin': ['north', 'south'], 'dallas': 'east', 'houston': ['west', 'north']}}\n",
    "\n",
    "# Using the variable \"bar\", complete \"foo = \" so that 33 is assigned to the variable \"foo\".\n",
    "bar = new_dict['ages']\n",
    "\n",
    "foo = bar[1]\n",
    "\n",
    "print(foo == 33)"
   ]
  },
  {
   "cell_type": "code",
   "execution_count": 159,
   "id": "e9c2e8c5",
   "metadata": {},
   "outputs": [
    {
     "name": "stdout",
     "output_type": "stream",
     "text": [
      "True\n"
     ]
    }
   ],
   "source": [
    "# Exercise 4.2\n",
    "# Using the dictionary:\n",
    "new_dict = {'names': ['john', 'sally', 'martha', 'frank', 'ashley'], \n",
    "            'ages': [12, 33, 25, 10, 5], \n",
    "            'locations': {'austin': ['north', 'south'], 'dallas': 'east', 'houston': ['west', 'north']}}\n",
    "\n",
    "# Using the variable \"bar\", complete \"foo = \" so that only city names are assigned to the variable \"foo\".\n",
    "bar = new_dict['locations']\n",
    "\n",
    "foo = bar.keys()\n",
    "\n",
    "print(list(foo) == ['austin', 'dallas', 'houston'])"
   ]
  },
  {
   "cell_type": "code",
   "execution_count": 160,
   "id": "865c9236",
   "metadata": {},
   "outputs": [
    {
     "name": "stdout",
     "output_type": "stream",
     "text": [
      "True\n"
     ]
    }
   ],
   "source": [
    "# Exercise 4.3\n",
    "# Using the dictionary:\n",
    "new_dict = {'names': ['john', 'sally', 'martha', 'frank', 'ashley'], \n",
    "            'ages': [12, 33, 25, 10, 5], \n",
    "            'locations': {'austin': ['north', 'south'], 'dallas': 'east', 'houston': ['west', 'north']}}\n",
    "\n",
    "# Using the variable \"second_level\", complete \"foo = \" so that the 'south' Austin location is assigned to the variable \"foo\".\n",
    "first_level = new_dict['locations']\n",
    "second_level = first_level['austin']\n",
    "\n",
    "foo = second_level[1]\n",
    "\n",
    "print(foo == 'south')"
   ]
  },
  {
   "cell_type": "code",
   "execution_count": 1,
   "id": "d6836d1d",
   "metadata": {},
   "outputs": [
    {
     "name": "stdout",
     "output_type": "stream",
     "text": [
      "True\n"
     ]
    }
   ],
   "source": [
    "# Exercise 4.4\n",
    "# Using the dictionary:\n",
    "new_dict = {'names': ['john', 'sally', 'martha', 'frank', 'ashley'], \n",
    "            'ages': [12, 33, 25, 10, 5], \n",
    "            'locations': {'austin': ['north', 'south'], 'dallas': 'east', 'houston': ['west', 'north']}}\n",
    "\n",
    "# Complete the missing statements so that the 'west' Houston location is assigned to the variable \"foo\".\n",
    "\n",
    "first_level = new_dict['locations']\n",
    "second_level = first_level['houston']\n",
    "third_level = second_level[0]\n",
    "\n",
    "foo = third_level\n",
    "\n",
    "print(foo == 'west')"
   ]
  },
  {
   "cell_type": "code",
   "execution_count": null,
   "id": "b0027ce5",
   "metadata": {
    "collapsed": true
   },
   "outputs": [],
   "source": [
    "# Notice that each time you access data using,\n",
    "# for example, my_dict['something'] or\n",
    "# my_list[an_int], you can then access nested data\n",
    "# as if that whole statement is now a new object.\n",
    "#\n",
    "# If we have my_dict = {'my_list': [1, 2, 3]},\n",
    "# my_dict['my_list'] is equivilant to [1, 2, 3].\n",
    "# So, my_dict['my_list'][0] is equivilant to 1, as if \n",
    "# we were directly getting the zero index of [1, 2, 3].\n",
    "#\n",
    "# This example applied to dictionaries:\n",
    "# If my_dict = {'my_nested_dict': {key: value}},\n",
    "# my_dict['my_nested_dict'] is equivilant to {key: value}.\n",
    "#\n",
    "# Another example:\n",
    "# Given, my_list = [{key1: value1}, {key2: value2}],\n",
    "# my_list[index_0] is equal to {key1: value1},\n",
    "# and my_list[index_0]['key1'] is equivilant to value1"
   ]
  }
 ],
 "metadata": {
  "kernelspec": {
   "display_name": "Python 3 (ipykernel)",
   "language": "python",
   "name": "python3"
  },
  "language_info": {
   "codemirror_mode": {
    "name": "ipython",
    "version": 3
   },
   "file_extension": ".py",
   "mimetype": "text/x-python",
   "name": "python",
   "nbconvert_exporter": "python",
   "pygments_lexer": "ipython3",
   "version": "3.10.2"
  }
 },
 "nbformat": 4,
 "nbformat_minor": 5
}
