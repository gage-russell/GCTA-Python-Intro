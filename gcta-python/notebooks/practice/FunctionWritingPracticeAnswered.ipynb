{
 "cells": [
  {
   "cell_type": "code",
   "execution_count": null,
   "id": "77fbae3e",
   "metadata": {},
   "outputs": [],
   "source": [
    "# write a function which makes this cell print True\n",
    "\n",
    "def my_function(a, b):\n",
    "    return a-b\n",
    "\n",
    "# write your function above this comment\n",
    "\n",
    "foo = my_function(5, 4)\n",
    "\n",
    "print(foo == 1)"
   ]
  },
  {
   "cell_type": "code",
   "execution_count": null,
   "id": "3b923aa3",
   "metadata": {},
   "outputs": [],
   "source": [
    "# write a function which makes this cell print True\n",
    "\n",
    "def my_function(a):\n",
    "    return a[-1]\n",
    "\n",
    "# write your function above this comment\n",
    "\n",
    "foo = my_function('abc')\n",
    "\n",
    "print(foo == 'c')"
   ]
  },
  {
   "cell_type": "code",
   "execution_count": null,
   "id": "01ec1f20",
   "metadata": {},
   "outputs": [],
   "source": [
    "# write a function which makes this cell print True\n",
    "\n",
    "def my_function(a):\n",
    "    return a['c']\n",
    "\n",
    "# write your function above this comment\n",
    "\n",
    "my_dict = {'a': 1, 'b': 2, 'c': 3}\n",
    "foo = my_function(my_dict)\n",
    "\n",
    "print(foo == 3)"
   ]
  },
  {
   "cell_type": "code",
   "execution_count": null,
   "id": "9fd7048c",
   "metadata": {},
   "outputs": [],
   "source": [
    "# write a function which makes this cell print True\n",
    "\n",
    "def my_function(the_list):\n",
    "    return the_list[0]\n",
    "\n",
    "# write your function above this comment\n",
    "\n",
    "my_list = [7, 9, 8]\n",
    "foo = my_function(the_list=my_list)\n",
    "\n",
    "print(foo == 7)"
   ]
  },
  {
   "cell_type": "code",
   "execution_count": null,
   "id": "a700a5d9",
   "metadata": {},
   "outputs": [],
   "source": []
  }
 ],
 "metadata": {
  "kernelspec": {
   "display_name": "Python 3 (ipykernel)",
   "language": "python",
   "name": "python3"
  },
  "language_info": {
   "codemirror_mode": {
    "name": "ipython",
    "version": 3
   },
   "file_extension": ".py",
   "mimetype": "text/x-python",
   "name": "python",
   "nbconvert_exporter": "python",
   "pygments_lexer": "ipython3",
   "version": "3.8.9"
  }
 },
 "nbformat": 4,
 "nbformat_minor": 5
}
