{
 "cells": [
  {
   "cell_type": "code",
   "execution_count": null,
   "id": "260f2f6c",
   "metadata": {},
   "outputs": [],
   "source": [
    "def my_function(a, b):\n",
    "    return a - b\n",
    "\n",
    "\n",
    "foo = my_function(7, 3)\n",
    "\n",
    "# create a variable z below such that this cell prints True\n",
    "\n",
    "\n",
    "print(foo == z)"
   ]
  },
  {
   "cell_type": "code",
   "execution_count": null,
   "id": "a475721b",
   "metadata": {},
   "outputs": [],
   "source": [
    "def my_function(a, b):\n",
    "    return a - b\n",
    "\n",
    "\n",
    "foo = my_function(b=7, a=3)\n",
    "\n",
    "# create a variable z below such that this cell prints True\n",
    "\n",
    "\n",
    "print(foo == z)"
   ]
  },
  {
   "cell_type": "code",
   "execution_count": null,
   "id": "47416e99",
   "metadata": {},
   "outputs": [],
   "source": [
    "def my_function(a, b=9):\n",
    "    return a - b\n",
    "\n",
    "\n",
    "foo = my_function(10)\n",
    "\n",
    "# create a variable z below such that this cell prints True\n",
    "\n",
    "\n",
    "print(foo == z)"
   ]
  },
  {
   "cell_type": "code",
   "execution_count": null,
   "id": "22308eab",
   "metadata": {},
   "outputs": [],
   "source": [
    "def my_function(a, b=9):\n",
    "    return a - b\n",
    "\n",
    "\n",
    "foo = my_function(10, 4)\n",
    "\n",
    "# create a variable z below such that this cell prints True\n",
    "\n",
    "\n",
    "print(foo == z)"
   ]
  },
  {
   "cell_type": "code",
   "execution_count": null,
   "id": "e4be885a",
   "metadata": {},
   "outputs": [],
   "source": [
    "def my_function(a, b=9):\n",
    "    return a - b\n",
    "\n",
    "\n",
    "foo = my_function(a=7, b=5)\n",
    "\n",
    "# create a variable z below such that this cell prints True\n",
    "\n",
    "\n",
    "print(foo == z)"
   ]
  },
  {
   "cell_type": "code",
   "execution_count": null,
   "id": "db1d63fe",
   "metadata": {},
   "outputs": [],
   "source": [
    "def my_function(a, b=9):\n",
    "    return a - b\n",
    "\n",
    "\n",
    "foo = my_function(a=7)\n",
    "\n",
    "# create a variable z below such that this cell prints True\n",
    "\n",
    "\n",
    "print(foo == z)"
   ]
  },
  {
   "cell_type": "code",
   "execution_count": null,
   "id": "ad8b2db1",
   "metadata": {},
   "outputs": [],
   "source": [
    "def my_function(a=10, b=9):\n",
    "    return a - b\n",
    "\n",
    "\n",
    "foo = my_function(a=20)\n",
    "\n",
    "# create a variable z below such that this cell prints True\n",
    "\n",
    "\n",
    "print(foo == z)"
   ]
  },
  {
   "cell_type": "code",
   "execution_count": null,
   "id": "9d731c04",
   "metadata": {},
   "outputs": [],
   "source": [
    "def my_function(a=10, b=9):\n",
    "    return a - b\n",
    "\n",
    "\n",
    "foo = my_function(a=20, b=1)\n",
    "\n",
    "# create a variable z below such that this cell prints True\n",
    "\n",
    "\n",
    "print(foo == z)"
   ]
  },
  {
   "cell_type": "code",
   "execution_count": null,
   "id": "ad39421e",
   "metadata": {},
   "outputs": [],
   "source": [
    "def my_function(a=10, b=9):\n",
    "    return a - b\n",
    "\n",
    "\n",
    "foo = my_function(b=1, a=20)\n",
    "\n",
    "# create a variable z below such that this cell prints True\n",
    "\n",
    "\n",
    "print(foo == z)"
   ]
  },
  {
   "cell_type": "code",
   "execution_count": null,
   "id": "1433a8b9",
   "metadata": {},
   "outputs": [],
   "source": [
    "def my_function(a=10, b=9):\n",
    "    return a - b\n",
    "\n",
    "\n",
    "foo = my_function(5, 3)\n",
    "\n",
    "# create a variable z below such that this cell prints True\n",
    "\n",
    "\n",
    "print(foo == z)"
   ]
  },
  {
   "cell_type": "code",
   "execution_count": null,
   "id": "b9277aa9",
   "metadata": {},
   "outputs": [],
   "source": [
    "def my_function(a=10, b=9):\n",
    "    return a - b\n",
    "\n",
    "\n",
    "foo = my_function()\n",
    "\n",
    "# create a variable z below such that this cell prints True\n",
    "\n",
    "\n",
    "print(foo == z)"
   ]
  },
  {
   "cell_type": "code",
   "execution_count": null,
   "id": "19bf2122",
   "metadata": {},
   "outputs": [],
   "source": [
    "def my_function(a=3, b=1):\n",
    "    return a - b\n",
    "\n",
    "\n",
    "foo = my_function()\n",
    "\n",
    "# create a variable z below such that this cell prints True\n",
    "\n",
    "\n",
    "print(foo == z)"
   ]
  },
  {
   "cell_type": "code",
   "execution_count": null,
   "id": "77bad5ec",
   "metadata": {},
   "outputs": [],
   "source": [
    "def my_function(a=3, b=1):\n",
    "    return a - b\n",
    "\n",
    "\n",
    "foo = my_function(7, 6)\n",
    "\n",
    "# create a variable z below such that this cell prints True\n",
    "\n",
    "\n",
    "print(foo == z)"
   ]
  },
  {
   "cell_type": "code",
   "execution_count": null,
   "id": "a7ca67f7",
   "metadata": {},
   "outputs": [],
   "source": []
  }
 ],
 "metadata": {
  "kernelspec": {
   "display_name": "Python 3 (ipykernel)",
   "language": "python",
   "name": "python3"
  },
  "language_info": {
   "codemirror_mode": {
    "name": "ipython",
    "version": 3
   },
   "file_extension": ".py",
   "mimetype": "text/x-python",
   "name": "python",
   "nbconvert_exporter": "python",
   "pygments_lexer": "ipython3",
   "version": "3.8.9"
  }
 },
 "nbformat": 4,
 "nbformat_minor": 5
}
