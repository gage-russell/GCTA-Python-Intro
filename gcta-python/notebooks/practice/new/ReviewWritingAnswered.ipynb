{
 "cells": [
  {
   "cell_type": "code",
   "execution_count": null,
   "id": "f03cf39c",
   "metadata": {},
   "outputs": [],
   "source": [
    "# review: writing\n",
    "# requirements:\n",
    "#   Google-Fu\n",
    "# ..."
   ]
  },
  {
   "cell_type": "code",
   "execution_count": null,
   "id": "24fadcff",
   "metadata": {},
   "outputs": [],
   "source": [
    "# problem 1.0\n",
    "\n",
    "# student names\n",
    "\n",
    "# Zelda\n",
    "# Karl\n",
    "# Floyd\n",
    "# Thelma\n",
    "# Kurt\n",
    "# Jodi\n",
    "# Sophie\n",
    "# Alice"
   ]
  },
  {
   "cell_type": "code",
   "execution_count": 6,
   "id": "01b7028b",
   "metadata": {},
   "outputs": [
    {
     "name": "stdout",
     "output_type": "stream",
     "text": [
      "['Zelda', 'Karl', 'Floyd', 'Thelma', 'Kurt', 'Jodi', 'Sophie', 'Alice']\n"
     ]
    }
   ],
   "source": [
    "# problem 1.1\n",
    "\n",
    "# define a variable nammed \"students\", and have it contain a list of all the names \n",
    "# of the students in the cell above (preserve order). print that list in its\n",
    "# entirety\n",
    "\n",
    "students = ['Zelda', 'Karl', 'Floyd', 'Thelma', 'Kurt', 'Jodi', 'Sophie', 'Alice']\n",
    "print(students)\n"
   ]
  },
  {
   "cell_type": "code",
   "execution_count": 7,
   "id": "8d176534",
   "metadata": {},
   "outputs": [
    {
     "name": "stdout",
     "output_type": "stream",
     "text": [
      "Zelda\n",
      "Karl\n",
      "Floyd\n",
      "Thelma\n",
      "Kurt\n",
      "Jodi\n",
      "Sophie\n",
      "Alice\n"
     ]
    }
   ],
   "source": [
    "# probelm 1.2\n",
    "\n",
    "# write a script that prints out the names of each student in the class, one name\n",
    "# per line\n",
    "\n",
    "for each_student in students:\n",
    "    print(each_student)\n"
   ]
  },
  {
   "cell_type": "code",
   "execution_count": 8,
   "id": "c8b689a2",
   "metadata": {},
   "outputs": [
    {
     "name": "stdout",
     "output_type": "stream",
     "text": [
      "['Alice', 'Floyd', 'Jodi', 'Karl', 'Kurt', 'Sophie', 'Thelma', 'Zelda']\n"
     ]
    }
   ],
   "source": [
    "# probelm 1.3\n",
    "\n",
    "# write a script that uses the .sort() method to sort the list inplace,\n",
    "# and print the entire sorted list on a single line\n",
    "\n",
    "students.sort()\n",
    "print(students)\n"
   ]
  },
  {
   "cell_type": "code",
   "execution_count": 21,
   "id": "bdad935b",
   "metadata": {},
   "outputs": [
    {
     "name": "stdout",
     "output_type": "stream",
     "text": [
      "Alice\n",
      "transfered\n",
      "Jodi\n",
      "Karl\n",
      "Kurt\n",
      "transfered\n",
      "Thelma\n",
      "Zelda\n"
     ]
    }
   ],
   "source": [
    "# probelm 1.4\n",
    "\n",
    "# iterate over the \"students\" list, print each name on a new line,\n",
    "# and when you get to Floyd or Sophie, print 'transfered'\n",
    "\n",
    "for each_student in students:\n",
    "    if each_student == 'Floyd' or each_student == 'Sophie':\n",
    "        print('transfered')\n",
    "    else:\n",
    "        print(each_student)\n",
    "        \n",
    "# another example solution\n",
    "# for each_student in students:\n",
    "#     if each_student == 'Floyd' or each_student == 'Sophie':\n",
    "#         print('transfered')\n",
    "#         continue\n",
    "\n",
    "#     print(each_student)\n"
   ]
  },
  {
   "cell_type": "code",
   "execution_count": 25,
   "id": "0bfb2b2f",
   "metadata": {},
   "outputs": [],
   "source": [
    "# problem 2.0\n",
    "\n",
    "# numbers\n",
    "\n",
    "# 5\n",
    "# -5\n",
    "# 7\n",
    "# 4\n",
    "# 8\n",
    "# -6\n",
    "# 2\n",
    "# 9\n",
    "# 0\n",
    "# -3"
   ]
  },
  {
   "cell_type": "code",
   "execution_count": 28,
   "id": "777e3860",
   "metadata": {},
   "outputs": [],
   "source": [
    "# problem 2.1\n",
    "\n",
    "# define a variable nammed \"numbers\", and have it contain a list of all the\n",
    "# numbers found in the cell above (preserve order). print that list in its\n",
    "# entirety\n",
    "\n",
    "numbers = [5, -5, 7, 4, 8, -6, 2, 9, 0, -3]\n"
   ]
  },
  {
   "cell_type": "code",
   "execution_count": 29,
   "id": "f259bf99",
   "metadata": {},
   "outputs": [
    {
     "name": "stdout",
     "output_type": "stream",
     "text": [
      "[-6, -5, -3, 0, 2, 4, 5, 7, 8, 9]\n"
     ]
    }
   ],
   "source": [
    "# probelm 2.2\n",
    "\n",
    "# write a script that uses the .sort() method to sort the list inplace,\n",
    "# and print the entire sorted list on a single line\n",
    "\n",
    "numbers.sort()\n",
    "print(numbers)\n"
   ]
  },
  {
   "cell_type": "code",
   "execution_count": 34,
   "id": "4f3fd4ed",
   "metadata": {},
   "outputs": [
    {
     "name": "stdout",
     "output_type": "stream",
     "text": [
      "-5\n",
      "-3\n",
      "5\n"
     ]
    }
   ],
   "source": [
    "# probelm 2.3\n",
    "\n",
    "# print each number on a new line, skipping even numbers, and stopping\n",
    "# if the lucky number 7 is reached.\n",
    "\n",
    "for each_number in numbers:\n",
    "    if each_number % 2 == 0:\n",
    "        continue\n",
    "    elif each_number == 7:\n",
    "        break\n",
    "    else:\n",
    "        print(each_number)\n"
   ]
  },
  {
   "cell_type": "code",
   "execution_count": null,
   "id": "597cd26e",
   "metadata": {},
   "outputs": [],
   "source": [
    "# pseudocode (FizzBuzz Part 0 of 4)\n",
    "\n",
    "# break up the following problem statement into 4 different, easier, subproblems\n",
    "\n",
    "\n",
    "\"\"\"\n",
    "Print integers 1 to N, but print “Fizz” if an integer is divisible by 3, “Buzz” \n",
    "if an integer is divisible by 5, and “FizzBuzz” if an integer is divisible by \n",
    "both 3 and 5.\n",
    "\"\"\"\n",
    "\n",
    "# Answer:\n",
    "\n",
    "# 1. print integers 1 to N\n",
    "# 2. print “Fizz” if an integer is divisible by 3\n",
    "# 3. print “Buzz” if an integer is divisible by 5\n",
    "# 4. print “FizzBuzz” if an integer is divisible by both 3 and 5\n"
   ]
  },
  {
   "cell_type": "code",
   "execution_count": null,
   "id": "685bd572",
   "metadata": {},
   "outputs": [],
   "source": [
    "# pseudocode (FizzBuzz Part 1 of 4)\n",
    "\n",
    "# solve part 1\n"
   ]
  },
  {
   "cell_type": "code",
   "execution_count": null,
   "id": "42bb7250",
   "metadata": {},
   "outputs": [],
   "source": [
    "# pseudocode (FizzBuzz Part 2 of 4)\n",
    "\n",
    "# solve part 2\n"
   ]
  },
  {
   "cell_type": "code",
   "execution_count": null,
   "id": "4da50ba0",
   "metadata": {},
   "outputs": [],
   "source": [
    "# pseudocode (FizzBuzz Part 3 of 4)\n",
    "\n",
    "# solve part 3\n"
   ]
  },
  {
   "cell_type": "code",
   "execution_count": null,
   "id": "17a06e6d",
   "metadata": {},
   "outputs": [],
   "source": [
    "# pseudocode (FizzBuzz Part 4 of 4)\n",
    "\n",
    "# solve part 4\n"
   ]
  },
  {
   "cell_type": "code",
   "execution_count": null,
   "id": "802dab3c",
   "metadata": {},
   "outputs": [],
   "source": []
  }
 ],
 "metadata": {
  "kernelspec": {
   "display_name": "Python 3 (ipykernel)",
   "language": "python",
   "name": "python3"
  },
  "language_info": {
   "codemirror_mode": {
    "name": "ipython",
    "version": 3
   },
   "file_extension": ".py",
   "mimetype": "text/x-python",
   "name": "python",
   "nbconvert_exporter": "python",
   "pygments_lexer": "ipython3",
   "version": "3.10.2"
  }
 },
 "nbformat": 4,
 "nbformat_minor": 5
}
