{
 "cells": [
  {
   "cell_type": "code",
   "execution_count": 1,
   "id": "c9c6c68e",
   "metadata": {},
   "outputs": [
    {
     "name": "stdout",
     "output_type": "stream",
     "text": [
      "Helper functions successfully loaded!\n"
     ]
    }
   ],
   "source": [
    "%run ./{load}.ipynb"
   ]
  },
  {
   "cell_type": "code",
   "execution_count": null,
   "id": "a95e26f8",
   "metadata": {},
   "outputs": [],
   "source": [
    "# Comparison Operators"
   ]
  },
  {
   "cell_type": "code",
   "execution_count": null,
   "id": "ca29d426",
   "metadata": {},
   "outputs": [],
   "source": [
    "# create a string that contains every comparison\n",
    "# operator with each operator separated by spaces\n",
    "# for example: \"dog cat bird fish\"\n",
    "\n",
    "comparison_operators = \"\"\n",
    "\n",
    "# run the cell to check your answer\n",
    "print(comparison_operator_check(comparison_operators))"
   ]
  },
  {
   "cell_type": "code",
   "execution_count": null,
   "id": "8b26d1c2",
   "metadata": {},
   "outputs": [],
   "source": [
    "# identify the truth value of statement_made\n",
    "statement_made = 1.1 == 1.2\n",
    "\n",
    "# assign your answer to statement_truth\n",
    "statement_truth = None\n",
    "\n",
    "# run the cell to check your answer\n",
    "print(statement_made == statement_truth)"
   ]
  },
  {
   "cell_type": "code",
   "execution_count": null,
   "id": "74116548",
   "metadata": {},
   "outputs": [],
   "source": [
    "# identify the truth value of statement_made\n",
    "statement_made = 3 <= 3\n",
    "\n",
    "# assign your answer to statement_truth\n",
    "statement_truth = None\n",
    "\n",
    "# run the cell to check your answer\n",
    "print(statement_made == statement_truth)"
   ]
  },
  {
   "cell_type": "code",
   "execution_count": null,
   "id": "569e95ae",
   "metadata": {},
   "outputs": [],
   "source": [
    "# identify the truth value of statement_made\n",
    "statement_made = 1 >= 2\n",
    "\n",
    "# assign your answer to statement_truth\n",
    "statement_truth = None\n",
    "\n",
    "# run the cell to check your answer\n",
    "print(statement_made == statement_truth)"
   ]
  },
  {
   "cell_type": "code",
   "execution_count": null,
   "id": "eef71f2d",
   "metadata": {},
   "outputs": [],
   "source": [
    "# identify the truth value of statement_made\n",
    "statement_made = 3 <= 1\n",
    "\n",
    "# assign your answer to statement_truth\n",
    "statement_truth = None\n",
    "\n",
    "# run the cell to check your answer\n",
    "print(statement_made == statement_truth)"
   ]
  },
  {
   "cell_type": "code",
   "execution_count": null,
   "id": "f63d978f",
   "metadata": {},
   "outputs": [],
   "source": [
    "# identify the truth value of statement_made\n",
    "statement_made = 1 != 1.0\n",
    "\n",
    "# assign your answer to statement_truth\n",
    "statement_truth = None\n",
    "\n",
    "# run the cell to check your answer\n",
    "print(statement_made == statement_truth)"
   ]
  },
  {
   "cell_type": "code",
   "execution_count": null,
   "id": "a03c8708",
   "metadata": {},
   "outputs": [],
   "source": [
    "# identify the truth value of statement_made\n",
    "statement_made = 99 > -99\n",
    "\n",
    "# assign your answer to statement_truth\n",
    "statement_truth = None\n",
    "\n",
    "# run the cell to check your answer\n",
    "print(statement_made == statement_truth)"
   ]
  },
  {
   "cell_type": "code",
   "execution_count": null,
   "id": "11cf4d82",
   "metadata": {},
   "outputs": [],
   "source": [
    "# identify the truth value of statement_made\n",
    "statement_made = 7 >= 7\n",
    "\n",
    "# assign your answer to statement_truth\n",
    "statement_truth = None\n",
    "\n",
    "# run the cell to check your answer\n",
    "print(statement_made == statement_truth)"
   ]
  },
  {
   "cell_type": "code",
   "execution_count": null,
   "id": "784cd90a",
   "metadata": {},
   "outputs": [],
   "source": [
    "# identify the truth value of statement_made\n",
    "statement_made = 'fox' == 'foxs'\n",
    "\n",
    "# assign your answer to statement_truth\n",
    "statement_truth = None\n",
    "\n",
    "# run the cell to check your answer\n",
    "print(statement_made == statement_truth)"
   ]
  },
  {
   "cell_type": "code",
   "execution_count": null,
   "id": "bcc03772",
   "metadata": {},
   "outputs": [],
   "source": [
    "# identify the truth value of statement_made\n",
    "statement_made = 'python' != 'Python'\n",
    "\n",
    "# assign your answer to statement_truth\n",
    "statement_truth = None\n",
    "\n",
    "# run the cell to check your answer\n",
    "print(statement_made == statement_truth)"
   ]
  },
  {
   "cell_type": "code",
   "execution_count": null,
   "id": "3cac0230",
   "metadata": {},
   "outputs": [],
   "source": [
    "# identify the truth value of statement_made\n",
    "statement_made = -1.1 < 0.1\n",
    "\n",
    "# assign your answer to statement_truth\n",
    "statement_truth = None\n",
    "\n",
    "# run the cell to check your answer\n",
    "print(statement_made == statement_truth)"
   ]
  },
  {
   "cell_type": "code",
   "execution_count": null,
   "id": "f671b36f",
   "metadata": {},
   "outputs": [],
   "source": [
    "# identify the truth value of statement_made\n",
    "statement_made = 7.0125 == 7.012\n",
    "\n",
    "# assign your answer to statement_truth\n",
    "statement_truth = None\n",
    "\n",
    "# run the cell to check your answer\n",
    "print(statement_made == statement_truth)"
   ]
  },
  {
   "cell_type": "code",
   "execution_count": null,
   "id": "1e1e4111",
   "metadata": {},
   "outputs": [],
   "source": [
    "# identify the truth value of statement_made\n",
    "statement_made = -33 > -32\n",
    "\n",
    "# assign your answer to statement_truth\n",
    "statement_truth = None\n",
    "\n",
    "# run the cell to check your answer\n",
    "print(statement_made == statement_truth)"
   ]
  },
  {
   "cell_type": "code",
   "execution_count": null,
   "id": "540aeeb6",
   "metadata": {},
   "outputs": [],
   "source": [
    "# identify the truth value of statement_made\n",
    "statement_made = 9.0 > 9\n",
    "\n",
    "# assign your answer to statement_truth\n",
    "statement_truth = None\n",
    "\n",
    "# run the cell to check your answer\n",
    "print(statement_made == statement_truth)"
   ]
  },
  {
   "cell_type": "code",
   "execution_count": null,
   "id": "e8dde1e1",
   "metadata": {},
   "outputs": [],
   "source": [
    "# identify the truth value of statement_made\n",
    "statement_made = -88 < 87\n",
    "\n",
    "# assign your answer to statement_truth\n",
    "statement_truth = None\n",
    "\n",
    "# run the cell to check your answer\n",
    "print(statement_made == statement_truth)"
   ]
  },
  {
   "cell_type": "code",
   "execution_count": null,
   "id": "38a95661",
   "metadata": {},
   "outputs": [],
   "source": [
    "# identify the truth value of statement_made\n",
    "statement_made = 1.1 == 1\n",
    "\n",
    "# assign your answer to statement_truth\n",
    "statement_truth = None\n",
    "\n",
    "# run the cell to check your answer\n",
    "print(statement_made == statement_truth)"
   ]
  },
  {
   "cell_type": "code",
   "execution_count": null,
   "id": "b8eafee8",
   "metadata": {},
   "outputs": [],
   "source": [
    "# Comparison Operators Extended"
   ]
  },
  {
   "cell_type": "code",
   "execution_count": null,
   "id": "8c1f33ef",
   "metadata": {},
   "outputs": [],
   "source": [
    "# identify the truth value of statement_made\n",
    "statement_made = -0 == +0\n",
    "\n",
    "# assign your answer to statement_truth\n",
    "statement_truth = None\n",
    "\n",
    "# run the cell to check your answer\n",
    "print(statement_made == statement_truth)"
   ]
  }
 ],
 "metadata": {
  "kernelspec": {
   "display_name": "Python 3 (ipykernel)",
   "language": "python",
   "name": "python3"
  },
  "language_info": {
   "codemirror_mode": {
    "name": "ipython",
    "version": 3
   },
   "file_extension": ".py",
   "mimetype": "text/x-python",
   "name": "python",
   "nbconvert_exporter": "python",
   "pygments_lexer": "ipython3",
   "version": "3.10.2"
  }
 },
 "nbformat": 4,
 "nbformat_minor": 5
}
