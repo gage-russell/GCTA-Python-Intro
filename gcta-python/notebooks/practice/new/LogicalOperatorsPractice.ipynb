{
 "cells": [
  {
   "cell_type": "code",
   "execution_count": 1,
   "id": "f1c3643f",
   "metadata": {},
   "outputs": [
    {
     "name": "stdout",
     "output_type": "stream",
     "text": [
      "Helper functions successfully loaded!\n"
     ]
    }
   ],
   "source": [
    "%run ./{load}.ipynb"
   ]
  },
  {
   "cell_type": "code",
   "execution_count": null,
   "id": "fa515278",
   "metadata": {},
   "outputs": [],
   "source": [
    "# Logical Operators"
   ]
  },
  {
   "cell_type": "code",
   "execution_count": null,
   "id": "b9430095",
   "metadata": {},
   "outputs": [],
   "source": [
    "# identify the truth value of statement_made\n",
    "statement_made = True or True\n",
    "\n",
    "# assign your answer to statement_truth\n",
    "statement_truth = None\n",
    "\n",
    "# run the cell to check your answer\n",
    "print(statement_made == statement_truth)"
   ]
  },
  {
   "cell_type": "code",
   "execution_count": null,
   "id": "6ff2b6a2",
   "metadata": {},
   "outputs": [],
   "source": [
    "# identify the truth value of statement_made\n",
    "statement_made = True and False\n",
    "\n",
    "# assign your answer to statement_truth\n",
    "statement_truth = None\n",
    "\n",
    "# run the cell to check your answer\n",
    "print(statement_made == statement_truth)"
   ]
  },
  {
   "cell_type": "code",
   "execution_count": null,
   "id": "25d673ee",
   "metadata": {},
   "outputs": [],
   "source": [
    "# identify the truth value of statement_made\n",
    "statement_made = not False\n",
    "\n",
    "# assign your answer to statement_truth\n",
    "statement_truth = None\n",
    "\n",
    "# run the cell to check your answer\n",
    "print(statement_made == statement_truth)"
   ]
  },
  {
   "cell_type": "code",
   "execution_count": null,
   "id": "1d112dec",
   "metadata": {},
   "outputs": [],
   "source": [
    "# identify the truth value of statement_made\n",
    "statement_made = False or True\n",
    "\n",
    "# assign your answer to statement_truth\n",
    "statement_truth = None\n",
    "\n",
    "# run the cell to check your answer\n",
    "print(statement_made == statement_truth)"
   ]
  },
  {
   "cell_type": "code",
   "execution_count": null,
   "id": "5910fee8",
   "metadata": {},
   "outputs": [],
   "source": [
    "# identify the truth value of statement_made\n",
    "statement_made = False and False\n",
    "\n",
    "# assign your answer to statement_truth\n",
    "statement_truth = None\n",
    "\n",
    "# run the cell to check your answer\n",
    "print(statement_made == statement_truth)"
   ]
  },
  {
   "cell_type": "code",
   "execution_count": null,
   "id": "8b4afb24",
   "metadata": {},
   "outputs": [],
   "source": [
    "# identify the truth value of statement_made\n",
    "statement_made = True and True\n",
    "\n",
    "# assign your answer to statement_truth\n",
    "statement_truth = None\n",
    "\n",
    "# run the cell to check your answer\n",
    "print(statement_made == statement_truth)"
   ]
  },
  {
   "cell_type": "code",
   "execution_count": null,
   "id": "31eb2954",
   "metadata": {},
   "outputs": [],
   "source": [
    "# identify the truth value of statement_made\n",
    "statement_made = not True\n",
    "\n",
    "# assign your answer to statement_truth\n",
    "statement_truth = None\n",
    "\n",
    "# run the cell to check your answer\n",
    "print(statement_made == statement_truth)"
   ]
  },
  {
   "cell_type": "code",
   "execution_count": null,
   "id": "91f70915",
   "metadata": {},
   "outputs": [],
   "source": [
    "# identify the truth value of statement_made\n",
    "statement_made = True or False or True and False\n",
    "\n",
    "# assign your answer to statement_truth\n",
    "statement_truth = None\n",
    "\n",
    "# run the cell to check your answer\n",
    "print(statement_made == statement_truth)"
   ]
  },
  {
   "cell_type": "code",
   "execution_count": null,
   "id": "f755c549",
   "metadata": {},
   "outputs": [],
   "source": [
    "# identify the truth value of statement_made\n",
    "statement_made = True and False or False and True\n",
    "\n",
    "# assign your answer to statement_truth\n",
    "statement_truth = None\n",
    "\n",
    "# run the cell to check your answer\n",
    "print(statement_made == statement_truth)"
   ]
  },
  {
   "cell_type": "code",
   "execution_count": null,
   "id": "ee80ce59",
   "metadata": {},
   "outputs": [],
   "source": [
    "# identify the truth value of statement_made\n",
    "statement_made = True and False and False or True\n",
    "\n",
    "# assign your answer to statement_truth\n",
    "statement_truth = None\n",
    "\n",
    "# run the cell to check your answer\n",
    "print(statement_made == statement_truth)"
   ]
  },
  {
   "cell_type": "code",
   "execution_count": null,
   "id": "c8e2f5c4",
   "metadata": {},
   "outputs": [],
   "source": [
    "# identify the truth value of statement_made\n",
    "statement_made = False or True and True and False\n",
    "\n",
    "# assign your answer to statement_truth\n",
    "statement_truth = None\n",
    "\n",
    "# run the cell to check your answer\n",
    "print(statement_made == statement_truth)"
   ]
  },
  {
   "cell_type": "code",
   "execution_count": null,
   "id": "3d686378",
   "metadata": {},
   "outputs": [],
   "source": [
    "# identify the truth value of statement_made\n",
    "statement_made = True or False and True or False\n",
    "\n",
    "# assign your answer to statement_truth\n",
    "statement_truth = None\n",
    "\n",
    "# run the cell to check your answer\n",
    "print(statement_made == statement_truth)"
   ]
  },
  {
   "cell_type": "code",
   "execution_count": null,
   "id": "d4f61769",
   "metadata": {},
   "outputs": [],
   "source": [
    "# identify the truth value of statement_made\n",
    "statement_made = False and False and True or False\n",
    "\n",
    "# assign your answer to statement_truth\n",
    "statement_truth = None\n",
    "\n",
    "# run the cell to check your answer\n",
    "print(statement_made == statement_truth)"
   ]
  },
  {
   "cell_type": "code",
   "execution_count": null,
   "id": "bfa1b31c",
   "metadata": {},
   "outputs": [],
   "source": [
    "# Logical Operators Extended\n",
    "# Note: Operator Precedence (first to last): not -> and -> or"
   ]
  },
  {
   "cell_type": "code",
   "execution_count": null,
   "id": "5d94ba31",
   "metadata": {},
   "outputs": [],
   "source": [
    "# identify the truth value of statement_made\n",
    "statement_made = not not False\n",
    "\n",
    "# assign your answer to statement_truth\n",
    "statement_truth = None\n",
    "\n",
    "# run the cell to check your answer\n",
    "print(statement_made == statement_truth)"
   ]
  },
  {
   "cell_type": "code",
   "execution_count": null,
   "id": "7f7b246a",
   "metadata": {},
   "outputs": [],
   "source": [
    "# identify the truth value of statement_made\n",
    "statement_made = not False or True\n",
    "\n",
    "# assign your answer to statement_truth\n",
    "statement_truth = None\n",
    "\n",
    "# run the cell to check your answer\n",
    "print(statement_made == statement_truth)"
   ]
  },
  {
   "cell_type": "code",
   "execution_count": null,
   "id": "3e2e7a9a",
   "metadata": {},
   "outputs": [],
   "source": [
    "# identify the truth value of statement_made\n",
    "statement_made = not True or False\n",
    "\n",
    "# assign your answer to statement_truth\n",
    "statement_truth = None\n",
    "\n",
    "# run the cell to check your answer\n",
    "print(statement_made == statement_truth)"
   ]
  },
  {
   "cell_type": "code",
   "execution_count": null,
   "id": "065106f6",
   "metadata": {},
   "outputs": [],
   "source": [
    "# identify the truth value of statement_made\n",
    "statement_made = False or not False\n",
    "\n",
    "# assign your answer to statement_truth\n",
    "statement_truth = None\n",
    "\n",
    "# run the cell to check your answer\n",
    "print(statement_made == statement_truth)"
   ]
  },
  {
   "cell_type": "code",
   "execution_count": null,
   "id": "34761b6d",
   "metadata": {},
   "outputs": [],
   "source": [
    "# identify the truth value of statement_made\n",
    "statement_made = not True and False or True\n",
    "\n",
    "# assign your answer to statement_truth\n",
    "statement_truth = None\n",
    "\n",
    "# run the cell to check your answer\n",
    "print(statement_made == statement_truth)"
   ]
  },
  {
   "cell_type": "code",
   "execution_count": null,
   "id": "b14ed14c",
   "metadata": {},
   "outputs": [],
   "source": [
    "# identify the truth value of statement_made\n",
    "statement_made = not not True and True\n",
    "\n",
    "# assign your answer to statement_truth\n",
    "statement_truth = None\n",
    "\n",
    "# run the cell to check your answer\n",
    "print(statement_made == statement_truth)"
   ]
  },
  {
   "cell_type": "code",
   "execution_count": null,
   "id": "4a0a9e18",
   "metadata": {},
   "outputs": [],
   "source": [
    "# identify the truth value of statement_made\n",
    "statement_made = False and not False and True or False\n",
    "\n",
    "# assign your answer to statement_truth\n",
    "statement_truth = None\n",
    "\n",
    "# run the cell to check your answer\n",
    "print(statement_made == statement_truth)"
   ]
  },
  {
   "cell_type": "code",
   "execution_count": null,
   "id": "d03e9587",
   "metadata": {},
   "outputs": [],
   "source": [
    "# identify the truth value of statement_made\n",
    "statement_made = not False and not False and True or False\n",
    "\n",
    "# assign your answer to statement_truth\n",
    "statement_truth = None\n",
    "\n",
    "# run the cell to check your answer\n",
    "print(statement_made == statement_truth)"
   ]
  }
 ],
 "metadata": {
  "kernelspec": {
   "display_name": "Python 3 (ipykernel)",
   "language": "python",
   "name": "python3"
  },
  "language_info": {
   "codemirror_mode": {
    "name": "ipython",
    "version": 3
   },
   "file_extension": ".py",
   "mimetype": "text/x-python",
   "name": "python",
   "nbconvert_exporter": "python",
   "pygments_lexer": "ipython3",
   "version": "3.10.2"
  }
 },
 "nbformat": 4,
 "nbformat_minor": 5
}
