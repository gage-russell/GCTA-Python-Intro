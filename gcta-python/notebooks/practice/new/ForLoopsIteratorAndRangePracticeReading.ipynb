{
 "cells": [
  {
   "cell_type": "code",
   "execution_count": null,
   "id": "89b1ba28",
   "metadata": {},
   "outputs": [],
   "source": [
    "# write the answer and check by running the cell"
   ]
  },
  {
   "cell_type": "code",
   "execution_count": null,
   "id": "5a5455d4",
   "metadata": {},
   "outputs": [],
   "source": [
    "# iterator variable review"
   ]
  },
  {
   "cell_type": "code",
   "execution_count": null,
   "id": "51fb32a4",
   "metadata": {},
   "outputs": [],
   "source": [
    "for i in range(3):\n",
    "    print('a')"
   ]
  },
  {
   "cell_type": "code",
   "execution_count": null,
   "id": "cc7af888",
   "metadata": {},
   "outputs": [],
   "source": [
    "for x in range(3):\n",
    "    print(x)"
   ]
  },
  {
   "cell_type": "code",
   "execution_count": null,
   "id": "204aa3bb",
   "metadata": {},
   "outputs": [],
   "source": [
    "for any_variable_name in range(3):\n",
    "    print(any_variable_name)"
   ]
  },
  {
   "cell_type": "code",
   "execution_count": null,
   "id": "af75785c",
   "metadata": {},
   "outputs": [],
   "source": [
    "for each in range(3):\n",
    "    print(each)"
   ]
  },
  {
   "cell_type": "code",
   "execution_count": null,
   "id": "f6a1867e",
   "metadata": {},
   "outputs": [],
   "source": [
    "for each in range(3):\n",
    "    print(each * each)"
   ]
  },
  {
   "cell_type": "code",
   "execution_count": null,
   "id": "4080a1d1",
   "metadata": {},
   "outputs": [],
   "source": [
    "for each_element in range(3):\n",
    "    print(each_element)"
   ]
  },
  {
   "cell_type": "code",
   "execution_count": null,
   "id": "cf110dab",
   "metadata": {},
   "outputs": [],
   "source": [
    "# range review"
   ]
  },
  {
   "cell_type": "code",
   "execution_count": null,
   "id": "29e9dc2e",
   "metadata": {},
   "outputs": [],
   "source": [
    "for i in range(3):\n",
    "    print('a')"
   ]
  },
  {
   "cell_type": "code",
   "execution_count": null,
   "id": "6e5572eb",
   "metadata": {},
   "outputs": [],
   "source": [
    "for x in range(2):\n",
    "    print(x)"
   ]
  },
  {
   "cell_type": "code",
   "execution_count": null,
   "id": "db4592a4",
   "metadata": {},
   "outputs": [],
   "source": [
    "for x in range(0, 2):\n",
    "    print(x)"
   ]
  },
  {
   "cell_type": "code",
   "execution_count": null,
   "id": "e8eb3ad1",
   "metadata": {},
   "outputs": [],
   "source": [
    "for any_variable_name in range(4):\n",
    "    print(any_variable_name)"
   ]
  },
  {
   "cell_type": "code",
   "execution_count": null,
   "id": "35916a15",
   "metadata": {},
   "outputs": [],
   "source": [
    "for any_variable_name in range(1, 4):\n",
    "    print(any_variable_name)"
   ]
  },
  {
   "cell_type": "code",
   "execution_count": null,
   "id": "eea5eaa0",
   "metadata": {},
   "outputs": [],
   "source": [
    "for each in [1, 2, 3]:\n",
    "    print(each)"
   ]
  },
  {
   "cell_type": "code",
   "execution_count": null,
   "id": "6f83a9e5",
   "metadata": {},
   "outputs": [],
   "source": [
    "for each in [1, 2]:\n",
    "    print(42)"
   ]
  },
  {
   "cell_type": "code",
   "execution_count": null,
   "id": "5b72ad98",
   "metadata": {},
   "outputs": [],
   "source": [
    "# range practice\n",
    "# recall: range(start, stop, step)"
   ]
  },
  {
   "cell_type": "code",
   "execution_count": null,
   "id": "47edccb8",
   "metadata": {},
   "outputs": [],
   "source": [
    "for each_element in range(0, 3, 1):\n",
    "    print(each_element)"
   ]
  },
  {
   "cell_type": "code",
   "execution_count": null,
   "id": "fffb2f77",
   "metadata": {},
   "outputs": [],
   "source": [
    "for i in range(1, 3, 1):\n",
    "    print(i)"
   ]
  },
  {
   "cell_type": "code",
   "execution_count": null,
   "id": "d3b5a71d",
   "metadata": {},
   "outputs": [],
   "source": [
    "for i in range(1, 3):\n",
    "    print(i)"
   ]
  },
  {
   "cell_type": "code",
   "execution_count": null,
   "id": "f7e7b8c2",
   "metadata": {},
   "outputs": [],
   "source": [
    "for each_element in range(2, 7, 2):\n",
    "    print(each_element)"
   ]
  },
  {
   "cell_type": "code",
   "execution_count": null,
   "id": "6c21af85",
   "metadata": {},
   "outputs": [],
   "source": [
    "for each in range(1, 6, 2):\n",
    "    print(each)"
   ]
  },
  {
   "cell_type": "code",
   "execution_count": null,
   "id": "2c043dec",
   "metadata": {},
   "outputs": [],
   "source": [
    "for each in range(0, 4, 5):\n",
    "    print(each)"
   ]
  },
  {
   "cell_type": "code",
   "execution_count": null,
   "id": "2c490498",
   "metadata": {},
   "outputs": [],
   "source": [
    "# negative range & special cases\n",
    "\n",
    "# in cells that fail to produce an ouput,\n",
    "# the iterator is equivalent to []"
   ]
  },
  {
   "cell_type": "code",
   "execution_count": null,
   "id": "708b0d47",
   "metadata": {},
   "outputs": [],
   "source": [
    "for each in range(-1, -5, -1):\n",
    "    print(each)"
   ]
  },
  {
   "cell_type": "code",
   "execution_count": null,
   "id": "b838d92e",
   "metadata": {},
   "outputs": [],
   "source": [
    "for each in range(3, -2, -2):\n",
    "    print(each)"
   ]
  },
  {
   "cell_type": "code",
   "execution_count": null,
   "id": "b0f804de",
   "metadata": {},
   "outputs": [],
   "source": [
    "for each in range(3, -2):\n",
    "    print(each)"
   ]
  },
  {
   "cell_type": "code",
   "execution_count": null,
   "id": "c53672ca",
   "metadata": {},
   "outputs": [],
   "source": [
    "for each in range(0, -1, 1):\n",
    "    print(each)"
   ]
  },
  {
   "cell_type": "code",
   "execution_count": null,
   "id": "0703f3ff",
   "metadata": {},
   "outputs": [],
   "source": [
    "[print(each) for each in range(0, -1, 1)]  # this is what that iterable looks like"
   ]
  },
  {
   "cell_type": "code",
   "execution_count": null,
   "id": "9a3834d3",
   "metadata": {},
   "outputs": [],
   "source": [
    "for each in []:  # which is equivilant to this iterator\n",
    "    print(each)"
   ]
  },
  {
   "cell_type": "code",
   "execution_count": null,
   "id": "3718a80f",
   "metadata": {},
   "outputs": [],
   "source": [
    "[] == list(range(0, -1, 1))  # see!"
   ]
  },
  {
   "cell_type": "code",
   "execution_count": null,
   "id": "835cb797",
   "metadata": {},
   "outputs": [],
   "source": [
    "for each in range(-4, -2, 1):\n",
    "    print(each)"
   ]
  },
  {
   "cell_type": "code",
   "execution_count": null,
   "id": "712b8c16",
   "metadata": {},
   "outputs": [],
   "source": [
    "for each in range(-3, -1, -2):\n",
    "    print(each)"
   ]
  },
  {
   "cell_type": "code",
   "execution_count": null,
   "id": "a99d5609",
   "metadata": {},
   "outputs": [],
   "source": [
    "for each in range(-3, -1):\n",
    "    print(each)"
   ]
  },
  {
   "cell_type": "code",
   "execution_count": null,
   "id": "96223446",
   "metadata": {},
   "outputs": [],
   "source": [
    "for each in range(-3, 2, 1):\n",
    "    print(each)"
   ]
  },
  {
   "cell_type": "code",
   "execution_count": null,
   "id": "80bf8a93",
   "metadata": {},
   "outputs": [],
   "source": [
    "for each in range(-2, 1):\n",
    "    print(each)"
   ]
  },
  {
   "cell_type": "code",
   "execution_count": null,
   "id": "844dfc2f",
   "metadata": {},
   "outputs": [],
   "source": [
    "for each in range(-1, -6, -2):\n",
    "    print(each)"
   ]
  },
  {
   "cell_type": "code",
   "execution_count": null,
   "id": "c0f32387",
   "metadata": {},
   "outputs": [],
   "source": [
    "for each in range(-1, -4, -3):\n",
    "    print(each)"
   ]
  },
  {
   "cell_type": "code",
   "execution_count": null,
   "id": "dcd0577e",
   "metadata": {},
   "outputs": [],
   "source": [
    "for each in range(-2, -4, -2):\n",
    "    print(each)"
   ]
  },
  {
   "cell_type": "code",
   "execution_count": null,
   "id": "d3b95834",
   "metadata": {},
   "outputs": [],
   "source": [
    "for each in range(-1, -4, -5):\n",
    "    print(each)"
   ]
  },
  {
   "cell_type": "code",
   "execution_count": null,
   "id": "50c9e451",
   "metadata": {},
   "outputs": [],
   "source": [
    "for each in range(0, 1, -1):\n",
    "    print(each)"
   ]
  },
  {
   "cell_type": "code",
   "execution_count": null,
   "id": "b5ad0925",
   "metadata": {},
   "outputs": [],
   "source": [
    "for each in range(1, 4, -2):\n",
    "    print(each)"
   ]
  },
  {
   "cell_type": "code",
   "execution_count": null,
   "id": "ccd83ce1",
   "metadata": {},
   "outputs": [],
   "source": [
    "for sasquash in range(1, 1):\n",
    "    print(sasquash)"
   ]
  },
  {
   "cell_type": "code",
   "execution_count": null,
   "id": "2adb6c1e",
   "metadata": {},
   "outputs": [],
   "source": [
    "for big_foot in range(0):\n",
    "    print(big_foot)"
   ]
  },
  {
   "cell_type": "code",
   "execution_count": null,
   "id": "6b0eade0",
   "metadata": {},
   "outputs": [],
   "source": [
    "for i in range(0, 1, -1):\n",
    "    print(i)"
   ]
  }
 ],
 "metadata": {
  "kernelspec": {
   "display_name": "Python 3 (ipykernel)",
   "language": "python",
   "name": "python3"
  },
  "language_info": {
   "codemirror_mode": {
    "name": "ipython",
    "version": 3
   },
   "file_extension": ".py",
   "mimetype": "text/x-python",
   "name": "python",
   "nbconvert_exporter": "python",
   "pygments_lexer": "ipython3",
   "version": "3.10.2"
  }
 },
 "nbformat": 4,
 "nbformat_minor": 5
}
