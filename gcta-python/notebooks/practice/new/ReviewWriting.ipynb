{
 "cells": [
  {
   "cell_type": "code",
   "execution_count": null,
   "id": "676e3775",
   "metadata": {},
   "outputs": [],
   "source": [
    "# review: writing\n",
    "# requirements:\n",
    "#   Google-Fu\n",
    "# ..."
   ]
  },
  {
   "cell_type": "code",
   "execution_count": null,
   "id": "1a414ecb",
   "metadata": {},
   "outputs": [],
   "source": [
    "# problem 1.0\n",
    "\n",
    "# student names\n",
    "\n",
    "# Zelda\n",
    "# Karl\n",
    "# Floyd\n",
    "# Thelma\n",
    "# Kurt\n",
    "# Jodi\n",
    "# Sophie\n",
    "# Alice"
   ]
  },
  {
   "cell_type": "code",
   "execution_count": null,
   "id": "bd98e779",
   "metadata": {},
   "outputs": [],
   "source": [
    "# problem 1.1\n",
    "\n",
    "# define a variable nammed \"students\", and have it contain a list of all the names \n",
    "# of the students in the cell above (preserve order). print that list in its\n",
    "# entirety\n"
   ]
  },
  {
   "cell_type": "code",
   "execution_count": null,
   "id": "59abdc51",
   "metadata": {},
   "outputs": [],
   "source": [
    "# probelm 1.2\n",
    "\n",
    "# write a script that prints out the names of each student in the class, one name\n",
    "# per line\n"
   ]
  },
  {
   "cell_type": "code",
   "execution_count": null,
   "id": "cc00b8ed",
   "metadata": {},
   "outputs": [],
   "source": [
    "# probelm 1.3\n",
    "\n",
    "# write a script that uses the .sort() method to sort the list inplace,\n",
    "# and print the entire sorted list on a single line\n"
   ]
  },
  {
   "cell_type": "code",
   "execution_count": null,
   "id": "eb099615",
   "metadata": {},
   "outputs": [],
   "source": [
    "# probelm 1.4\n",
    "\n",
    "# iterate over the \"students\" list, print each name on a new line,\n",
    "# and when you get to Floyd or Sophie, print 'transfered'\n"
   ]
  },
  {
   "cell_type": "code",
   "execution_count": null,
   "id": "cd1617f3",
   "metadata": {},
   "outputs": [],
   "source": [
    "# problem 2.0\n",
    "\n",
    "# numbers\n",
    "\n",
    "# 5\n",
    "# -5\n",
    "# 7\n",
    "# 4\n",
    "# 8\n",
    "# -6\n",
    "# 2\n",
    "# 9\n",
    "# 0\n",
    "# -3"
   ]
  },
  {
   "cell_type": "code",
   "execution_count": null,
   "id": "0dd9eeb0",
   "metadata": {},
   "outputs": [],
   "source": [
    "# problem 2.1\n",
    "\n",
    "# define a variable nammed \"numbers\", and have it contain a list of all the\n",
    "# numbers found in the cell above (preserve order). print that list in its\n",
    "# entirety\n"
   ]
  },
  {
   "cell_type": "code",
   "execution_count": null,
   "id": "8fdb3c27",
   "metadata": {},
   "outputs": [],
   "source": [
    "# probelm 2.2\n",
    "\n",
    "# write a script that uses the .sort() method to sort the list inplace,\n",
    "# and print the entire sorted list on a single line\n"
   ]
  },
  {
   "cell_type": "code",
   "execution_count": null,
   "id": "14c48d60",
   "metadata": {},
   "outputs": [],
   "source": [
    "# probelm 2.3\n",
    "\n",
    "# print each number on a new line, skipping even numbers, and stopping\n",
    "# if the lucky number 7 is reached.\n"
   ]
  },
  {
   "cell_type": "code",
   "execution_count": null,
   "id": "33c260e2",
   "metadata": {},
   "outputs": [],
   "source": [
    "# pseudocode (FizzBuzz Part 0 of 4)\n",
    "\n",
    "# break up the following problem statement into 4 different, easier, subproblems\n",
    "\n",
    "\n",
    "\"\"\"\n",
    "Print integers 1 to N, but print “Fizz” if an integer is divisible by 3, “Buzz” \n",
    "if an integer is divisible by 5, and “FizzBuzz” if an integer is divisible by \n",
    "both 3 and 5.\n",
    "\"\"\"\n",
    "\n",
    "# Answer:\n",
    "\n",
    "# 1. print integers 1 to N\n",
    "# 2. print “Fizz” if an integer is divisible by 3\n",
    "# 3. print “Buzz” if an integer is divisible by 5\n",
    "# 4. print “FizzBuzz” if an integer is divisible by both 3 and 5\n"
   ]
  },
  {
   "cell_type": "code",
   "execution_count": null,
   "id": "6af4f89f",
   "metadata": {},
   "outputs": [],
   "source": [
    "# pseudocode (FizzBuzz Part 1 of 4)\n",
    "\n",
    "# solve part 1\n"
   ]
  },
  {
   "cell_type": "code",
   "execution_count": null,
   "id": "d2c8afa6",
   "metadata": {},
   "outputs": [],
   "source": [
    "# pseudocode (FizzBuzz Part 2 of 4)\n",
    "\n",
    "# solve part 2\n"
   ]
  },
  {
   "cell_type": "code",
   "execution_count": null,
   "id": "73cf45fc",
   "metadata": {},
   "outputs": [],
   "source": [
    "# pseudocode (FizzBuzz Part 3 of 4)\n",
    "\n",
    "# solve part 3\n"
   ]
  },
  {
   "cell_type": "code",
   "execution_count": null,
   "id": "de5af7e1",
   "metadata": {},
   "outputs": [],
   "source": [
    "# pseudocode (FizzBuzz Part 4 of 4)\n",
    "\n",
    "# solve part 4\n"
   ]
  },
  {
   "cell_type": "code",
   "execution_count": null,
   "id": "21a83f34",
   "metadata": {},
   "outputs": [],
   "source": []
  }
 ],
 "metadata": {
  "kernelspec": {
   "display_name": "Python 3 (ipykernel)",
   "language": "python",
   "name": "python3"
  },
  "language_info": {
   "codemirror_mode": {
    "name": "ipython",
    "version": 3
   },
   "file_extension": ".py",
   "mimetype": "text/x-python",
   "name": "python",
   "nbconvert_exporter": "python",
   "pygments_lexer": "ipython3",
   "version": "3.10.2"
  }
 },
 "nbformat": 4,
 "nbformat_minor": 5
}
