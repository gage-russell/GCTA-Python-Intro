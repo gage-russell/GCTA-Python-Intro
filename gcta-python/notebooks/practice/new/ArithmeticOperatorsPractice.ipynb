{
 "cells": [
  {
   "cell_type": "code",
   "execution_count": null,
   "id": "7eac67df",
   "metadata": {},
   "outputs": [],
   "source": [
    "# Arithmetic Operators\n",
    "\n",
    "# part 1: basic (+ - / *)\n",
    "# part 2: advanced (** // %)\n",
    "# part 3: special cases (concatenation; replication)\n",
    "# part 4: extended (optional)\n",
    "\n",
    "# + addition\n",
    "# - subtraction\n",
    "# * multiplication\n",
    "# / division\n",
    "# ** exponentiation\n",
    "# // floor division\n",
    "# % modulo"
   ]
  },
  {
   "cell_type": "code",
   "execution_count": null,
   "id": "cbfa24db",
   "metadata": {},
   "outputs": [],
   "source": [
    "# problem 0.1\n",
    "\n",
    "# calculate this arithmetic operation\n",
    "var_one = 1 + 1\n",
    "\n",
    "# assign that answer to this variable\n",
    "var_two = None  # this would be 2\n",
    "\n",
    "# run the cell to check your answer\n",
    "print(var_one == var_two)"
   ]
  },
  {
   "cell_type": "code",
   "execution_count": null,
   "id": "88c116a5",
   "metadata": {},
   "outputs": [],
   "source": [
    "# part 1: basic (+ - / *)"
   ]
  },
  {
   "cell_type": "code",
   "execution_count": null,
   "id": "4205e0e4",
   "metadata": {},
   "outputs": [],
   "source": [
    "# problem 1\n",
    "\n",
    "# calculate this arithmetic operation\n",
    "var_one = 8 + 2\n",
    "\n",
    "# assign that answer to this variable\n",
    "var_two = None\n",
    "\n",
    "# run the cell to check your answer\n",
    "print(var_one == var_two)"
   ]
  },
  {
   "cell_type": "code",
   "execution_count": null,
   "id": "6de2d494",
   "metadata": {},
   "outputs": [],
   "source": [
    "# problem 2\n",
    "\n",
    "# calculate this arithmetic operation\n",
    "var_one = 1.9 + 1\n",
    "\n",
    "# assign that answer to this variable\n",
    "var_two = None\n",
    "\n",
    "# run the cell to check your answer\n",
    "print(var_one == var_two)"
   ]
  },
  {
   "cell_type": "code",
   "execution_count": null,
   "id": "c2e1a2c8",
   "metadata": {},
   "outputs": [],
   "source": [
    "# problem 3\n",
    "\n",
    "# calculate this arithmetic operation\n",
    "var_one = 4 - 1\n",
    "\n",
    "# assign that answer to this variable\n",
    "var_two = None\n",
    "\n",
    "# run the cell to check your answer\n",
    "print(var_one == var_two)"
   ]
  },
  {
   "cell_type": "code",
   "execution_count": null,
   "id": "40c8a98f",
   "metadata": {},
   "outputs": [],
   "source": [
    "# problem 4\n",
    "\n",
    "# calculate this arithmetic operation\n",
    "var_one = 9.4 - 0.6\n",
    "\n",
    "# assign that answer to this variable\n",
    "var_two = None\n",
    "\n",
    "# run the cell to check your answer\n",
    "print(var_one == var_two)"
   ]
  },
  {
   "cell_type": "code",
   "execution_count": null,
   "id": "0dfa4471",
   "metadata": {},
   "outputs": [],
   "source": [
    "# problem 5\n",
    "\n",
    "# calculate this arithmetic operation\n",
    "var_one = -7.2 + .7\n",
    "\n",
    "# assign that answer to this variable\n",
    "var_two = None\n",
    "\n",
    "# run the cell to check your answer\n",
    "print(var_one == var_two)"
   ]
  },
  {
   "cell_type": "code",
   "execution_count": null,
   "id": "58151952",
   "metadata": {},
   "outputs": [],
   "source": [
    "# problem 6\n",
    "\n",
    "# calculate this arithmetic operation\n",
    "var_one = -3 + -4\n",
    "\n",
    "# assign that answer to this variable\n",
    "var_two = None\n",
    "\n",
    "# run the cell to check your answer\n",
    "print(var_one == var_two)"
   ]
  },
  {
   "cell_type": "code",
   "execution_count": null,
   "id": "e68e5c72",
   "metadata": {},
   "outputs": [],
   "source": [
    "# problem 7\n",
    "\n",
    "# calculate this arithmetic operation\n",
    "var_one = 2.0 + -5.5\n",
    "\n",
    "# assign that answer to this variable\n",
    "var_two = None\n",
    "\n",
    "# run the cell to check your answer\n",
    "print(var_one == var_two)"
   ]
  },
  {
   "cell_type": "code",
   "execution_count": null,
   "id": "642fa043",
   "metadata": {},
   "outputs": [],
   "source": [
    "# problem 8\n",
    "\n",
    "# calculate this arithmetic operation\n",
    "var_one = -7 - -11\n",
    "\n",
    "# assign that answer to this variable\n",
    "var_two = None\n",
    "\n",
    "# run the cell to check your answer\n",
    "print(var_one == var_two)"
   ]
  },
  {
   "cell_type": "code",
   "execution_count": null,
   "id": "44fbee9b",
   "metadata": {},
   "outputs": [],
   "source": [
    "# problem 9\n",
    "\n",
    "# calculate this arithmetic operation\n",
    "var_one = -0.41 - 1.1\n",
    "\n",
    "# assign that answer to this variable\n",
    "var_two = None\n",
    "\n",
    "# run the cell to check your answer\n",
    "print(var_one == var_two)"
   ]
  },
  {
   "cell_type": "code",
   "execution_count": null,
   "id": "4c6e78d0",
   "metadata": {},
   "outputs": [],
   "source": [
    "# problem 10\n",
    "\n",
    "# calculate this arithmetic operation\n",
    "var_one = 3 * 2\n",
    "\n",
    "# assign that answer to this variable\n",
    "var_two = None\n",
    "\n",
    "# run the cell to check your answer\n",
    "print(var_one == var_two)"
   ]
  },
  {
   "cell_type": "code",
   "execution_count": null,
   "id": "af011467",
   "metadata": {},
   "outputs": [],
   "source": [
    "# problem 11\n",
    "\n",
    "# calculate this arithmetic operation\n",
    "var_one = 4 * -4\n",
    "\n",
    "# assign that answer to this variable\n",
    "var_two = None\n",
    "\n",
    "# run the cell to check your answer\n",
    "print(var_one == var_two)"
   ]
  },
  {
   "cell_type": "code",
   "execution_count": null,
   "id": "5420baa4",
   "metadata": {},
   "outputs": [],
   "source": [
    "# problem 12\n",
    "\n",
    "# calculate this arithmetic operation\n",
    "var_one = -3.5 * -3\n",
    "\n",
    "# assign that answer to this variable\n",
    "var_two = None\n",
    "\n",
    "# run the cell to check your answer\n",
    "print(var_one == var_two)"
   ]
  },
  {
   "cell_type": "code",
   "execution_count": null,
   "id": "eb1b6cb9",
   "metadata": {},
   "outputs": [],
   "source": [
    "# problem 13\n",
    "\n",
    "# calculate this arithmetic operation\n",
    "var_one = 12 / 3\n",
    "\n",
    "# assign that answer to this variable\n",
    "var_two = None\n",
    "\n",
    "# run the cell to check your answer\n",
    "print(var_one == var_two)"
   ]
  },
  {
   "cell_type": "code",
   "execution_count": null,
   "id": "5e777ded",
   "metadata": {},
   "outputs": [],
   "source": [
    "# problem 14\n",
    "\n",
    "# calculate this arithmetic operation\n",
    "var_one = -15 / 5\n",
    "\n",
    "# assign that answer to this variable\n",
    "var_two = None\n",
    "\n",
    "# run the cell to check your answer\n",
    "print(var_one == var_two)"
   ]
  },
  {
   "cell_type": "code",
   "execution_count": null,
   "id": "6aade4a7",
   "metadata": {},
   "outputs": [],
   "source": [
    "# problem 15\n",
    "\n",
    "# calculate this arithmetic operation\n",
    "var_one = -7 / -2\n",
    "\n",
    "# assign that answer to this variable\n",
    "var_two = None\n",
    "\n",
    "# run the cell to check your answer\n",
    "print(var_one == var_two)"
   ]
  },
  {
   "cell_type": "code",
   "execution_count": null,
   "id": "d5f05ce0",
   "metadata": {},
   "outputs": [],
   "source": [
    "# problem 16\n",
    "\n",
    "# calculate this arithmetic operation\n",
    "var_one = 11.25 / -4.5\n",
    "\n",
    "# assign that answer to this variable\n",
    "var_two = None\n",
    "\n",
    "# run the cell to check your answer\n",
    "print(var_one == var_two)"
   ]
  },
  {
   "cell_type": "code",
   "execution_count": null,
   "id": "7443b888",
   "metadata": {},
   "outputs": [],
   "source": [
    "# problem 17\n",
    "\n",
    "# calculate this arithmetic operation\n",
    "var_one = 1 + 2 - 4 / 2 * 3\n",
    "\n",
    "# assign that answer to this variable\n",
    "var_two = None\n",
    "\n",
    "# run the cell to check your answer\n",
    "print(var_one == var_two)"
   ]
  },
  {
   "cell_type": "code",
   "execution_count": null,
   "id": "ac3591ef",
   "metadata": {},
   "outputs": [],
   "source": [
    "# problem 18\n",
    "\n",
    "# calculate this arithmetic operation\n",
    "var_one = -8 + 6 / 3 * 4 + 2\n",
    "\n",
    "# assign that answer to this variable\n",
    "var_two = None\n",
    "\n",
    "# run the cell to check your answer\n",
    "print(var_one == var_two)"
   ]
  },
  {
   "cell_type": "code",
   "execution_count": null,
   "id": "226dd1ac",
   "metadata": {},
   "outputs": [],
   "source": [
    "# problem 19\n",
    "\n",
    "# calculate this arithmetic operation\n",
    "var_one = -6 * 2 / -2 / -2 * 4 + 2\n",
    "\n",
    "# assign that answer to this variable\n",
    "var_two = None\n",
    "\n",
    "# run the cell to check your answer\n",
    "print(var_one == var_two)"
   ]
  },
  {
   "cell_type": "code",
   "execution_count": null,
   "id": "ca539cba",
   "metadata": {},
   "outputs": [],
   "source": [
    "# part 2: advanced (** // %)"
   ]
  },
  {
   "cell_type": "code",
   "execution_count": null,
   "id": "ca167c6a",
   "metadata": {},
   "outputs": [],
   "source": [
    "# problem 20\n",
    "\n",
    "# calculate this arithmetic operation\n",
    "var_one = 2 ** 2\n",
    "\n",
    "# assign that answer to this variable\n",
    "var_two = None\n",
    "\n",
    "# run the cell to check your answer\n",
    "print(var_one == var_two)"
   ]
  },
  {
   "cell_type": "code",
   "execution_count": null,
   "id": "8f37776c",
   "metadata": {},
   "outputs": [],
   "source": [
    "# problem 21\n",
    "\n",
    "# calculate this arithmetic operation\n",
    "var_one = 8 ** 2\n",
    "\n",
    "# assign that answer to this variable\n",
    "var_two = None\n",
    "\n",
    "# run the cell to check your answer\n",
    "print(var_one == var_two)"
   ]
  },
  {
   "cell_type": "code",
   "execution_count": null,
   "id": "32e0c6e8",
   "metadata": {},
   "outputs": [],
   "source": [
    "# problem 22\n",
    "\n",
    "# calculate this arithmetic operation\n",
    "var_one = -2 ** 8\n",
    "\n",
    "# assign that answer to this variable\n",
    "var_two = None\n",
    "\n",
    "# run the cell to check your answer\n",
    "print(var_one == var_two)"
   ]
  },
  {
   "cell_type": "code",
   "execution_count": null,
   "id": "b385e6ce",
   "metadata": {},
   "outputs": [],
   "source": [
    "# problem 23\n",
    "\n",
    "# calculate this arithmetic operation\n",
    "var_one = 1.5 ** 2\n",
    "\n",
    "# assign that answer to this variable\n",
    "var_two = None\n",
    "\n",
    "# run the cell to check your answer\n",
    "print(var_one == var_two)"
   ]
  },
  {
   "cell_type": "code",
   "execution_count": null,
   "id": "9fe6a821",
   "metadata": {},
   "outputs": [],
   "source": [
    "# problem 24\n",
    "\n",
    "# calculate this arithmetic operation\n",
    "var_one = 6 // 2\n",
    "\n",
    "# assign that answer to this variable\n",
    "var_two = None\n",
    "\n",
    "# run the cell to check your answer\n",
    "print(var_one == var_two)"
   ]
  },
  {
   "cell_type": "code",
   "execution_count": null,
   "id": "4553a8ed",
   "metadata": {},
   "outputs": [],
   "source": [
    "# problem 25\n",
    "\n",
    "# calculate this arithmetic operation\n",
    "var_one = 3 // 2\n",
    "\n",
    "# assign that answer to this variable\n",
    "var_two = None\n",
    "\n",
    "# run the cell to check your answer\n",
    "print(var_one == var_two)"
   ]
  },
  {
   "cell_type": "code",
   "execution_count": null,
   "id": "9d3194eb",
   "metadata": {},
   "outputs": [],
   "source": [
    "# problem 26\n",
    "\n",
    "# calculate this arithmetic operation\n",
    "var_one = 2 // 3\n",
    "\n",
    "# assign that answer to this variable\n",
    "var_two = None\n",
    "\n",
    "# run the cell to check your answer\n",
    "print(var_one == var_two)"
   ]
  },
  {
   "cell_type": "code",
   "execution_count": null,
   "id": "55d1cd29",
   "metadata": {},
   "outputs": [],
   "source": [
    "# problem 27\n",
    "\n",
    "# calculate this arithmetic operation\n",
    "var_one = 8 % 2\n",
    "\n",
    "# assign that answer to this variable\n",
    "var_two = None\n",
    "\n",
    "# run the cell to check your answer\n",
    "print(var_one == var_two)"
   ]
  },
  {
   "cell_type": "code",
   "execution_count": null,
   "id": "21b3e72b",
   "metadata": {},
   "outputs": [],
   "source": [
    "# problem 28\n",
    "\n",
    "# calculate this arithmetic operation\n",
    "var_one = 12 % 5\n",
    "\n",
    "# assign that answer to this variable\n",
    "var_two = None\n",
    "\n",
    "# run the cell to check your answer\n",
    "print(var_one == var_two)"
   ]
  },
  {
   "cell_type": "code",
   "execution_count": null,
   "id": "aabbb215",
   "metadata": {},
   "outputs": [],
   "source": [
    "# problem 29\n",
    "\n",
    "# calculate this arithmetic operation\n",
    "var_one = 3 % 4\n",
    "\n",
    "# assign that answer to this variable\n",
    "var_two = None\n",
    "\n",
    "# run the cell to check your answer\n",
    "print(var_one == var_two)"
   ]
  },
  {
   "cell_type": "code",
   "execution_count": null,
   "id": "ec5d939b",
   "metadata": {},
   "outputs": [],
   "source": [
    "# problem 30\n",
    "\n",
    "# calculate this arithmetic operation\n",
    "var_one = 99 % 14_563\n",
    "\n",
    "# assign that answer to this variable\n",
    "var_two = None\n",
    "\n",
    "# run the cell to check your answer\n",
    "print(var_one == var_two)"
   ]
  },
  {
   "cell_type": "code",
   "execution_count": null,
   "id": "27b992d0",
   "metadata": {},
   "outputs": [],
   "source": [
    "# problem 31\n",
    "\n",
    "# calculate this arithmetic operation\n",
    "var_one = 0 % 1\n",
    "\n",
    "# assign that answer to this variable\n",
    "var_two = None\n",
    "\n",
    "# run the cell to check your answer\n",
    "print(var_one == var_two)"
   ]
  },
  {
   "cell_type": "code",
   "execution_count": null,
   "id": "942c0267",
   "metadata": {},
   "outputs": [],
   "source": [
    "# problem 32\n",
    "\n",
    "# calculate this arithmetic operation\n",
    "var_one = 33 % 11\n",
    "\n",
    "# assign that answer to this variable\n",
    "var_two = None\n",
    "\n",
    "# run the cell to check your answer\n",
    "print(var_one == var_two)"
   ]
  },
  {
   "cell_type": "code",
   "execution_count": null,
   "id": "28acbccc",
   "metadata": {},
   "outputs": [],
   "source": [
    "# problem 33\n",
    "\n",
    "# calculate this arithmetic operation\n",
    "var_one = 12 % 5\n",
    "\n",
    "# assign that answer to this variable\n",
    "var_two = None\n",
    "\n",
    "# run the cell to check your answer\n",
    "print(var_one == var_two)"
   ]
  },
  {
   "cell_type": "code",
   "execution_count": null,
   "id": "13174be1",
   "metadata": {},
   "outputs": [],
   "source": [
    "# problem 34\n",
    "\n",
    "# calculate this arithmetic operation\n",
    "var_one = 21 % 6\n",
    "\n",
    "# assign that answer to this variable\n",
    "var_two = None\n",
    "\n",
    "# run the cell to check your answer\n",
    "print(var_one == var_two)"
   ]
  },
  {
   "cell_type": "code",
   "execution_count": null,
   "id": "364059a5",
   "metadata": {},
   "outputs": [],
   "source": [
    "# problem 35\n",
    "\n",
    "# calculate this arithmetic operation\n",
    "var_one = 12 % 5\n",
    "\n",
    "# assign that answer to this variable\n",
    "var_two = None\n",
    "\n",
    "# run the cell to check your answer\n",
    "print(var_one == var_two)"
   ]
  },
  {
   "cell_type": "code",
   "execution_count": null,
   "id": "cbcab0d1",
   "metadata": {},
   "outputs": [],
   "source": [
    "# problem 36\n",
    "\n",
    "# calculate this arithmetic operation\n",
    "var_one = 22 % 10\n",
    "\n",
    "# assign that answer to this variable\n",
    "var_two = None\n",
    "\n",
    "# run the cell to check your answer\n",
    "print(var_one == var_two)"
   ]
  },
  {
   "cell_type": "code",
   "execution_count": null,
   "id": "e5209b0b",
   "metadata": {},
   "outputs": [],
   "source": [
    "# problem 37\n",
    "\n",
    "# calculate this arithmetic operation\n",
    "var_one = 4 % 100\n",
    "\n",
    "# assign that answer to this variable\n",
    "var_two = None\n",
    "\n",
    "# run the cell to check your answer\n",
    "print(var_one == var_two)"
   ]
  },
  {
   "cell_type": "code",
   "execution_count": null,
   "id": "421c0920",
   "metadata": {},
   "outputs": [],
   "source": [
    "# problem 38\n",
    "\n",
    "# calculate this arithmetic operation\n",
    "var_one = 7 % 77\n",
    "\n",
    "# assign that answer to this variable\n",
    "var_two = None\n",
    "\n",
    "# run the cell to check your answer\n",
    "print(var_one == var_two)"
   ]
  },
  {
   "cell_type": "code",
   "execution_count": null,
   "id": "aef0e7d1",
   "metadata": {},
   "outputs": [],
   "source": [
    "# problem 39\n",
    "\n",
    "# calculate this arithmetic operation\n",
    "var_one = 0 % 1024\n",
    "\n",
    "# assign that answer to this variable\n",
    "var_two = None\n",
    "\n",
    "# run the cell to check your answer\n",
    "print(var_one == var_two)"
   ]
  },
  {
   "cell_type": "code",
   "execution_count": null,
   "id": "9af68df8",
   "metadata": {},
   "outputs": [],
   "source": [
    "# problem 40\n",
    "\n",
    "# calculate this arithmetic operation\n",
    "var_one = 11 % 2\n",
    "\n",
    "# assign that answer to this variable\n",
    "var_two = None\n",
    "\n",
    "# run the cell to check your answer\n",
    "print(var_one == var_two)"
   ]
  },
  {
   "cell_type": "code",
   "execution_count": null,
   "id": "dee44f24",
   "metadata": {},
   "outputs": [],
   "source": [
    "# problem 41\n",
    "\n",
    "# calculate this arithmetic operation\n",
    "var_one = 100 % 2\n",
    "\n",
    "# assign that answer to this variable\n",
    "var_two = None\n",
    "\n",
    "# run the cell to check your answer\n",
    "print(var_one == var_two)"
   ]
  },
  {
   "cell_type": "code",
   "execution_count": null,
   "id": "0f383082",
   "metadata": {},
   "outputs": [],
   "source": [
    "# part 3: special cases (concatenation; replication)"
   ]
  },
  {
   "cell_type": "code",
   "execution_count": null,
   "id": "3056552a",
   "metadata": {},
   "outputs": [],
   "source": [
    "# problem 42\n",
    "\n",
    "# calculate this arithmetic operation\n",
    "var_one = 'foo' + 'd'\n",
    "\n",
    "# assign that answer to this variable\n",
    "var_two = None\n",
    "\n",
    "# run the cell to check your answer\n",
    "print(var_one == var_two)"
   ]
  },
  {
   "cell_type": "code",
   "execution_count": null,
   "id": "1d79e287",
   "metadata": {},
   "outputs": [],
   "source": [
    "# problem \n",
    "\n",
    "# calculate this arithmetic operation\n",
    "first_name = 'cat'\n",
    "last_name = 'burglar'\n",
    "var_one = first_name + ' ' + last_name\n",
    "\n",
    "# assign that answer to this variable\n",
    "var_two = None\n",
    "\n",
    "# run the cell to check your answer\n",
    "print(var_one == var_two)"
   ]
  },
  {
   "cell_type": "code",
   "execution_count": null,
   "id": "afd4f1d9",
   "metadata": {},
   "outputs": [],
   "source": [
    "# problem 43\n",
    "\n",
    "# calculate this arithmetic operation\n",
    "var_one = ' foo' + ' bar'\n",
    "\n",
    "# assign that answer to this variable\n",
    "var_two = None\n",
    "\n",
    "# run the cell to check your answer\n",
    "print(var_one == var_two)"
   ]
  },
  {
   "cell_type": "code",
   "execution_count": null,
   "id": "65f11ca0",
   "metadata": {},
   "outputs": [],
   "source": [
    "# problem 44\n",
    "\n",
    "# calculate this arithmetic operation\n",
    "var_one = 'foo' * 3\n",
    "\n",
    "# assign that answer to this variable\n",
    "var_two = None\n",
    "\n",
    "# run the cell to check your answer\n",
    "print(var_one == var_two)"
   ]
  },
  {
   "cell_type": "code",
   "execution_count": null,
   "id": "4deb0a7a",
   "metadata": {},
   "outputs": [],
   "source": [
    "# problem 45\n",
    "\n",
    "# calculate this arithmetic operation\n",
    "var_one = '2' * 2\n",
    "\n",
    "# assign that answer to this variable\n",
    "var_two = None\n",
    "\n",
    "# run the cell to check your answer\n",
    "print(var_one == var_two)"
   ]
  },
  {
   "cell_type": "code",
   "execution_count": null,
   "id": "6c9f3808",
   "metadata": {},
   "outputs": [],
   "source": [
    "# problem 46\n",
    "\n",
    "# calculate this arithmetic operation\n",
    "var_one = '4.4' * 3\n",
    "\n",
    "# assign that answer to this variable\n",
    "var_two = None\n",
    "\n",
    "# run the cell to check your answer\n",
    "print(var_one == var_two)"
   ]
  },
  {
   "cell_type": "code",
   "execution_count": null,
   "id": "9f192a64",
   "metadata": {},
   "outputs": [],
   "source": [
    "# problem 47\n",
    "\n",
    "# calculate this arithmetic operation\n",
    "var_one = 'dog' * 1\n",
    "\n",
    "# assign that answer to this variable\n",
    "var_two = None\n",
    "\n",
    "# run the cell to check your answer\n",
    "print(var_one == var_two)"
   ]
  },
  {
   "cell_type": "code",
   "execution_count": null,
   "id": "e19bd7bb",
   "metadata": {},
   "outputs": [],
   "source": [
    "# problem 48\n",
    "\n",
    "# calculate this arithmetic operation\n",
    "var_one = 'color ' * 2 + 'blue'\n",
    "\n",
    "# assign that answer to this variable\n",
    "var_two = None\n",
    "\n",
    "# run the cell to check your answer\n",
    "print(var_one == var_two)"
   ]
  },
  {
   "cell_type": "code",
   "execution_count": null,
   "id": "ef61ef41",
   "metadata": {},
   "outputs": [],
   "source": [
    "# problem 49\n",
    "\n",
    "# calculate this arithmetic operation\n",
    "var_one = 'ice ' + 'cream ' * 2 + 'yum'\n",
    "\n",
    "# assign that answer to this variable\n",
    "var_two = None\n",
    "\n",
    "# run the cell to check your answer\n",
    "print(var_one == var_two)"
   ]
  },
  {
   "cell_type": "code",
   "execution_count": null,
   "id": "8972f152",
   "metadata": {},
   "outputs": [],
   "source": [
    "# part 4: extended (OPTIONAL)\n",
    "# further reading: http://python-history.blogspot.com/2010/08/why-pythons-integer-division-floors.html"
   ]
  },
  {
   "cell_type": "code",
   "execution_count": null,
   "id": "bb10bf72",
   "metadata": {},
   "outputs": [],
   "source": [
    "# problem 1e\n",
    "\n",
    "# calculate this arithmetic operation\n",
    "var_one = -3 // 2\n",
    "\n",
    "# assign that answer to this variable\n",
    "var_two = None\n",
    "\n",
    "# run the cell to check your answer\n",
    "print(var_one == var_two)"
   ]
  },
  {
   "cell_type": "code",
   "execution_count": null,
   "id": "c8954307",
   "metadata": {},
   "outputs": [],
   "source": [
    "# problem 2e\n",
    "\n",
    "# calculate this arithmetic operation\n",
    "var_one = -1 // 2\n",
    "\n",
    "# assign that answer to this variable\n",
    "var_two = None\n",
    "\n",
    "# run the cell to check your answer\n",
    "print(var_one == var_two)"
   ]
  },
  {
   "cell_type": "code",
   "execution_count": null,
   "id": "928e9bc1",
   "metadata": {},
   "outputs": [],
   "source": [
    "# problem 3e\n",
    "\n",
    "# calculate this arithmetic operation\n",
    "var_one = 1 // -2\n",
    "\n",
    "# assign that answer to this variable\n",
    "var_two = None\n",
    "\n",
    "# run the cell to check your answer\n",
    "print(var_one == var_two)"
   ]
  },
  {
   "cell_type": "code",
   "execution_count": null,
   "id": "a9e4d6cd",
   "metadata": {},
   "outputs": [],
   "source": [
    "# problem 4e\n",
    "\n",
    "# calculate this arithmetic operation\n",
    "var_one = -5 // 2\n",
    "\n",
    "# assign that answer to this variable\n",
    "var_two = None\n",
    "\n",
    "# run the cell to check your answer\n",
    "print(var_one == var_two)"
   ]
  },
  {
   "cell_type": "code",
   "execution_count": null,
   "id": "da79874f",
   "metadata": {},
   "outputs": [],
   "source": [
    "# problem 5e\n",
    "\n",
    "# calculate this arithmetic operation\n",
    "var_one = 5 // -2\n",
    "\n",
    "# assign that answer to this variable\n",
    "var_two = None\n",
    "\n",
    "# run the cell to check your answer\n",
    "print(var_one == var_two)"
   ]
  },
  {
   "cell_type": "code",
   "execution_count": null,
   "id": "e4efc833",
   "metadata": {},
   "outputs": [],
   "source": [
    "# problem 6e\n",
    "\n",
    "# calculate this arithmetic operation\n",
    "var_one = -5 % 3\n",
    "\n",
    "# assign that answer to this variable\n",
    "var_two = None\n",
    "\n",
    "# run the cell to check your answer\n",
    "print(var_one == var_two)"
   ]
  },
  {
   "cell_type": "code",
   "execution_count": null,
   "id": "986f54fc",
   "metadata": {},
   "outputs": [],
   "source": [
    "# problem 7e\n",
    "\n",
    "# calculate this arithmetic operation\n",
    "var_one = -6 % 4\n",
    "\n",
    "# assign that answer to this variable\n",
    "var_two = None\n",
    "\n",
    "# run the cell to check your answer\n",
    "print(var_one == var_two)"
   ]
  },
  {
   "cell_type": "code",
   "execution_count": null,
   "id": "08689839",
   "metadata": {},
   "outputs": [],
   "source": [
    "# problem 8e\n",
    "\n",
    "# calculate this arithmetic operation\n",
    "var_one = 3 % -2\n",
    "\n",
    "# assign that answer to this variable\n",
    "var_two = None\n",
    "\n",
    "# run the cell to check your answer\n",
    "print(var_one == var_two)"
   ]
  },
  {
   "cell_type": "code",
   "execution_count": null,
   "id": "24859e9b",
   "metadata": {},
   "outputs": [],
   "source": [
    "# problem 9e\n",
    "\n",
    "# calculate this arithmetic operation\n",
    "var_one = 4 % -2\n",
    "\n",
    "# assign that answer to this variable\n",
    "var_two = None\n",
    "\n",
    "# run the cell to check your answer\n",
    "print(var_one == var_two)"
   ]
  },
  {
   "cell_type": "code",
   "execution_count": null,
   "id": "ae0457f1",
   "metadata": {},
   "outputs": [],
   "source": [
    "# problem 10e\n",
    "\n",
    "# calculate this arithmetic operation\n",
    "var_one = 4 % -3\n",
    "\n",
    "# assign that answer to this variable\n",
    "var_two = None\n",
    "\n",
    "# run the cell to check your answer\n",
    "print(var_one == var_two)"
   ]
  }
 ],
 "metadata": {
  "kernelspec": {
   "display_name": "Python 3 (ipykernel)",
   "language": "python",
   "name": "python3"
  },
  "language_info": {
   "codemirror_mode": {
    "name": "ipython",
    "version": 3
   },
   "file_extension": ".py",
   "mimetype": "text/x-python",
   "name": "python",
   "nbconvert_exporter": "python",
   "pygments_lexer": "ipython3",
   "version": "3.10.2"
  }
 },
 "nbformat": 4,
 "nbformat_minor": 5
}
