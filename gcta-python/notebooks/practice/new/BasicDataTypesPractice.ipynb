{
 "cells": [
  {
   "cell_type": "code",
   "execution_count": null,
   "id": "40ed9ba4",
   "metadata": {},
   "outputs": [],
   "source": [
    "# Basic Data Types\n",
    "\n",
    "# provide the Python ID of the type:\n",
    "# int, float, bool, str, NoneType"
   ]
  },
  {
   "cell_type": "code",
   "execution_count": null,
   "id": "1dbe29bf",
   "metadata": {},
   "outputs": [],
   "source": [
    "# example problem\n",
    "\n",
    "# identify the data type of id_this\n",
    "id_this = 1\n",
    "\n",
    "# assign your answer to data_type\n",
    "data_type = int\n",
    "\n",
    "# run the cell to check your answer\n",
    "print(type(id_this) == data_type)"
   ]
  },
  {
   "cell_type": "code",
   "execution_count": null,
   "id": "8eaa3a1a",
   "metadata": {},
   "outputs": [],
   "source": [
    "# identify the data type of id_this\n",
    "id_this = 1.0\n",
    "\n",
    "# assign your answer to data_type\n",
    "data_type = \n",
    "\n",
    "# run the cell to check your answer\n",
    "print(type(id_this) == data_type)"
   ]
  },
  {
   "cell_type": "code",
   "execution_count": null,
   "id": "40712a83",
   "metadata": {},
   "outputs": [],
   "source": [
    "# identify the data type of id_this\n",
    "id_this = False\n",
    "\n",
    "# assign your answer to data_type\n",
    "data_type = \n",
    "\n",
    "# run the cell to check your answer\n",
    "print(type(id_this) == data_type)"
   ]
  },
  {
   "cell_type": "code",
   "execution_count": null,
   "id": "aff919b9",
   "metadata": {},
   "outputs": [],
   "source": [
    "# identify the data type of id_this\n",
    "id_this = -31337\n",
    "\n",
    "# assign your answer to data_type\n",
    "data_type = \n",
    "\n",
    "# run the cell to check your answer\n",
    "print(type(id_this) == data_type)"
   ]
  },
  {
   "cell_type": "code",
   "execution_count": null,
   "id": "80edfd6b",
   "metadata": {},
   "outputs": [],
   "source": [
    "# identify the data type of id_this\n",
    "id_this = 0.0\n",
    "\n",
    "# assign your answer to data_type\n",
    "data_type = \n",
    "\n",
    "# run the cell to check your answer\n",
    "print(type(id_this) == data_type)"
   ]
  },
  {
   "cell_type": "code",
   "execution_count": null,
   "id": "4ba98da9",
   "metadata": {},
   "outputs": [],
   "source": [
    "# identify the data type of id_this\n",
    "id_this = '3.14159265358979323846264338327950'\n",
    "\n",
    "# assign your answer to data_type\n",
    "data_type = \n",
    "\n",
    "# run the cell to check your answer\n",
    "print(type(id_this) == data_type)"
   ]
  },
  {
   "cell_type": "code",
   "execution_count": null,
   "id": "ef2192c6",
   "metadata": {},
   "outputs": [],
   "source": [
    "# identify the data type of id_this\n",
    "id_this = '\\n'\n",
    "\n",
    "# assign your answer to data_type\n",
    "data_type = \n",
    "\n",
    "# run the cell to check your answer\n",
    "print(type(id_this) == data_type)"
   ]
  },
  {
   "cell_type": "code",
   "execution_count": null,
   "id": "a25ba1be",
   "metadata": {},
   "outputs": [],
   "source": [
    "# identify the data type of id_this\n",
    "id_this = 0\n",
    "\n",
    "# assign your answer to data_type\n",
    "data_type = \n",
    "\n",
    "# run the cell to check your answer\n",
    "print(type(id_this) == data_type)"
   ]
  },
  {
   "cell_type": "code",
   "execution_count": null,
   "id": "607bdc63",
   "metadata": {},
   "outputs": [],
   "source": [
    "# identify the data type of id_this\n",
    "id_this = True\n",
    "\n",
    "# assign your answer to data_type\n",
    "data_type = \n",
    "\n",
    "# run the cell to check your answer\n",
    "print(type(id_this) == data_type)"
   ]
  },
  {
   "cell_type": "code",
   "execution_count": null,
   "id": "08909768",
   "metadata": {},
   "outputs": [],
   "source": [
    "# identify the data type of id_this\n",
    "id_this = 'float'\n",
    "\n",
    "# assign your answer to data_type\n",
    "data_type = \n",
    "\n",
    "# run the cell to check your answer\n",
    "print(type(id_this) == data_type)"
   ]
  },
  {
   "cell_type": "code",
   "execution_count": null,
   "id": "aeeaf74d",
   "metadata": {},
   "outputs": [],
   "source": [
    "# identify the data type of id_this\n",
    "id_this = -0.0\n",
    "\n",
    "# assign your answer to data_type\n",
    "data_type = \n",
    "\n",
    "# run the cell to check your answer\n",
    "print(type(id_this) == data_type)"
   ]
  },
  {
   "cell_type": "code",
   "execution_count": null,
   "id": "ceeddf3c",
   "metadata": {},
   "outputs": [],
   "source": [
    "# identify the data type of id_this\n",
    "id_this = \"Hello, World!\"\n",
    "\n",
    "# assign your answer to data_type\n",
    "data_type = \n",
    "\n",
    "# run the cell to check your answer\n",
    "print(type(id_this) == data_type)"
   ]
  },
  {
   "cell_type": "code",
   "execution_count": null,
   "id": "4a9e2581",
   "metadata": {},
   "outputs": [],
   "source": [
    "# identify the data type of id_this\n",
    "id_this = 999999999999999999999999\n",
    "\n",
    "# assign your answer to data_type\n",
    "data_type = \n",
    "\n",
    "# run the cell to check your answer\n",
    "print(type(id_this) == data_type)"
   ]
  },
  {
   "cell_type": "code",
   "execution_count": null,
   "id": "4e26db79",
   "metadata": {},
   "outputs": [],
   "source": [
    "# identify the data type of id_this\n",
    "id_this = \"1 + 1 = 3\"\n",
    "\n",
    "# assign your answer to data_type\n",
    "data_type = \n",
    "\n",
    "# run the cell to check your answer\n",
    "print(type(id_this) == data_type)"
   ]
  },
  {
   "cell_type": "code",
   "execution_count": null,
   "id": "1eaf55e1",
   "metadata": {},
   "outputs": [],
   "source": [
    "# identify the data type of id_this\n",
    "id_this = -0\n",
    "\n",
    "# assign your answer to data_type\n",
    "data_type = \n",
    "\n",
    "# run the cell to check your answer\n",
    "print(type(id_this) == data_type)"
   ]
  },
  {
   "cell_type": "code",
   "execution_count": null,
   "id": "ce9e829f",
   "metadata": {},
   "outputs": [],
   "source": [
    "# identify the data type of id_this\n",
    "id_this = -777.321\n",
    "\n",
    "# assign your answer to data_type\n",
    "data_type = \n",
    "\n",
    "# run the cell to check your answer\n",
    "print(type(id_this) == data_type)"
   ]
  },
  {
   "cell_type": "code",
   "execution_count": null,
   "id": "6e56ee1a",
   "metadata": {},
   "outputs": [],
   "source": [
    "# identify the data type of id_this\n",
    "id_this = 'boolean'\n",
    "\n",
    "# assign your answer to data_type\n",
    "data_type = \n",
    "\n",
    "# run the cell to check your answer\n",
    "print(type(id_this) == data_type)"
   ]
  },
  {
   "cell_type": "code",
   "execution_count": null,
   "id": "feaef451",
   "metadata": {},
   "outputs": [],
   "source": [
    "# identify the data type of id_this\n",
    "id_this = 6\n",
    "\n",
    "# assign your answer to data_type\n",
    "data_type = \n",
    "\n",
    "# run the cell to check your answer\n",
    "print(type(id_this) == data_type)"
   ]
  },
  {
   "cell_type": "code",
   "execution_count": null,
   "id": "ea3bc790",
   "metadata": {},
   "outputs": [],
   "source": [
    "# identify the data type of id_this\n",
    "id_this = 3.14\n",
    "\n",
    "# assign your answer to data_type\n",
    "data_type = \n",
    "\n",
    "# run the cell to check your answer\n",
    "print(type(id_this) == data_type)"
   ]
  },
  {
   "cell_type": "code",
   "execution_count": null,
   "id": "e2f2b505",
   "metadata": {},
   "outputs": [],
   "source": [
    "NoneType = type(None)  # NoneType was removed in Python 3\n",
    "\n",
    "# identify the data type of id_this\n",
    "id_this = None\n",
    "\n",
    "# assign your answer to data_type\n",
    "data_type = \n",
    "\n",
    "# run the cell to check your answer\n",
    "print(type(id_this) == data_type)"
   ]
  },
  {
   "cell_type": "code",
   "execution_count": null,
   "id": "7c0a41d8",
   "metadata": {},
   "outputs": [],
   "source": [
    "# Basic Data Types Extended"
   ]
  },
  {
   "cell_type": "code",
   "execution_count": null,
   "id": "e8c36c07",
   "metadata": {},
   "outputs": [],
   "source": [
    "# identify the data type of id_this\n",
    "id_this = 999_999_999_999_999_999_999_999\n",
    "\n",
    "# assign your answer to data_type\n",
    "data_type = \n",
    "\n",
    "# run the cell to check your answer\n",
    "print(type(id_this) == data_type)"
   ]
  }
 ],
 "metadata": {
  "kernelspec": {
   "display_name": "Python 3 (ipykernel)",
   "language": "python",
   "name": "python3"
  },
  "language_info": {
   "codemirror_mode": {
    "name": "ipython",
    "version": 3
   },
   "file_extension": ".py",
   "mimetype": "text/x-python",
   "name": "python",
   "nbconvert_exporter": "python",
   "pygments_lexer": "ipython3",
   "version": "3.10.2"
  }
 },
 "nbformat": 4,
 "nbformat_minor": 5
}
