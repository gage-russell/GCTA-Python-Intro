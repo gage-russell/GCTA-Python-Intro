{
 "cells": [
  {
   "cell_type": "code",
   "execution_count": null,
   "id": "d9f1e993",
   "metadata": {},
   "outputs": [],
   "source": [
    "# 3 Parts\n",
    "# Student questionnaire"
   ]
  },
  {
   "cell_type": "code",
   "execution_count": null,
   "id": "64f99268",
   "metadata": {},
   "outputs": [],
   "source": [
    "# Part 1\n",
    "# Instructions:\n",
    "# Associate each type of information\n",
    "# with a data type we have learned.\n",
    "# And write a brief explination."
   ]
  },
  {
   "cell_type": "code",
   "execution_count": null,
   "id": "dbcc3b8e",
   "metadata": {},
   "outputs": [],
   "source": [
    "# Problem 0a (Example)\n",
    "# the number of words in this sentence\n",
    "\n",
    "# Answer:\n",
    "# integer\n",
    "# <brief explination goes here>"
   ]
  },
  {
   "cell_type": "code",
   "execution_count": null,
   "id": "3c46df03",
   "metadata": {},
   "outputs": [],
   "source": [
    "# Problem 1a\n",
    "# students in our class\n",
    "\n",
    "# Answer:\n"
   ]
  },
  {
   "cell_type": "code",
   "execution_count": null,
   "id": "54c1bb30",
   "metadata": {},
   "outputs": [],
   "source": [
    "# Problem 2a\n",
    "# class grade average\n",
    "\n",
    "# Answer:\n"
   ]
  },
  {
   "cell_type": "code",
   "execution_count": null,
   "id": "f4601f42",
   "metadata": {},
   "outputs": [],
   "source": [
    "# Problem 3a\n",
    "# whether we have class on Sunday\n",
    "\n",
    "# Answer:\n"
   ]
  },
  {
   "cell_type": "code",
   "execution_count": null,
   "id": "7798a0f4",
   "metadata": {},
   "outputs": [],
   "source": [
    "# Problem 4a\n",
    "# the name of this course\n",
    "\n",
    "# Answer:\n"
   ]
  },
  {
   "cell_type": "code",
   "execution_count": null,
   "id": "3135ffc1",
   "metadata": {},
   "outputs": [],
   "source": [
    "# Problem 5a\n",
    "# the exact speed of an airplane\n",
    "\n",
    "# Answer:\n"
   ]
  },
  {
   "cell_type": "code",
   "execution_count": null,
   "id": "eaf9407f",
   "metadata": {},
   "outputs": [],
   "source": [
    "# Problem 6a\n",
    "# your preferrd foodstuff\n",
    "\n",
    "# Answer:\n"
   ]
  },
  {
   "cell_type": "code",
   "execution_count": null,
   "id": "3355e493",
   "metadata": {},
   "outputs": [],
   "source": [
    "# Problem 7a\n",
    "# daily website traffic (visits)\n",
    "\n",
    "# Answer:\n"
   ]
  },
  {
   "cell_type": "code",
   "execution_count": null,
   "id": "a34a304e",
   "metadata": {},
   "outputs": [],
   "source": [
    "# Problem 8a\n",
    "# is your homework graded\n",
    "\n",
    "# Answer:\n"
   ]
  },
  {
   "cell_type": "code",
   "execution_count": null,
   "id": "4220d4b4",
   "metadata": {},
   "outputs": [],
   "source": [
    "# Part 2\n",
    "# Instructions:\n",
    "# Come up with examples for each data type\n",
    "# we covered in class, within the given industires."
   ]
  },
  {
   "cell_type": "code",
   "execution_count": null,
   "id": "9fc2787c",
   "metadata": {},
   "outputs": [],
   "source": [
    "# Problem 0b (Example)\n",
    "\n",
    "# STONKS\n",
    "# Subscribed to /r/wallstreetbets:\n",
    "# bool; True\n",
    "\n",
    "# Number of GME shares I own:\n",
    "# integer; 1337\n",
    "\n",
    "# My net gains:\n",
    "# float; -289.7%\n",
    "\n",
    "# My username:\n",
    "# string; /u/GamblingProblem94206"
   ]
  },
  {
   "cell_type": "code",
   "execution_count": null,
   "id": "19874e1f",
   "metadata": {},
   "outputs": [],
   "source": [
    "# Problem 1b\n",
    "\n",
    "# automotive related (anything with an engine)\n"
   ]
  },
  {
   "cell_type": "code",
   "execution_count": null,
   "id": "d39edbb8",
   "metadata": {},
   "outputs": [],
   "source": [
    "# Problem 2b\n",
    "\n",
    "# internet/computing related (e.g. websites)\n"
   ]
  },
  {
   "cell_type": "code",
   "execution_count": null,
   "id": "a9677a9b",
   "metadata": {},
   "outputs": [],
   "source": [
    "# Problem 3b\n",
    "\n",
    "# geographical location (meatspace things)\n"
   ]
  },
  {
   "cell_type": "code",
   "execution_count": null,
   "id": "6dbc3f28",
   "metadata": {},
   "outputs": [],
   "source": [
    "# Part 3\n",
    "# Instructions:\n",
    "# Within industires of your own choosing,\n",
    "# come up with examples for each data type.\n",
    "\n",
    "# If you pick stocks, you can't use the \n",
    "# categores used in the example above."
   ]
  },
  {
   "cell_type": "code",
   "execution_count": null,
   "id": "8ba821c1",
   "metadata": {},
   "outputs": [],
   "source": [
    "# Problem 1c\n",
    "\n"
   ]
  },
  {
   "cell_type": "code",
   "execution_count": null,
   "id": "6db4bc57",
   "metadata": {},
   "outputs": [],
   "source": [
    "# Problem 2c\n",
    "\n"
   ]
  },
  {
   "cell_type": "code",
   "execution_count": null,
   "id": "26fa9fc9",
   "metadata": {},
   "outputs": [],
   "source": [
    "# Problem 3c\n",
    "\n"
   ]
  },
  {
   "cell_type": "code",
   "execution_count": null,
   "id": "413f3816",
   "metadata": {},
   "outputs": [],
   "source": [
    "# Assignment difficulty: 0-10 and/or (easy/medium/hard)\n",
    "# Time taken on assignment: with a 15min granularity\n",
    "\n",
    "# Difficulty:\n",
    "# Time:"
   ]
  }
 ],
 "metadata": {
  "kernelspec": {
   "display_name": "Python 3 (ipykernel)",
   "language": "python",
   "name": "python3"
  },
  "language_info": {
   "codemirror_mode": {
    "name": "ipython",
    "version": 3
   },
   "file_extension": ".py",
   "mimetype": "text/x-python",
   "name": "python",
   "nbconvert_exporter": "python",
   "pygments_lexer": "ipython3",
   "version": "3.10.2"
  }
 },
 "nbformat": 4,
 "nbformat_minor": 5
}
