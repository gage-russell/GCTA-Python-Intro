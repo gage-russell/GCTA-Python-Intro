{
 "cells": [
  {
   "cell_type": "code",
   "execution_count": 1,
   "id": "7eac67df",
   "metadata": {},
   "outputs": [],
   "source": [
    "# Arithmetic Operators\n",
    "\n",
    "# part 1: basic (+ - / *)\n",
    "# part 2: advanced (** // %)\n",
    "# part 3: special cases (concatenation; replication)\n",
    "# part 4: extended (optional)\n",
    "\n",
    "# + addition\n",
    "# - subtraction\n",
    "# * multiplication\n",
    "# / division\n",
    "# ** exponentiation\n",
    "# // floor division\n",
    "# % modulo"
   ]
  },
  {
   "cell_type": "code",
   "execution_count": 2,
   "id": "cbfa24db",
   "metadata": {},
   "outputs": [
    {
     "name": "stdout",
     "output_type": "stream",
     "text": [
      "False\n"
     ]
    }
   ],
   "source": [
    "# problem 0.1\n",
    "\n",
    "# calculate this arithmetic operation\n",
    "var_one = 1 + 1\n",
    "\n",
    "# assign that answer to this variable\n",
    "var_two = None  # this would be 2\n",
    "\n",
    "# run the cell to check your answer\n",
    "print(var_one == var_two)"
   ]
  },
  {
   "cell_type": "code",
   "execution_count": 3,
   "id": "88c116a5",
   "metadata": {},
   "outputs": [],
   "source": [
    "# part 1: basic (+ - / *)"
   ]
  },
  {
   "cell_type": "code",
   "execution_count": 4,
   "id": "4205e0e4",
   "metadata": {},
   "outputs": [
    {
     "name": "stdout",
     "output_type": "stream",
     "text": [
      "True\n"
     ]
    }
   ],
   "source": [
    "# problem 1\n",
    "\n",
    "# calculate this arithmetic operation\n",
    "var_one = 8 + 2\n",
    "\n",
    "# assign that answer to this variable\n",
    "var_two = 10\n",
    "\n",
    "# run the cell to check your answer\n",
    "print(var_one == var_two)"
   ]
  },
  {
   "cell_type": "code",
   "execution_count": 5,
   "id": "6de2d494",
   "metadata": {},
   "outputs": [
    {
     "name": "stdout",
     "output_type": "stream",
     "text": [
      "True\n"
     ]
    }
   ],
   "source": [
    "# problem 2\n",
    "\n",
    "# calculate this arithmetic operation\n",
    "var_one = 1.9 + 1\n",
    "\n",
    "# assign that answer to this variable\n",
    "var_two = 2.9\n",
    "\n",
    "# run the cell to check your answer\n",
    "print(var_one == var_two)"
   ]
  },
  {
   "cell_type": "code",
   "execution_count": 6,
   "id": "c2e1a2c8",
   "metadata": {},
   "outputs": [
    {
     "name": "stdout",
     "output_type": "stream",
     "text": [
      "True\n"
     ]
    }
   ],
   "source": [
    "# problem 3\n",
    "\n",
    "# calculate this arithmetic operation\n",
    "var_one = 4 - 1\n",
    "\n",
    "# assign that answer to this variable\n",
    "var_two = 3\n",
    "\n",
    "# run the cell to check your answer\n",
    "print(var_one == var_two)"
   ]
  },
  {
   "cell_type": "code",
   "execution_count": 7,
   "id": "40c8a98f",
   "metadata": {},
   "outputs": [
    {
     "name": "stdout",
     "output_type": "stream",
     "text": [
      "True\n"
     ]
    }
   ],
   "source": [
    "# problem 4\n",
    "\n",
    "# calculate this arithmetic operation\n",
    "var_one = 9.4 - 0.6\n",
    "\n",
    "# assign that answer to this variable\n",
    "var_two = 8.8\n",
    "\n",
    "# run the cell to check your answer\n",
    "print(var_one == var_two)"
   ]
  },
  {
   "cell_type": "code",
   "execution_count": 8,
   "id": "0dfa4471",
   "metadata": {},
   "outputs": [
    {
     "name": "stdout",
     "output_type": "stream",
     "text": [
      "True\n"
     ]
    }
   ],
   "source": [
    "# problem 5\n",
    "\n",
    "# calculate this arithmetic operation\n",
    "var_one = -7.2 + .7\n",
    "\n",
    "# assign that answer to this variable\n",
    "var_two = -6.5\n",
    "\n",
    "# run the cell to check your answer\n",
    "print(var_one == var_two)"
   ]
  },
  {
   "cell_type": "code",
   "execution_count": 9,
   "id": "58151952",
   "metadata": {},
   "outputs": [
    {
     "name": "stdout",
     "output_type": "stream",
     "text": [
      "True\n"
     ]
    }
   ],
   "source": [
    "# problem 6\n",
    "\n",
    "# calculate this arithmetic operation\n",
    "var_one = -3 + -4\n",
    "\n",
    "# assign that answer to this variable\n",
    "var_two = -7\n",
    "\n",
    "# run the cell to check your answer\n",
    "print(var_one == var_two)"
   ]
  },
  {
   "cell_type": "code",
   "execution_count": 10,
   "id": "e68e5c72",
   "metadata": {},
   "outputs": [
    {
     "name": "stdout",
     "output_type": "stream",
     "text": [
      "False\n"
     ]
    }
   ],
   "source": [
    "# problem 7\n",
    "\n",
    "# calculate this arithmetic operation\n",
    "var_one = 2.0 + -5.5\n",
    "\n",
    "# assign that answer to this variable\n",
    "var_two = -3\n",
    "\n",
    "# run the cell to check your answer\n",
    "print(var_one == var_two)"
   ]
  },
  {
   "cell_type": "code",
   "execution_count": 11,
   "id": "642fa043",
   "metadata": {},
   "outputs": [
    {
     "name": "stdout",
     "output_type": "stream",
     "text": [
      "True\n"
     ]
    }
   ],
   "source": [
    "# problem 8\n",
    "\n",
    "# calculate this arithmetic operation\n",
    "var_one = -7 - -11\n",
    "\n",
    "# assign that answer to this variable\n",
    "var_two = 4\n",
    "\n",
    "# run the cell to check your answer\n",
    "print(var_one == var_two)"
   ]
  },
  {
   "cell_type": "code",
   "execution_count": 12,
   "id": "44fbee9b",
   "metadata": {},
   "outputs": [
    {
     "name": "stdout",
     "output_type": "stream",
     "text": [
      "True\n"
     ]
    }
   ],
   "source": [
    "# problem 9\n",
    "\n",
    "# calculate this arithmetic operation\n",
    "var_one = -0.41 - 1.1\n",
    "\n",
    "# assign that answer to this variable\n",
    "var_two = -1.51\n",
    "\n",
    "# run the cell to check your answer\n",
    "print(var_one == var_two)"
   ]
  },
  {
   "cell_type": "code",
   "execution_count": 13,
   "id": "4c6e78d0",
   "metadata": {},
   "outputs": [
    {
     "name": "stdout",
     "output_type": "stream",
     "text": [
      "True\n"
     ]
    }
   ],
   "source": [
    "# problem 10\n",
    "\n",
    "# calculate this arithmetic operation\n",
    "var_one = 3 * 2\n",
    "\n",
    "# assign that answer to this variable\n",
    "var_two = 6\n",
    "\n",
    "# run the cell to check your answer\n",
    "print(var_one == var_two)"
   ]
  },
  {
   "cell_type": "code",
   "execution_count": 14,
   "id": "af011467",
   "metadata": {},
   "outputs": [
    {
     "name": "stdout",
     "output_type": "stream",
     "text": [
      "True\n"
     ]
    }
   ],
   "source": [
    "# problem 11\n",
    "\n",
    "# calculate this arithmetic operation\n",
    "var_one = 4 * -4\n",
    "\n",
    "# assign that answer to this variable\n",
    "var_two = -16\n",
    "\n",
    "# run the cell to check your answer\n",
    "print(var_one == var_two)"
   ]
  },
  {
   "cell_type": "code",
   "execution_count": 15,
   "id": "5420baa4",
   "metadata": {},
   "outputs": [
    {
     "name": "stdout",
     "output_type": "stream",
     "text": [
      "True\n"
     ]
    }
   ],
   "source": [
    "# problem 12\n",
    "\n",
    "# calculate this arithmetic operation\n",
    "var_one = -3.5 * -3\n",
    "\n",
    "# assign that answer to this variable\n",
    "var_two = 10.5\n",
    "\n",
    "# run the cell to check your answer\n",
    "print(var_one == var_two)"
   ]
  },
  {
   "cell_type": "code",
   "execution_count": 16,
   "id": "eb1b6cb9",
   "metadata": {},
   "outputs": [
    {
     "name": "stdout",
     "output_type": "stream",
     "text": [
      "True\n"
     ]
    }
   ],
   "source": [
    "# problem 13\n",
    "\n",
    "# calculate this arithmetic operation\n",
    "var_one = 12 / 3\n",
    "\n",
    "# assign that answer to this variable\n",
    "var_two = 4\n",
    "\n",
    "# run the cell to check your answer\n",
    "print(var_one == var_two)"
   ]
  },
  {
   "cell_type": "code",
   "execution_count": 17,
   "id": "5e777ded",
   "metadata": {},
   "outputs": [
    {
     "name": "stdout",
     "output_type": "stream",
     "text": [
      "True\n"
     ]
    }
   ],
   "source": [
    "# problem 14\n",
    "\n",
    "# calculate this arithmetic operation\n",
    "var_one = -15 / 5\n",
    "\n",
    "# assign that answer to this variable\n",
    "var_two = -3\n",
    "\n",
    "# run the cell to check your answer\n",
    "print(var_one == var_two)"
   ]
  },
  {
   "cell_type": "code",
   "execution_count": 18,
   "id": "6aade4a7",
   "metadata": {},
   "outputs": [
    {
     "name": "stdout",
     "output_type": "stream",
     "text": [
      "True\n"
     ]
    }
   ],
   "source": [
    "# problem 15\n",
    "\n",
    "# calculate this arithmetic operation\n",
    "var_one = -7 / -2\n",
    "\n",
    "# assign that answer to this variable\n",
    "var_two = 3.5\n",
    "\n",
    "# run the cell to check your answer\n",
    "print(var_one == var_two)"
   ]
  },
  {
   "cell_type": "code",
   "execution_count": 19,
   "id": "d5f05ce0",
   "metadata": {},
   "outputs": [
    {
     "name": "stdout",
     "output_type": "stream",
     "text": [
      "False\n"
     ]
    }
   ],
   "source": [
    "# problem 16\n",
    "\n",
    "# calculate this arithmetic operation\n",
    "var_one = 11.25 / -4.5\n",
    "\n",
    "# assign that answer to this variable\n",
    "var_two = 2.5\n",
    "\n",
    "# run the cell to check your answer\n",
    "print(var_one == var_two)"
   ]
  },
  {
   "cell_type": "code",
   "execution_count": 20,
   "id": "7443b888",
   "metadata": {},
   "outputs": [
    {
     "name": "stdout",
     "output_type": "stream",
     "text": [
      "True\n"
     ]
    }
   ],
   "source": [
    "# problem 17\n",
    "\n",
    "# calculate this arithmetic operation\n",
    "var_one = 1 + 2 - 4 / 2 * 3\n",
    "\n",
    "# assign that answer to this variable\n",
    "var_two = -3\n",
    "\n",
    "# run the cell to check your answer\n",
    "print(var_one == var_two)"
   ]
  },
  {
   "cell_type": "code",
   "execution_count": 21,
   "id": "ac3591ef",
   "metadata": {},
   "outputs": [
    {
     "name": "stdout",
     "output_type": "stream",
     "text": [
      "True\n"
     ]
    }
   ],
   "source": [
    "# problem 18\n",
    "\n",
    "# calculate this arithmetic operation\n",
    "var_one = -8 + 6 / 3 * 4 + 2\n",
    "\n",
    "# assign that answer to this variable\n",
    "var_two = 2\n",
    "\n",
    "# run the cell to check your answer\n",
    "print(var_one == var_two)"
   ]
  },
  {
   "cell_type": "code",
   "execution_count": 22,
   "id": "226dd1ac",
   "metadata": {},
   "outputs": [
    {
     "name": "stdout",
     "output_type": "stream",
     "text": [
      "True\n"
     ]
    }
   ],
   "source": [
    "# problem 19\n",
    "\n",
    "# calculate this arithmetic operation\n",
    "var_one = -6 * 2 / -2 / -2 * 4 + 2\n",
    "\n",
    "# assign that answer to this variable\n",
    "var_two = -10\n",
    "\n",
    "# run the cell to check your answer\n",
    "print(var_one == var_two)"
   ]
  },
  {
   "cell_type": "code",
   "execution_count": 23,
   "id": "ca539cba",
   "metadata": {},
   "outputs": [],
   "source": [
    "# part 2: advanced (** // %)"
   ]
  },
  {
   "cell_type": "code",
   "execution_count": 24,
   "id": "ca167c6a",
   "metadata": {},
   "outputs": [
    {
     "name": "stdout",
     "output_type": "stream",
     "text": [
      "True\n"
     ]
    }
   ],
   "source": [
    "# problem 20\n",
    "\n",
    "# calculate this arithmetic operation\n",
    "var_one = 2 ** 2\n",
    "\n",
    "# assign that answer to this variable\n",
    "var_two = 4\n",
    "\n",
    "# run the cell to check your answer\n",
    "print(var_one == var_two)"
   ]
  },
  {
   "cell_type": "code",
   "execution_count": 25,
   "id": "8f37776c",
   "metadata": {},
   "outputs": [
    {
     "name": "stdout",
     "output_type": "stream",
     "text": [
      "True\n"
     ]
    }
   ],
   "source": [
    "# problem 21\n",
    "\n",
    "# calculate this arithmetic operation\n",
    "var_one = 8 ** 2\n",
    "\n",
    "# assign that answer to this variable\n",
    "var_two = 64\n",
    "\n",
    "# run the cell to check your answer\n",
    "print(var_one == var_two)"
   ]
  },
  {
   "cell_type": "code",
   "execution_count": 26,
   "id": "32e0c6e8",
   "metadata": {},
   "outputs": [
    {
     "name": "stdout",
     "output_type": "stream",
     "text": [
      "True\n"
     ]
    }
   ],
   "source": [
    "# problem 22\n",
    "\n",
    "# calculate this arithmetic operation\n",
    "var_one = -2 ** 8\n",
    "\n",
    "# assign that answer to this variable\n",
    "var_two = -256\n",
    "\n",
    "# run the cell to check your answer\n",
    "print(var_one == var_two)"
   ]
  },
  {
   "cell_type": "code",
   "execution_count": 27,
   "id": "b385e6ce",
   "metadata": {},
   "outputs": [
    {
     "name": "stdout",
     "output_type": "stream",
     "text": [
      "True\n"
     ]
    }
   ],
   "source": [
    "# problem 23\n",
    "\n",
    "# calculate this arithmetic operation\n",
    "var_one = 1.5 ** 2\n",
    "\n",
    "# assign that answer to this variable\n",
    "var_two = 2.25\n",
    "\n",
    "# run the cell to check your answer\n",
    "print(var_one == var_two)"
   ]
  },
  {
   "cell_type": "code",
   "execution_count": 28,
   "id": "9fe6a821",
   "metadata": {},
   "outputs": [
    {
     "name": "stdout",
     "output_type": "stream",
     "text": [
      "True\n"
     ]
    }
   ],
   "source": [
    "# problem 24\n",
    "\n",
    "# calculate this arithmetic operation\n",
    "var_one = 6 // 2\n",
    "\n",
    "# assign that answer to this variable\n",
    "var_two = 3\n",
    "\n",
    "# run the cell to check your answer\n",
    "print(var_one == var_two)"
   ]
  },
  {
   "cell_type": "code",
   "execution_count": 29,
   "id": "4553a8ed",
   "metadata": {},
   "outputs": [
    {
     "name": "stdout",
     "output_type": "stream",
     "text": [
      "True\n"
     ]
    }
   ],
   "source": [
    "# problem 25\n",
    "\n",
    "# calculate this arithmetic operation\n",
    "var_one = 3 // 2\n",
    "\n",
    "# assign that answer to this variable\n",
    "var_two = 1\n",
    "\n",
    "# run the cell to check your answer\n",
    "print(var_one == var_two)"
   ]
  },
  {
   "cell_type": "code",
   "execution_count": 30,
   "id": "9d3194eb",
   "metadata": {},
   "outputs": [
    {
     "name": "stdout",
     "output_type": "stream",
     "text": [
      "True\n"
     ]
    }
   ],
   "source": [
    "# problem 26\n",
    "\n",
    "# calculate this arithmetic operation\n",
    "var_one = 2 // 3\n",
    "\n",
    "# assign that answer to this variable\n",
    "var_two = 0\n",
    "\n",
    "# run the cell to check your answer\n",
    "print(var_one == var_two)"
   ]
  },
  {
   "cell_type": "code",
   "execution_count": 31,
   "id": "55d1cd29",
   "metadata": {},
   "outputs": [
    {
     "name": "stdout",
     "output_type": "stream",
     "text": [
      "True\n"
     ]
    }
   ],
   "source": [
    "# problem 27\n",
    "\n",
    "# calculate this arithmetic operation\n",
    "var_one = 8 % 2\n",
    "\n",
    "# assign that answer to this variable\n",
    "var_two = 0\n",
    "\n",
    "# run the cell to check your answer\n",
    "print(var_one == var_two)"
   ]
  },
  {
   "cell_type": "code",
   "execution_count": 32,
   "id": "21b3e72b",
   "metadata": {},
   "outputs": [
    {
     "name": "stdout",
     "output_type": "stream",
     "text": [
      "True\n"
     ]
    }
   ],
   "source": [
    "# problem 28\n",
    "\n",
    "# calculate this arithmetic operation\n",
    "var_one = 12 % 5\n",
    "\n",
    "# assign that answer to this variable\n",
    "var_two = 2\n",
    "\n",
    "# run the cell to check your answer\n",
    "print(var_one == var_two)"
   ]
  },
  {
   "cell_type": "code",
   "execution_count": 33,
   "id": "aabbb215",
   "metadata": {},
   "outputs": [
    {
     "name": "stdout",
     "output_type": "stream",
     "text": [
      "True\n"
     ]
    }
   ],
   "source": [
    "# problem 29\n",
    "\n",
    "# calculate this arithmetic operation\n",
    "var_one = 3 % 4\n",
    "\n",
    "# assign that answer to this variable\n",
    "var_two = 3\n",
    "\n",
    "# run the cell to check your answer\n",
    "print(var_one == var_two)"
   ]
  },
  {
   "cell_type": "code",
   "execution_count": 34,
   "id": "ec5d939b",
   "metadata": {},
   "outputs": [
    {
     "name": "stdout",
     "output_type": "stream",
     "text": [
      "True\n"
     ]
    }
   ],
   "source": [
    "# problem 30\n",
    "\n",
    "# calculate this arithmetic operation\n",
    "var_one = 99 % 14_563\n",
    "\n",
    "# assign that answer to this variable\n",
    "var_two = 99\n",
    "\n",
    "# run the cell to check your answer\n",
    "print(var_one == var_two)"
   ]
  },
  {
   "cell_type": "code",
   "execution_count": 35,
   "id": "27b992d0",
   "metadata": {},
   "outputs": [
    {
     "name": "stdout",
     "output_type": "stream",
     "text": [
      "True\n"
     ]
    }
   ],
   "source": [
    "# problem 31\n",
    "\n",
    "# calculate this arithmetic operation\n",
    "var_one = 0 % 1\n",
    "\n",
    "# assign that answer to this variable\n",
    "var_two = 0\n",
    "\n",
    "# run the cell to check your answer\n",
    "print(var_one == var_two)"
   ]
  },
  {
   "cell_type": "code",
   "execution_count": 36,
   "id": "942c0267",
   "metadata": {},
   "outputs": [
    {
     "name": "stdout",
     "output_type": "stream",
     "text": [
      "True\n"
     ]
    }
   ],
   "source": [
    "# problem 32\n",
    "\n",
    "# calculate this arithmetic operation\n",
    "var_one = 33 % 11\n",
    "\n",
    "# assign that answer to this variable\n",
    "var_two = 0\n",
    "\n",
    "# run the cell to check your answer\n",
    "print(var_one == var_two)"
   ]
  },
  {
   "cell_type": "code",
   "execution_count": 37,
   "id": "28acbccc",
   "metadata": {},
   "outputs": [
    {
     "name": "stdout",
     "output_type": "stream",
     "text": [
      "True\n"
     ]
    }
   ],
   "source": [
    "# problem 33\n",
    "\n",
    "# calculate this arithmetic operation\n",
    "var_one = 12 % 5\n",
    "\n",
    "# assign that answer to this variable\n",
    "var_two = 2\n",
    "\n",
    "# run the cell to check your answer\n",
    "print(var_one == var_two)"
   ]
  },
  {
   "cell_type": "code",
   "execution_count": 38,
   "id": "13174be1",
   "metadata": {},
   "outputs": [
    {
     "name": "stdout",
     "output_type": "stream",
     "text": [
      "True\n"
     ]
    }
   ],
   "source": [
    "# problem 34\n",
    "\n",
    "# calculate this arithmetic operation\n",
    "var_one = 21 % 6\n",
    "\n",
    "# assign that answer to this variable\n",
    "var_two = 3\n",
    "\n",
    "# run the cell to check your answer\n",
    "print(var_one == var_two)"
   ]
  },
  {
   "cell_type": "code",
   "execution_count": 39,
   "id": "364059a5",
   "metadata": {},
   "outputs": [
    {
     "name": "stdout",
     "output_type": "stream",
     "text": [
      "True\n"
     ]
    }
   ],
   "source": [
    "# problem 35\n",
    "\n",
    "# calculate this arithmetic operation\n",
    "var_one = 12 % 5\n",
    "\n",
    "# assign that answer to this variable\n",
    "var_two = 2\n",
    "\n",
    "# run the cell to check your answer\n",
    "print(var_one == var_two)"
   ]
  },
  {
   "cell_type": "code",
   "execution_count": 40,
   "id": "cbcab0d1",
   "metadata": {},
   "outputs": [
    {
     "name": "stdout",
     "output_type": "stream",
     "text": [
      "True\n"
     ]
    }
   ],
   "source": [
    "# problem 36\n",
    "\n",
    "# calculate this arithmetic operation\n",
    "var_one = 22 % 10\n",
    "\n",
    "# assign that answer to this variable\n",
    "var_two = 2\n",
    "\n",
    "# run the cell to check your answer\n",
    "print(var_one == var_two)"
   ]
  },
  {
   "cell_type": "code",
   "execution_count": 41,
   "id": "e5209b0b",
   "metadata": {},
   "outputs": [
    {
     "name": "stdout",
     "output_type": "stream",
     "text": [
      "True\n"
     ]
    }
   ],
   "source": [
    "# problem 37\n",
    "\n",
    "# calculate this arithmetic operation\n",
    "var_one = 4 % 100\n",
    "\n",
    "# assign that answer to this variable\n",
    "var_two = 4\n",
    "\n",
    "# run the cell to check your answer\n",
    "print(var_one == var_two)"
   ]
  },
  {
   "cell_type": "code",
   "execution_count": 42,
   "id": "421c0920",
   "metadata": {},
   "outputs": [
    {
     "name": "stdout",
     "output_type": "stream",
     "text": [
      "True\n"
     ]
    }
   ],
   "source": [
    "# problem 38\n",
    "\n",
    "# calculate this arithmetic operation\n",
    "var_one = 7 % 77\n",
    "\n",
    "# assign that answer to this variable\n",
    "var_two = 7\n",
    "\n",
    "# run the cell to check your answer\n",
    "print(var_one == var_two)"
   ]
  },
  {
   "cell_type": "code",
   "execution_count": 43,
   "id": "aef0e7d1",
   "metadata": {},
   "outputs": [
    {
     "name": "stdout",
     "output_type": "stream",
     "text": [
      "True\n"
     ]
    }
   ],
   "source": [
    "# problem 39\n",
    "\n",
    "# calculate this arithmetic operation\n",
    "var_one = 0 % 1024\n",
    "\n",
    "# assign that answer to this variable\n",
    "var_two = 0\n",
    "\n",
    "# run the cell to check your answer\n",
    "print(var_one == var_two)"
   ]
  },
  {
   "cell_type": "code",
   "execution_count": 44,
   "id": "9af68df8",
   "metadata": {},
   "outputs": [
    {
     "name": "stdout",
     "output_type": "stream",
     "text": [
      "True\n"
     ]
    }
   ],
   "source": [
    "# problem 40\n",
    "\n",
    "# calculate this arithmetic operation\n",
    "var_one = 11 % 2\n",
    "\n",
    "# assign that answer to this variable\n",
    "var_two = 1\n",
    "\n",
    "# run the cell to check your answer\n",
    "print(var_one == var_two)"
   ]
  },
  {
   "cell_type": "code",
   "execution_count": 45,
   "id": "dee44f24",
   "metadata": {},
   "outputs": [
    {
     "name": "stdout",
     "output_type": "stream",
     "text": [
      "True\n"
     ]
    }
   ],
   "source": [
    "# problem 41\n",
    "\n",
    "# calculate this arithmetic operation\n",
    "var_one = 100 % 2\n",
    "\n",
    "# assign that answer to this variable\n",
    "var_two = 0\n",
    "\n",
    "# run the cell to check your answer\n",
    "print(var_one == var_two)"
   ]
  },
  {
   "cell_type": "code",
   "execution_count": 46,
   "id": "0f383082",
   "metadata": {},
   "outputs": [],
   "source": [
    "# part 3: special cases (concatenation; replication)"
   ]
  },
  {
   "cell_type": "code",
   "execution_count": 47,
   "id": "3056552a",
   "metadata": {},
   "outputs": [
    {
     "name": "stdout",
     "output_type": "stream",
     "text": [
      "True\n"
     ]
    }
   ],
   "source": [
    "# problem 42\n",
    "\n",
    "# calculate this arithmetic operation\n",
    "var_one = 'foo' + 'd'\n",
    "\n",
    "# assign that answer to this variable\n",
    "var_two = 'food'\n",
    "\n",
    "# run the cell to check your answer\n",
    "print(var_one == var_two)"
   ]
  },
  {
   "cell_type": "code",
   "execution_count": 48,
   "id": "1d79e287",
   "metadata": {},
   "outputs": [
    {
     "name": "stdout",
     "output_type": "stream",
     "text": [
      "True\n"
     ]
    }
   ],
   "source": [
    "# problem \n",
    "\n",
    "# calculate this arithmetic operation\n",
    "first_name = 'cat'\n",
    "last_name = 'burglar'\n",
    "var_one = first_name + ' ' + last_name\n",
    "\n",
    "# assign that answer to this variable\n",
    "var_two = 'cat burglar'\n",
    "\n",
    "# run the cell to check your answer\n",
    "print(var_one == var_two)"
   ]
  },
  {
   "cell_type": "code",
   "execution_count": 49,
   "id": "afd4f1d9",
   "metadata": {},
   "outputs": [
    {
     "name": "stdout",
     "output_type": "stream",
     "text": [
      "True\n"
     ]
    }
   ],
   "source": [
    "# problem 43\n",
    "\n",
    "# calculate this arithmetic operation\n",
    "var_one = ' foo' + ' bar'\n",
    "\n",
    "# assign that answer to this variable\n",
    "var_two = ' foo bar'\n",
    "\n",
    "# run the cell to check your answer\n",
    "print(var_one == var_two)"
   ]
  },
  {
   "cell_type": "code",
   "execution_count": 50,
   "id": "65f11ca0",
   "metadata": {},
   "outputs": [
    {
     "name": "stdout",
     "output_type": "stream",
     "text": [
      "True\n"
     ]
    }
   ],
   "source": [
    "# problem 44\n",
    "\n",
    "# calculate this arithmetic operation\n",
    "var_one = 'foo' * 3\n",
    "\n",
    "# assign that answer to this variable\n",
    "var_two = 'foofoofoo'\n",
    "\n",
    "# run the cell to check your answer\n",
    "print(var_one == var_two)"
   ]
  },
  {
   "cell_type": "code",
   "execution_count": 51,
   "id": "4deb0a7a",
   "metadata": {},
   "outputs": [
    {
     "name": "stdout",
     "output_type": "stream",
     "text": [
      "True\n"
     ]
    }
   ],
   "source": [
    "# problem 45\n",
    "\n",
    "# calculate this arithmetic operation\n",
    "var_one = '2' * 2\n",
    "\n",
    "# assign that answer to this variable\n",
    "var_two = '22'\n",
    "\n",
    "# run the cell to check your answer\n",
    "print(var_one == var_two)"
   ]
  },
  {
   "cell_type": "code",
   "execution_count": 52,
   "id": "6c9f3808",
   "metadata": {},
   "outputs": [
    {
     "name": "stdout",
     "output_type": "stream",
     "text": [
      "True\n"
     ]
    }
   ],
   "source": [
    "# problem 46\n",
    "\n",
    "# calculate this arithmetic operation\n",
    "var_one = '4.4' * 3\n",
    "\n",
    "# assign that answer to this variable\n",
    "var_two = '4.44.44.4'\n",
    "\n",
    "# run the cell to check your answer\n",
    "print(var_one == var_two)"
   ]
  },
  {
   "cell_type": "code",
   "execution_count": 53,
   "id": "9f192a64",
   "metadata": {},
   "outputs": [
    {
     "name": "stdout",
     "output_type": "stream",
     "text": [
      "True\n"
     ]
    }
   ],
   "source": [
    "# problem 47\n",
    "\n",
    "# calculate this arithmetic operation\n",
    "var_one = 'dog' * 1\n",
    "\n",
    "# assign that answer to this variable\n",
    "var_two = 'dog'\n",
    "\n",
    "# run the cell to check your answer\n",
    "print(var_one == var_two)"
   ]
  },
  {
   "cell_type": "code",
   "execution_count": 54,
   "id": "e19bd7bb",
   "metadata": {},
   "outputs": [
    {
     "name": "stdout",
     "output_type": "stream",
     "text": [
      "True\n"
     ]
    }
   ],
   "source": [
    "# problem 48\n",
    "\n",
    "# calculate this arithmetic operation\n",
    "var_one = 'color ' * 2 + 'blue'\n",
    "\n",
    "# assign that answer to this variable\n",
    "var_two = 'color color blue'\n",
    "\n",
    "# run the cell to check your answer\n",
    "print(var_one == var_two)"
   ]
  },
  {
   "cell_type": "code",
   "execution_count": 55,
   "id": "ef61ef41",
   "metadata": {},
   "outputs": [
    {
     "name": "stdout",
     "output_type": "stream",
     "text": [
      "True\n"
     ]
    }
   ],
   "source": [
    "# problem 49\n",
    "\n",
    "# calculate this arithmetic operation\n",
    "var_one = 'ice ' + 'cream ' * 2 + 'yum'\n",
    "\n",
    "# assign that answer to this variable\n",
    "var_two = 'ice cream cream yum'\n",
    "\n",
    "# run the cell to check your answer\n",
    "print(var_one == var_two)"
   ]
  },
  {
   "cell_type": "code",
   "execution_count": 56,
   "id": "8972f152",
   "metadata": {},
   "outputs": [],
   "source": [
    "# part 4: extended (OPTIONAL)\n",
    "# further reading: http://python-history.blogspot.com/2010/08/why-pythons-integer-division-floors.html"
   ]
  },
  {
   "cell_type": "code",
   "execution_count": 57,
   "id": "0aeb41f0",
   "metadata": {},
   "outputs": [
    {
     "name": "stdout",
     "output_type": "stream",
     "text": [
      "True\n"
     ]
    }
   ],
   "source": [
    "# problem 1e\n",
    "\n",
    "# calculate this arithmetic operation\n",
    "var_one = -3 // 2\n",
    "\n",
    "# assign that answer to this variable\n",
    "var_two = -2\n",
    "\n",
    "# run the cell to check your answer\n",
    "print(var_one == var_two)"
   ]
  },
  {
   "cell_type": "code",
   "execution_count": 58,
   "id": "4241b94a",
   "metadata": {},
   "outputs": [
    {
     "name": "stdout",
     "output_type": "stream",
     "text": [
      "True\n"
     ]
    }
   ],
   "source": [
    "# problem 2e\n",
    "\n",
    "# calculate this arithmetic operation\n",
    "var_one = -1 // 2\n",
    "\n",
    "# assign that answer to this variable\n",
    "var_two = -1\n",
    "\n",
    "# run the cell to check your answer\n",
    "print(var_one == var_two)"
   ]
  },
  {
   "cell_type": "code",
   "execution_count": 59,
   "id": "1a2f95ed",
   "metadata": {},
   "outputs": [
    {
     "name": "stdout",
     "output_type": "stream",
     "text": [
      "True\n"
     ]
    }
   ],
   "source": [
    "# problem 3e\n",
    "\n",
    "# calculate this arithmetic operation\n",
    "var_one = 1 // -2\n",
    "\n",
    "# assign that answer to this variable\n",
    "var_two = -1\n",
    "\n",
    "# run the cell to check your answer\n",
    "print(var_one == var_two)"
   ]
  },
  {
   "cell_type": "code",
   "execution_count": 60,
   "id": "2fe7091d",
   "metadata": {},
   "outputs": [
    {
     "name": "stdout",
     "output_type": "stream",
     "text": [
      "True\n"
     ]
    }
   ],
   "source": [
    "# problem 4e\n",
    "\n",
    "# calculate this arithmetic operation\n",
    "var_one = -5 // 2\n",
    "\n",
    "# assign that answer to this variable\n",
    "var_two = -3\n",
    "\n",
    "# run the cell to check your answer\n",
    "print(var_one == var_two)"
   ]
  },
  {
   "cell_type": "code",
   "execution_count": 61,
   "id": "0a29ba5c",
   "metadata": {},
   "outputs": [
    {
     "name": "stdout",
     "output_type": "stream",
     "text": [
      "True\n"
     ]
    }
   ],
   "source": [
    "# problem 5e\n",
    "\n",
    "# calculate this arithmetic operation\n",
    "var_one = 5 // -2\n",
    "\n",
    "# assign that answer to this variable\n",
    "var_two = -3\n",
    "\n",
    "# run the cell to check your answer\n",
    "print(var_one == var_two)"
   ]
  },
  {
   "cell_type": "code",
   "execution_count": 62,
   "id": "e4efc833",
   "metadata": {},
   "outputs": [
    {
     "name": "stdout",
     "output_type": "stream",
     "text": [
      "True\n"
     ]
    }
   ],
   "source": [
    "# problem 6e\n",
    "\n",
    "# calculate this arithmetic operation\n",
    "var_one = -5 % 3\n",
    "\n",
    "# assign that answer to this variable\n",
    "var_two = 1\n",
    "\n",
    "# run the cell to check your answer\n",
    "print(var_one == var_two)"
   ]
  },
  {
   "cell_type": "code",
   "execution_count": 63,
   "id": "62780f80",
   "metadata": {},
   "outputs": [
    {
     "name": "stdout",
     "output_type": "stream",
     "text": [
      "True\n"
     ]
    }
   ],
   "source": [
    "# problem 7e\n",
    "\n",
    "# calculate this arithmetic operation\n",
    "var_one = -6 % 4\n",
    "\n",
    "# assign that answer to this variable\n",
    "var_two = 2\n",
    "\n",
    "# run the cell to check your answer\n",
    "print(var_one == var_two)"
   ]
  },
  {
   "cell_type": "code",
   "execution_count": 64,
   "id": "08689839",
   "metadata": {},
   "outputs": [
    {
     "name": "stdout",
     "output_type": "stream",
     "text": [
      "True\n"
     ]
    }
   ],
   "source": [
    "# problem 8e\n",
    "\n",
    "# calculate this arithmetic operation\n",
    "var_one = 3 % -2\n",
    "\n",
    "# assign that answer to this variable\n",
    "var_two = -1\n",
    "\n",
    "# run the cell to check your answer\n",
    "print(var_one == var_two)"
   ]
  },
  {
   "cell_type": "code",
   "execution_count": 65,
   "id": "0328be95",
   "metadata": {},
   "outputs": [
    {
     "name": "stdout",
     "output_type": "stream",
     "text": [
      "True\n"
     ]
    }
   ],
   "source": [
    "# problem 9e\n",
    "\n",
    "# calculate this arithmetic operation\n",
    "var_one = 4 % -2\n",
    "\n",
    "# assign that answer to this variable\n",
    "var_two = 0\n",
    "\n",
    "# run the cell to check your answer\n",
    "print(var_one == var_two)"
   ]
  },
  {
   "cell_type": "code",
   "execution_count": 66,
   "id": "4ade7aa7",
   "metadata": {},
   "outputs": [
    {
     "name": "stdout",
     "output_type": "stream",
     "text": [
      "True\n"
     ]
    }
   ],
   "source": [
    "# problem 10e\n",
    "\n",
    "# calculate this arithmetic operation\n",
    "var_one = 4 % -3\n",
    "\n",
    "# assign that answer to this variable\n",
    "var_two = -2\n",
    "\n",
    "# run the cell to check your answer\n",
    "print(var_one == var_two)"
   ]
  }
 ],
 "metadata": {
  "kernelspec": {
   "display_name": "Python 3 (ipykernel)",
   "language": "python",
   "name": "python3"
  },
  "language_info": {
   "codemirror_mode": {
    "name": "ipython",
    "version": 3
   },
   "file_extension": ".py",
   "mimetype": "text/x-python",
   "name": "python",
   "nbconvert_exporter": "python",
   "pygments_lexer": "ipython3",
   "version": "3.10.2"
  }
 },
 "nbformat": 4,
 "nbformat_minor": 5
}
