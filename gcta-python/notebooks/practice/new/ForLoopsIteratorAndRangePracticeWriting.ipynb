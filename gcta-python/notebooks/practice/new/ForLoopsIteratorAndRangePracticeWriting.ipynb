{
 "cells": [
  {
   "cell_type": "code",
   "execution_count": null,
   "id": "89b1ba28",
   "metadata": {
    "run_control": {
     "marked": false
    }
   },
   "outputs": [],
   "source": [
    "# practice\n",
    "#   for loops\n",
    "#   iterator variable\n",
    "#   iterator \n",
    "\n",
    "\n",
    "\"\"\"\n",
    "recall:\n",
    "\n",
    "for {iterator_variable} in {iterator}:\n",
    "    # do things\n",
    "    # in this\n",
    "    # block of code\n",
    "    \n",
    "\"\"\""
   ]
  },
  {
   "cell_type": "code",
   "execution_count": null,
   "id": "5a5455d4",
   "metadata": {},
   "outputs": [],
   "source": [
    "# iterator variable review"
   ]
  },
  {
   "cell_type": "code",
   "execution_count": null,
   "id": "3fd7a098",
   "metadata": {},
   "outputs": [],
   "source": [
    "# example problem\n",
    "\n",
    "# using the range function, write a for loop\n",
    "# that prints 'b' on two consecutive lines\n",
    "\n",
    "# for the iterator variable name, use: i\n",
    "\n",
    "for i in range(2):\n",
    "    print('b')"
   ]
  },
  {
   "cell_type": "code",
   "execution_count": null,
   "id": "51fb32a4",
   "metadata": {},
   "outputs": [],
   "source": [
    "# using the range function, write a for loop\n",
    "# that prints 'a' on three consecutive lines\n",
    "\n",
    "# for the iterator variable name, use: i\n",
    "\n"
   ]
  },
  {
   "cell_type": "code",
   "execution_count": null,
   "id": "cc7af888",
   "metadata": {},
   "outputs": [],
   "source": [
    "# using the range function, write a for loop\n",
    "# that prints the value of the iterator variable\n",
    "# on three consecutive lines, from 0 to 2.\n",
    "\n",
    "# like so:\n",
    "# 0\n",
    "# 1\n",
    "# 2\n",
    "\n",
    "# for the iterator variable name, use: x\n",
    "\n"
   ]
  },
  {
   "cell_type": "code",
   "execution_count": null,
   "id": "204aa3bb",
   "metadata": {},
   "outputs": [],
   "source": [
    "# using the range function, write a for loop\n",
    "# that prints the values 0, 1, and  2 on three\n",
    "# consecutive lines\n",
    "\n",
    "# for the iterator variable name, use: any_variable_name\n",
    "\n"
   ]
  },
  {
   "cell_type": "code",
   "execution_count": null,
   "id": "af75785c",
   "metadata": {
    "run_control": {
     "marked": false
    }
   },
   "outputs": [],
   "source": [
    "# using the range function, write a for loop\n",
    "# that prints the values 0, 1, and  2 on three\n",
    "# consecutive lines\n",
    "\n",
    "# for the iterator variable name, use: each\n",
    "\n"
   ]
  },
  {
   "cell_type": "code",
   "execution_count": null,
   "id": "f6a1867e",
   "metadata": {},
   "outputs": [],
   "source": [
    "# using the range function, write a for loop\n",
    "# that prints the values 0, 1, and  2 on three\n",
    "# consecutive lines\n",
    "\n",
    "# for the iterator variable name, use: each_element\n",
    "\n"
   ]
  },
  {
   "cell_type": "code",
   "execution_count": null,
   "id": "4080a1d1",
   "metadata": {},
   "outputs": [],
   "source": [
    "# using the range function, write a for loop\n",
    "# that squares the values 0, 1, and  2 on three\n",
    "# consecutive lines\n",
    "# note: square -> (var * var) or (var ** 2)\n",
    "\n",
    "# for the iterator variable name, use: each\n",
    "\n"
   ]
  },
  {
   "cell_type": "code",
   "execution_count": null,
   "id": "cf110dab",
   "metadata": {},
   "outputs": [],
   "source": [
    "# range review"
   ]
  },
  {
   "cell_type": "code",
   "execution_count": null,
   "id": "29e9dc2e",
   "metadata": {},
   "outputs": [],
   "source": [
    "# using the range function, write a for loop\n",
    "# that prints 'c' on three consecutive lines\n",
    "\n",
    "# for the iterator variable name, use: j\n",
    "\n"
   ]
  },
  {
   "cell_type": "code",
   "execution_count": null,
   "id": "6e5572eb",
   "metadata": {},
   "outputs": [],
   "source": [
    "# using the range function, write a for loop\n",
    "# that prints the values 0 and 1 on two\n",
    "# consecutive lines\n",
    "\n",
    "# for the iterator variable name, use: i\n",
    "\n"
   ]
  },
  {
   "cell_type": "code",
   "execution_count": null,
   "id": "db4592a4",
   "metadata": {},
   "outputs": [],
   "source": [
    "# explicitly stating the start and stop\n",
    "# of the range function, write a for loop\n",
    "# that prints the values 0 and 1 on two\n",
    "# consecutive lines\n",
    "\n",
    "# for the iterator variable name, use: i\n",
    "\n"
   ]
  },
  {
   "cell_type": "code",
   "execution_count": null,
   "id": "e8eb3ad1",
   "metadata": {},
   "outputs": [],
   "source": [
    "# using the range function, write a for loop\n",
    "# that prints the values 0 to 3 on four\n",
    "# consecutive lines\n",
    "\n",
    "# for the iterator variable name, use: i\n",
    "\n"
   ]
  },
  {
   "cell_type": "code",
   "execution_count": null,
   "id": "35916a15",
   "metadata": {},
   "outputs": [],
   "source": [
    "# using the range function, write a for loop\n",
    "# that prints the values 1 to 3 on three\n",
    "# consecutive lines\n",
    "\n",
    "# for the iterator variable name, use: any_variable_name\n",
    "\n"
   ]
  },
  {
   "cell_type": "code",
   "execution_count": null,
   "id": "eea5eaa0",
   "metadata": {},
   "outputs": [],
   "source": [
    "# using a list, write a for loop that prints\n",
    "# the values 1 to 3 on three consecutive lines\n",
    "\n",
    "# for the iterator variable name, use: each\n",
    "\n"
   ]
  },
  {
   "cell_type": "code",
   "execution_count": null,
   "id": "6f83a9e5",
   "metadata": {},
   "outputs": [],
   "source": [
    "# using a list, write a for loop that prints\n",
    "# the value 42 on two consecutive lines\n",
    "\n",
    "# for the iterator variable name, use: each\n",
    "\n"
   ]
  },
  {
   "cell_type": "code",
   "execution_count": null,
   "id": "5b72ad98",
   "metadata": {},
   "outputs": [],
   "source": [
    "# range practice\n",
    "# recall: range(start, stop, step)"
   ]
  },
  {
   "cell_type": "code",
   "execution_count": null,
   "id": "47edccb8",
   "metadata": {},
   "outputs": [],
   "source": [
    "# explicitly stating the start, stop, and step\n",
    "# of the range function, write a for loop that\n",
    "# prints the values 0, 1, and 2 on three\n",
    "# consecutive lines\n",
    "\n",
    "# for the iterator variable name, use: each_element\n",
    "\n"
   ]
  },
  {
   "cell_type": "code",
   "execution_count": null,
   "id": "fffb2f77",
   "metadata": {},
   "outputs": [],
   "source": [
    "# explicitly stating the start, stop, and step\n",
    "# of the range function, write a for loop that\n",
    "# prints the values 1 and 2 on two consecutive\n",
    "# lines\n",
    "\n",
    "# for the iterator variable name, use: i\n",
    "\n"
   ]
  },
  {
   "cell_type": "code",
   "execution_count": null,
   "id": "d3b5a71d",
   "metadata": {},
   "outputs": [],
   "source": [
    "# explicitly stating only the start and stop\n",
    "# of the range function, write a for loop that\n",
    "# prints the values 1 and 2 on two consecutive\n",
    "# lines\n",
    "\n",
    "# for the iterator variable name, use: i\n",
    "\n"
   ]
  },
  {
   "cell_type": "code",
   "execution_count": null,
   "id": "6c21af85",
   "metadata": {},
   "outputs": [],
   "source": [
    "# using only the start, stop, and step of the\n",
    "# range function, write a for loop that prints\n",
    "# the values 1, 3, 5 on three consecutive lines\n",
    "\n",
    "# for the iterator variable name, use: each\n",
    "\n"
   ]
  },
  {
   "cell_type": "code",
   "execution_count": null,
   "id": "2c490498",
   "metadata": {},
   "outputs": [],
   "source": [
    "# negative range & special cases\n",
    "\n",
    "# in cells that fail to produce an ouput,\n",
    "# the iterator is equivalent to []"
   ]
  },
  {
   "cell_type": "code",
   "execution_count": null,
   "id": "708b0d47",
   "metadata": {},
   "outputs": [],
   "source": [
    "# using only the start, stop, and step of the\n",
    "# range function, write a for loop that prints\n",
    "# the values -1, -2, -3, -4 on four consecutive\n",
    "# lines\n",
    "\n",
    "# for the iterator variable name, use: each\n",
    "\n"
   ]
  },
  {
   "cell_type": "code",
   "execution_count": null,
   "id": "b838d92e",
   "metadata": {},
   "outputs": [],
   "source": [
    "# using only the start, stop, and step of the\n",
    "# range function, write a for loop that prints\n",
    "# the values 3, 1, -1 on three consecutive\n",
    "# lines\n",
    "\n",
    "# for the iterator variable name, use: each\n",
    "\n"
   ]
  },
  {
   "cell_type": "code",
   "execution_count": null,
   "id": "835cb797",
   "metadata": {},
   "outputs": [],
   "source": [
    "# using only the start, stop, and step of the\n",
    "# range function, write a for loop that prints\n",
    "# the values -4 and -3 on two consecutive\n",
    "# lines\n",
    "\n",
    "# for the iterator variable name, use: each_element\n",
    "\n"
   ]
  },
  {
   "cell_type": "code",
   "execution_count": null,
   "id": "887be6fa",
   "metadata": {},
   "outputs": [],
   "source": [
    "# using only the start and stop of the range \n",
    "# function, write a for loop that prints \n",
    "# the values -3 and -2 on two consecutive\n",
    "# lines\n",
    "\n",
    "# for the iterator variable name, use: each_element\n",
    "\n"
   ]
  },
  {
   "cell_type": "code",
   "execution_count": null,
   "id": "96223446",
   "metadata": {},
   "outputs": [],
   "source": [
    "# using only the start and stop of the range \n",
    "# function, write a for loop that prints \n",
    "# the values from -3 to 1 on five consecutive\n",
    "# lines\n",
    "\n",
    "# for the iterator variable name, use: each_element\n",
    "\n"
   ]
  },
  {
   "cell_type": "code",
   "execution_count": null,
   "id": "80bf8a93",
   "metadata": {},
   "outputs": [],
   "source": [
    "# using only the start and stop of the range \n",
    "# function, write a for loop that prints \n",
    "# the values from -2 to 0 on three consecutive\n",
    "# lines\n",
    "\n",
    "# for the iterator variable name, use: each\n",
    "\n"
   ]
  },
  {
   "cell_type": "code",
   "execution_count": null,
   "id": "844dfc2f",
   "metadata": {},
   "outputs": [],
   "source": [
    "# using only the start, stop, and step of the\n",
    "# range function, write a for loop that prints\n",
    "# the values -1, -3, -5 on three consecutive\n",
    "# lines\n",
    "\n",
    "# for the iterator variable name, use: i\n",
    "\n"
   ]
  }
 ],
 "metadata": {
  "kernelspec": {
   "display_name": "Python 3 (ipykernel)",
   "language": "python",
   "name": "python3"
  },
  "language_info": {
   "codemirror_mode": {
    "name": "ipython",
    "version": 3
   },
   "file_extension": ".py",
   "mimetype": "text/x-python",
   "name": "python",
   "nbconvert_exporter": "python",
   "pygments_lexer": "ipython3",
   "version": "3.10.2"
  }
 },
 "nbformat": 4,
 "nbformat_minor": 5
}
