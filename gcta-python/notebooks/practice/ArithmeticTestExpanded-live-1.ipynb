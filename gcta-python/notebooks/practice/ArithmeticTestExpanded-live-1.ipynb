{
 "cells": [
  {
   "cell_type": "code",
   "execution_count": null,
   "id": "c8e6c733",
   "metadata": {},
   "outputs": [],
   "source": [
    "# This is an expansion of the math test example. This was written as a group effort live, in-class\n",
    "\n",
    "# for random number generation:\n",
    "# import the python library, random\n",
    "# use the function randint() from the random library to generate a random number between 0 and 10\n",
    "# random.randint(0, 10)\n",
    "# https://docs.python.org/3/library/random.html#random.randint"
   ]
  },
  {
   "cell_type": "code",
   "execution_count": null,
   "id": "f8136b20",
   "metadata": {},
   "outputs": [],
   "source": [
    "import random"
   ]
  },
  {
   "cell_type": "code",
   "execution_count": null,
   "id": "11652c74",
   "metadata": {},
   "outputs": [],
   "source": [
    "def modulo_test_question(a, b):\n",
    "    answer = a%b\n",
    "    question = f'{a} % {b} = '\n",
    "    return (question, answer)"
   ]
  },
  {
   "cell_type": "code",
   "execution_count": null,
   "id": "a5c02ce5",
   "metadata": {},
   "outputs": [],
   "source": [
    "def floor_division_test_question(a, b):\n",
    "    answer = a//b\n",
    "    question = f'{a} // {b} = '\n",
    "    return (question, answer)"
   ]
  },
  {
   "cell_type": "code",
   "execution_count": null,
   "id": "c516ceb6",
   "metadata": {},
   "outputs": [],
   "source": [
    "def division_test_question(a, b):\n",
    "    answer = a/b\n",
    "    question = f'{a} / {b} = '\n",
    "    return (question, answer)"
   ]
  },
  {
   "cell_type": "code",
   "execution_count": null,
   "id": "1cacaf28",
   "metadata": {},
   "outputs": [],
   "source": [
    "def multiplication_test_question(a, b):\n",
    "    answer = a*b\n",
    "    question = f'{a} * {b} = '\n",
    "    return (question, answer)"
   ]
  },
  {
   "cell_type": "code",
   "execution_count": null,
   "id": "bd496772",
   "metadata": {},
   "outputs": [],
   "source": [
    "def division_test_question(a, b):\n",
    "    answer = a/b\n",
    "    question = f'{a} / {b} = '\n",
    "    return (question, answer)"
   ]
  },
  {
   "cell_type": "code",
   "execution_count": null,
   "id": "aa0206ee",
   "metadata": {},
   "outputs": [],
   "source": [
    "def addition_test_question(a, b):\n",
    "    answer = a+b\n",
    "    question = f'{a} + {b} = '\n",
    "    return (question, answer)"
   ]
  },
  {
   "cell_type": "code",
   "execution_count": null,
   "id": "a9f5c37d",
   "metadata": {},
   "outputs": [],
   "source": [
    "def subtraction_test_question(a, b):\n",
    "    answer = a+b\n",
    "    question = f'{a} + {b} = '\n",
    "    return (question, answer)"
   ]
  },
  {
   "cell_type": "code",
   "execution_count": null,
   "id": "c2ce4f14",
   "metadata": {},
   "outputs": [],
   "source": [
    "def get_random_numbers():\n",
    "    a = random.randint(1, 10)\n",
    "    b = random.randint(1, 10)\n",
    "    \n",
    "    return (a, b)"
   ]
  },
  {
   "cell_type": "code",
   "execution_count": null,
   "id": "6bf30d03",
   "metadata": {},
   "outputs": [],
   "source": [
    "def get_test_type():\n",
    "    test_types = ('//', '%', '/', '*', '+', '-')\n",
    "    user_input = input(f'select a test type from {test_types}: ')\n",
    "    \n",
    "    if user_input not in test_types:\n",
    "        raise ValueError(f'not a valid test type: {user_input}')\n",
    "        \n",
    "    return user_input"
   ]
  },
  {
   "cell_type": "code",
   "execution_count": null,
   "id": "0f752d6b",
   "metadata": {},
   "outputs": [],
   "source": [
    "def ask_question(question, answer):\n",
    "    user_answer = input(question)\n",
    "    \n",
    "    return user_answer == str(answer)"
   ]
  },
  {
   "cell_type": "code",
   "execution_count": null,
   "id": "05aab120",
   "metadata": {},
   "outputs": [],
   "source": [
    "def proctor(question_function, true_incrementor=0):\n",
    "    \n",
    "    nums = get_random_numbers()\n",
    "    question, answer = question_function(nums[0], nums[1])\n",
    "    right_or_wrong = ask_question(question, answer) \n",
    "    \n",
    "    if right_or_wrong:\n",
    "        true_incrementor += 1\n",
    "    \n",
    "    return true_incrementor"
   ]
  },
  {
   "cell_type": "code",
   "execution_count": null,
   "id": "a56b45f5",
   "metadata": {},
   "outputs": [],
   "source": [
    "def check_user_playing():\n",
    "    \n",
    "    options = ('y', 'n')\n",
    "    user_playing = input(f'Still playing {options}: ')\n",
    "\n",
    "    if user_playing not in options:\n",
    "            raise ValueError(f'not a valid response: {user_playing}') \n",
    "            \n",
    "    if user_playing == 'y':\n",
    "        return True\n",
    "    else:\n",
    "        return False\n",
    "    "
   ]
  },
  {
   "cell_type": "code",
   "execution_count": null,
   "id": "083d013e",
   "metadata": {},
   "outputs": [],
   "source": [
    "user_playing = True\n",
    "\n",
    "test = get_test_type()\n",
    "\n",
    "question_counter = 0\n",
    "correct_answer_counter = 0\n",
    "scores = []\n",
    "\n",
    "while user_playing:\n",
    "    \n",
    "    for i in range(3):\n",
    "        \n",
    "        question_counter += 1\n",
    "\n",
    "        if test == '%':\n",
    "            correct_answer_counter = proctor(modulo_test_question, true_incrementor=correct_answer_counter)\n",
    "\n",
    "        if test == '//':\n",
    "            correct_answer_counter = proctor(floor_division_test_question, true_incrementor=correct_answer_counter)\n",
    "\n",
    "        if test == '/':\n",
    "            correct_answer_counter = proctor(division_test_question, true_incrementor=correct_answer_counter)\n",
    "\n",
    "        if test == '*':\n",
    "            correct_answer_counter = proctor(multiplication_test_question, true_incrementor=correct_answer_counter)\n",
    "\n",
    "        if test == '+':\n",
    "            correct_answer_counter = proctor(addition_test_question, true_incrementor=correct_answer_counter)      \n",
    "\n",
    "        if test == '-':\n",
    "            correct_answer_counter = proctor(subtraction_test_question, true_incrementor=correct_answer_counter)  \n",
    "            \n",
    "    score = round(correct_answer_counter/question_counter*100, 2)\n",
    "    \n",
    "    print(f'You scored: {score}% \\n\\n')\n",
    "    \n",
    "    scores.append(score)\n",
    "    \n",
    "    user_playing = check_user_playing()\n",
    "\n",
    "else:\n",
    "    num_plays = len(scores)\n",
    "    avg_score = round(sum(scores)/len(scores), 2)\n",
    "    string_scores = [str(i) + '%' for i in scores]\n",
    "    print(f'\\n\\n\\nYou took {num_plays} tests \\nYour average score was {avg_score}% \\nYour individual scores were {string_scores}')\n"
   ]
  },
  {
   "cell_type": "code",
   "execution_count": null,
   "id": "772f31c7",
   "metadata": {},
   "outputs": [],
   "source": []
  }
 ],
 "metadata": {
  "kernelspec": {
   "display_name": "Python 3 (ipykernel)",
   "language": "python",
   "name": "python3"
  },
  "language_info": {
   "codemirror_mode": {
    "name": "ipython",
    "version": 3
   },
   "file_extension": ".py",
   "mimetype": "text/x-python",
   "name": "python",
   "nbconvert_exporter": "python",
   "pygments_lexer": "ipython3",
   "version": "3.8.9"
  }
 },
 "nbformat": 4,
 "nbformat_minor": 5
}
