{
 "cells": [
  {
   "cell_type": "code",
   "execution_count": null,
   "id": "9bc8ff76",
   "metadata": {},
   "outputs": [],
   "source": [
    "# You have a warehouse of triangles\n",
    "# You have a database for this warehouse which contains the dimmensions of each triangle\n",
    "# the data comes to you in the form of a list of lists where each inner list contains the 3 sides to a triangle\n",
    "\n",
    "# Write a program which loops over each triangle and determines whether or not it is a right triangle\n",
    "# The output should be a new list which only contains right triangles"
   ]
  },
  {
   "cell_type": "code",
   "execution_count": null,
   "id": "f82fadd4",
   "metadata": {},
   "outputs": [],
   "source": [
    "\"\"\"\n",
    "a**2 + b**2 = c**2\n",
    "\n",
    "c = (a**2 + b**2)**0.5\n",
    "\n",
    "   |\\\n",
    " a | \\  c\n",
    "   |  \\\n",
    "   |___\\\n",
    "     b\n",
    "\"\"\""
   ]
  },
  {
   "cell_type": "code",
   "execution_count": null,
   "id": "d9233a45",
   "metadata": {},
   "outputs": [],
   "source": [
    "# Here is the output from your database of triangles\n",
    "\n",
    "triangles = [\n",
    "    [3, 4, 5],\n",
    "    [5, 5, 50],\n",
    "    [5, 12, 13],\n",
    "    [1, 3, 7],\n",
    "    [9, 14, 90],\n",
    "    [3, 8, 10],\n",
    "    [2, 7, 9],\n",
    "    [6, 8, 10]\n",
    "]"
   ]
  },
  {
   "cell_type": "code",
   "execution_count": null,
   "id": "8bb48d4c",
   "metadata": {},
   "outputs": [],
   "source": [
    "# STEP1\n",
    "# write a function which determines whether or not a triangle is a right triangle based on the dimmensions\n",
    "\n"
   ]
  },
  {
   "cell_type": "code",
   "execution_count": null,
   "id": "22c20331",
   "metadata": {},
   "outputs": [],
   "source": [
    "# STEP2\n",
    "# Create a new empty list where you will store the dimmensions of all the right triangles\n",
    "\n"
   ]
  },
  {
   "cell_type": "code",
   "execution_count": null,
   "id": "079fa57b",
   "metadata": {},
   "outputs": [],
   "source": [
    "# STEP3\n",
    "# Loop over each triangle, determine if its a right triangle using your function, and append to the new list if it is\n",
    "\n"
   ]
  },
  {
   "cell_type": "code",
   "execution_count": null,
   "id": "1991a110",
   "metadata": {},
   "outputs": [],
   "source": []
  },
  {
   "cell_type": "code",
   "execution_count": null,
   "id": "18f15cb8",
   "metadata": {},
   "outputs": [],
   "source": []
  }
 ],
 "metadata": {
  "kernelspec": {
   "display_name": "Python 3 (ipykernel)",
   "language": "python",
   "name": "python3"
  },
  "language_info": {
   "codemirror_mode": {
    "name": "ipython",
    "version": 3
   },
   "file_extension": ".py",
   "mimetype": "text/x-python",
   "name": "python",
   "nbconvert_exporter": "python",
   "pygments_lexer": "ipython3",
   "version": "3.8.9"
  }
 },
 "nbformat": 4,
 "nbformat_minor": 5
}
