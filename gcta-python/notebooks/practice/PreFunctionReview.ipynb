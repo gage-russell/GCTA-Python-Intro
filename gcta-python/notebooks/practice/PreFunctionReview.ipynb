{
 "cells": [
  {
   "cell_type": "markdown",
   "id": "0dbcc46a",
   "metadata": {},
   "source": [
    "# This is a review notebook\n",
    "***In order to do this review, you need to have covered:***\n",
    "* Simple Data Types (literals: int, str, float, bool)\n",
    "* The print() function\n",
    "* The input() function\n",
    "* The type() function\n",
    "* the isinstance() function\n",
    "* Arithmetic operators (+, -, /, //, *, \\**, %)\n",
    "* Comparison operators (==, !=, <, >, <=, >=)\n",
    "* Logical operators (and, or, not)\n",
    "* Special operators (is)\n",
    "* Membership operators (in)\n",
    "* The range() function\n",
    "* Lists\n",
    "* Dictionaries\n",
    "* For loops\n",
    "* List comprehension\n",
    "* Conditional expressions (if, elif, else)"
   ]
  },
  {
   "cell_type": "code",
   "execution_count": null,
   "id": "3ef34779",
   "metadata": {},
   "outputs": [],
   "source": [
    "x = '1'\n",
    "# add code to convert the variable from str to int\n",
    "# then print the type of the variable\n"
   ]
  },
  {
   "cell_type": "code",
   "execution_count": null,
   "id": "58f8a9bf",
   "metadata": {},
   "outputs": [],
   "source": [
    "x = 1\n",
    "# add code to convert the variable from int to str\n",
    "# then print the type of the variable\n"
   ]
  },
  {
   "cell_type": "code",
   "execution_count": null,
   "id": "78e8b57e",
   "metadata": {},
   "outputs": [],
   "source": [
    "x = 1\n",
    "# add code to convert the variable from int to float\n",
    "# then print the type of the variable\n"
   ]
  },
  {
   "cell_type": "code",
   "execution_count": null,
   "id": "963bc960",
   "metadata": {},
   "outputs": [],
   "source": [
    "x = 4\n",
    "y = 2\n",
    "\n",
    "# write an expression below which assigns the value 8 to the variable z using \n",
    "# one of the arithmetic operators then print z\n"
   ]
  },
  {
   "cell_type": "code",
   "execution_count": null,
   "id": "1e77198f",
   "metadata": {},
   "outputs": [],
   "source": [
    "x = 8\n",
    "y = 5\n",
    "\n",
    "# write an expression below which assigns the value 3 to the variable z using\n",
    "# one of the arithmetic operators then print z\n"
   ]
  },
  {
   "cell_type": "code",
   "execution_count": null,
   "id": "853d0b50",
   "metadata": {},
   "outputs": [],
   "source": [
    "x = 8\n",
    "y = 6\n",
    "z = x // y\n",
    "\n",
    "# write an expression below which checks the data type of z\n",
    "# and assigns its output as a boolean to a new variable, foo\n",
    "# print foo (it should print True)\n"
   ]
  },
  {
   "cell_type": "code",
   "execution_count": null,
   "id": "4d843e7a",
   "metadata": {},
   "outputs": [],
   "source": [
    "x = 8\n",
    "y = 6\n",
    "z = x / y\n",
    "\n",
    "# write an expression below which checks the data type of z\n",
    "# and assigns its output as a boolean to a new variable, foo\n",
    "# print foo (it should print True)\n"
   ]
  },
  {
   "cell_type": "code",
   "execution_count": null,
   "id": "f090e90d",
   "metadata": {},
   "outputs": [],
   "source": [
    "x = [7, 3, 5, 9]\n",
    "\n",
    "# write a for loop which prints \n",
    "# 14, 6, 10, 18,\n",
    "# using one of the arithmetic operators\n"
   ]
  },
  {
   "cell_type": "code",
   "execution_count": null,
   "id": "25bba3f4",
   "metadata": {},
   "outputs": [],
   "source": [
    "for i in range(5):\n",
    "    \n",
    "    # write an expression which prints i if it is an even number\n"
   ]
  },
  {
   "cell_type": "code",
   "execution_count": null,
   "id": "e77fa330",
   "metadata": {},
   "outputs": [],
   "source": [
    "x = [i for i in range(3)]\n",
    "# create a new variable y which causes the last expression in this cell to print True\n",
    "\n",
    "print(x == y)"
   ]
  },
  {
   "cell_type": "code",
   "execution_count": null,
   "id": "392ded48",
   "metadata": {},
   "outputs": [],
   "source": [
    "x = [i for i in range(0, 5)]\n",
    "# create a new variable y which causes the last expression in this cell to print True\n",
    "\n",
    "print(x == y)"
   ]
  },
  {
   "cell_type": "code",
   "execution_count": null,
   "id": "fa22b236",
   "metadata": {},
   "outputs": [],
   "source": [
    "x = [i for i in range(1, 3)]\n",
    "# create a new variable y which causes the last expression in this cell to print True\n",
    "\n",
    "print(x == y)"
   ]
  },
  {
   "cell_type": "code",
   "execution_count": null,
   "id": "924d8672",
   "metadata": {},
   "outputs": [],
   "source": [
    "x = [i for i in range(3, 7)]\n",
    "# create a new variable y which causes the last expression in this cell to print True\n",
    "\n",
    "print(x == y)"
   ]
  },
  {
   "cell_type": "code",
   "execution_count": null,
   "id": "36dcd36f",
   "metadata": {},
   "outputs": [],
   "source": [
    "x = [i for i in range(0, 10, 2)]\n",
    "# create a new variable y which causes the last expression in this cell to print True\n",
    "\n",
    "print(x == y)"
   ]
  },
  {
   "cell_type": "code",
   "execution_count": null,
   "id": "4fb0ca27",
   "metadata": {},
   "outputs": [],
   "source": [
    "x = [i for i in range(1, 7, 3)]\n",
    "# create a new variable y which causes the last expression in this cell to print True\n",
    "\n",
    "print(x == y)"
   ]
  },
  {
   "cell_type": "code",
   "execution_count": null,
   "id": "21317c3f",
   "metadata": {},
   "outputs": [],
   "source": [
    "x = [i for i in range(1, 3, 3)]\n",
    "# create a new variable y which causes the last expression in this cell to print True\n",
    "\n",
    "print(x == y)"
   ]
  },
  {
   "cell_type": "code",
   "execution_count": null,
   "id": "a8a3e150",
   "metadata": {},
   "outputs": [],
   "source": [
    "x = [i for i in range(10, 1)]\n",
    "# create a new variable y which causes the last expression in this cell to print True\n",
    "\n",
    "print(x == y)"
   ]
  },
  {
   "cell_type": "code",
   "execution_count": null,
   "id": "1b10d93d",
   "metadata": {},
   "outputs": [],
   "source": [
    "x = [i for i in range(10, 1, -1)]\n",
    "# create a new variable y which causes the last expression in this cell to print True\n",
    "\n",
    "print(x == y)"
   ]
  },
  {
   "cell_type": "code",
   "execution_count": null,
   "id": "705926d7",
   "metadata": {},
   "outputs": [],
   "source": [
    "x = [i for i in range(10, 1, -2)]\n",
    "# create a new variable y which causes the last expression in this cell to print True\n",
    "\n",
    "print(x == y)"
   ]
  },
  {
   "cell_type": "code",
   "execution_count": null,
   "id": "269a1c35",
   "metadata": {},
   "outputs": [],
   "source": [
    "x = [1 for i in range(3)]\n",
    "# create a new variable y which causes the last expression in this cell to print True\n",
    "\n",
    "print(x == y)"
   ]
  },
  {
   "cell_type": "code",
   "execution_count": null,
   "id": "6718ade4",
   "metadata": {},
   "outputs": [],
   "source": [
    "x = ['a' for i in range(3)]\n",
    "# create a new variable y which causes the last expression in this cell to print True\n",
    "\n",
    "print(x == y)"
   ]
  },
  {
   "cell_type": "code",
   "execution_count": null,
   "id": "61f62c9a",
   "metadata": {},
   "outputs": [],
   "source": [
    "x = [[1,2,3] for i in range(2)]\n",
    "# create a new variable y which causes the last expression in this cell to print True\n",
    "\n",
    "print(x == y)"
   ]
  },
  {
   "cell_type": "code",
   "execution_count": null,
   "id": "6dff7cd3",
   "metadata": {},
   "outputs": [],
   "source": [
    "x = True\n",
    "# create a variable y which causes this cell to print \"PRINT ME\"\n",
    "\n",
    "\n",
    "if x or y and y:\n",
    "    print(\"PRINT ME\")\n",
    "else:\n",
    "    print(\"DONT PRINT ME\")"
   ]
  },
  {
   "cell_type": "code",
   "execution_count": null,
   "id": "0a9be0ab",
   "metadata": {},
   "outputs": [],
   "source": [
    "x = True\n",
    "# create a variable y which causes this cell to print \"PRINT ME\"\n",
    "\n",
    "\n",
    "if x or y and not y:\n",
    "    print(\"PRINT ME\")\n",
    "else:\n",
    "    print(\"DONT PRINT ME\")"
   ]
  },
  {
   "cell_type": "code",
   "execution_count": null,
   "id": "f5add3a5",
   "metadata": {},
   "outputs": [],
   "source": [
    "x = ['b' for i in range(5)]\n",
    "# create a variable y which causes this cell to print True\n",
    "\n",
    "\n",
    "print(y in x)"
   ]
  },
  {
   "cell_type": "code",
   "execution_count": null,
   "id": "77eb08d2",
   "metadata": {},
   "outputs": [],
   "source": [
    "x = [i for i in range(5)]\n",
    "# create a variable y which causes this cell to print True\n",
    "\n",
    "\n",
    "if y in x:\n",
    "    print(True)"
   ]
  },
  {
   "cell_type": "code",
   "execution_count": null,
   "id": "8029de60",
   "metadata": {},
   "outputs": [],
   "source": [
    "x = {'a': 1, 'b': 2}\n",
    "# create a variable y which causes this cell to print True\n",
    "\n",
    "\n",
    "print(x[y] == 2)"
   ]
  },
  {
   "cell_type": "code",
   "execution_count": null,
   "id": "06a31545",
   "metadata": {},
   "outputs": [],
   "source": [
    "x = [{'a': i, 'b': i+2} for i in range(2)]\n",
    "# create a variable y and a variable z which cause this cell to print 3\n",
    "\n",
    "\n",
    "print(x[y][z])"
   ]
  },
  {
   "cell_type": "code",
   "execution_count": null,
   "id": "7b62043a",
   "metadata": {},
   "outputs": [],
   "source": []
  }
 ],
 "metadata": {
  "kernelspec": {
   "display_name": "Python 3 (ipykernel)",
   "language": "python",
   "name": "python3"
  },
  "language_info": {
   "codemirror_mode": {
    "name": "ipython",
    "version": 3
   },
   "file_extension": ".py",
   "mimetype": "text/x-python",
   "name": "python",
   "nbconvert_exporter": "python",
   "pygments_lexer": "ipython3",
   "version": "3.8.9"
  }
 },
 "nbformat": 4,
 "nbformat_minor": 5
}
