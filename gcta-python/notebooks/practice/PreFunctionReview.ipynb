{
 "cells": [
  {
   "cell_type": "markdown",
   "id": "ae2fe361",
   "metadata": {},
   "source": [
    "# This is a review notebook\n",
    "***In order to do this review, you need to have covered:***\n",
    "* Simple Data Types (literals: int, str, float, bool)\n",
    "* The print() function\n",
    "* The input() function\n",
    "* The type() function\n",
    "* the isinstance() function\n",
    "* Arithmetic operators (+, -, /, //, *, \\**, %)\n",
    "* Comparison operators (==, !=, <, >, <=, >=)\n",
    "* Logical operators (and, or, not)\n",
    "* Special operators (is)\n",
    "* Membership operators (in)\n",
    "* The range() function\n",
    "* Lists\n",
    "* Dictionaries\n",
    "* For loops\n",
    "* List comprehension\n",
    "* Conditional expressions (if, elif, else)"
   ]
  },
  {
   "cell_type": "code",
   "execution_count": null,
   "id": "e0ec1cee",
   "metadata": {},
   "outputs": [],
   "source": [
    "x = '1'\n",
    "# add code to convert the variable from str to int\n",
    "# then print the type of the variable\n",
    "\n"
   ]
  },
  {
   "cell_type": "code",
   "execution_count": null,
   "id": "cb3628a2",
   "metadata": {},
   "outputs": [],
   "source": [
    "x = 1\n",
    "# add code to convert the variable from int to str\n",
    "# then print the type of the variable\n",
    "\n"
   ]
  },
  {
   "cell_type": "code",
   "execution_count": null,
   "id": "42b9ca74",
   "metadata": {},
   "outputs": [],
   "source": [
    "x = 1\n",
    "# add code to convert the variable from int to float\n",
    "# then print the type of the variable\n",
    "\n"
   ]
  },
  {
   "cell_type": "code",
   "execution_count": null,
   "id": "9b659b57",
   "metadata": {},
   "outputs": [],
   "source": [
    "x = 4\n",
    "y = 2\n",
    "\n",
    "# write an expression below which assigns the value 8 to the variable z using \n",
    "# x, y, and one of the arithmetic operators then print z\n",
    "\n"
   ]
  },
  {
   "cell_type": "code",
   "execution_count": null,
   "id": "41ab2864",
   "metadata": {},
   "outputs": [],
   "source": [
    "x = 8\n",
    "y = 5\n",
    "\n",
    "# write an expression below which assigns the value 3 to the variable z using\n",
    "# x, y, and one of the arithmetic operators then print z\n",
    "\n"
   ]
  },
  {
   "cell_type": "code",
   "execution_count": null,
   "id": "83a0540c",
   "metadata": {},
   "outputs": [],
   "source": [
    "x = 8\n",
    "y = 6\n",
    "z = x // y\n",
    "\n",
    "# write an expression below which checks the data type of z\n",
    "# and assigns its output as a boolean to a new variable, foo\n",
    "# print foo (it should print True)\n",
    "\n"
   ]
  },
  {
   "cell_type": "code",
   "execution_count": null,
   "id": "33d7e850",
   "metadata": {},
   "outputs": [],
   "source": [
    "x = 8\n",
    "y = 6\n",
    "z = x / y\n",
    "\n",
    "# write an expression below which checks the data type of z\n",
    "# and assigns its output as a boolean to a new variable, foo\n",
    "# print foo (it should print True)\n",
    "\n"
   ]
  },
  {
   "cell_type": "code",
   "execution_count": null,
   "id": "79cb0347",
   "metadata": {},
   "outputs": [],
   "source": [
    "x = [7, 3, 5, 9]\n",
    "\n",
    "# write a for loop which prints\n",
    "# 14, 6, 10, 18,\n",
    "# using only an arithmetic operator\n",
    "# and a print argument\n",
    "\n"
   ]
  },
  {
   "cell_type": "code",
   "execution_count": null,
   "id": "454844af",
   "metadata": {},
   "outputs": [],
   "source": [
    "# write an expression which prints i if it is an even number\n",
    "\n",
    "for i in range(5):\n",
    "    # here\n",
    "\n"
   ]
  },
  {
   "cell_type": "code",
   "execution_count": null,
   "id": "86537de3",
   "metadata": {},
   "outputs": [],
   "source": [
    "x = [i for i in range(3)]\n",
    "# create a new variable y which causes the last expression in this cell to print True\n",
    "\n",
    "\n",
    "print(x == y)"
   ]
  },
  {
   "cell_type": "code",
   "execution_count": null,
   "id": "950a2ead",
   "metadata": {},
   "outputs": [],
   "source": [
    "x = [i for i in range(0, 5)]\n",
    "# create a new variable y which causes the last expression in this cell to print True\n",
    "\n",
    "\n",
    "print(x == y)"
   ]
  },
  {
   "cell_type": "code",
   "execution_count": null,
   "id": "1cb2f591",
   "metadata": {},
   "outputs": [],
   "source": [
    "x = [i for i in range(1, 3)]\n",
    "# create a new variable y which causes the last expression in this cell to print True\n",
    "\n",
    "\n",
    "print(x == y)"
   ]
  },
  {
   "cell_type": "code",
   "execution_count": null,
   "id": "3b18c499",
   "metadata": {},
   "outputs": [],
   "source": [
    "x = [i for i in range(3, 7)]\n",
    "# create a new variable y which causes the last expression in this cell to print True\n",
    "\n",
    "\n",
    "print(x == y)"
   ]
  },
  {
   "cell_type": "code",
   "execution_count": null,
   "id": "5153f7b4",
   "metadata": {},
   "outputs": [],
   "source": [
    "x = [i for i in range(0, 10, 2)]\n",
    "# create a new variable y which causes the last expression in this cell to print True\n",
    "\n",
    "\n",
    "print(x == y)"
   ]
  },
  {
   "cell_type": "code",
   "execution_count": null,
   "id": "66af8da4",
   "metadata": {},
   "outputs": [],
   "source": [
    "x = [i for i in range(1, 7, 3)]\n",
    "# create a new variable y which causes the last expression in this cell to print True\n",
    "\n",
    "\n",
    "print(x == y)"
   ]
  },
  {
   "cell_type": "code",
   "execution_count": null,
   "id": "8c1c79d3",
   "metadata": {},
   "outputs": [],
   "source": [
    "x = [i for i in range(1, 3, 3)]\n",
    "# create a new variable y which causes the last expression in this cell to print True\n",
    "\n",
    "\n",
    "print(x == y)"
   ]
  },
  {
   "cell_type": "code",
   "execution_count": null,
   "id": "a3724f51",
   "metadata": {},
   "outputs": [],
   "source": [
    "x = [i for i in range(10, 1)]\n",
    "# create a new variable y which causes the last expression in this cell to print True\n",
    "\n",
    "\n",
    "print(x == y)"
   ]
  },
  {
   "cell_type": "code",
   "execution_count": null,
   "id": "21969b22",
   "metadata": {},
   "outputs": [],
   "source": [
    "x = [i for i in range(10, 1, -1)]\n",
    "# create a new variable y which causes the last expression in this cell to print True\n",
    "\n",
    "\n",
    "print(x == y)"
   ]
  },
  {
   "cell_type": "code",
   "execution_count": null,
   "id": "21bc0ade",
   "metadata": {},
   "outputs": [],
   "source": [
    "x = [i for i in range(10, 1, -2)]\n",
    "# create a new variable y which causes the last expression in this cell to print True\n",
    "\n",
    "\n",
    "print(x == y)"
   ]
  },
  {
   "cell_type": "code",
   "execution_count": null,
   "id": "b230bb8a",
   "metadata": {},
   "outputs": [],
   "source": [
    "x = [1 for i in range(3)]\n",
    "# create a new variable y which causes the last expression in this cell to print True\n",
    "\n",
    "\n",
    "print(x == y)"
   ]
  },
  {
   "cell_type": "code",
   "execution_count": null,
   "id": "e5383c6a",
   "metadata": {},
   "outputs": [],
   "source": [
    "x = ['a' for i in range(3)]\n",
    "# create a new variable y which causes the last expression in this cell to print True\n",
    "\n",
    "\n",
    "print(x == y)"
   ]
  },
  {
   "cell_type": "code",
   "execution_count": null,
   "id": "93a22d7b",
   "metadata": {},
   "outputs": [],
   "source": [
    "x = [[1,2,3] for i in range(2)]\n",
    "# create a new variable y which causes the last expression in this cell to print True\n",
    "\n",
    "\n",
    "print(x == y)"
   ]
  },
  {
   "cell_type": "code",
   "execution_count": null,
   "id": "803cf37a",
   "metadata": {},
   "outputs": [],
   "source": [
    "x = True\n",
    "# create a variable y which causes this cell to print \"PRINT ME\"\n",
    "\n",
    "\n",
    "if not x or y and y:\n",
    "    print(\"PRINT ME\")\n",
    "else:\n",
    "    print(\"DONT PRINT ME\")"
   ]
  },
  {
   "cell_type": "code",
   "execution_count": null,
   "id": "28e305b8",
   "metadata": {},
   "outputs": [],
   "source": [
    "x = True\n",
    "# create a variable y which causes this cell to print \"PRINT ME\"\n",
    "\n",
    "\n",
    "if not y and not x or not y:\n",
    "    print(\"PRINT ME\")\n",
    "else:\n",
    "    print(\"DONT PRINT ME\")"
   ]
  },
  {
   "cell_type": "code",
   "execution_count": null,
   "id": "dca63ecb",
   "metadata": {},
   "outputs": [],
   "source": [
    "x = ['b' for i in range(5)]\n",
    "# create a variable y which causes this cell to print True\n",
    "\n",
    "\n",
    "print(y in x)"
   ]
  },
  {
   "cell_type": "code",
   "execution_count": null,
   "id": "f701ae28",
   "metadata": {},
   "outputs": [],
   "source": [
    "x = [i for i in range(5)]\n",
    "# create a variable y which causes this cell to print True\n",
    "\n",
    "\n",
    "if y in x:\n",
    "    print(True)"
   ]
  },
  {
   "cell_type": "code",
   "execution_count": null,
   "id": "2def1605",
   "metadata": {},
   "outputs": [],
   "source": [
    "x = {'a': 1, 'b': 2}\n",
    "# create a variable y which causes this cell to print True\n",
    "# by correctly indexing x\n",
    "\n",
    "\n",
    "print(x[y] == 2)"
   ]
  },
  {
   "cell_type": "code",
   "execution_count": null,
   "id": "467340d7",
   "metadata": {},
   "outputs": [],
   "source": [
    "x = [{'a': i, 'b': i+2} for i in range(2)]\n",
    "# create a variable y and a variable z which cause this cell to print 3\n",
    "# by correctly indexing x\n",
    "\n",
    "\n",
    "print(x[y][z])"
   ]
  },
  {
   "cell_type": "code",
   "execution_count": null,
   "id": "0b13d844",
   "metadata": {},
   "outputs": [],
   "source": []
  }
 ],
 "metadata": {
  "kernelspec": {
   "display_name": "Python 3 (ipykernel)",
   "language": "python",
   "name": "python3"
  },
  "language_info": {
   "codemirror_mode": {
    "name": "ipython",
    "version": 3
   },
   "file_extension": ".py",
   "mimetype": "text/x-python",
   "name": "python",
   "nbconvert_exporter": "python",
   "pygments_lexer": "ipython3",
   "version": "3.10.2"
  }
 },
 "nbformat": 4,
 "nbformat_minor": 5
}
