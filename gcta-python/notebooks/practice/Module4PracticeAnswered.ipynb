{
 "cells": [
  {
   "cell_type": "code",
   "execution_count": null,
   "id": "5e5d2cae",
   "metadata": {},
   "outputs": [],
   "source": [
    "# BEFORE RUNNING THIS CELL:\n",
    "# in a comment below, state what will be printed (exactly as it will show up in the console)\n",
    "\n",
    "# 1712\n",
    "\n",
    "var = 12\n",
    "print(var + 5, end='')\n",
    "print(var)"
   ]
  },
  {
   "cell_type": "code",
   "execution_count": null,
   "id": "4d656d58",
   "metadata": {},
   "outputs": [],
   "source": [
    "# BEFORE RUNNING THIS CELL:\n",
    "# in a comment below, state what will be printed (exactly as it will show up in the console)\n",
    "\n",
    "# 21\n",
    "\n",
    "def any():\n",
    "    print(var + 1, end='')\n",
    "\n",
    "var = 1\n",
    "any()\n",
    "print(var)"
   ]
  },
  {
   "cell_type": "code",
   "execution_count": null,
   "id": "a779eacd",
   "metadata": {},
   "outputs": [],
   "source": [
    "dictionary = {'one': 'two', 'three': 'one', 'two': 'three'}\n",
    "v = dictionary['one']\n",
    "\n",
    "# create a variable foo such that this cell prints True\n",
    "\n",
    "foo = 'two'\n",
    "\n",
    "print(foo == v)"
   ]
  },
  {
   "cell_type": "code",
   "execution_count": null,
   "id": "bb8b292e",
   "metadata": {},
   "outputs": [],
   "source": [
    "dictionary = {'one': 'two', 'three': 'one', 'two': 'three'}\n",
    "v = dictionary['one']\n",
    "\n",
    "for k in range(len(dictionary)):\n",
    "    v = k\n",
    "\n",
    "# create a variable foo such that this cell prints True\n",
    "\n",
    "foo = 2\n",
    "\n",
    "print(foo == v)"
   ]
  },
  {
   "cell_type": "code",
   "execution_count": null,
   "id": "edf01f4f",
   "metadata": {},
   "outputs": [],
   "source": [
    "dictionary = {'one': 'two', 'three': 'one', 'two': 'three'}\n",
    "v = dictionary['one']\n",
    "\n",
    "for k in range(len(dictionary)):\n",
    "    v = dictionary[v]\n",
    "\n",
    "# create a variable foo such that this cell prints True\n",
    "\n",
    "foo = 'two'\n",
    "\n",
    "print(foo == v)"
   ]
  },
  {
   "cell_type": "code",
   "execution_count": null,
   "id": "25c2f388",
   "metadata": {},
   "outputs": [],
   "source": [
    "# BEFORE RUNNING THIS CELL:\n",
    "# in a comment below, state how many parameters this function takes in\n",
    "\n",
    "# 0\n",
    "\n",
    "def fun():\n",
    "    pass"
   ]
  },
  {
   "cell_type": "code",
   "execution_count": null,
   "id": "696e1279",
   "metadata": {},
   "outputs": [],
   "source": [
    "# write a function which takes in 0 paramters and returns 2\n",
    "# (I don't care how the function works, just that it doesn't take in any parameters and returns 2)\n",
    "\n",
    "def fun():\n",
    "    return 2"
   ]
  },
  {
   "cell_type": "code",
   "execution_count": null,
   "id": "f9b252cb",
   "metadata": {},
   "outputs": [],
   "source": [
    "# Identify the error and fix the code below:\n",
    "\n",
    "people = [{'name': 'john', 'age': 10}, {'name': 'jane', 'age': 11}]\n",
    "\n",
    "# the error is that definition should be def\n",
    "definition increment_age(person):\n",
    "    incremented_age = person['age'] + 1\n",
    "    return incremented_age\n",
    "\n",
    "for person in people:\n",
    "    next_age = increment_age(person)\n",
    "    \n",
    "print(next_age == 12)"
   ]
  },
  {
   "cell_type": "code",
   "execution_count": null,
   "id": "151f5128",
   "metadata": {},
   "outputs": [],
   "source": [
    "# use try/except to catch the error in the code below and print 'caught' instead of raising the error\n",
    "\n",
    "try:\n",
    "    my_tuple = (1,4,17)\n",
    "    my_tuple[0] = 13\n",
    "except TypeError:\n",
    "    print('caught')"
   ]
  },
  {
   "cell_type": "code",
   "execution_count": null,
   "id": "90fb5831",
   "metadata": {},
   "outputs": [],
   "source": [
    "def func_1(a):\n",
    "    return a ** a\n",
    "\n",
    "x = func_1(3)\n",
    "\n",
    "# create a variable foo such that this cell prints True\n",
    "\n",
    "foo = 27\n",
    "\n",
    "print(x == foo)"
   ]
  },
  {
   "cell_type": "code",
   "execution_count": null,
   "id": "ccbea94e",
   "metadata": {},
   "outputs": [],
   "source": [
    "def func_1(a):\n",
    "    return a ** a\n",
    "\n",
    "def func_2(a):\n",
    "    return func_1(a) * func_1(a)\n",
    "\n",
    "x = func_1(2)\n",
    "\n",
    "# create a variable foo such that this cell prints True\n",
    "\n",
    "foo = 4\n",
    "\n",
    "print(x == foo)"
   ]
  },
  {
   "cell_type": "code",
   "execution_count": null,
   "id": "bd984c29",
   "metadata": {},
   "outputs": [],
   "source": [
    "def func_1(a):\n",
    "    return a ** a\n",
    "\n",
    "def func_2(a):\n",
    "    return func_1(a) * func_1(a)\n",
    "\n",
    "x = func_2(2)\n",
    "\n",
    "# create a variable foo such that this cell prints True\n",
    "\n",
    "foo = 16\n",
    "\n",
    "print(x == foo)"
   ]
  },
  {
   "cell_type": "code",
   "execution_count": null,
   "id": "32a6b541",
   "metadata": {},
   "outputs": [],
   "source": [
    "def func_1(a):\n",
    "    return 1\n",
    "\n",
    "def func_2(a):\n",
    "    return func_1(a) * func_1(a)\n",
    "\n",
    "x = func_2(2)\n",
    "\n",
    "# create a variable foo such that this cell prints True\n",
    "\n",
    "foo = 1\n",
    "\n",
    "print(x == foo)"
   ]
  },
  {
   "cell_type": "code",
   "execution_count": null,
   "id": "9b3cdd79",
   "metadata": {},
   "outputs": [],
   "source": [
    "def func_1(a):\n",
    "    return 1\n",
    "\n",
    "def func_2(a):\n",
    "    return func_1(a) * func_1(a)\n",
    "\n",
    "x = func_2(func_1(738))\n",
    "\n",
    "# create a variable foo such that this cell prints True\n",
    "\n",
    "foo = 1\n",
    "\n",
    "print(x == foo)"
   ]
  },
  {
   "cell_type": "code",
   "execution_count": null,
   "id": "9b16add0",
   "metadata": {},
   "outputs": [],
   "source": [
    "# wrap the error-causing section of the code below into a try/except statement and print 'caught' instead of \n",
    "# raising the error\n",
    "\n",
    "my_list = ['Mary', 'had', 'a', 'little', 'lamb']\n",
    "\n",
    "def my_list(my_list):\n",
    "    del my_list[3]\n",
    "    my_list[3] = 'ram'\n",
    "\n",
    "try:\n",
    "    x = my_list(my_list)\n",
    "except TypeError:\n",
    "    print('caught')"
   ]
  },
  {
   "cell_type": "code",
   "execution_count": null,
   "id": "cb4777c8",
   "metadata": {},
   "outputs": [],
   "source": [
    "# fix the code below such that this cell prints True\n",
    "\n",
    "# fix the code by removing the unused parameter b\n",
    "def func(a, b):\n",
    "    return a ** a\n",
    "\n",
    "x = func(2)\n",
    "\n",
    "print(x == 4)"
   ]
  },
  {
   "cell_type": "code",
   "execution_count": null,
   "id": "89db7130",
   "metadata": {},
   "outputs": [],
   "source": [
    "# remember that variables defined inside of functions are local variables \n",
    "# which means they do not exist outside of the function which contains them\n",
    "# well we can use the global keyword to make a variable which is defined inside of a function\n",
    "# accessible from outside of the function\n",
    "\n",
    "\n",
    "def fun():\n",
    "    global y\n",
    "    y = 7\n",
    "\n",
    "\n",
    "fun()\n",
    "\n",
    "# create a variable foo such that this cell prints True\n",
    "foo = 7\n",
    "    \n",
    "print(y == foo)"
   ]
  },
  {
   "cell_type": "code",
   "execution_count": null,
   "id": "9677eb88",
   "metadata": {},
   "outputs": [],
   "source": [
    "y = None\n",
    "\n",
    "def fun():\n",
    "    y = 7\n",
    "\n",
    "\n",
    "fun()\n",
    "\n",
    "# create a variable foo such that this cell prints True\n",
    "foo = None\n",
    "    \n",
    "print(y == foo)"
   ]
  },
  {
   "cell_type": "code",
   "execution_count": null,
   "id": "9b6e0e73",
   "metadata": {},
   "outputs": [],
   "source": [
    "# use try/except to catch the error produced below and print 'caught' instead of raising the error\n",
    "\n",
    "def my_fun(a=None, b=None):\n",
    "    return a*b\n",
    "\n",
    "try:\n",
    "    x = my_fun()\n",
    "except TypeError:\n",
    "    print('caught')"
   ]
  },
  {
   "cell_type": "code",
   "execution_count": null,
   "id": "72cc4200",
   "metadata": {},
   "outputs": [],
   "source": [
    "def fun(x):\n",
    "    x += 1\n",
    "    return x\n",
    "\n",
    "x = 2\n",
    "y = fun(x+1)\n",
    "\n",
    "# create a variable foo such that this cell prints True\n",
    "\n",
    "foo = 2\n",
    "\n",
    "print(foo == x)"
   ]
  },
  {
   "cell_type": "code",
   "execution_count": null,
   "id": "8abfc5d5",
   "metadata": {},
   "outputs": [],
   "source": [
    "def fun(x):\n",
    "    x += 1\n",
    "    return x\n",
    "\n",
    "x = 2\n",
    "x = fun(x+1)\n",
    "\n",
    "# create a variable foo such that this cell prints True\n",
    "\n",
    "foo = 4\n",
    "\n",
    "print(foo == x)"
   ]
  },
  {
   "cell_type": "code",
   "execution_count": null,
   "id": "c9bb0e14",
   "metadata": {},
   "outputs": [],
   "source": [
    "try:\n",
    "    value = '1'\n",
    "    print(value/value)\n",
    "except ValueError:\n",
    "    foobar = 1\n",
    "except ZeroDivisionError:\n",
    "    foobar = 2\n",
    "except TypeError:\n",
    "    foobar = 3\n",
    "except:\n",
    "    foobar = 4\n",
    "    \n",
    "# create a variable foo such that this cell prints True\n",
    "\n",
    "foo = 3\n",
    "\n",
    "print(foo == foobar)\n",
    "    "
   ]
  },
  {
   "cell_type": "code",
   "execution_count": null,
   "id": "25dd0594",
   "metadata": {},
   "outputs": [],
   "source": [
    "try:\n",
    "    value = '1'\n",
    "    print(value/values)\n",
    "except ValueError:\n",
    "    foobar = 1\n",
    "except ZeroDivisionError:\n",
    "    foobar = 2\n",
    "except TypeError:\n",
    "    foobar = 3\n",
    "except:\n",
    "    foobar = 4\n",
    "    \n",
    "# create a variable foo such that this cell prints True\n",
    "\n",
    "foo = 4\n",
    "\n",
    "print(foo == foobar)\n",
    "    "
   ]
  },
  {
   "cell_type": "code",
   "execution_count": null,
   "id": "aa02c9c1",
   "metadata": {},
   "outputs": [],
   "source": [
    "try:\n",
    "    value = '1'\n",
    "    print(value/values)\n",
    "except ValueError:\n",
    "    foobar = 1\n",
    "except ZeroDivisionError:\n",
    "    foobar = 2\n",
    "except TypeError:\n",
    "    foobar = 3\n",
    "except NameError:\n",
    "    foobar = 5\n",
    "except:\n",
    "    foobar = 4\n",
    "    \n",
    "# create a variable foo such that this cell prints True\n",
    "\n",
    "foo = 5\n",
    "\n",
    "print(foo == foobar)"
   ]
  },
  {
   "cell_type": "code",
   "execution_count": null,
   "id": "a9ba1881",
   "metadata": {},
   "outputs": [],
   "source": [
    "tup = (5,10,17,19)\n",
    "\n",
    "# slice the tuple and assign the slice to a variable foo such that this cell prints True\n",
    "\n",
    "foo = tup[1:3]\n",
    "\n",
    "print(foo == (10, 17))"
   ]
  },
  {
   "cell_type": "code",
   "execution_count": null,
   "id": "089085c1",
   "metadata": {},
   "outputs": [],
   "source": [
    "# fix the code below such that this cell prints True\n",
    "\n",
    "# the error is that we are trying to append to a tuple,\n",
    "# but tuples are immutable and don't have an append method\n",
    "# the solution is to make foo a list instead of a tuple\n",
    "foo = (1,2,3)\n",
    "foo.append(4)\n",
    "\n",
    "print(foo == [1,2,3,4])"
   ]
  },
  {
   "cell_type": "code",
   "execution_count": null,
   "id": "2f6de26b",
   "metadata": {},
   "outputs": [],
   "source": [
    "dictionary = {}\n",
    "\n",
    "my_list = ['a', 'b', 'b', 'd']\n",
    "\n",
    "for i in range(len(my_list) - 1):\n",
    "    dictionary[my_list[i]] = my_list[i]\n",
    "    \n",
    "for i in sorted(dictionary.keys()):\n",
    "    k = dictionary[i]\n",
    "    \n",
    "# create a variable foo such that this cell prints True\n",
    "\n",
    "foo = 'b'\n",
    "\n",
    "print(foo == k)"
   ]
  },
  {
   "cell_type": "code",
   "execution_count": null,
   "id": "1b854812",
   "metadata": {},
   "outputs": [],
   "source": [
    "def fun(inp=2, out=3):\n",
    "    return inp * out\n",
    "\n",
    "x = fun(out=2)\n",
    "\n",
    "# create a variable foo such that this cell prints True\n",
    "\n",
    "foo = 4\n",
    "\n",
    "print(foo == x)"
   ]
  },
  {
   "cell_type": "code",
   "execution_count": null,
   "id": "529eb01e",
   "metadata": {},
   "outputs": [],
   "source": [
    "def fun(inp=2, out=3):\n",
    "    return inp * out\n",
    "\n",
    "x = fun(inp=3)\n",
    "y = fun(x)\n",
    "\n",
    "# create a variable foo such that this cell prints True\n",
    "\n",
    "foo = 27\n",
    "\n",
    "print(foo == y)"
   ]
  },
  {
   "cell_type": "code",
   "execution_count": null,
   "id": "1548c862",
   "metadata": {},
   "outputs": [],
   "source": [
    "def fun(inp=2, out=3):\n",
    "    return inp * out\n",
    "\n",
    "x = fun(inp=3)\n",
    "y = fun(out=x)\n",
    "\n",
    "# create a variable foo such that this cell prints True\n",
    "\n",
    "foo = 18\n",
    "\n",
    "print(foo == y)"
   ]
  },
  {
   "cell_type": "code",
   "execution_count": null,
   "id": "75490758",
   "metadata": {},
   "outputs": [],
   "source": [
    "def fun(inp=2, out=3):\n",
    "    return inp * out\n",
    "\n",
    "y = fun(fun(1))\n",
    "\n",
    "# create a variable foo such that this cell prints True\n",
    "\n",
    "foo = 9\n",
    "\n",
    "print(foo == y)"
   ]
  },
  {
   "cell_type": "code",
   "execution_count": null,
   "id": "2d46c4cc",
   "metadata": {},
   "outputs": [],
   "source": [
    "def fun(inp=2, out=3):\n",
    "    return inp * out\n",
    "\n",
    "y = fun(out=fun(inp=1))\n",
    "\n",
    "# create a variable foo such that this cell prints True\n",
    "\n",
    "foo = 6\n",
    "\n",
    "print(foo == y)"
   ]
  },
  {
   "cell_type": "code",
   "execution_count": null,
   "id": "ae253de6",
   "metadata": {},
   "outputs": [],
   "source": [
    "def fun(x):\n",
    "    if x%2 == 0:\n",
    "        return 1\n",
    "    else:\n",
    "        return\n",
    "    \n",
    "x = fun(2)\n",
    "\n",
    "# create a variable foo such that this cell prints True\n",
    "\n",
    "foo = 1\n",
    "\n",
    "print(foo == x)"
   ]
  },
  {
   "cell_type": "code",
   "execution_count": null,
   "id": "e9ed4b6e",
   "metadata": {},
   "outputs": [],
   "source": [
    "def fun(x):\n",
    "    if x%2 == 0:\n",
    "        return 1\n",
    "    else:\n",
    "        return 2\n",
    "    \n",
    "x = fun(2)\n",
    "y = fun(x)\n",
    "\n",
    "# create a variable foo such that this cell prints True\n",
    "\n",
    "foo = 2\n",
    "\n",
    "print(foo == y)"
   ]
  },
  {
   "cell_type": "code",
   "execution_count": null,
   "id": "081847c2",
   "metadata": {},
   "outputs": [],
   "source": [
    "def fun(x):\n",
    "    if x%2 == 0:\n",
    "        return 1\n",
    "    else:\n",
    "        return 2\n",
    "    \n",
    "y = fun(fun(2))\n",
    "\n",
    "# create a variable foo such that this cell prints True\n",
    "\n",
    "foo = 2\n",
    "\n",
    "print(foo == y)"
   ]
  },
  {
   "cell_type": "code",
   "execution_count": null,
   "id": "7009ce31",
   "metadata": {},
   "outputs": [],
   "source": [
    "tup = (1,2,4,8)\n",
    "tup = tup[1:-1]\n",
    "tup = tup[0]\n",
    "\n",
    "# create a variable foo such that this cell prints True\n",
    "\n",
    "foo = 2\n",
    "\n",
    "print(tup == foo)"
   ]
  },
  {
   "cell_type": "code",
   "execution_count": null,
   "id": "38cbc9af",
   "metadata": {},
   "outputs": [],
   "source": [
    "def function(x=0):\n",
    "    return x\n",
    "\n",
    "y = function()\n",
    "\n",
    "# create a variable foo such that this cell prints True\n",
    "\n",
    "foo = 0\n",
    "\n",
    "print(foo == y)"
   ]
  },
  {
   "cell_type": "code",
   "execution_count": null,
   "id": "40f8f3a0",
   "metadata": {},
   "outputs": [],
   "source": [
    "def fun(x,y,z):\n",
    "    return x+2*y+3*z\n",
    "\n",
    "x = fun(0, z=1, y=3)\n",
    "\n",
    "# create a variable foo such that this cell prints True\n",
    "\n",
    "foo = 9\n",
    "\n",
    "print(foo == x)"
   ]
  },
  {
   "cell_type": "code",
   "execution_count": null,
   "id": "26641c04",
   "metadata": {},
   "outputs": [],
   "source": [
    "def f(x):\n",
    "    if x == 0:\n",
    "        return 0\n",
    "    return f(x-1)\n",
    "\n",
    "x = f(3)\n",
    "\n",
    "# create a variable foo such that this cell prints True\n",
    "\n",
    "foo = 0\n",
    "\n",
    "print(foo == x)"
   ]
  },
  {
   "cell_type": "code",
   "execution_count": null,
   "id": "dcc862dc",
   "metadata": {},
   "outputs": [],
   "source": []
  }
 ],
 "metadata": {
  "kernelspec": {
   "display_name": "Python 3 (ipykernel)",
   "language": "python",
   "name": "python3"
  },
  "language_info": {
   "codemirror_mode": {
    "name": "ipython",
    "version": 3
   },
   "file_extension": ".py",
   "mimetype": "text/x-python",
   "name": "python",
   "nbconvert_exporter": "python",
   "pygments_lexer": "ipython3",
   "version": "3.8.7"
  }
 },
 "nbformat": 4,
 "nbformat_minor": 5
}
