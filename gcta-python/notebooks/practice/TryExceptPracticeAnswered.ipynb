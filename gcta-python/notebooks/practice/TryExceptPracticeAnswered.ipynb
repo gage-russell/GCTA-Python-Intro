{
 "cells": [
  {
   "cell_type": "code",
   "execution_count": null,
   "id": "5e6b06ca",
   "metadata": {},
   "outputs": [],
   "source": [
    "# do not use a blanket/default except statement\n",
    "# unless instructed to do so"
   ]
  },
  {
   "cell_type": "code",
   "execution_count": null,
   "id": "42f047b5",
   "metadata": {},
   "outputs": [],
   "source": [
    "# run the cell and\n",
    "# read the error message\n",
    "\n",
    "x = 1/0\n"
   ]
  },
  {
   "cell_type": "code",
   "execution_count": null,
   "id": "ae8346bf",
   "metadata": {},
   "outputs": [],
   "source": [
    "# run the cell and\n",
    "# read the error message\n",
    "\n",
    "x = int('a')\n"
   ]
  },
  {
   "cell_type": "code",
   "execution_count": null,
   "id": "92fb5c3d",
   "metadata": {},
   "outputs": [],
   "source": [
    "# run the cell and\n",
    "# read the error message\n",
    "\n",
    "for i in range(3)\n",
    "    print(i)"
   ]
  },
  {
   "cell_type": "code",
   "execution_count": null,
   "id": "1bd12d3f",
   "metadata": {},
   "outputs": [],
   "source": [
    "# run the cell and\n",
    "# read the error message\n",
    "\n",
    "x = ['a', 'b']\n",
    "x.appends('c')\n"
   ]
  },
  {
   "cell_type": "code",
   "execution_count": null,
   "id": "965b66d1",
   "metadata": {},
   "outputs": [],
   "source": [
    "# run the cell and\n",
    "# read the error message\n",
    "\n",
    "x = 'a' + 2\n"
   ]
  },
  {
   "cell_type": "code",
   "execution_count": null,
   "id": "4c7f73cb",
   "metadata": {},
   "outputs": [],
   "source": [
    "# run the cell and\n",
    "# read the error message\n",
    "\n",
    "x = '2' + 2\n"
   ]
  },
  {
   "cell_type": "code",
   "execution_count": 1,
   "id": "f607a0cb",
   "metadata": {},
   "outputs": [
    {
     "name": "stdout",
     "output_type": "stream",
     "text": [
      "nice try\n"
     ]
    }
   ],
   "source": [
    "# wrap the code below into a try/except statement \n",
    "# which prints 'nice try' if an exception occurs\n",
    "\n",
    "# you can run the cell as-is to figure out what \n",
    "# exception type you need to handle\n",
    "\n",
    "try:\n",
    "    x = int('a')\n",
    "except ValueError:\n",
    "    print('nice try')\n"
   ]
  },
  {
   "cell_type": "code",
   "execution_count": 2,
   "id": "9e36e03e",
   "metadata": {},
   "outputs": [
    {
     "name": "stdout",
     "output_type": "stream",
     "text": [
      "nice try\n"
     ]
    }
   ],
   "source": [
    "# wrap the code below into a try/except statement \n",
    "# which prints 'nice try' if an exception occurs\n",
    "\n",
    "# you can run the cell as-is to figure out what \n",
    "# exception type you need to handle\n",
    "\n",
    "try:\n",
    "    x = 2/0\n",
    "except ZeroDivisionError:\n",
    "    print('nice try')\n"
   ]
  },
  {
   "cell_type": "code",
   "execution_count": 3,
   "id": "5b9aef7d",
   "metadata": {},
   "outputs": [
    {
     "name": "stdout",
     "output_type": "stream",
     "text": [
      "nice try\n"
     ]
    }
   ],
   "source": [
    "# wrap the code below into a try/except statement \n",
    "# which prints 'nice try' if an exception occurs\n",
    "\n",
    "# you can run the cell as-is to figure out what \n",
    "# exception type you need to handle\n",
    "\n",
    "try:\n",
    "    x = [1,2,3]\n",
    "    x.appends(4)\n",
    "except AttributeError:\n",
    "    print('nice try')\n"
   ]
  },
  {
   "cell_type": "code",
   "execution_count": 4,
   "id": "d378a615",
   "metadata": {},
   "outputs": [
    {
     "name": "stdout",
     "output_type": "stream",
     "text": [
      "nice try\n"
     ]
    }
   ],
   "source": [
    "# wrap the code below into a try/except statement \n",
    "# which prints 'nice try' if an exception occurs\n",
    "\n",
    "# you can run the cell as-is to figure out what \n",
    "# exception type you need to handle\n",
    "\n",
    "try:\n",
    "    x = 'a' + 2\n",
    "except TypeError:\n",
    "    print('nice try')\n"
   ]
  },
  {
   "cell_type": "code",
   "execution_count": 5,
   "id": "050a5ce0",
   "metadata": {},
   "outputs": [
    {
     "name": "stdout",
     "output_type": "stream",
     "text": [
      "nice try\n"
     ]
    }
   ],
   "source": [
    "# wrap the code below into a try/except statement \n",
    "# which prints 'nice try' if an exception occurs\n",
    "\n",
    "# you can run the cell as-is to figure out what \n",
    "# exception type you need to handle\n",
    "\n",
    "try:\n",
    "    x = '2' + 2\n",
    "except TypeError:\n",
    "    print('nice try')\n"
   ]
  },
  {
   "cell_type": "code",
   "execution_count": 6,
   "id": "879d6f23",
   "metadata": {},
   "outputs": [
    {
     "name": "stdout",
     "output_type": "stream",
     "text": [
      "True\n"
     ]
    }
   ],
   "source": [
    "# red the following code and create a variable\n",
    "# named foo such that the this cell prints True\n",
    "\n",
    "try:\n",
    "    x = ['a', 'b', 'c']\n",
    "    for i in x:\n",
    "        y = i + 3\n",
    "except AttributeError:\n",
    "    y = 1\n",
    "except TypeError:\n",
    "    y = 2\n",
    "except ValueError:\n",
    "    y = 3\n",
    "except:\n",
    "    y = 4\n",
    "    \n",
    "# in the line below, create a variable named foo, \n",
    "# not foo = y, and such that this cell prints True\n",
    "foo = 2\n",
    "\n",
    "print(y == foo)\n"
   ]
  },
  {
   "cell_type": "code",
   "execution_count": 7,
   "id": "3f3b426a",
   "metadata": {},
   "outputs": [
    {
     "name": "stdout",
     "output_type": "stream",
     "text": [
      "True\n"
     ]
    }
   ],
   "source": [
    "# red the following code and create a variable\n",
    "# named foo such that the this cell prints True\n",
    "\n",
    "try:\n",
    "    x = ['a', 'b', 'c']\n",
    "    for i in x:\n",
    "        y = i + str(3)\n",
    "except AttributeError:\n",
    "    y = 1\n",
    "except TypeError:\n",
    "    y = 2\n",
    "except ValueError:\n",
    "    y = 3\n",
    "except:\n",
    "    y = 4\n",
    "\n",
    "# in the line below, create a variable named foo,\n",
    "# not foo = y, and such that this cell prints True\n",
    "foo = 'c3'\n",
    "\n",
    "print(y == foo)\n"
   ]
  },
  {
   "cell_type": "code",
   "execution_count": 8,
   "id": "f8aa11af",
   "metadata": {},
   "outputs": [
    {
     "name": "stdout",
     "output_type": "stream",
     "text": [
      "True\n"
     ]
    }
   ],
   "source": [
    "# red the following code and create a variable\n",
    "# named foo such that the this cell prints True\n",
    "\n",
    "try:\n",
    "    for i in range(3):\n",
    "        y = 0/i\n",
    "except AttributeError:\n",
    "    y = 1\n",
    "except TypeError:\n",
    "    y = 2\n",
    "except ValueError:\n",
    "    y = 3\n",
    "except ZeroDivisionError:\n",
    "    y = 4\n",
    "except:\n",
    "    y = 5\n",
    "\n",
    "# in the line below, create a variable named foo,\n",
    "# not foo = y, and such that this cell prints True\n",
    "foo = 4\n",
    "\n",
    "print(y == foo)\n"
   ]
  },
  {
   "cell_type": "code",
   "execution_count": 9,
   "id": "4fd3ccfa",
   "metadata": {},
   "outputs": [
    {
     "name": "stdout",
     "output_type": "stream",
     "text": [
      "True\n"
     ]
    }
   ],
   "source": [
    "# red the following code and create a variable\n",
    "# named foo such that the this cell prints True\n",
    "\n",
    "try:\n",
    "    for i in range(3):\n",
    "        y = 0 / i + 1\n",
    "except AttributeError:\n",
    "    y = 1\n",
    "except TypeError:\n",
    "    y = 2\n",
    "except ValueError:\n",
    "    y = 3\n",
    "except ZeroDivisionError:\n",
    "    y = 4\n",
    "except:\n",
    "    y = 5\n",
    "    \n",
    "# in the line below, create a variable named foo,\n",
    "# not foo = y, and such that this cell prints True\n",
    "foo = 4\n",
    "\n",
    "print(y == foo)\n"
   ]
  },
  {
   "cell_type": "code",
   "execution_count": 10,
   "id": "63929ffc",
   "metadata": {},
   "outputs": [
    {
     "name": "stdout",
     "output_type": "stream",
     "text": [
      "True\n"
     ]
    }
   ],
   "source": [
    "# red the following code and create a variable\n",
    "# named foo such that the this cell prints True\n",
    "\n",
    "try:\n",
    "    for i in range(3):\n",
    "        y = 0/ (i+1)\n",
    "except AttributeError:\n",
    "    y = 1\n",
    "except TypeError:\n",
    "    y = 2\n",
    "except ValueError:\n",
    "    y = 3\n",
    "except ZeroDivisionError:\n",
    "    y = 4\n",
    "except:\n",
    "    y = 5\n",
    "    \n",
    "# in the line below, create a variable named foo,\n",
    "# not foo = y, and such that this cell prints True\n",
    "foo = 0\n",
    "\n",
    "print(y == foo)\n"
   ]
  },
  {
   "cell_type": "code",
   "execution_count": 11,
   "id": "9f15607d",
   "metadata": {},
   "outputs": [
    {
     "name": "stdout",
     "output_type": "stream",
     "text": [
      "True\n"
     ]
    }
   ],
   "source": [
    "# red the following code and create a variable\n",
    "# named foo such that the this cell prints True\n",
    "\n",
    "try:\n",
    "    for i in range(3):\n",
    "        if 2%i:\n",
    "            y = 0\n",
    "except AttributeError:\n",
    "    y = 1\n",
    "except TypeError:\n",
    "    y = 2\n",
    "except ValueError:\n",
    "    y = 3\n",
    "except ZeroDivisionError:\n",
    "    y = 4\n",
    "except:\n",
    "    y = 5\n",
    "    \n",
    "# in the line below, create a variable named foo,\n",
    "# not foo = y, and such that this cell prints True\n",
    "foo = 4\n",
    "\n",
    "print(y == foo)\n"
   ]
  },
  {
   "cell_type": "code",
   "execution_count": 12,
   "id": "317d91cb",
   "metadata": {},
   "outputs": [
    {
     "name": "stdout",
     "output_type": "stream",
     "text": [
      "True\n"
     ]
    }
   ],
   "source": [
    "# red the following code and create a variable\n",
    "# named foo such that the this cell prints True\n",
    "\n",
    "try:\n",
    "    y = 5 // 0\n",
    "except AttributeError:\n",
    "    y = 1\n",
    "except TypeError:\n",
    "    y = 2\n",
    "except ValueError:\n",
    "    y = 3\n",
    "except ZeroDivisionError:\n",
    "    y = 4\n",
    "except:\n",
    "    y = 5\n",
    "    \n",
    "# in the line below, create a variable named foo,\n",
    "# not foo = y, and such that this cell prints True\n",
    "foo = 4\n",
    "\n",
    "print(y == foo)\n"
   ]
  },
  {
   "cell_type": "code",
   "execution_count": 13,
   "id": "dca03913",
   "metadata": {},
   "outputs": [
    {
     "name": "stdout",
     "output_type": "stream",
     "text": [
      "True\n"
     ]
    }
   ],
   "source": [
    "# red the following code and create a variable\n",
    "# named foo such that the this cell prints True\n",
    "\n",
    "def fun(x):\n",
    "    for i in range(x):\n",
    "        y = i*2\n",
    "    return y\n",
    "\n",
    "try:\n",
    "    y = fun('a')\n",
    "except AttributeError:\n",
    "    y = 1\n",
    "except TypeError:\n",
    "    y = 2\n",
    "except ValueError:\n",
    "    y = 3\n",
    "except ZeroDivisionError:\n",
    "    y = 4\n",
    "except:\n",
    "    y = 5   \n",
    "    \n",
    "# in the line below, create a variable named foo,\n",
    "# not foo = y, and such that this cell prints True\n",
    "foo = 2\n",
    "\n",
    "print(y == foo)\n"
   ]
  },
  {
   "cell_type": "code",
   "execution_count": 14,
   "id": "f21c34a9",
   "metadata": {},
   "outputs": [
    {
     "name": "stdout",
     "output_type": "stream",
     "text": [
      "True\n"
     ]
    }
   ],
   "source": [
    "# red the following code and create a variable\n",
    "# named foo such that the this cell prints True\n",
    "\n",
    "def fun(x):\n",
    "    for i in range(x):\n",
    "        y = i*2\n",
    "    return y\n",
    "\n",
    "try:\n",
    "    y = fun([1,2,3])\n",
    "except AttributeError:\n",
    "    y = 1\n",
    "except TypeError:\n",
    "    y = 2\n",
    "except ValueError:\n",
    "    y = 3\n",
    "except ZeroDivisionError:\n",
    "    y = 4\n",
    "except:\n",
    "    y = 5   \n",
    "    \n",
    "# in the line below, create a variable named foo,\n",
    "# not foo = y, and such that this cell prints True\n",
    "foo = 2\n",
    "\n",
    "print(y == foo)\n"
   ]
  },
  {
   "cell_type": "code",
   "execution_count": 15,
   "id": "1a94d238",
   "metadata": {},
   "outputs": [
    {
     "name": "stdout",
     "output_type": "stream",
     "text": [
      "True\n"
     ]
    }
   ],
   "source": [
    "# red the following code and create a variable\n",
    "# named foo such that the this cell prints True\n",
    "\n",
    "def fun(x):\n",
    "    for i in range(x):\n",
    "        y = i*2\n",
    "    return y\n",
    "\n",
    "try:\n",
    "    y = fun(5)\n",
    "except AttributeError:\n",
    "    y = 1\n",
    "except TypeError:\n",
    "    y = 2\n",
    "except ValueError:\n",
    "    y = 3\n",
    "except ZeroDivisionError:\n",
    "    y = 4\n",
    "except:\n",
    "    y = 5   \n",
    "    \n",
    "# in the line below, create a variable named foo,\n",
    "# not foo = y, and such that this cell prints True\n",
    "foo = 8\n",
    "\n",
    "print(y == foo)\n"
   ]
  },
  {
   "cell_type": "code",
   "execution_count": 16,
   "id": "ec6c078a",
   "metadata": {},
   "outputs": [
    {
     "name": "stdout",
     "output_type": "stream",
     "text": [
      "True\n"
     ]
    }
   ],
   "source": [
    "# red the following code and create a variable\n",
    "# named foo such that the this cell prints True\n",
    "\n",
    "def fun(x):\n",
    "    for i in range(x):\n",
    "        y = i*2\n",
    "    return y\n",
    "\n",
    "try:\n",
    "    y = fun(a=1)\n",
    "except AttributeError:\n",
    "    y = 1\n",
    "except TypeError:\n",
    "    y = 2\n",
    "except ValueError:\n",
    "    y = 3\n",
    "except ZeroDivisionError:\n",
    "    y = 4\n",
    "except:\n",
    "    y = 5   \n",
    "    \n",
    "# in the line below, create a variable named foo,\n",
    "# not foo = y, and such that this cell prints True\n",
    "foo = 2\n",
    "\n",
    "print(y == foo)\n"
   ]
  },
  {
   "cell_type": "code",
   "execution_count": 17,
   "id": "f2f2c69b",
   "metadata": {},
   "outputs": [
    {
     "name": "stdout",
     "output_type": "stream",
     "text": [
      "True\n"
     ]
    }
   ],
   "source": [
    "# red the following code and create a variable\n",
    "# named foo such that the this cell prints True\n",
    "\n",
    "def fun(x):\n",
    "    for i in range(5):\n",
    "        y = i*2\n",
    "    return y\n",
    "\n",
    "try:\n",
    "    y = fun(x=1)\n",
    "except AttributeError:\n",
    "    y = 1\n",
    "except TypeError:\n",
    "    y = 2\n",
    "except ValueError:\n",
    "    y = 3\n",
    "except ZeroDivisionError:\n",
    "    y = 4\n",
    "except:\n",
    "    y = 5   \n",
    "    \n",
    "# in the line below, create a variable named foo,\n",
    "# not foo = y, and such that this cell prints True\n",
    "foo = 8\n",
    "\n",
    "print(y == foo)\n"
   ]
  }
 ],
 "metadata": {
  "kernelspec": {
   "display_name": "Python 3 (ipykernel)",
   "language": "python",
   "name": "python3"
  },
  "language_info": {
   "codemirror_mode": {
    "name": "ipython",
    "version": 3
   },
   "file_extension": ".py",
   "mimetype": "text/x-python",
   "name": "python",
   "nbconvert_exporter": "python",
   "pygments_lexer": "ipython3",
   "version": "3.10.2"
  }
 },
 "nbformat": 4,
 "nbformat_minor": 5
}
