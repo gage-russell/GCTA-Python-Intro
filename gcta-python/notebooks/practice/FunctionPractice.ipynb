{
 "cells": [
  {
   "cell_type": "code",
   "execution_count": null,
   "id": "c8e03516",
   "metadata": {},
   "outputs": [],
   "source": [
    "def my_function(x):\n",
    "    return x*2\n",
    "\n",
    "y = my_function(2)\n",
    "\n",
    "# create a variable z below such that this cell prints True\n",
    "\n",
    "\n",
    "print(y == z)"
   ]
  },
  {
   "cell_type": "code",
   "execution_count": null,
   "id": "5c9ad77a",
   "metadata": {},
   "outputs": [],
   "source": [
    "def my_function(x):\n",
    "    output = x*2\n",
    "    return output\n",
    "\n",
    "y = my_function(8)\n",
    "\n",
    "# create a variable z below such that this cell prints True\n",
    "\n",
    "\n",
    "print(y == z)"
   ]
  },
  {
   "cell_type": "code",
   "execution_count": null,
   "id": "18f052e3",
   "metadata": {},
   "outputs": [],
   "source": [
    "def my_function(x):\n",
    "    output = x*2\n",
    "    return output\n",
    "\n",
    "y = 0\n",
    "for i in range(3):\n",
    "    y += my_function(i)\n",
    "\n",
    "# create a variable z below such that this cell prints True\n",
    "\n",
    "\n",
    "print(y == z)"
   ]
  },
  {
   "cell_type": "code",
   "execution_count": null,
   "id": "53b9b239",
   "metadata": {},
   "outputs": [],
   "source": [
    "def my_function(x, y):\n",
    "    return x+y\n",
    "\n",
    "foo = my_function(3, 17)\n",
    "\n",
    "# create a variable z below such that this cell prints True\n",
    "\n",
    "\n",
    "print(foo == z)"
   ]
  },
  {
   "cell_type": "code",
   "execution_count": null,
   "id": "03d33c5e",
   "metadata": {},
   "outputs": [],
   "source": [
    "def my_function(x, y, z):\n",
    "    return x+y, x+z\n",
    "\n",
    "foo, bar = my_function(3, 2, 4)\n",
    "\n",
    "# create a variable z below such that this cell prints True\n",
    "\n",
    "\n",
    "print(foo == z)"
   ]
  },
  {
   "cell_type": "code",
   "execution_count": null,
   "id": "1eba34fc",
   "metadata": {},
   "outputs": [],
   "source": [
    "def my_function(x, y, z):\n",
    "    return x+y, x+z\n",
    "\n",
    "foo, bar = my_function(3, 2, 4)\n",
    "\n",
    "# create a variable z below such that this cell prints True\n",
    "\n",
    "\n",
    "print(bar == z)"
   ]
  },
  {
   "cell_type": "code",
   "execution_count": null,
   "id": "3efc5d49",
   "metadata": {},
   "outputs": [],
   "source": [
    "def my_function(x, y):\n",
    "    if x:\n",
    "        return y*2\n",
    "    else:\n",
    "        return y**2\n",
    "\n",
    "foo = my_function(True, 3)\n",
    "\n",
    "# create a variable z below such that this cell prints True\n",
    "\n",
    "\n",
    "print(foo == z)"
   ]
  },
  {
   "cell_type": "code",
   "execution_count": null,
   "id": "137ca373",
   "metadata": {},
   "outputs": [],
   "source": [
    "def my_function(x, y):\n",
    "    if x:\n",
    "        return y*2\n",
    "    else:\n",
    "        return y**2\n",
    "\n",
    "foo = my_function(False, 3)\n",
    "\n",
    "# create a variable z below such that this cell prints True\n",
    "\n",
    "\n",
    "print(foo == z)"
   ]
  },
  {
   "cell_type": "code",
   "execution_count": null,
   "id": "54d9f612",
   "metadata": {},
   "outputs": [],
   "source": [
    "def my_function(x):\n",
    "    if x >= 1 and x < 3:\n",
    "        return x*2\n",
    "    elif x >= 3 and x < 9:\n",
    "        return x*3\n",
    "    else:\n",
    "        return x**2\n",
    "\n",
    "foo = my_function(3)\n",
    "\n",
    "# create a variable z below such that this cell prints True\n",
    "\n",
    "\n",
    "print(foo == z)"
   ]
  },
  {
   "cell_type": "code",
   "execution_count": null,
   "id": "bbd77468",
   "metadata": {},
   "outputs": [],
   "source": [
    "def my_function(x):\n",
    "    if x >= 1 and x < 3:\n",
    "        return x*2\n",
    "    elif x >= 3 and x < 9:\n",
    "        return x*3\n",
    "    else:\n",
    "        return x**2\n",
    "\n",
    "foo = my_function(2)\n",
    "\n",
    "# create a variable z below such that this cell prints True\n",
    "\n",
    "\n",
    "print(foo == z)"
   ]
  },
  {
   "cell_type": "code",
   "execution_count": null,
   "id": "31e82e0d",
   "metadata": {},
   "outputs": [],
   "source": [
    "def my_function(x):\n",
    "    if x >= 1 and x < 3:\n",
    "        return x*2\n",
    "    elif x >= 3 and x < 9:\n",
    "        return x*3\n",
    "    else:\n",
    "        return x+2\n",
    "\n",
    "foo = my_function(0)\n",
    "\n",
    "# create a variable z below such that this cell prints True\n",
    "\n",
    "\n",
    "print(foo == z)"
   ]
  },
  {
   "cell_type": "code",
   "execution_count": null,
   "id": "48d72201",
   "metadata": {},
   "outputs": [],
   "source": [
    "def my_function(x):\n",
    "    output = 0\n",
    "    for i in x:\n",
    "        output += i\n",
    "        \n",
    "    return output\n",
    "\n",
    "my_list = [3,4,10]\n",
    "foo = my_function(my_list)\n",
    "\n",
    "# create a variable z below such that this cell prints True\n",
    "\n",
    "\n",
    "print(foo == z)"
   ]
  },
  {
   "cell_type": "code",
   "execution_count": null,
   "id": "fcc95aef",
   "metadata": {},
   "outputs": [],
   "source": [
    "def my_function(x):\n",
    "    output = 0\n",
    "    for i in x:\n",
    "        output += i\n",
    "        \n",
    "    return output\n",
    "\n",
    "foo = my_function([4,6,10])\n",
    "\n",
    "# create a variable z below such that this cell prints True\n",
    "\n",
    "\n",
    "print(foo == z)"
   ]
  },
  {
   "cell_type": "code",
   "execution_count": null,
   "id": "40c1b93f",
   "metadata": {},
   "outputs": [],
   "source": [
    "def my_function(x):\n",
    "    output = 0\n",
    "    for i in x:\n",
    "        output += i['a']\n",
    "        \n",
    "    return output\n",
    "\n",
    "my_list_of_dict = [{'a': 3}, {'a': 9}]\n",
    "foo = my_function(my_list_of_dict)\n",
    "\n",
    "# create a variable z below such that this cell prints True\n",
    "\n",
    "\n",
    "print(foo == z)"
   ]
  },
  {
   "cell_type": "code",
   "execution_count": null,
   "id": "13386b31",
   "metadata": {},
   "outputs": [],
   "source": [
    "def my_function(x):\n",
    "    output = 0\n",
    "    for i in range(len(x)):\n",
    "        output += x[i]['a']\n",
    "        \n",
    "    return output\n",
    "\n",
    "my_list_of_dict = [{'a': 7}, {'a': 20}]\n",
    "foo = my_function(my_list_of_dict)\n",
    "\n",
    "# create a variable z below such that this cell prints True\n",
    "\n",
    "\n",
    "print(foo == z)"
   ]
  },
  {
   "cell_type": "code",
   "execution_count": null,
   "id": "074f9cec",
   "metadata": {},
   "outputs": [],
   "source": [
    "def my_function(x):\n",
    "    output = []\n",
    "    for i in x:\n",
    "        avg = sum(i)/len(i)\n",
    "        output.append(avg)\n",
    "        \n",
    "    return output\n",
    "\n",
    "my_list_of_list = [[9,10,2], [4,5,6]]\n",
    "foo = my_function(my_list_of_list)\n",
    "\n",
    "# create a variable z below such that this cell prints True\n",
    "\n",
    "\n",
    "print(foo == z)"
   ]
  },
  {
   "cell_type": "code",
   "execution_count": null,
   "id": "01ae78f6",
   "metadata": {},
   "outputs": [],
   "source": [
    "def my_function(x):\n",
    "    output = [sum(i)/len(i) for i in x]\n",
    "    return output\n",
    "\n",
    "my_list_of_list = [[2,2,2], [4,5,9]]\n",
    "foo = my_function(my_list_of_list)\n",
    "\n",
    "# create a variable z below such that this cell prints True\n",
    "\n",
    "\n",
    "print(foo == z)"
   ]
  },
  {
   "cell_type": "code",
   "execution_count": null,
   "id": "135fb2b5",
   "metadata": {},
   "outputs": [],
   "source": []
  }
 ],
 "metadata": {
  "kernelspec": {
   "display_name": "Python 3 (ipykernel)",
   "language": "python",
   "name": "python3"
  },
  "language_info": {
   "codemirror_mode": {
    "name": "ipython",
    "version": 3
   },
   "file_extension": ".py",
   "mimetype": "text/x-python",
   "name": "python",
   "nbconvert_exporter": "python",
   "pygments_lexer": "ipython3",
   "version": "3.8.9"
  }
 },
 "nbformat": 4,
 "nbformat_minor": 5
}
