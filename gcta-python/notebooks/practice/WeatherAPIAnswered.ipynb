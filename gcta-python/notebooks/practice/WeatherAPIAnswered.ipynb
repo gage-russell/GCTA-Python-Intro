{
 "cells": [
  {
   "cell_type": "code",
   "execution_count": null,
   "id": "41d7171c",
   "metadata": {},
   "outputs": [],
   "source": [
    "# import the libraries you will need:\n",
    "\n",
    "# requests allows us to make web-requests\n",
    "import requests"
   ]
  },
  {
   "cell_type": "code",
   "execution_count": null,
   "id": "c25eb41d",
   "metadata": {},
   "outputs": [],
   "source": [
    "# Define the url that you want to make a request to\n",
    "# I got the url below by finding the office (EWX) and grid location (155,90) of Austin, Texas\n",
    "\n",
    "url = 'https://api.weather.gov/gridpoints/EWX/155,90/forecast'"
   ]
  },
  {
   "cell_type": "code",
   "execution_count": null,
   "id": "1deb758c",
   "metadata": {},
   "outputs": [],
   "source": [
    "# Make a web request to the url above using (requests.get(url).json())\n",
    "\n",
    "weather = requests.get(url).json()"
   ]
  },
  {
   "cell_type": "code",
   "execution_count": null,
   "id": "f5883222",
   "metadata": {},
   "outputs": [],
   "source": [
    "# display the response from the API\n",
    "\n",
    "weather"
   ]
  },
  {
   "cell_type": "code",
   "execution_count": null,
   "id": "352b1282",
   "metadata": {},
   "outputs": [],
   "source": [
    "# get the forecast using the keys ['properties']['periods']\n",
    "\n",
    "forecast = weather['properties']['periods']"
   ]
  },
  {
   "cell_type": "code",
   "execution_count": null,
   "id": "d0374c6b",
   "metadata": {},
   "outputs": [],
   "source": [
    "# loop over the forecast and print the weather\n",
    "\n",
    "for record in forecast:\n",
    "    \n",
    "    print('the weather is: \\n')\n",
    "    \n",
    "    print('\\t' + record['name'])\n",
    "    \n",
    "    print('\\t\\t' + record['detailedForecast'])\n",
    "    \n",
    "    print('\\n\\n')"
   ]
  },
  {
   "cell_type": "code",
   "execution_count": null,
   "id": "ada961fc",
   "metadata": {},
   "outputs": [],
   "source": []
  }
 ],
 "metadata": {
  "kernelspec": {
   "display_name": "Python 3 (ipykernel)",
   "language": "python",
   "name": "python3"
  },
  "language_info": {
   "codemirror_mode": {
    "name": "ipython",
    "version": 3
   },
   "file_extension": ".py",
   "mimetype": "text/x-python",
   "name": "python",
   "nbconvert_exporter": "python",
   "pygments_lexer": "ipython3",
   "version": "3.8.9"
  }
 },
 "nbformat": 4,
 "nbformat_minor": 5
}
