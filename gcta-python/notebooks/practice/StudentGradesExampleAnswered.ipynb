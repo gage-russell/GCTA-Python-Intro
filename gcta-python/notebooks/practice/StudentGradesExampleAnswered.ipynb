{
 "cells": [
  {
   "cell_type": "code",
   "execution_count": null,
   "id": "cb572b9f",
   "metadata": {},
   "outputs": [],
   "source": [
    "# We have students, John, Sally, Shelby\n",
    "# Each student has taken 4 tests\n",
    "# their scores were:\n",
    "#   John: 70, 75, 100, 90\n",
    "#   Sally: 100, 98, 80, 50\n",
    "#   Shelby: 50, 40, 30, 65\n",
    "\n",
    "# Calculate the student's average grades\n",
    "# The output should be a new dictionary which contains of the shape:\n",
    "\"\"\"\n",
    "{\n",
    "    \"john\": {\n",
    "        \"grades\": list,\n",
    "        \"average_grade\": float\n",
    "    },\n",
    "    \"Sally\": {\n",
    "        \"grades\": list,\n",
    "        \"average_grade\": float\n",
    "    },\n",
    "    \"Shelby\": {\n",
    "        \"grades\": list,\n",
    "        \"average_grade\": float\n",
    "    }\n",
    "}\n",
    "\"\"\"\n",
    "\n",
    "# STEP1\n",
    "# Write a function\n",
    "#   which calulcates the average of a list of numbers\n",
    "\n",
    "# STEP2\n",
    "# Use a for loop to iterate over each student \n",
    "#    and calculate their average grade"
   ]
  },
  {
   "cell_type": "code",
   "execution_count": null,
   "id": "6a950cbd",
   "metadata": {
    "scrolled": true
   },
   "outputs": [],
   "source": [
    "# The student's grade data is provided as a dictionary for you below\n",
    "\n",
    "student_grades = {\n",
    "    'john': [70, 75, 100, 90],\n",
    "    'sally': [100, 98, 80, 50],\n",
    "    'shelby': [50, 40, 30, 65]\n",
    "}"
   ]
  },
  {
   "cell_type": "code",
   "execution_count": null,
   "id": "3e7f8210",
   "metadata": {},
   "outputs": [],
   "source": [
    "# STEP1\n",
    "# Write a function\n",
    "#   which calulcates the average of a list of numbers\n",
    "\n",
    "# average is the sum/length\n",
    "# we have two functions built in python: sum() and len()\n",
    "\n",
    "def avg_of_list(list_of_numbers):\n",
    "    return sum(list_of_numbers) / len(list_of_numbers)"
   ]
  },
  {
   "cell_type": "code",
   "execution_count": null,
   "id": "e3deb226",
   "metadata": {},
   "outputs": [],
   "source": [
    "# STEP2\n",
    "# Create an empty dictionary to store our final output\n",
    "\n",
    "final_grades = {}"
   ]
  },
  {
   "cell_type": "code",
   "execution_count": null,
   "id": "d73e634e",
   "metadata": {},
   "outputs": [],
   "source": [
    "# STEP3\n",
    "# Use a for loop to iterate over each student \n",
    "#    and calculate their average grade\n",
    "\n",
    "for student, grades in student_grades.items():\n",
    "        \n",
    "    final_grades[student] = {}\n",
    "    final_grades[student]['grades'] = grades\n",
    "    final_grades[student]['average_grade'] = avg_of_list(grades)\n",
    "    "
   ]
  },
  {
   "cell_type": "code",
   "execution_count": null,
   "id": "09cf20a0",
   "metadata": {},
   "outputs": [],
   "source": [
    "final_grades"
   ]
  },
  {
   "cell_type": "code",
   "execution_count": null,
   "id": "6e6e2082",
   "metadata": {},
   "outputs": [],
   "source": []
  }
 ],
 "metadata": {
  "kernelspec": {
   "display_name": "Python 3 (ipykernel)",
   "language": "python",
   "name": "python3"
  },
  "language_info": {
   "codemirror_mode": {
    "name": "ipython",
    "version": 3
   },
   "file_extension": ".py",
   "mimetype": "text/x-python",
   "name": "python",
   "nbconvert_exporter": "python",
   "pygments_lexer": "ipython3",
   "version": "3.8.9"
  }
 },
 "nbformat": 4,
 "nbformat_minor": 5
}
