{
 "cells": [
  {
   "cell_type": "code",
   "execution_count": null,
   "id": "6ea9b1f4",
   "metadata": {},
   "outputs": [],
   "source": [
    "# Nested data practice:\n",
    "# These exercises should prepare you to more comfortably\n",
    "# use real-world data sets you find in the wild!\n",
    "\n",
    "# Review:\n",
    "# A dictionary is a collection of key-value pairs.\n",
    "# { key: value, key: value, key: value, ... }\n",
    "# A list is a collection of objects:\n",
    "# [ object, object, object, ... ]\n",
    "\n",
    "# Both keys and values can also be objects.\n",
    "# And both dictionaries and lists are objects. Whoa!\n",
    "# You can have a dictionary of lists {'key': [], 'key2': [], 'key3': []}, \n",
    "# and lists of dictionaries [{}, {}, {}], and so forth."
   ]
  },
  {
   "cell_type": "code",
   "execution_count": null,
   "id": "1f83bbd0",
   "metadata": {},
   "outputs": [],
   "source": [
    "# Section 0"
   ]
  },
  {
   "cell_type": "code",
   "execution_count": null,
   "id": "03172dde",
   "metadata": {},
   "outputs": [],
   "source": [
    "# Exercise 0.0\n",
    "# If you're finding yourself stuck, try using the print() statement.\n",
    "# For example:\n",
    "\n",
    "# Using the nasty! dictionary:\n",
    "nested_dict = {'key1': [1, {'key2': [3, 2]}]}\n",
    "\n",
    "# Complete the statement \"foo = \" so that foo is assigned to the list [3, 2].\n",
    "\n",
    "# Let's break this problem down to more managable parts...\n",
    "# This is a useful strategy developers frequetnly use!\n",
    "foo1 = nested_dict['key1']\n",
    "print(foo1)  # prints [1, {'key2': [3, 2]}]"
   ]
  },
  {
   "cell_type": "code",
   "execution_count": null,
   "id": "b08b3c1d",
   "metadata": {},
   "outputs": [],
   "source": [
    "foo2 = nested_dict['key1'][1]\n",
    "print(foo2)  # prints {'key2': [3, 2]}"
   ]
  },
  {
   "cell_type": "code",
   "execution_count": null,
   "id": "c61e71a3",
   "metadata": {},
   "outputs": [],
   "source": [
    "foo3 = nested_dict['key1'][1]['key2']\n",
    "print(foo3)  # prints our answer [3, 2]"
   ]
  },
  {
   "cell_type": "code",
   "execution_count": null,
   "id": "49da4457",
   "metadata": {},
   "outputs": [],
   "source": [
    "# So we should set \"foo = \" to:\n",
    "foo = nested_dict['key1'][1]['key2']\n",
    "\n",
    "print(list(foo) == [3, 2])\n",
    "\n",
    "# If done successfully, the output below should be \"True\""
   ]
  },
  {
   "cell_type": "code",
   "execution_count": null,
   "id": "ac3c9d80",
   "metadata": {},
   "outputs": [],
   "source": [
    "# Exercise 0.1\n",
    "# Using the dictionary:\n",
    "person_dict = {'name': 'emma', 'age': 23, 'location': 'austin'}\n",
    "\n",
    "# Complete the statement \"foo = \" to find Emma's age.\n",
    "\n",
    "foo = \n",
    "\n",
    "print(foo == 23)"
   ]
  },
  {
   "cell_type": "code",
   "execution_count": null,
   "id": "035e58d7",
   "metadata": {},
   "outputs": [],
   "source": [
    "# Exercise 0.2\n",
    "# Using the dictionary:\n",
    "person_dict = {'name': 'emma', 'age': 23, 'location': 'austin'}\n",
    "\n",
    "# Complete the statement \"foo = \" to find all of the dictionary keys.\n",
    "# Hint: this can be done using a dictionary method.\n",
    "\n",
    "foo = \n",
    "\n",
    "print(list(foo) == ['name', 'age', 'location'])"
   ]
  },
  {
   "cell_type": "code",
   "execution_count": null,
   "id": "63cde8e5",
   "metadata": {},
   "outputs": [],
   "source": [
    "# Exercise 0.3\n",
    "# Using the dictionary:\n",
    "person_dict = {'name': 'emma', 'age': 23, 'location': 'austin'}\n",
    "\n",
    "# Complete the statement \"foo = \" to find all of the dictionary values.\n",
    "\n",
    "foo = \n",
    "\n",
    "print(list(foo) == ['emma', 23, 'austin'])"
   ]
  },
  {
   "cell_type": "code",
   "execution_count": null,
   "id": "18602a0c",
   "metadata": {},
   "outputs": [],
   "source": [
    "# Exercise 0.4\n",
    "# Using the dictionary:\n",
    "nested_dict = {'key1': [1]}\n",
    "\n",
    "# Complete the statement \"foo = \" so that foo is assigned to the list [1].\n",
    "\n",
    "foo = \n",
    "\n",
    "print(list(foo) == [1])"
   ]
  },
  {
   "cell_type": "code",
   "execution_count": null,
   "id": "ff3f57ce",
   "metadata": {},
   "outputs": [],
   "source": [
    "# Exercise 0.5\n",
    "# Using the dictionary:\n",
    "nested_dict = {'key1': [1]}\n",
    "\n",
    "# Complete the statement \"foo = \" so that foo is assigned to 1 (the contents of that list).\n",
    "\n",
    "foo = \n",
    "\n",
    "print(foo == 1)"
   ]
  },
  {
   "cell_type": "code",
   "execution_count": null,
   "id": "93b3458f",
   "metadata": {},
   "outputs": [],
   "source": [
    "# Exercise 0.6\n",
    "# Using the dictionary:\n",
    "nested_dict = {'key1': [1], \n",
    "               'key2': [0, {'key3': 'bar'}, 2]}\n",
    "\n",
    "# Complete the statement \"foo = \" so that foo is assigned to the dictionary {'key3': 'bar'}.\n",
    "\n",
    "foo = \n",
    "\n",
    "print(foo == {'key3': 'bar'})"
   ]
  },
  {
   "cell_type": "code",
   "execution_count": null,
   "id": "d1cbcc78",
   "metadata": {},
   "outputs": [],
   "source": [
    "# Exercise 0.7\n",
    "# Using the dictionary:\n",
    "nested_dict = {'key1': [1], \n",
    "               'key2': [0, {'key3': 'bar'}, 2]}\n",
    "\n",
    "# Complete the statement \"foo = \" so that foo is assigned to 'bar'.\n",
    "\n",
    "foo = \n",
    "\n",
    "print(foo == 'bar')"
   ]
  },
  {
   "cell_type": "code",
   "execution_count": null,
   "id": "2d244d61",
   "metadata": {},
   "outputs": [],
   "source": [
    "# Exercise 0.8\n",
    "# Using the dictionary:\n",
    "nested_dict = {'key1': [1, {'key2': [3, 2]}]}\n",
    "\n",
    "# Complete the statement \"foo = \" so that foo is assigned to the list [3, 2].\n",
    "\n",
    "foo = \n",
    "\n",
    "print(list(foo) == [3, 2])"
   ]
  },
  {
   "cell_type": "code",
   "execution_count": null,
   "id": "63c16b16",
   "metadata": {},
   "outputs": [],
   "source": [
    "# Section 1"
   ]
  },
  {
   "cell_type": "code",
   "execution_count": null,
   "id": "85d60305",
   "metadata": {},
   "outputs": [],
   "source": [
    "# Exercise 1.0\n",
    "# Using the dictionary:\n",
    "my_dict = {'names': ['john', 'sally'], 'ages': [12, 33], 'locations': ['austin', 'dallas']}\n",
    "\n",
    "# Complete the statement \"foo = \" so that it contains only the top level categories.\n",
    "# You want foo to contain this information: ['names', 'ages', 'locations'].\n",
    "\n",
    "foo = \n",
    "\n",
    "print(list(foo) == ['names', 'ages', 'locations'])\n",
    "\n",
    "# If done successfully, the output below should be \"True\""
   ]
  },
  {
   "cell_type": "code",
   "execution_count": null,
   "id": "de13b3e9",
   "metadata": {},
   "outputs": [],
   "source": [
    "# Exercise 1.1\n",
    "# Using the dictionary:\n",
    "my_dict = {'names': ['john', 'sally'], 'ages': [12, 33], 'locations': ['austin', 'dallas']}\n",
    "\n",
    "# Complete the statement \"foo = \" so that it contain only the actual NAMES, AGES, and LOCATIONS.\n",
    "# You want foo to contain data such as: 'sally', and 'austin'.\n",
    "\n",
    "foo = \n",
    "\n",
    "print(list(foo) == [['john', 'sally'], [12, 33], ['austin', 'dallas']])"
   ]
  },
  {
   "cell_type": "code",
   "execution_count": null,
   "id": "82264d74",
   "metadata": {},
   "outputs": [],
   "source": [
    "# Exercise 1.2\n",
    "# Using the dictionary:\n",
    "my_dict = {'names': ['john', 'sally'], 'ages': [12, 33], 'locations': ['austin', 'dallas']}\n",
    "\n",
    "# Complete the statement \"foo = \" so that it contains a list of only AGES.\n",
    "\n",
    "foo = \n",
    "\n",
    "print(list(foo) == [12, 33])"
   ]
  },
  {
   "cell_type": "code",
   "execution_count": null,
   "id": "3d0db7d0",
   "metadata": {},
   "outputs": [],
   "source": [
    "# Exercise 1.3\n",
    "# Using the dictionary:\n",
    "my_dict = {'names': ['john', 'sally'], 'ages': [12, 33], 'locations': ['austin', 'dallas']}\n",
    "\n",
    "# Complete the statement \"foo = \" so that it contains a list of only LOCATIONS.\n",
    "\n",
    "foo = \n",
    "\n",
    "print(list(foo) == ['austin', 'dallas'])"
   ]
  },
  {
   "cell_type": "code",
   "execution_count": null,
   "id": "6534f858",
   "metadata": {},
   "outputs": [],
   "source": [
    "# Section 2"
   ]
  },
  {
   "cell_type": "code",
   "execution_count": null,
   "id": "ba3c257c",
   "metadata": {},
   "outputs": [],
   "source": [
    "# Exercise 2.0\n",
    "# Here is a larger dictionary:\n",
    "\n",
    "larger_dict = {'names': ['john', 'sally', 'martha', 'frank', 'ashley'], 'ages': [12, 33, 25, 10, 5], 'locations': [{'austin': ['north', 'south']}, 'plano', {'houston': ['west', 'north']}, 'dallas', 'waco']}\n",
    "\n",
    "# We can make some purely visual fomatting changes to make it more human-readable:\n",
    "\n",
    "larger_dict = {'names': ['john', 'sally', 'martha', 'frank', 'ashley'], \n",
    "               'ages': [12, 33, 25, 10, 5], \n",
    "               'locations': [{'austin': ['north', 'south']}, \n",
    "                             'plano', \n",
    "                             {'houston': ['west', 'north']}, \n",
    "                             'dallas', \n",
    "                             'waco']}"
   ]
  },
  {
   "cell_type": "code",
   "execution_count": null,
   "id": "7fad97c1",
   "metadata": {},
   "outputs": [],
   "source": [
    "# Exercise 2.1\n",
    "# Using the dictionary:\n",
    "larger_dict = {'names': ['john', 'sally', 'martha', 'frank', 'ashley'], \n",
    "               'ages': [12, 33, 25, 10, 5], \n",
    "               'locations': [{'austin': ['north', 'south']}, \n",
    "                             'plano', \n",
    "                             {'houston': ['west', 'north']}, \n",
    "                             'dallas', \n",
    "                             'waco']}\n",
    "\n",
    "# Complete the statement \"foo = \" so that it only contains each NAME.\n",
    "\n",
    "foo = \n",
    "\n",
    "print(list(foo) == ['john', 'sally', 'martha', 'frank', 'ashley'])"
   ]
  },
  {
   "cell_type": "code",
   "execution_count": null,
   "id": "13fb4976",
   "metadata": {},
   "outputs": [],
   "source": [
    "# Exercise 2.2\n",
    "# Using the dictionary:\n",
    "larger_dict = {'names': ['john', 'sally', 'martha', 'frank', 'ashley'], \n",
    "               'ages': [12, 33, 25, 10, 5], \n",
    "               'locations': [{'austin': ['north', 'south']}, \n",
    "                             'plano', \n",
    "                             {'houston': ['west', 'north']}, \n",
    "                             'dallas', \n",
    "                             'waco']}\n",
    "\n",
    "# Complete the statement \"foo = \" so that it only contains the location DALLAS.\n",
    "\n",
    "foo = \n",
    "\n",
    "print(foo == 'dallas')"
   ]
  },
  {
   "cell_type": "code",
   "execution_count": null,
   "id": "29e25b70",
   "metadata": {},
   "outputs": [],
   "source": [
    "# Exercise 2.3\n",
    "# Using the dictionary:\n",
    "larger_dict = {'names': ['john', 'sally', 'martha', 'frank', 'ashley'], \n",
    "               'ages': [12, 33, 25, 10, 5], \n",
    "               'locations': [{'austin': ['north', 'south']}, \n",
    "                             'plano', \n",
    "                             {'houston': ['west', 'north']}, \n",
    "                             'dallas', \n",
    "                             'waco']}\n",
    "\n",
    "# Complete the statement \"foo = \" so that it contains all the location information about AUSTIN and its locations.\n",
    "\n",
    "foo = \n",
    "\n",
    "print(foo == {'austin': ['north', 'south']} or foo == ['north', 'south'])"
   ]
  },
  {
   "cell_type": "code",
   "execution_count": null,
   "id": "ff4d6363",
   "metadata": {},
   "outputs": [],
   "source": [
    "# Exercise 2.4\n",
    "# Using the dictionary:\n",
    "larger_dict = {'names': ['john', 'sally', 'martha', 'frank', 'ashley'], \n",
    "               'ages': [12, 33, 25, 10, 5], \n",
    "               'locations': [{'austin': ['north', 'south']}, \n",
    "                             'plano', \n",
    "                             {'houston': ['west', 'north']}, \n",
    "                             'dallas', \n",
    "                             'waco']}\n",
    "\n",
    "# Complete the statement \"foo = \" so that it only contains the different Austin locations (such as North, South, East, West).\n",
    "\n",
    "foo = \n",
    "\n",
    "print(list(foo) == ['north', 'south'])"
   ]
  },
  {
   "cell_type": "code",
   "execution_count": null,
   "id": "ffc4909d",
   "metadata": {},
   "outputs": [],
   "source": [
    "# Section 3"
   ]
  },
  {
   "cell_type": "code",
   "execution_count": null,
   "id": "9333235b",
   "metadata": {},
   "outputs": [],
   "source": [
    "# Exercise 3.0\n",
    "# The location formatting of that dictionary is a bit wonky.\n",
    "\n",
    "# Let us use a different location format.\n",
    "new_dict = {'names': ['john', 'sally', 'martha', 'frank', 'ashley'], \n",
    "            'ages': [12, 33, 25, 10, 5], \n",
    "            'locations': {'austin': ['north', 'south'], 'dallas': 'east', 'houston': ['west', 'north']}}\n",
    "\n",
    "# Using this new dictionary:\n",
    "# Complete the statement \"foo = \" so that it only contains each cities (such as Austin, Houston, Dallas...).\n",
    "# Hint: this can be done using a dictionary method.\n",
    "\n",
    "foo = \n",
    "\n",
    "print(list(foo) == ['austin', 'dallas', 'houston'])"
   ]
  },
  {
   "cell_type": "code",
   "execution_count": null,
   "id": "87c73263",
   "metadata": {},
   "outputs": [],
   "source": [
    "# Exercise 3.1\n",
    "# Using this dictionary:\n",
    "new_dict = {'names': ['john', 'sally', 'martha', 'frank', 'ashley'], \n",
    "            'ages': [12, 33, 25, 10, 5], \n",
    "            'locations': {'austin': ['north', 'south'], 'dallas': 'east', 'houston': ['west', 'north']}}\n",
    "\n",
    "# Complete the statement \"foo = \" so that it only contains the different Houston locations (North, South, East, West).\n",
    "\n",
    "foo = \n",
    "\n",
    "print(list(foo) == ['west', 'north'])"
   ]
  },
  {
   "cell_type": "code",
   "execution_count": null,
   "id": "358a14ad",
   "metadata": {},
   "outputs": [],
   "source": [
    "# Exercise 3.2\n",
    "# Using the dictionary:\n",
    "new_dict = {'names': ['john', 'sally', 'martha', 'frank', 'ashley'], \n",
    "            'ages': [12, 33, 25, 10, 5], \n",
    "            'locations': {'austin': ['north', 'south'], 'dallas': 'east', 'houston': ['west', 'north']}}\n",
    "\n",
    "# Complete the statement \"foo = \" so that it only contains North, South, East, or West, but not the city name.\n",
    "# Hint: this can be done using a dictionary method.\n",
    "\n",
    "foo = \n",
    "\n",
    "print(list(foo) == [['north', 'south'], 'east', ['west', 'north']])"
   ]
  },
  {
   "cell_type": "code",
   "execution_count": null,
   "id": "bc136cd7",
   "metadata": {},
   "outputs": [],
   "source": [
    "# Exercise 3.3\n",
    "# Using the dictionary:\n",
    "new_dict = {'names': ['john', 'sally', 'martha', 'frank', 'ashley'], \n",
    "            'ages': [12, 33, 25, 10, 5], \n",
    "            'locations': {'austin': ['north', 'south'], 'dallas': 'east', 'houston': ['west', 'north']}}\n",
    "\n",
    "# Complete the statement \"foo = \" so that it only contains the Austin location 'south'.\n",
    "\n",
    "foo = \n",
    "\n",
    "print(foo == 'south')"
   ]
  },
  {
   "cell_type": "code",
   "execution_count": null,
   "id": "11f392f2",
   "metadata": {},
   "outputs": [],
   "source": [
    "# Exercise 3.4\n",
    "# Using the dictionary:\n",
    "new_dict = {'names': ['john', 'sally', 'martha', 'frank', 'ashley'], \n",
    "            'ages': [12, 33, 25, 10, 5], \n",
    "            'locations': {'austin': ['north', 'south'], 'dallas': 'east', 'houston': ['west', 'north']}}\n",
    "\n",
    "# Complete the statement \"foo = \" so that it only contains the Houston location 'west'.\n",
    "\n",
    "foo = \n",
    "\n",
    "print(foo == 'west')"
   ]
  },
  {
   "cell_type": "code",
   "execution_count": null,
   "id": "46b61b17",
   "metadata": {},
   "outputs": [],
   "source": [
    "# Section 4"
   ]
  },
  {
   "cell_type": "code",
   "execution_count": null,
   "id": "4d205409",
   "metadata": {},
   "outputs": [],
   "source": [
    "# Exercise 4.0\n",
    "# Using the dictionary:\n",
    "new_dict = {'names': ['john', 'sally', 'martha', 'frank', 'ashley'], \n",
    "            'ages': [12, 33, 25, 10, 5], \n",
    "            'locations': {'austin': ['north', 'south'], 'dallas': 'east', 'houston': ['west', 'north']}}\n",
    "\n",
    "# Using the variable \"bar\", complete \"foo = \" so that 'frank' is assigned to the variable \"foo\".\n",
    "bar = new_dict['names']\n",
    "\n",
    "foo = \n",
    "\n",
    "print(foo == 'frank')"
   ]
  },
  {
   "cell_type": "code",
   "execution_count": null,
   "id": "58ae947f",
   "metadata": {},
   "outputs": [],
   "source": [
    "# Exercise 4.1\n",
    "# Using the dictionary:\n",
    "new_dict = {'names': ['john', 'sally', 'martha', 'frank', 'ashley'], \n",
    "            'ages': [12, 33, 25, 10, 5], \n",
    "            'locations': {'austin': ['north', 'south'], 'dallas': 'east', 'houston': ['west', 'north']}}\n",
    "\n",
    "# Using the variable \"bar\", complete \"foo = \" so that 33 is assigned to the variable \"foo\".\n",
    "bar = new_dict['ages']\n",
    "\n",
    "foo = \n",
    "\n",
    "print(foo == 33)"
   ]
  },
  {
   "cell_type": "code",
   "execution_count": null,
   "id": "85021eef",
   "metadata": {},
   "outputs": [],
   "source": [
    "# Exercise 4.2\n",
    "# Using the dictionary:\n",
    "new_dict = {'names': ['john', 'sally', 'martha', 'frank', 'ashley'], \n",
    "            'ages': [12, 33, 25, 10, 5], \n",
    "            'locations': {'austin': ['north', 'south'], 'dallas': 'east', 'houston': ['west', 'north']}}\n",
    "\n",
    "# Using the variable \"bar\", complete \"foo = \" so that only city names are assigned to the variable \"foo\".\n",
    "bar = new_dict['locations']\n",
    "\n",
    "foo = \n",
    "\n",
    "print(list(foo) == ['austin', 'dallas', 'houston'])"
   ]
  },
  {
   "cell_type": "code",
   "execution_count": null,
   "id": "a66fda9f",
   "metadata": {},
   "outputs": [],
   "source": [
    "# Exercise 4.3\n",
    "# Using the dictionary:\n",
    "new_dict = {'names': ['john', 'sally', 'martha', 'frank', 'ashley'], \n",
    "            'ages': [12, 33, 25, 10, 5], \n",
    "            'locations': {'austin': ['north', 'south'], 'dallas': 'east', 'houston': ['west', 'north']}}\n",
    "\n",
    "# Using the variable \"second_level\", complete \"foo = \" so that the 'south' Austin location is assigned to the variable \"foo\".\n",
    "first_level = new_dict['locations']\n",
    "second_level = first_level['austin']\n",
    "\n",
    "foo = \n",
    "\n",
    "print(foo == 'south')"
   ]
  },
  {
   "cell_type": "code",
   "execution_count": null,
   "id": "6e6791f5",
   "metadata": {},
   "outputs": [],
   "source": [
    "# Exercise 4.4\n",
    "# Using the dictionary:\n",
    "new_dict = {'names': ['john', 'sally', 'martha', 'frank', 'ashley'], \n",
    "            'ages': [12, 33, 25, 10, 5], \n",
    "            'locations': {'austin': ['north', 'south'], 'dallas': 'east', 'houston': ['west', 'north']}}\n",
    "\n",
    "# Complete the missing statements so that the 'west' Houston location is assigned to the variable \"foo\".\n",
    "first_level = \n",
    "second_level = \n",
    "third_level = \n",
    "\n",
    "foo = third_level\n",
    "\n",
    "print(foo == 'west')"
   ]
  },
  {
   "cell_type": "code",
   "execution_count": null,
   "id": "b428ca46",
   "metadata": {},
   "outputs": [],
   "source": [
    "# Notice that each time you access data using,\n",
    "# for example, my_dict['something'] or\n",
    "# my_list[an_int], you can then access nested data\n",
    "# as if that whole statement is now a new object.\n",
    "#\n",
    "# If we have my_dict = {'my_list': [1, 2, 3]},\n",
    "# my_dict['my_list'] is equivilant to [1, 2, 3].\n",
    "# So, my_dict['my_list'][0] is equivilant to 1, as if \n",
    "# we were directly getting the zero index of [1, 2, 3].\n",
    "#\n",
    "# This example applied to dictionaries:\n",
    "# If my_dict = {'my_nested_dict': {key: value}},\n",
    "# my_dict['my_nested_dict'] is equivilant to {key: value}.\n",
    "#\n",
    "# Another example:\n",
    "# Given, my_list = [{key1: value1}, {key2: value2}],\n",
    "# my_list[index_0] is equal to {key1: value1},\n",
    "# and my_list[index_0]['key1'] is equivilant to value1"
   ]
  }
 ],
 "metadata": {
  "kernelspec": {
   "display_name": "Python 3 (ipykernel)",
   "language": "python",
   "name": "python3"
  },
  "language_info": {
   "codemirror_mode": {
    "name": "ipython",
    "version": 3
   },
   "file_extension": ".py",
   "mimetype": "text/x-python",
   "name": "python",
   "nbconvert_exporter": "python",
   "pygments_lexer": "ipython3",
   "version": "3.10.2"
  }
 },
 "nbformat": 4,
 "nbformat_minor": 5
}
