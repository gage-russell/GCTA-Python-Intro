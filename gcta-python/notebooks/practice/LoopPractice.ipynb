{
 "cells": [
  {
   "cell_type": "markdown",
   "id": "6829558c",
   "metadata": {},
   "source": [
    "# This is a review notebook\n",
    "***In order to do this review, you need to have covered:***\n",
    "* Simple Data Types (literals: int, str, float, bool)\n",
    "* The print() function\n",
    "* The input() function\n",
    "* The type() function\n",
    "* the isinstance() function\n",
    "* Arithmetic operators (+, -, /, //, *, \\**, %)\n",
    "* Comparison operators (==, !=, <, >, <=, >=)\n",
    "* Logical operators (and, or, not)\n",
    "* Special operators (is)\n",
    "* Membership operators (in)\n",
    "* The range() function\n",
    "* Lists\n",
    "* Dictionaries\n",
    "* For loops\n",
    "* List comprehension\n",
    "* Conditional expressions (if, elif, else)"
   ]
  },
  {
   "cell_type": "code",
   "execution_count": null,
   "id": "8e7171f0",
   "metadata": {},
   "outputs": [],
   "source": [
    "x = [i for i in range(1, 3)]\n",
    "# create a new variable y which causes the last expression in this cell to print True\n",
    "\n",
    "print(x == y)"
   ]
  },
  {
   "cell_type": "code",
   "execution_count": null,
   "id": "ce6f2acc",
   "metadata": {},
   "outputs": [],
   "source": [
    "x = [{'day':i, 'weather':'sunny'} for i in range(1, 3)]\n",
    "# create a new variable y which causes the last expression in this cell to print True\n",
    "\n",
    "print(x == y)"
   ]
  },
  {
   "cell_type": "code",
   "execution_count": null,
   "id": "1c2c586c",
   "metadata": {},
   "outputs": [],
   "source": [
    "x = []\n",
    "for i in range(3):\n",
    "    x.append(i)\n",
    "# create a new variable y using list comprehension \n",
    "# which causes the last expression in this cell to print True\n",
    "\n",
    "print(x == y)"
   ]
  },
  {
   "cell_type": "code",
   "execution_count": null,
   "id": "00de107d",
   "metadata": {},
   "outputs": [],
   "source": [
    "x = []\n",
    "for i in range(1, 10, 2):\n",
    "    x.append(i)\n",
    "# create a new variable y using list comprehension \n",
    "# which causes the last expression in this cell to print True\n",
    "\n",
    "print(x == y)"
   ]
  },
  {
   "cell_type": "code",
   "execution_count": null,
   "id": "c96d4b7e",
   "metadata": {},
   "outputs": [],
   "source": [
    "x = [i for i in range(5)]\n",
    "# create a new variable y using a for loop and the append method\n",
    "# which causes the last expression in this cell to print True\n",
    "\n",
    "\n",
    "print(x == y)"
   ]
  },
  {
   "cell_type": "code",
   "execution_count": null,
   "id": "6e7da023",
   "metadata": {},
   "outputs": [],
   "source": [
    "# Use list comprehension and the range() function to create: [2, 3, 4] and print it\n",
    "\n",
    "print(x)"
   ]
  },
  {
   "cell_type": "code",
   "execution_count": null,
   "id": "00007e34",
   "metadata": {},
   "outputs": [],
   "source": [
    "# Use list comprehension and the range() function to create: [1, 3, 5] and print it\n",
    "\n",
    "print(x)"
   ]
  },
  {
   "cell_type": "code",
   "execution_count": null,
   "id": "42d0f28f",
   "metadata": {},
   "outputs": [],
   "source": [
    "adder = 0\n",
    "for i in range(10):\n",
    "    if i in [1, 3]:\n",
    "        adder += 1\n",
    "        \n",
    "# Create a variable y such that the last expression in this cell prints True\n",
    "\n",
    "print(adder == y)"
   ]
  },
  {
   "cell_type": "code",
   "execution_count": null,
   "id": "a2aebbab",
   "metadata": {},
   "outputs": [],
   "source": [
    "adder = 0\n",
    "for i in range(10):\n",
    "    if i in [1, 3]:\n",
    "        adder += 1\n",
    "    elif i%2 == 0:\n",
    "        adder += 2\n",
    "    else:\n",
    "        adder += 0\n",
    "# Create a variable y such that the last expression in this cell prints True\n",
    "\n",
    "print(adder == y)"
   ]
  },
  {
   "cell_type": "code",
   "execution_count": null,
   "id": "6ab4f5ad",
   "metadata": {},
   "outputs": [],
   "source": [
    "adder = 0\n",
    "for i in range(10):\n",
    "    if i in [1, 3]:\n",
    "        adder += 1\n",
    "    else:\n",
    "        adder += 2\n",
    "        \n",
    "# Create a variable y such that the last expression in this cell prints True\n",
    "\n",
    "print(adder == y)"
   ]
  },
  {
   "cell_type": "code",
   "execution_count": null,
   "id": "baafb2f5",
   "metadata": {},
   "outputs": [],
   "source": [
    "adder = 0\n",
    "for i in range(10):\n",
    "    if i in [1, 3]:\n",
    "        adder += 1\n",
    "else:\n",
    "    adder += 2\n",
    "        \n",
    "# Create a variable y such that the last expression in this cell prints True\n",
    "\n",
    "print(adder == y)"
   ]
  },
  {
   "cell_type": "code",
   "execution_count": null,
   "id": "8598bbe7",
   "metadata": {},
   "outputs": [],
   "source": [
    "adder"
   ]
  },
  {
   "cell_type": "code",
   "execution_count": null,
   "id": "d2e6918a",
   "metadata": {},
   "outputs": [],
   "source": [
    "condition = True\n",
    "adder = 0\n",
    "\n",
    "while condition:\n",
    "    adder += 1\n",
    "    if adder == 3:\n",
    "        condition = False\n",
    "        \n",
    "# Create a variable y such that the last expression in this cell prints True\n",
    "\n",
    "print(adder == y)"
   ]
  },
  {
   "cell_type": "code",
   "execution_count": null,
   "id": "81c146fb",
   "metadata": {},
   "outputs": [],
   "source": [
    "condition = True\n",
    "adder = 0\n",
    "\n",
    "while condition:\n",
    "    adder += 1\n",
    "    if adder == 3:\n",
    "        condition = False\n",
    "else:\n",
    "    adder += 2\n",
    "        \n",
    "# Create a variable y such that the last expression in this cell prints True\n",
    "\n",
    "print(adder == y)"
   ]
  },
  {
   "cell_type": "code",
   "execution_count": null,
   "id": "bb3cccf2",
   "metadata": {},
   "outputs": [],
   "source": [
    "condition = True\n",
    "adder = 0\n",
    "\n",
    "while condition:\n",
    "    adder += 1\n",
    "    if adder == 3:\n",
    "        break\n",
    "else:\n",
    "    adder += 2\n",
    "        \n",
    "# Create a variable y such that the last expression in this cell prints True\n",
    "\n",
    "print(adder == y)"
   ]
  },
  {
   "cell_type": "code",
   "execution_count": null,
   "id": "6c5cb197",
   "metadata": {},
   "outputs": [],
   "source": [
    "condition = True\n",
    "adder = 0\n",
    "\n",
    "while condition:\n",
    "    adder += 1\n",
    "    if adder > 3 and adder <= 5:\n",
    "        continue\n",
    "    elif adder > 6:\n",
    "        condition = False\n",
    "    else:\n",
    "        adder += 2\n",
    "        \n",
    "# Create a variable y such that the last expression in this cell prints True\n",
    "\n",
    "print(adder == y)"
   ]
  },
  {
   "cell_type": "code",
   "execution_count": null,
   "id": "0038845c",
   "metadata": {},
   "outputs": [],
   "source": [
    "x = {'a': 1, 'b': 2}\n",
    "adder = 0\n",
    "for i in range(10):\n",
    "    if i in [1, 3]:\n",
    "        adder += x['a']\n",
    "else:\n",
    "    adder += x['b']\n",
    "        \n",
    "# Create a variable y such that the last expression in this cell prints True\n",
    "\n",
    "print(adder == y)"
   ]
  },
  {
   "cell_type": "code",
   "execution_count": null,
   "id": "e54f0196",
   "metadata": {},
   "outputs": [],
   "source": [
    "x = {'a': 1, 'b': 2}\n",
    "adder = 0\n",
    "for i in x.values():\n",
    "    adder += i\n",
    "        \n",
    "# Create a variable y such that the last expression in this cell prints True\n",
    "\n",
    "print(adder == y)"
   ]
  },
  {
   "cell_type": "code",
   "execution_count": null,
   "id": "5f6d7b43",
   "metadata": {},
   "outputs": [],
   "source": []
  }
 ],
 "metadata": {
  "kernelspec": {
   "display_name": "Python 3 (ipykernel)",
   "language": "python",
   "name": "python3"
  },
  "language_info": {
   "codemirror_mode": {
    "name": "ipython",
    "version": 3
   },
   "file_extension": ".py",
   "mimetype": "text/x-python",
   "name": "python",
   "nbconvert_exporter": "python",
   "pygments_lexer": "ipython3",
   "version": "3.8.9"
  }
 },
 "nbformat": 4,
 "nbformat_minor": 5
}
