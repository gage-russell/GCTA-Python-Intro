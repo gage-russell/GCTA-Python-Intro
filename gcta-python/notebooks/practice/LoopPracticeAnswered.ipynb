{
 "cells": [
  {
   "cell_type": "markdown",
   "id": "6e934063",
   "metadata": {},
   "source": [
    "# This is a review notebook\n",
    "***In order to do this review, you need to have covered:***\n",
    "* Simple Data Types (literals: int, str, float, bool)\n",
    "* The print() function\n",
    "* The input() function\n",
    "* The type() function\n",
    "* the isinstance() function\n",
    "* Arithmetic operators (+, -, /, //, *, \\**, %)\n",
    "* Comparison operators (==, !=, <, >, <=, >=)\n",
    "* Logical operators (and, or, not)\n",
    "* Special operators (is)\n",
    "* Membership operators (in)\n",
    "* The range() function\n",
    "* Lists\n",
    "* Dictionaries\n",
    "* For loops\n",
    "* List comprehension\n",
    "* Conditional expressions (if, elif, else)"
   ]
  },
  {
   "cell_type": "code",
   "execution_count": null,
   "id": "5d331527",
   "metadata": {},
   "outputs": [],
   "source": [
    "x = [i for i in range(1, 3)]\n",
    "# create a new variable y which causes the last expression in this cell to print True\n",
    "y = [1, 2]\n",
    "\n",
    "print(x == y)"
   ]
  },
  {
   "cell_type": "code",
   "execution_count": null,
   "id": "9e7230d8",
   "metadata": {},
   "outputs": [],
   "source": [
    "x = [{'day':i, 'weather':'sunny'} for i in range(1, 3)]\n",
    "# create a new variable y which causes the last expression in this cell to print True\n",
    "y = [{'day':1, 'weather':'sunny'}, {'day':2, 'weather':'sunny'}]\n",
    "\n",
    "print(x == y)"
   ]
  },
  {
   "cell_type": "code",
   "execution_count": null,
   "id": "f248a952",
   "metadata": {},
   "outputs": [],
   "source": [
    "x = []\n",
    "for i in range(3):\n",
    "    x.append(i)\n",
    "# create a new variable y using list comprehension \n",
    "# which causes the last expression in this cell to print True\n",
    "y = [i for i in range(3)]\n",
    "\n",
    "print(x == y)"
   ]
  },
  {
   "cell_type": "code",
   "execution_count": null,
   "id": "de8feefe",
   "metadata": {},
   "outputs": [],
   "source": [
    "x = []\n",
    "for i in range(1, 10, 2):\n",
    "    x.append(i)\n",
    "# create a new variable y using list comprehension \n",
    "# which causes the last expression in this cell to print True\n",
    "y = [i for i in range(1, 10, 2)]\n",
    "\n",
    "print(x == y)"
   ]
  },
  {
   "cell_type": "code",
   "execution_count": null,
   "id": "09d404b7",
   "metadata": {},
   "outputs": [],
   "source": [
    "x = [i for i in range(5)]\n",
    "# create a new variable y using a for loop and the append method\n",
    "# which causes the last expression in this cell to print True\n",
    "y = []\n",
    "for i in range(5):\n",
    "    y.append(i)\n",
    "\n",
    "print(x == y)"
   ]
  },
  {
   "cell_type": "code",
   "execution_count": null,
   "id": "a5a3b774",
   "metadata": {},
   "outputs": [],
   "source": [
    "# Use list comprehension and the range() function to create: [2, 3, 4] and print it\n",
    "x = [i for i in range(2,5)]\n",
    "print(x)"
   ]
  },
  {
   "cell_type": "code",
   "execution_count": null,
   "id": "d0db6633",
   "metadata": {},
   "outputs": [],
   "source": [
    "# Use list comprehension and the range() function to create: [1, 3, 5] and print it\n",
    "x = [i for i in range(1,6,2)]\n",
    "print(x)"
   ]
  },
  {
   "cell_type": "code",
   "execution_count": null,
   "id": "926307b3",
   "metadata": {},
   "outputs": [],
   "source": [
    "adder = 0\n",
    "for i in range(10):\n",
    "    if i in [1, 3]:\n",
    "        adder += 1\n",
    "        \n",
    "# Create a variable y such that the last expression in this cell prints True\n",
    "y = 2\n",
    "\n",
    "print(adder == y)"
   ]
  },
  {
   "cell_type": "code",
   "execution_count": null,
   "id": "565b3f7b",
   "metadata": {},
   "outputs": [],
   "source": [
    "adder = 0\n",
    "for i in range(10):\n",
    "    if i in [1, 3]:\n",
    "        adder += 1\n",
    "    elif i%2 == 0:\n",
    "        adder += 2\n",
    "    else:\n",
    "        adder += 0\n",
    "# Create a variable y such that the last expression in this cell prints True\n",
    "y = 12\n",
    "\n",
    "print(adder == y)"
   ]
  },
  {
   "cell_type": "code",
   "execution_count": null,
   "id": "5997fda0",
   "metadata": {},
   "outputs": [],
   "source": [
    "adder = 0\n",
    "for i in range(10):\n",
    "    if i in [1, 3]:\n",
    "        adder += 1\n",
    "    else:\n",
    "        adder += 2\n",
    "        \n",
    "# Create a variable y such that the last expression in this cell prints True\n",
    "y = 18\n",
    "\n",
    "print(adder == y)"
   ]
  },
  {
   "cell_type": "code",
   "execution_count": null,
   "id": "9c06653b",
   "metadata": {},
   "outputs": [],
   "source": [
    "adder = 0\n",
    "for i in range(10):\n",
    "    if i in [1, 3]:\n",
    "        adder += 1\n",
    "else:\n",
    "    adder += 2\n",
    "        \n",
    "# Create a variable y such that the last expression in this cell prints True\n",
    "y = 4\n",
    "\n",
    "print(adder == y)"
   ]
  },
  {
   "cell_type": "code",
   "execution_count": null,
   "id": "e8a22070",
   "metadata": {},
   "outputs": [],
   "source": [
    "adder"
   ]
  },
  {
   "cell_type": "code",
   "execution_count": null,
   "id": "65fb89b5",
   "metadata": {},
   "outputs": [],
   "source": [
    "condition = True\n",
    "adder = 0\n",
    "\n",
    "while condition:\n",
    "    adder += 1\n",
    "    if adder == 3:\n",
    "        condition = False\n",
    "        \n",
    "# Create a variable y such that the last expression in this cell prints True\n",
    "y = 3\n",
    "\n",
    "print(adder == y)"
   ]
  },
  {
   "cell_type": "code",
   "execution_count": null,
   "id": "104b6c82",
   "metadata": {},
   "outputs": [],
   "source": [
    "condition = True\n",
    "adder = 0\n",
    "\n",
    "while condition:\n",
    "    adder += 1\n",
    "    if adder == 3:\n",
    "        condition = False\n",
    "else:\n",
    "    adder += 2\n",
    "        \n",
    "# Create a variable y such that the last expression in this cell prints True\n",
    "y = 5\n",
    "\n",
    "print(adder == y)"
   ]
  },
  {
   "cell_type": "code",
   "execution_count": null,
   "id": "9558fc45",
   "metadata": {},
   "outputs": [],
   "source": [
    "condition = True\n",
    "adder = 0\n",
    "\n",
    "while condition:\n",
    "    adder += 1\n",
    "    if adder == 3:\n",
    "        break\n",
    "else:\n",
    "    adder += 2\n",
    "        \n",
    "# Create a variable y such that the last expression in this cell prints True\n",
    "y = 3\n",
    "\n",
    "print(adder == y)"
   ]
  },
  {
   "cell_type": "code",
   "execution_count": null,
   "id": "c2c58cb4",
   "metadata": {},
   "outputs": [],
   "source": [
    "condition = True\n",
    "adder = 0\n",
    "\n",
    "while condition:\n",
    "    adder += 1\n",
    "    if adder > 3 and adder <= 5:\n",
    "        continue\n",
    "    elif adder > 6:\n",
    "        condition = False\n",
    "    else:\n",
    "        adder += 2\n",
    "        \n",
    "# Create a variable y such that the last expression in this cell prints True\n",
    "y = 9\n",
    "\n",
    "print(adder == y)"
   ]
  },
  {
   "cell_type": "code",
   "execution_count": null,
   "id": "557eb896",
   "metadata": {},
   "outputs": [],
   "source": [
    "x = {'a': 1, 'b': 2}\n",
    "adder = 0\n",
    "for i in range(10):\n",
    "    if i in [1, 3]:\n",
    "        adder += x['a']\n",
    "else:\n",
    "    adder += x['b']\n",
    "        \n",
    "# Create a variable y such that the last expression in this cell prints True\n",
    "y = 4\n",
    "\n",
    "print(adder == y)"
   ]
  },
  {
   "cell_type": "code",
   "execution_count": null,
   "id": "6188e9d7",
   "metadata": {},
   "outputs": [],
   "source": [
    "x = {'a': 1, 'b': 2}\n",
    "adder = 0\n",
    "for i in x.values():\n",
    "    adder += i\n",
    "        \n",
    "# Create a variable y such that the last expression in this cell prints True\n",
    "y = 3\n",
    "\n",
    "print(adder == y)"
   ]
  },
  {
   "cell_type": "code",
   "execution_count": null,
   "id": "0e467909",
   "metadata": {},
   "outputs": [],
   "source": []
  }
 ],
 "metadata": {
  "kernelspec": {
   "display_name": "Python 3 (ipykernel)",
   "language": "python",
   "name": "python3"
  },
  "language_info": {
   "codemirror_mode": {
    "name": "ipython",
    "version": 3
   },
   "file_extension": ".py",
   "mimetype": "text/x-python",
   "name": "python",
   "nbconvert_exporter": "python",
   "pygments_lexer": "ipython3",
   "version": "3.8.9"
  }
 },
 "nbformat": 4,
 "nbformat_minor": 5
}
