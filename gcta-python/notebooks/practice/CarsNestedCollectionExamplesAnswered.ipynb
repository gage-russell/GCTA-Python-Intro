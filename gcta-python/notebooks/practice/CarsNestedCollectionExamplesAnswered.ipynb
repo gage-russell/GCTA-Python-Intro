{
 "cells": [
  {
   "cell_type": "code",
   "execution_count": 4,
   "id": "80c27325",
   "metadata": {},
   "outputs": [],
   "source": [
    "# This notebook contains some examples of nested collections.\n",
    "# dictionaries inside of dictionaries \n",
    "# dictionaries inside of lists"
   ]
  },
  {
   "cell_type": "code",
   "execution_count": 1,
   "id": "03910209",
   "metadata": {},
   "outputs": [],
   "source": [
    "# This variable, my_car, is a dictionary which contains another dictionary.\n",
    "# Use this variable to answer the next two questions.\n",
    "\n",
    "my_car = {\n",
    "    'year': 2017,\n",
    "    'color': 'white',\n",
    "    'make': {\n",
    "        'brand': 'ford',\n",
    "        'model': 'f150'\n",
    "    }\n",
    "}"
   ]
  },
  {
   "cell_type": "code",
   "execution_count": 2,
   "id": "af74c513",
   "metadata": {},
   "outputs": [
    {
     "data": {
      "text/plain": [
       "'white'"
      ]
     },
     "execution_count": 2,
     "metadata": {},
     "output_type": "execute_result"
    }
   ],
   "source": [
    "# Find the color of my_car\n",
    "my_car['color']"
   ]
  },
  {
   "cell_type": "code",
   "execution_count": 3,
   "id": "cfc7d895",
   "metadata": {},
   "outputs": [
    {
     "data": {
      "text/plain": [
       "'ford'"
      ]
     },
     "execution_count": 3,
     "metadata": {},
     "output_type": "execute_result"
    }
   ],
   "source": [
    "# Find the brand of my_car\n",
    "my_car['make']['brand']"
   ]
  },
  {
   "cell_type": "code",
   "execution_count": 5,
   "id": "9fef1e98",
   "metadata": {},
   "outputs": [],
   "source": [
    "# This variable, my_car, is a lists which contains dictionaries.\n",
    "# Use this variable to answer the next two questions.\n",
    "\n",
    "my_cars = [\n",
    "    {'year': 2015, 'color': 'white'},\n",
    "    {'year': 2016, 'color': 'red'},\n",
    "    {'year': 2009, 'color': 'black'}\n",
    "]"
   ]
  },
  {
   "cell_type": "code",
   "execution_count": 6,
   "id": "eb5f90e0",
   "metadata": {},
   "outputs": [
    {
     "data": {
      "text/plain": [
       "{'year': 2016, 'color': 'red'}"
      ]
     },
     "execution_count": 6,
     "metadata": {},
     "output_type": "execute_result"
    }
   ],
   "source": [
    "# Get the second car in the list\n",
    "my_cars[1]"
   ]
  },
  {
   "cell_type": "code",
   "execution_count": 7,
   "id": "8792a5a4",
   "metadata": {},
   "outputs": [
    {
     "data": {
      "text/plain": [
       "{'year': 2009, 'color': 'black'}"
      ]
     },
     "execution_count": 7,
     "metadata": {},
     "output_type": "execute_result"
    }
   ],
   "source": [
    "# Get the last car in the list\n",
    "my_cars[-1]"
   ]
  },
  {
   "cell_type": "code",
   "execution_count": 8,
   "id": "5b4bb1f4",
   "metadata": {},
   "outputs": [
    {
     "data": {
      "text/plain": [
       "2015"
      ]
     },
     "execution_count": 8,
     "metadata": {},
     "output_type": "execute_result"
    }
   ],
   "source": [
    "# Get the year of the first car\n",
    "my_cars[0]['year']"
   ]
  },
  {
   "cell_type": "code",
   "execution_count": 9,
   "id": "643cba4a",
   "metadata": {},
   "outputs": [
    {
     "data": {
      "text/plain": [
       "'black'"
      ]
     },
     "execution_count": 9,
     "metadata": {},
     "output_type": "execute_result"
    }
   ],
   "source": [
    "# Get the color of the last car\n",
    "my_cars[-1]['color']"
   ]
  },
  {
   "cell_type": "code",
   "execution_count": 11,
   "id": "746f4c4a",
   "metadata": {},
   "outputs": [
    {
     "name": "stdout",
     "output_type": "stream",
     "text": [
      "[2015, 2016, 2009]\n",
      "[2015, 2016, 2009]\n"
     ]
    }
   ],
   "source": [
    "# Get a list of the years for each car\n",
    "my_years = [car['year'] for car in my_cars]\n",
    "print(my_years)\n",
    "\n",
    "# OR\n",
    "\n",
    "my_years_2 = []\n",
    "for car in my_cars:\n",
    "    my_years_2.append(car['year'])\n",
    "print(my_years_2)"
   ]
  },
  {
   "cell_type": "code",
   "execution_count": 12,
   "id": "27d5a60b",
   "metadata": {},
   "outputs": [
    {
     "name": "stdout",
     "output_type": "stream",
     "text": [
      "[{'year': 2015, 'color': 'white'}, {'year': 2016, 'color': 'red'}]\n"
     ]
    }
   ],
   "source": [
    "# Get a list of all the cars which are newer than 2010\n",
    "new_cars = []\n",
    "for car in my_cars:\n",
    "    if car['year'] > 2010:\n",
    "        new_cars.append(car)\n",
    "        \n",
    "print(new_cars)"
   ]
  },
  {
   "cell_type": "code",
   "execution_count": null,
   "id": "612f1bf9",
   "metadata": {},
   "outputs": [],
   "source": []
  }
 ],
 "metadata": {
  "kernelspec": {
   "display_name": "Python 3 (ipykernel)",
   "language": "python",
   "name": "python3"
  },
  "language_info": {
   "codemirror_mode": {
    "name": "ipython",
    "version": 3
   },
   "file_extension": ".py",
   "mimetype": "text/x-python",
   "name": "python",
   "nbconvert_exporter": "python",
   "pygments_lexer": "ipython3",
   "version": "3.8.9"
  }
 },
 "nbformat": 4,
 "nbformat_minor": 5
}
