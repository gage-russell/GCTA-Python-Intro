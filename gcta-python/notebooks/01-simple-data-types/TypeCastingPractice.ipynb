{
 "cells": [
  {
   "cell_type": "code",
   "execution_count": null,
   "id": "306b0483",
   "metadata": {},
   "outputs": [],
   "source": [
    "# We can cast from one data type to another by using the\n",
    "# simple data type classes:\n",
    "# * str()\n",
    "# * int()\n",
    "# * float()\n",
    "# * bool()\n",
    "\n",
    "# notice above that I am calling the data types as if they were functions"
   ]
  },
  {
   "cell_type": "code",
   "execution_count": null,
   "id": "2c854c8c",
   "metadata": {},
   "outputs": [],
   "source": [
    "# for instance, if I have a string, \"2\", and I want to cast\n",
    "# it to an integer, I would use:\n",
    "\n",
    "int(\"2\")"
   ]
  },
  {
   "cell_type": "code",
   "execution_count": null,
   "id": "ae92e6c0",
   "metadata": {},
   "outputs": [],
   "source": [
    "# cast the variable x to a float\n",
    "\n",
    "x = 2\n",
    "\n"
   ]
  },
  {
   "cell_type": "code",
   "execution_count": null,
   "id": "05fdbf9a",
   "metadata": {},
   "outputs": [],
   "source": [
    "# cast the variable x to a string\n",
    "\n",
    "x = 2.0\n",
    "\n"
   ]
  },
  {
   "cell_type": "code",
   "execution_count": null,
   "id": "d84ee76b",
   "metadata": {},
   "outputs": [],
   "source": [
    "# cast the variable x to an int\n",
    "\n",
    "x = 2.0\n",
    "\n"
   ]
  },
  {
   "cell_type": "code",
   "execution_count": null,
   "id": "ee662acd",
   "metadata": {},
   "outputs": [],
   "source": [
    "# cast the variable x to a string\n",
    "\n",
    "x = 2\n",
    "\n"
   ]
  },
  {
   "cell_type": "code",
   "execution_count": null,
   "id": "d601caf3",
   "metadata": {},
   "outputs": [],
   "source": [
    "# cast the variable x to a bool\n",
    "\n",
    "x = 1\n",
    "\n"
   ]
  },
  {
   "cell_type": "code",
   "execution_count": null,
   "id": "dafae0fe",
   "metadata": {},
   "outputs": [],
   "source": [
    "# cast the variable x to an int\n",
    "\n",
    "x = True\n",
    "\n"
   ]
  },
  {
   "cell_type": "code",
   "execution_count": null,
   "id": "219e53cf",
   "metadata": {},
   "outputs": [],
   "source": [
    "# cast the variable x to a bool\n",
    "\n",
    "x = 2\n",
    "\n"
   ]
  },
  {
   "cell_type": "code",
   "execution_count": null,
   "id": "c471a9f4",
   "metadata": {},
   "outputs": [],
   "source": [
    "# cast the variable x to a bool\n",
    "\n",
    "x = 0\n",
    "\n"
   ]
  },
  {
   "cell_type": "code",
   "execution_count": null,
   "id": "79fd9e7d",
   "metadata": {},
   "outputs": [],
   "source": [
    "# cast the variable x to a bool\n",
    "\n",
    "x = -1\n",
    "\n"
   ]
  },
  {
   "cell_type": "code",
   "execution_count": null,
   "id": "1f60c6ed",
   "metadata": {},
   "outputs": [],
   "source": [
    "# cast the variable x to a bool\n",
    "\n",
    "x = 2.0\n",
    "\n"
   ]
  },
  {
   "cell_type": "code",
   "execution_count": null,
   "id": "a4a768ad",
   "metadata": {},
   "outputs": [],
   "source": [
    "# cast the variable x to a bool\n",
    "\n",
    "x = 'a'\n",
    "\n"
   ]
  },
  {
   "cell_type": "code",
   "execution_count": null,
   "id": "7b9ecbc7",
   "metadata": {},
   "outputs": [],
   "source": [
    "# remember the input() function always returns a string\n",
    "# fix the code below such that this code cell does not result in an error\n",
    "\n",
    "x = input('enter a number: ')\n",
    "\n",
    "print(x+2)"
   ]
  },
  {
   "cell_type": "code",
   "execution_count": null,
   "id": "1cbe48f2",
   "metadata": {},
   "outputs": [],
   "source": []
  }
 ],
 "metadata": {
  "kernelspec": {
   "display_name": "Python 3 (ipykernel)",
   "language": "python",
   "name": "python3"
  },
  "language_info": {
   "codemirror_mode": {
    "name": "ipython",
    "version": 3
   },
   "file_extension": ".py",
   "mimetype": "text/x-python",
   "name": "python",
   "nbconvert_exporter": "python",
   "pygments_lexer": "ipython3",
   "version": "3.8.9"
  }
 },
 "nbformat": 4,
 "nbformat_minor": 5
}
