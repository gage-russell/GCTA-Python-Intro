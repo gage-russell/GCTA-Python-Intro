{
 "cells": [
  {
   "cell_type": "markdown",
   "metadata": {},
   "source": [
    "commit comment: major refactors; removed sci notation & complex numbers; added None type.<br>\n",
    "todo: examples/checking type (fns not learned yet)\n",
    "\n",
    "<span style=\"font-size: 16px; font-family: Geneva, Tahoma, Verdana, sans-serif;\">\n",
    "\n",
    "<h1>Basic Jupyter Notebook Usage:</h1>\n",
    "<ul style=\"list-style: square;\">\n",
    "<li>Each block of code or text will be referred to as a cell</li>\n",
    "<li>To run a cell: (1) press <kbd>Shift+Enter</kbd> or (2) click the [▶ Run] button above</li>\n",
    "<li>To add a cell: Using the buttons above: insert -> insert cell above/below</li>\n",
    "</ul>\n",
    "</span>"
   ]
  },
  {
   "cell_type": "markdown",
   "metadata": {
    "id": "Kj5AAf1twTjU"
   },
   "source": [
    "<span style=\"font-size: 16px; font-family: Geneva, Tahoma, Verdana, sans-serif; list-style: square;\">\n",
    "\n",
    "<h1>Lab 1.0 (ver 2)</h1>\n",
    "\n",
    "<br>\n",
    "Basic built-in data types:\n",
    "<ul style=\"list-style: square;\">\n",
    "    <li>string</li>\n",
    "    <li>integer</li>\n",
    "    <li>float</li>\n",
    "    <li>boolean</li>\n",
    "    <li>none</li>\n",
    "</ul></span>"
   ]
  },
  {
   "cell_type": "markdown",
   "metadata": {},
   "source": [
    "<span style=\"font-size: 16px; font-family: Geneva, Tahoma, Verdana, sans-serif;\">\n",
    "\n",
    "<h1>Definitions</h1>\n",
    "\n",
    "<b>Literals</b> are fixed source code values (constant values of built-in types).<br>\n",
    "    \n",
    "Text Type: string (```str```)\n",
    "    \n",
    "* <b>strings</b> represent text data and are text enclosed in quotations (eg ```\"data\"```)\n",
    "\n",
    "Numeric Types: integer (```int```); float (```float```)<br>\n",
    "\n",
    "* <b>integers</b> represent integral numerical data (whole numbers, eg ```0, 4, 1, -4```)<br>\n",
    "    \n",
    "* <b>floats</b> (floating-point numbers) represent fractional numerical data (decimal numbers, eg ```0.0, 4.0, 4.1, -3.2```)\n",
    "\n",
    "Boolean Type (```bool```):\n",
    "\n",
    "* <b>boolean</b> values represent a boolean logic values of either ```True``` or ```False```.\n",
    "\n",
    "None Type (```NoneType```):\n",
    "\n",
    "* the <b>none type</b> generally represents the absense of value and is always ```None```.\n",
    "    \n",
    "    \n",
    "</span>"
   ]
  },
  {
   "cell_type": "markdown",
   "metadata": {},
   "source": [
    "<h3>Examples</h3>"
   ]
  },
  {
   "cell_type": "code",
   "execution_count": null,
   "metadata": {
    "id": "kkQezZ2bwWHM"
   },
   "outputs": [],
   "source": [
    "x = 5\n",
    "print(type(x))"
   ]
  },
  {
   "cell_type": "code",
   "execution_count": null,
   "metadata": {},
   "outputs": [],
   "source": [
    "x = 5.5\n",
    "print(type(x))"
   ]
  },
  {
   "cell_type": "code",
   "execution_count": null,
   "metadata": {},
   "outputs": [],
   "source": [
    "x = '5'\n",
    "print(type(x))"
   ]
  },
  {
   "cell_type": "code",
   "execution_count": null,
   "metadata": {},
   "outputs": [],
   "source": [
    "x = True\n",
    "print(type(x))"
   ]
  },
  {
   "cell_type": "markdown",
   "metadata": {},
   "source": [
    "<h3>Checking Type</h3>"
   ]
  },
  {
   "cell_type": "code",
   "execution_count": null,
   "metadata": {},
   "outputs": [],
   "source": [
    "x = 5\n",
    "isinstance(x, int)"
   ]
  },
  {
   "cell_type": "code",
   "execution_count": null,
   "metadata": {},
   "outputs": [],
   "source": [
    "x = 5.5\n",
    "isinstance(x, float)"
   ]
  },
  {
   "cell_type": "code",
   "execution_count": null,
   "metadata": {},
   "outputs": [],
   "source": [
    "x = '5'\n",
    "isinstance(x, str)"
   ]
  },
  {
   "cell_type": "code",
   "execution_count": null,
   "metadata": {},
   "outputs": [],
   "source": [
    "x = True\n",
    "isinstance(x, bool)"
   ]
  }
 ],
 "metadata": {
  "colab": {
   "collapsed_sections": [],
   "name": "PC-2.2.ipynb",
   "provenance": []
  },
  "kernelspec": {
   "display_name": "Python 3 (ipykernel)",
   "language": "python",
   "name": "python3"
  },
  "language_info": {
   "codemirror_mode": {
    "name": "ipython",
    "version": 3
   },
   "file_extension": ".py",
   "mimetype": "text/x-python",
   "name": "python",
   "nbconvert_exporter": "python",
   "pygments_lexer": "ipython3",
   "version": "3.10.2"
  }
 },
 "nbformat": 4,
 "nbformat_minor": 1
}
