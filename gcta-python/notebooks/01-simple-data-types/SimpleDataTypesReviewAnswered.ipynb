{
 "cells": [
  {
   "cell_type": "code",
   "execution_count": 1,
   "id": "5ef65313",
   "metadata": {},
   "outputs": [],
   "source": [
    "# In a comment below, answer 'What is the Python keyword for the \"floating point number\" data type'\n",
    "# float"
   ]
  },
  {
   "cell_type": "code",
   "execution_count": 2,
   "id": "462adb20",
   "metadata": {},
   "outputs": [],
   "source": [
    "# In a comment below, answer 'What is the Python keyword for the \"integer\" data type'\n",
    "# int"
   ]
  },
  {
   "cell_type": "code",
   "execution_count": 3,
   "id": "b7abdf8c",
   "metadata": {},
   "outputs": [],
   "source": [
    "# In a comment below, answer 'What is the Python keyword for the \"string\" data type'\n",
    "# str"
   ]
  },
  {
   "cell_type": "code",
   "execution_count": 4,
   "id": "aa024f29",
   "metadata": {},
   "outputs": [],
   "source": [
    "# In a comment below, answer 'What is the Python keyword for the \"boolean\" data type'\n",
    "# bool"
   ]
  },
  {
   "cell_type": "code",
   "execution_count": 5,
   "id": "240b55a0",
   "metadata": {},
   "outputs": [],
   "source": [
    "# In a comment below, answer 'what differentiates' a float and an int\n",
    "# decimal"
   ]
  },
  {
   "cell_type": "code",
   "execution_count": 6,
   "id": "97f8233c",
   "metadata": {},
   "outputs": [],
   "source": [
    "# In a comment below, answer 'how do you create a string in python'\n",
    "# enclose a sequence of characters within a pair of single or double quotes"
   ]
  },
  {
   "cell_type": "code",
   "execution_count": 7,
   "id": "6d845904",
   "metadata": {},
   "outputs": [],
   "source": [
    "# In a comment below, answer (in valid python syntax) 'What values can a bool be'\n",
    "# True False"
   ]
  },
  {
   "cell_type": "code",
   "execution_count": 9,
   "id": "9576aebd",
   "metadata": {},
   "outputs": [],
   "source": [
    "# fill in the value of x such that this expression returns True\n",
    "x = 2\n",
    "y = 1\n",
    "expression = x > y\n",
    "print(expression)"
   ]
  },
  {
   "cell_type": "code",
   "execution_count": 10,
   "id": "d477ebbb",
   "metadata": {},
   "outputs": [
    {
     "name": "stdout",
     "output_type": "stream",
     "text": [
      "True\n",
      "<class 'bool'>\n"
     ]
    }
   ],
   "source": [
    "# fill in the value of x such that this expression returns True\n",
    "# print the data type of expression\n",
    "x = 2\n",
    "y = 1\n",
    "expression = x > y\n",
    "print(expression)\n",
    "\n",
    "print(type(expression))"
   ]
  },
  {
   "cell_type": "code",
   "execution_count": 11,
   "id": "25a5a21b",
   "metadata": {},
   "outputs": [
    {
     "name": "stdout",
     "output_type": "stream",
     "text": [
      "<class 'float'>\n"
     ]
    }
   ],
   "source": [
    "# In a comment below, answer 'what is the datatype of 4.5'\n",
    "# prove it using the type function\n",
    "# float\n",
    "\n",
    "print(type(4.5))"
   ]
  },
  {
   "cell_type": "code",
   "execution_count": 12,
   "id": "4001722b",
   "metadata": {},
   "outputs": [
    {
     "name": "stdout",
     "output_type": "stream",
     "text": [
      "<class 'int'>\n"
     ]
    }
   ],
   "source": [
    "# In a comment below, answer 'what is the datatype of 4'\n",
    "# prove it using the type function\n",
    "# int\n",
    "\n",
    "print(type(4))"
   ]
  },
  {
   "cell_type": "code",
   "execution_count": 13,
   "id": "a3c8a369",
   "metadata": {},
   "outputs": [
    {
     "name": "stdout",
     "output_type": "stream",
     "text": [
      "<class 'str'>\n"
     ]
    }
   ],
   "source": [
    "# In a comment below, answer 'what is the datatype of \"hello world\"'\n",
    "# prove it using the type function\n",
    "# str\n",
    "\n",
    "print(type(\"hellow world\"))"
   ]
  },
  {
   "cell_type": "code",
   "execution_count": 14,
   "id": "65983603",
   "metadata": {},
   "outputs": [
    {
     "name": "stdout",
     "output_type": "stream",
     "text": [
      "<class 'bool'>\n"
     ]
    }
   ],
   "source": [
    "# In a comment below, answer 'what is the datatype of True'\n",
    "# prove it using the type function\n",
    "# bool\n",
    "\n",
    "print(type(True))"
   ]
  },
  {
   "cell_type": "code",
   "execution_count": 15,
   "id": "39431ec2",
   "metadata": {},
   "outputs": [
    {
     "name": "stdout",
     "output_type": "stream",
     "text": [
      "True\n"
     ]
    }
   ],
   "source": [
    "# In a comment below, answer 'what is the datatype of 4.5'\n",
    "# prove it using the isinstance function\n",
    "# float\n",
    "\n",
    "print(isinstance(4.5, float))"
   ]
  },
  {
   "cell_type": "code",
   "execution_count": 16,
   "id": "f111a7eb",
   "metadata": {},
   "outputs": [
    {
     "name": "stdout",
     "output_type": "stream",
     "text": [
      "True\n"
     ]
    }
   ],
   "source": [
    "# In a comment below, answer 'what is the datatype of 4'\n",
    "# prove it using the isinstance function\n",
    "# int\n",
    "\n",
    "print(isinstance(4, int))"
   ]
  },
  {
   "cell_type": "code",
   "execution_count": 17,
   "id": "c0e7f5bb",
   "metadata": {},
   "outputs": [
    {
     "name": "stdout",
     "output_type": "stream",
     "text": [
      "True\n"
     ]
    }
   ],
   "source": [
    "# In a comment below, answer 'what is the datatype of \"hello world\"'\n",
    "# prove it using the isinstance function\n",
    "# str\n",
    "\n",
    "print(isinstance(\"hello world\", str))"
   ]
  },
  {
   "cell_type": "code",
   "execution_count": 18,
   "id": "42d1b0cf",
   "metadata": {},
   "outputs": [
    {
     "name": "stdout",
     "output_type": "stream",
     "text": [
      "False\n"
     ]
    }
   ],
   "source": [
    "# In a comment below, answer 'what is the datatype of True'\n",
    "# prove it using the isinstance function\n",
    "# bool\n",
    "\n",
    "print(isinstance(4, bool))"
   ]
  },
  {
   "cell_type": "code",
   "execution_count": 20,
   "id": "8cd892b1",
   "metadata": {},
   "outputs": [
    {
     "name": "stdout",
     "output_type": "stream",
     "text": [
      "<class 'int'>\n"
     ]
    }
   ],
   "source": [
    "# In a comment below, answer 'can integers be negative'\n",
    "# prove it using the type function\n",
    "# yes\n",
    "\n",
    "print(type(-1))"
   ]
  },
  {
   "cell_type": "code",
   "execution_count": 21,
   "id": "b9d29ec3",
   "metadata": {},
   "outputs": [
    {
     "name": "stdout",
     "output_type": "stream",
     "text": [
      "True\n"
     ]
    }
   ],
   "source": [
    "# In a comment below, answer 'can integers be negative'\n",
    "# prove it using the isinstance function\n",
    "# yes\n",
    "\n",
    "print(isinstance(-1, int))"
   ]
  },
  {
   "cell_type": "code",
   "execution_count": null,
   "id": "fd2c9062",
   "metadata": {},
   "outputs": [],
   "source": []
  }
 ],
 "metadata": {
  "kernelspec": {
   "display_name": "Python 3",
   "language": "python",
   "name": "python3"
  },
  "language_info": {
   "codemirror_mode": {
    "name": "ipython",
    "version": 3
   },
   "file_extension": ".py",
   "mimetype": "text/x-python",
   "name": "python",
   "nbconvert_exporter": "python",
   "pygments_lexer": "ipython3",
   "version": "3.8.2"
  }
 },
 "nbformat": 4,
 "nbformat_minor": 5
}
