{
 "cells": [
  {
   "cell_type": "code",
   "execution_count": 1,
   "id": "1eb14ba1",
   "metadata": {},
   "outputs": [
    {
     "data": {
      "text/html": [
       "<style>.container { width:1080px !important; }</style>"
      ],
      "text/plain": [
       "<IPython.core.display.HTML object>"
      ]
     },
     "metadata": {},
     "output_type": "display_data"
    }
   ],
   "source": [
    "# ignore this cell\n",
    "\n",
    "from IPython.display import display, HTML\n",
    "display(HTML(\"<style>.container { width:1080px !important; }</style>\"))\n",
    "# repr() manual copy of manual construction; obfuscated\n",
    "manual_letters = '.\\n.......\\n.......\\n.......\\n.......\\n.......\\n.......\\n.......\\n\\nXXXXXXX\\n...X...\\n...X...\\n...X...\\n...X...\\n...X...\\nXXXXXXX\\n\\n.XX.XX.\\nX..X..X\\nX.....X\\nX.....X\\n.X...X.\\n..X.X..\\n...X...\\n\\nXXXXXX.\\nX.....X\\nX.....X\\nXXXXXX.\\nX......\\nX......\\nX......\\n\\nX.....X\\nX.....X\\nX.....X\\n..XXX..\\n...X...\\n...X...\\n...X...\\n\\nXXXXXXX\\n...X...\\n...X...\\n...X...\\n...X...\\n...X...\\n...X...\\n\\nX.....X\\nX.....X\\nX.....X\\nXXXXXXX\\nX.....X\\nX.....X\\nX.....X\\n\\nXXXXXXX\\nX.....X\\nX.....X\\nX.....X\\nX.....X\\nX.....X\\nXXXXXXX\\n\\nXX....X\\nX.X...X\\nX..X..X\\nX..X..X\\nX...X.X\\nX...X.X\\nX....XX\\n'"
   ]
  },
  {
   "cell_type": "code",
   "execution_count": 2,
   "id": "adc54854",
   "metadata": {},
   "outputs": [
    {
     "name": "stdout",
     "output_type": "stream",
     "text": [
      "9\b16 8 526 48 120 22\r",
      "\b\b20\b\b1\t\b016 8 526 48 120 221516 8 526 48 120 2222\n"
     ]
    }
   ],
   "source": [
    "#\n",
    "# Problem 0.1: Decoding Part 1 of 2\n",
    "# - you can find a hint in the cell below this cell\n",
    "#\n",
    "#################################################################\n",
    "###   Changing ONLY the seperator argument (sep=), decrypt    ###\n",
    "###       the date of the super secret GCTA pizza party       ###\n",
    "###                                                           ###\n",
    "###    date format hints: mm/dd/yy or mm-dd-yy or mm dd yy    ###\n",
    "#################################################################\n",
    "\n",
    "print('9\\b', '\\r\\b\\b20\\b\\b1\\t\\b0', '\\061\\x35', '22', sep='16 8 526 48 120 22')"
   ]
  },
  {
   "cell_type": "code",
   "execution_count": null,
   "id": "ec1e981f",
   "metadata": {},
   "outputs": [],
   "source": [
    "# Uncomment the following line and run this cell for a hint to Problem 0.1\n",
    "\n",
    "# %load ./../hints/hints1.txt"
   ]
  },
  {
   "cell_type": "code",
   "execution_count": 4,
   "id": "83fdb13a",
   "metadata": {
    "scrolled": true
   },
   "outputs": [
    {
     "name": "stdout",
     "output_type": "stream",
     "text": [
      "   XXXXXXX              XX XX              XXXXXX    X     X   XXXXXXX   X     X   XXXXXXX   XX    X   ?      X                X  X  X             X     X   X     X      X      X     X   X     X   X X   X   ?      X                X     X             X     X   X     X      X      X     X   X     X   X  X  X   ?      X                X     X             XXXXXX      XXX        X      XXXXXXX   X     X   X  X  X   ?      X                 X   X              X            X         X      X     X   X     X   X   X X   ?      X                  X X               X            X         X      X     X   X     X   X   X X   ?   XXXXXXX                X                X            X         X      X     X   XXXXXXX   X    XX   ?"
     ]
    }
   ],
   "source": [
    "#\n",
    "# Problem 0.2: Decoding Part 2 of 2\n",
    "# - you can find a hint in the cell below this cell\n",
    "#\n",
    "######################################\n",
    "###   FIND AND FIX THE LINE BELOW  ###\n",
    "######################################\n",
    "\n",
    "default_fill_space = '.'  # references above\n",
    "keys = '_i?python'\n",
    "\n",
    "letter_split = [i.lstrip('\\n').rstrip('\\n') for i in manual_letters[1:].split('\\n\\n')]\n",
    "matrices = [[list(each_char) for each_char in each_line.split('\\n')] for each_line in letter_split]\n",
    "matrix_char_dict = {list(keys)[i]: v for i, v in enumerate(matrices)}\n",
    "\n",
    "# Configuration\n",
    "spell_me = 'i_?_python'\n",
    "char_list = matrix_char_dict.keys()\n",
    "line_to_print = ''\n",
    "number_of_spaces = 3\n",
    "match_fill_char = manual_letters[0]\n",
    "new_fill_char = ' '\n",
    "\n",
    "for i in range(len(list(matrix_char_dict.values())[0])):\n",
    "    for each_letter in list(spell_me):\n",
    "        line_to_print += match_fill_char * number_of_spaces\n",
    "        line_to_print += ''.join(matrix_char_dict[each_letter][i])\n",
    "    line_to_print += match_fill_char * number_of_spaces\n",
    "    line_to_print = line_to_print.replace(match_fill_char, new_fill_char)\n",
    "    # ignore above\n",
    "\n",
    "    \n",
    "    ########################################\n",
    "    ###        FIX THE LINE BELOW        ###\n",
    "    ########################################\n",
    "    print(line_to_print, end='?')\n",
    "\n",
    "\n",
    "    # ignore below\n",
    "    line_to_print = ''\n"
   ]
  },
  {
   "cell_type": "code",
   "execution_count": 5,
   "id": "902457ac",
   "metadata": {},
   "outputs": [],
   "source": [
    "# Uncomment the following line and run this cell for a hint to Problem 0.2\n",
    "\n",
    "# %load ./../hints/hints2.txt"
   ]
  }
 ],
 "metadata": {
  "kernelspec": {
   "display_name": "Python 3 (ipykernel)",
   "language": "python",
   "name": "python3"
  },
  "language_info": {
   "codemirror_mode": {
    "name": "ipython",
    "version": 3
   },
   "file_extension": ".py",
   "mimetype": "text/x-python",
   "name": "python",
   "nbconvert_exporter": "python",
   "pygments_lexer": "ipython3",
   "version": "3.10.2"
  }
 },
 "nbformat": 4,
 "nbformat_minor": 5
}
