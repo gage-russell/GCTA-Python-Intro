{
 "cells": [
  {
   "cell_type": "markdown",
   "id": "99622317",
   "metadata": {},
   "source": [
    "The print() command, which is one of the easiest directives in Python, simply prints out a line to the screen.\n",
    "\n",
    "\n",
    "* use the print() function to print the line Hello, Python! to the screen. Use double quotes around the string;\n",
    "* having done that, use the print() function again, but this time print your first name;\n",
    "* remove the double quotes and run your code. Watch Python's reaction. What kind of error is thrown?\n",
    "* then, remove the parentheses, put back the double quotes, and run your code again. What kind of error is thrown this time?\n",
    "* experiment as much as you can. Change double quotes to single quotes, use multiple print() functions on the same line, and then on different lines. See what happens."
   ]
  },
  {
   "cell_type": "code",
   "execution_count": null,
   "id": "80c53e7c",
   "metadata": {},
   "outputs": [],
   "source": []
  }
 ],
 "metadata": {
  "kernelspec": {
   "display_name": "Python 3 (ipykernel)",
   "language": "python",
   "name": "python3"
  },
  "language_info": {
   "codemirror_mode": {
    "name": "ipython",
    "version": 3
   },
   "file_extension": ".py",
   "mimetype": "text/x-python",
   "name": "python",
   "nbconvert_exporter": "python",
   "pygments_lexer": "ipython3",
   "version": "3.8.9"
  }
 },
 "nbformat": 4,
 "nbformat_minor": 5
}
