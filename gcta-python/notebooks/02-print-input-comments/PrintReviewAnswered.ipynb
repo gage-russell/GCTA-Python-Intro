{
 "cells": [
  {
   "cell_type": "code",
   "execution_count": 2,
   "id": "c574350d",
   "metadata": {},
   "outputs": [],
   "source": [
    "# In a comment below, answer \"what python type is print\"\n",
    "# builtin_function_or_method"
   ]
  },
  {
   "cell_type": "code",
   "execution_count": 3,
   "id": "fb8c4769",
   "metadata": {},
   "outputs": [
    {
     "data": {
      "text/plain": [
       "builtin_function_or_method"
      ]
     },
     "execution_count": 3,
     "metadata": {},
     "output_type": "execute_result"
    }
   ],
   "source": [
    "# use the type function to return what python type \"print\" is\n",
    "type(print)"
   ]
  },
  {
   "cell_type": "code",
   "execution_count": 4,
   "id": "79363246",
   "metadata": {},
   "outputs": [],
   "source": [
    "# In a comment below, answer \"what parameters does the print function take in\"\n",
    "# object(s), sep, end, file, flush"
   ]
  },
  {
   "cell_type": "code",
   "execution_count": 5,
   "id": "3b645961",
   "metadata": {},
   "outputs": [
    {
     "name": "stdout",
     "output_type": "stream",
     "text": [
      "Help on built-in function print in module builtins:\n",
      "\n",
      "print(...)\n",
      "    print(value, ..., sep=' ', end='\\n', file=sys.stdout, flush=False)\n",
      "    \n",
      "    Prints the values to a stream, or to sys.stdout by default.\n",
      "    Optional keyword arguments:\n",
      "    file:  a file-like object (stream); defaults to the current sys.stdout.\n",
      "    sep:   string inserted between values, default a space.\n",
      "    end:   string appended after the last value, default a newline.\n",
      "    flush: whether to forcibly flush the stream.\n",
      "\n"
     ]
    }
   ],
   "source": [
    "# user the help function to return what parameters the print function takes in\n",
    "help(print)"
   ]
  },
  {
   "cell_type": "code",
   "execution_count": 6,
   "id": "f2c812c0",
   "metadata": {},
   "outputs": [],
   "source": [
    "# In a comment below, answer \"what is the default value for the sep parameter of print\"\n",
    "# ' '"
   ]
  },
  {
   "cell_type": "code",
   "execution_count": 8,
   "id": "65a58a4b",
   "metadata": {},
   "outputs": [
    {
     "name": "stdout",
     "output_type": "stream",
     "text": [
      "1 2\n"
     ]
    }
   ],
   "source": [
    "# Given two variables:\n",
    "x = 1\n",
    "y = 2\n",
    "# print them \n",
    "print(x,y)"
   ]
  },
  {
   "cell_type": "code",
   "execution_count": 9,
   "id": "03a68107",
   "metadata": {},
   "outputs": [
    {
     "name": "stdout",
     "output_type": "stream",
     "text": [
      "1+2\n"
     ]
    }
   ],
   "source": [
    "# Given two variables:\n",
    "x = 1\n",
    "y = 2\n",
    "# print them separated by '+'\n",
    "print(x,y,sep='+')"
   ]
  },
  {
   "cell_type": "code",
   "execution_count": 10,
   "id": "ffc39fc4",
   "metadata": {},
   "outputs": [
    {
     "name": "stdout",
     "output_type": "stream",
     "text": [
      "1+2=3"
     ]
    }
   ],
   "source": [
    "# Given two variables:\n",
    "x=1\n",
    "y=2\n",
    "# print them separated by '+' and ending with '=3'\n",
    "print(x,y,sep='+',end='=3')"
   ]
  },
  {
   "cell_type": "code",
   "execution_count": 14,
   "id": "8867555a",
   "metadata": {},
   "outputs": [
    {
     "name": "stdout",
     "output_type": "stream",
     "text": [
      "1+2=3\n"
     ]
    }
   ],
   "source": [
    "# Given two variables:\n",
    "x=1\n",
    "y=2\n",
    "# form a string of the format \"x+y=z\" where x and y are the variables defined above and x is the sum and print it\n",
    "answer = f\"{x}+{y}={x+y}\"\n",
    "print(answer)"
   ]
  },
  {
   "cell_type": "code",
   "execution_count": 15,
   "id": "fffdad77",
   "metadata": {},
   "outputs": [
    {
     "name": "stdout",
     "output_type": "stream",
     "text": [
      "5+5=10\n"
     ]
    }
   ],
   "source": [
    "# write a function that takes in two variables, sums them, and returns the formatted string \"x+y=z\"\n",
    "def my_function(x,y):\n",
    "    answer = f\"{x}+{y}={x+y}\"\n",
    "    return answer\n",
    "\n",
    "answer = my_function(5,5)\n",
    "print(answer)"
   ]
  },
  {
   "cell_type": "code",
   "execution_count": null,
   "id": "631bb904",
   "metadata": {},
   "outputs": [],
   "source": []
  }
 ],
 "metadata": {
  "kernelspec": {
   "display_name": "Python 3",
   "language": "python",
   "name": "python3"
  },
  "language_info": {
   "codemirror_mode": {
    "name": "ipython",
    "version": 3
   },
   "file_extension": ".py",
   "mimetype": "text/x-python",
   "name": "python",
   "nbconvert_exporter": "python",
   "pygments_lexer": "ipython3",
   "version": "3.8.2"
  }
 },
 "nbformat": 4,
 "nbformat_minor": 5
}
