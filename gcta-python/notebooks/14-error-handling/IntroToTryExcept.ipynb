{
 "cells": [
  {
   "cell_type": "markdown",
   "id": "f701743c",
   "metadata": {},
   "source": [
    "# Try / Except\n",
    "\n",
    "try/except blocks are structured similarly to if/else blocks.\n",
    "\n",
    "The syntax is:\n",
    "```\n",
    "try:\n",
    "    <execute some potentially breaking code>\n",
    "except:\n",
    "    <execute some other code or raise an error (exception)>\n",
    "```\n",
    "\n",
    "The example above uses a `blanket` except statement, which will catch any error type.\n",
    "\n",
    "We can also catch specific errors. Shown below is a try/except block which only catches ValueError's:\n",
    "```\n",
    "try:\n",
    "    <execute some potentially breaking code>\n",
    "except ValueError:\n",
    "    <execute some other code or raise an error (exception)>\n",
    "```\n",
    "\n",
    "Try/except blocks can also be chained together (just like if/elif/elif/else):\n",
    "```\n",
    "try:\n",
    "    <execute some potentially breaking code>\n",
    "except ValueError:\n",
    "    <execute some other code or raise an error (exception)>\n",
    "except TypeError:\n",
    "    <execute some other code or raise an error (exception)>\n",
    "except:\n",
    "    <execute some other code or raise an error (exception)>\n",
    "```"
   ]
  },
  {
   "cell_type": "code",
   "execution_count": null,
   "id": "bffd171f",
   "metadata": {},
   "outputs": [],
   "source": [
    "# this cell will produce a ValueError\n",
    "\n",
    "x = int('a')"
   ]
  },
  {
   "cell_type": "code",
   "execution_count": null,
   "id": "fa96a8e6",
   "metadata": {},
   "outputs": [],
   "source": [
    "# lets handle that ValueError with a blanket except statement\n",
    "\n",
    "try:\n",
    "    x = int('a')\n",
    "except:\n",
    "    print('this error is being handled with a print statement')"
   ]
  },
  {
   "cell_type": "code",
   "execution_count": null,
   "id": "6dd0d893",
   "metadata": {},
   "outputs": [],
   "source": [
    "# lets handle that ValueError with a ValueError except statement\n",
    "\n",
    "try:\n",
    "    x = int('a')\n",
    "except ValueError:\n",
    "    print('this error is being handled with a print statement')"
   ]
  },
  {
   "cell_type": "code",
   "execution_count": null,
   "id": "9a3b0d98",
   "metadata": {},
   "outputs": [],
   "source": [
    "# this cell will produce a type error\n",
    "\n",
    "x = 'a' + 2"
   ]
  },
  {
   "cell_type": "code",
   "execution_count": null,
   "id": "3ed40a21",
   "metadata": {},
   "outputs": [],
   "source": [
    "# lets handle that TypeError with a blanket except statement\n",
    "\n",
    "try:\n",
    "    x = 'a' + 2\n",
    "except:\n",
    "    print('this error is being handled with a print statement')"
   ]
  },
  {
   "cell_type": "code",
   "execution_count": null,
   "id": "adccec9c",
   "metadata": {},
   "outputs": [],
   "source": [
    "# lets handle that TypeError with a TypeError except statement\n",
    "\n",
    "try:\n",
    "    x = 'a' + 2\n",
    "except TypeError:\n",
    "    print('this error is being handled with a print statement')"
   ]
  },
  {
   "cell_type": "code",
   "execution_count": null,
   "id": "650e1573",
   "metadata": {},
   "outputs": [],
   "source": [
    "# what happens if we try to handle a TypeError with a ValueError except statement?\n",
    "\n",
    "try:\n",
    "    x = 'a' + 2\n",
    "except ValueError:\n",
    "    print('this error is being handled with a print statement')"
   ]
  },
  {
   "cell_type": "code",
   "execution_count": null,
   "id": "c4cac2be",
   "metadata": {},
   "outputs": [],
   "source": [
    "# how do we handle both TypeError and ValueError (without blanket except statement)\n",
    "\n",
    "try:\n",
    "    x = 'a' + 2\n",
    "except ValueError:\n",
    "    print('this error is being handled with a print statement')\n",
    "except TypeError:\n",
    "    print('type error')"
   ]
  },
  {
   "cell_type": "code",
   "execution_count": null,
   "id": "da59f2c6",
   "metadata": {},
   "outputs": [],
   "source": []
  }
 ],
 "metadata": {
  "kernelspec": {
   "display_name": "Python 3 (ipykernel)",
   "language": "python",
   "name": "python3"
  },
  "language_info": {
   "codemirror_mode": {
    "name": "ipython",
    "version": 3
   },
   "file_extension": ".py",
   "mimetype": "text/x-python",
   "name": "python",
   "nbconvert_exporter": "python",
   "pygments_lexer": "ipython3",
   "version": "3.8.9"
  }
 },
 "nbformat": 4,
 "nbformat_minor": 5
}
