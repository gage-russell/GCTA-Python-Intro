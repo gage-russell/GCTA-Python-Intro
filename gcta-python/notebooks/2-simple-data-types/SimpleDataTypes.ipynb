{
 "cells": [
  {
   "cell_type": "markdown",
   "metadata": {
    "id": "Kj5AAf1twTjU"
   },
   "source": [
    "<H1>Lab 2.2</H1>\n",
    "<ul>\n",
    "<li>literals: Boolean, integer, floating-point numbers, scientific notation, \n",
    "strings</li>\n",
    "</ul>"
   ]
  },
  {
   "cell_type": "markdown",
   "metadata": {
    "id": "lakNKXhKwVSi"
   },
   "source": [
    "<H2>Basic CoLab Usage:</H2>\n",
    "<ul>\n",
    "<li>Each little block of code or text will be referred to as a cell</li>\n",
    "<li>Use shift+enter to run a cell</li>\n",
    "<li>Use the buttons at the top to add a cell</li>\n",
    "</ul>"
   ]
  },
  {
   "cell_type": "markdown",
   "metadata": {
    "id": "KxQOcAIewVfJ"
   },
   "source": [
    "<h2 style=\"color: #000000;background-color: #fffffe;font-family: 'monospace', Consolas, 'Courier New', monospace;font-weight: normal;font-size: 14px;line-height: 19px;white-space: pre;\"><span style=\"color: #000000;\">literals: Boolean, integer, floating-point numbers, scientific notation, strings</span></h2>\n",
    "<h3><span style=\"color: #000000;\">Definitions</span></h3>\n",
    "<ul>\n",
    "    <li>\n",
    "        <div style=\"color: #000000;background-color: #fffffe;font-family: 'monospace', Consolas, 'Courier New', monospace;font-weight: normal;font-size: 14px;line-height: 19px;white-space: pre;\"><span style=\"color: #000000;\">Literals: A literal is data whose values are determined by the literal itself</span></div>\n",
    "        <ul>\n",
    "            <li>\n",
    "                <div style=\"color: #000000;background-color: #fffffe;font-family: 'monospace', Consolas, 'Courier New', monospace;font-weight: normal;font-size: 14px;line-height: 19px;white-space: pre;\"><a href=\"https://edube.org/learn/pe-1/python-literals-30\" rel=\"noopener noreferrer\" target=\"_blank\"><span style=\"color: #000000;\">https://edube.org/learn/pe-1/python-literals-30</span></a></div>\n",
    "                <ul>\n",
    "                    <li>\n",
    "                        <div style=\"color: #000000;background-color: #fffffe;font-family: 'monospace', Consolas, 'Courier New', monospace;font-weight: normal;font-size: 14px;line-height: 19px;white-space: pre;\"><span style=\"color: #000000;\">integer: int</span></div>\n",
    "                        <ul>\n",
    "                            <li>\n",
    "                                <div style=\"color: #000000;background-color: #fffffe;font-family: 'monospace', Consolas, 'Courier New', monospace;font-weight: normal;font-size: 14px;line-height: 19px;white-space: pre;\"><span style=\"color: #000000;\"><a href=\"https://edube.org/learn/pe-1/python-literals-32\" rel=\"noopener noreferrer\" target=\"_blank\">https://edube.org/learn/pe-1/python-literals-32</a></span></div>\n",
    "                            </li>\n",
    "                        </ul>\n",
    "                    </li>\n",
    "                    <li>\n",
    "                        <div style=\"color: #000000;background-color: #fffffe;font-family: 'monospace', Consolas, 'Courier New', monospace;font-weight: normal;font-size: 14px;line-height: 19px;white-space: pre;\"><span style=\"color: #000000;\">floating point number (number with decimal): float</span></div>\n",
    "                        <ul>\n",
    "                            <li>\n",
    "                                <div style=\"color: #000000;background-color: #fffffe;font-family: 'monospace', Consolas, 'Courier New', monospace;font-weight: normal;font-size: 14px;line-height: 19px;white-space: pre;\"><span style=\"color: #000000;\"><a href=\"https://edube.org/learn/pe-1/python-literals-34\" rel=\"noopener noreferrer\" target=\"_blank\">https://edube.org/learn/pe-1/python-literals-34</a></span></div>\n",
    "                            </li>\n",
    "                        </ul>\n",
    "                    </li>\n",
    "                    <li>\n",
    "                        <div style=\"color: #000000;background-color: #fffffe;font-family: 'monospace', Consolas, 'Courier New', monospace;font-weight: normal;font-size: 14px;line-height: 19px;white-space: pre;\"><span style=\"color: #000000;\">string (text): str</span></div>\n",
    "                        <ul>\n",
    "                            <li>\n",
    "                                <div style=\"color: #000000;background-color: #fffffe;font-family: 'monospace', Consolas, 'Courier New', monospace;font-weight: normal;font-size: 14px;line-height: 19px;white-space: pre;\"><span style=\"color: #000000;\"><a href=\"https://edube.org/learn/pe-1/python-literals-37\" rel=\"noopener noreferrer\" target=\"_blank\">https://edube.org/learn/pe-1/python-literals-37</a></span></div>\n",
    "                            </li>\n",
    "                        </ul>\n",
    "                    </li>\n",
    "                    <li>\n",
    "                        <div style=\"color: #000000;background-color: #fffffe;font-family: 'monospace', Consolas, 'Courier New', monospace;font-weight: normal;font-size: 14px;line-height: 19px;white-space: pre;\"><span style=\"color: #000000;\">boolean (true/false): bool</span></div>\n",
    "                        <ul>\n",
    "                            <li>\n",
    "                                <div style=\"color: #000000;background-color: #fffffe;font-family: 'monospace', Consolas, 'Courier New', monospace;font-weight: normal;font-size: 14px;line-height: 19px;white-space: pre;\"><span style=\"color: #000000;\"><a href=\"https://edube.org/learn/pe-1/python-literals-39\" rel=\"noopener noreferrer\" target=\"_blank\">https://edube.org/learn/pe-1/python-literals-39</a></span></div>\n",
    "                            </li>\n",
    "                        </ul>\n",
    "                    </li>\n",
    "                </ul>\n",
    "            </li>\n",
    "        </ul>\n",
    "    </li>\n",
    "</ul>"
   ]
  },
  {
   "cell_type": "markdown",
   "metadata": {},
   "source": [
    "<h3><span style=\"color: #000000;\">Examples</span></h3>"
   ]
  },
  {
   "cell_type": "code",
   "execution_count": null,
   "metadata": {
    "id": "kkQezZ2bwWHM"
   },
   "outputs": [],
   "source": [
    "x = 5\n",
    "print(type(x))"
   ]
  },
  {
   "cell_type": "code",
   "execution_count": null,
   "metadata": {},
   "outputs": [],
   "source": [
    "x = 5.5\n",
    "print(type(x))"
   ]
  },
  {
   "cell_type": "code",
   "execution_count": null,
   "metadata": {},
   "outputs": [],
   "source": [
    "x = '5'\n",
    "print(type(x))"
   ]
  },
  {
   "cell_type": "code",
   "execution_count": null,
   "metadata": {},
   "outputs": [],
   "source": [
    "x = True\n",
    "print(type(x))"
   ]
  },
  {
   "cell_type": "markdown",
   "metadata": {},
   "source": [
    "<h3><span style=\"color: #000000;\">Checking Type</span></h3>"
   ]
  },
  {
   "cell_type": "code",
   "execution_count": null,
   "metadata": {},
   "outputs": [],
   "source": [
    "x = 5\n",
    "isinstance(x, int)"
   ]
  },
  {
   "cell_type": "code",
   "execution_count": null,
   "metadata": {},
   "outputs": [],
   "source": [
    "x = 5.5\n",
    "isinstance(x, float)"
   ]
  },
  {
   "cell_type": "code",
   "execution_count": null,
   "metadata": {},
   "outputs": [],
   "source": [
    "x = '5'\n",
    "isinstance(x, str)"
   ]
  },
  {
   "cell_type": "code",
   "execution_count": null,
   "metadata": {},
   "outputs": [],
   "source": [
    "x = True\n",
    "isinstance(x, bool)"
   ]
  },
  {
   "cell_type": "markdown",
   "metadata": {},
   "source": [
    "<h3><span style=\"color: #000000;\">Scientific Notation</span></h3>"
   ]
  },
  {
   "cell_type": "code",
   "execution_count": null,
   "metadata": {},
   "outputs": [],
   "source": [
    "x = 5.0E-7\n",
    "print('value: ', x)\n",
    "print('type: ', type(x))"
   ]
  },
  {
   "cell_type": "code",
   "execution_count": null,
   "metadata": {},
   "outputs": [],
   "source": [
    "x == 0.0000005"
   ]
  },
  {
   "cell_type": "markdown",
   "metadata": {},
   "source": [
    "<h3><span style=\"color: #000000;\">Complex Numbers</span></h3>\n",
    "https://www.mathsisfun.com/numbers/imaginary-numbers.html\n",
    "\n",
    "Complex numbers are numbers that cannot be represented on the real number line.\n",
    "Quick remdinder: \n",
    "<ul>\n",
    "    <li>complex numbers are represented using the imaginary number \"i\"</li>\n",
    "    <li>this imaginary number, \"i\" is equal to the square root of -1</li>\n",
    "    <li>this allows us to say that square_root(-x) == i*square_root(x)</li>\n",
    "</ul>\n",
    "\n",
    "That's enough of that... this isn't a math course :)\n",
    "\n",
    "The imaginary number is Python is represented as \"j\" trailing a real number\n"
   ]
  },
  {
   "cell_type": "code",
   "execution_count": null,
   "metadata": {},
   "outputs": [],
   "source": [
    "x = 1j\n",
    "print('complex number: ', x, type(bar))\n"
   ]
  },
  {
   "cell_type": "code",
   "execution_count": null,
   "metadata": {},
   "outputs": [],
   "source": []
  }
 ],
 "metadata": {
  "colab": {
   "collapsed_sections": [],
   "name": "PC-2.2.ipynb",
   "provenance": []
  },
  "kernelspec": {
   "display_name": "Python 3 (ipykernel)",
   "language": "python",
   "name": "python3"
  },
  "language_info": {
   "codemirror_mode": {
    "name": "ipython",
    "version": 3
   },
   "file_extension": ".py",
   "mimetype": "text/x-python",
   "name": "python",
   "nbconvert_exporter": "python",
   "pygments_lexer": "ipython3",
   "version": "3.8.9"
  }
 },
 "nbformat": 4,
 "nbformat_minor": 1
}
