{
 "cells": [
  {
   "cell_type": "code",
   "execution_count": 1,
   "id": "30156066",
   "metadata": {},
   "outputs": [],
   "source": [
    "# What are the four simple data types (literals)?\n",
    "\n",
    "# int, float, str, bool"
   ]
  },
  {
   "cell_type": "code",
   "execution_count": 2,
   "id": "cf0e8a97",
   "metadata": {},
   "outputs": [],
   "source": [
    "# How do you call a function?\n",
    "\n",
    "# type the name of the function followed by parentheses\n",
    "# parameters are passed into the parentheses, separated by commas"
   ]
  },
  {
   "cell_type": "code",
   "execution_count": 3,
   "id": "4d2fc1d7",
   "metadata": {},
   "outputs": [],
   "source": [
    "# What is the difference between a function and a method?\n",
    "\n",
    "# a method is a special type of function \n",
    "# which can only be called from an instance of a particular object (class)"
   ]
  },
  {
   "cell_type": "code",
   "execution_count": 4,
   "id": "70a0c4af",
   "metadata": {},
   "outputs": [],
   "source": [
    "# what parameters does the print() function allow?\n",
    "\n",
    "# any number of objects to be printed, sep, end\n",
    "# sep specifies the character(s) which will separate the objects being printed\n",
    "# end specifies the character(s) which will be printed at the end of the printed string"
   ]
  },
  {
   "cell_type": "code",
   "execution_count": 5,
   "id": "d40aaf93",
   "metadata": {},
   "outputs": [],
   "source": [
    "# what data type does the input() function always return?\n",
    "\n",
    "# str"
   ]
  },
  {
   "cell_type": "code",
   "execution_count": 6,
   "id": "e960f92a",
   "metadata": {},
   "outputs": [],
   "source": [
    "# what data type does the division operator (/) always return?\n",
    "\n",
    "# float"
   ]
  },
  {
   "cell_type": "code",
   "execution_count": 7,
   "id": "2e64ba2d",
   "metadata": {},
   "outputs": [],
   "source": [
    "# what data type does the integer division operator (//) always return?\n",
    "\n",
    "# int"
   ]
  },
  {
   "cell_type": "code",
   "execution_count": null,
   "id": "28637750",
   "metadata": {},
   "outputs": [],
   "source": []
  }
 ],
 "metadata": {
  "kernelspec": {
   "display_name": "Python 3 (ipykernel)",
   "language": "python",
   "name": "python3"
  },
  "language_info": {
   "codemirror_mode": {
    "name": "ipython",
    "version": 3
   },
   "file_extension": ".py",
   "mimetype": "text/x-python",
   "name": "python",
   "nbconvert_exporter": "python",
   "pygments_lexer": "ipython3",
   "version": "3.10.2"
  }
 },
 "nbformat": 4,
 "nbformat_minor": 5
}
